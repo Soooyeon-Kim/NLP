{
 "cells": [
  {
   "cell_type": "markdown",
   "id": "0b6f558c",
   "metadata": {},
   "source": [
    "## Tfidftransformer Usage"
   ]
  },
  {
   "cell_type": "markdown",
   "id": "5b9b09b4",
   "metadata": {},
   "source": [
    "### Dataset and Imports"
   ]
  },
  {
   "cell_type": "code",
   "execution_count": 11,
   "id": "7a489ec9",
   "metadata": {
    "ExecuteTime": {
     "end_time": "2021-11-19T10:14:40.968600Z",
     "start_time": "2021-11-19T10:14:39.544332Z"
    }
   },
   "outputs": [],
   "source": [
    "import pandas as pd \n",
    "from sklearn.feature_extraction.text import TfidfTransformer \n",
    "from sklearn.feature_extraction.text import CountVectorizer "
   ]
  },
  {
   "cell_type": "code",
   "execution_count": 5,
   "id": "76b7e8ce",
   "metadata": {
    "ExecuteTime": {
     "end_time": "2021-11-19T03:48:55.413751Z",
     "start_time": "2021-11-19T03:48:55.402789Z"
    }
   },
   "outputs": [],
   "source": [
    "import tensorflow as tf"
   ]
  },
  {
   "cell_type": "code",
   "execution_count": 13,
   "id": "847e85d9",
   "metadata": {
    "ExecuteTime": {
     "end_time": "2021-11-19T10:15:54.597719Z",
     "start_time": "2021-11-19T10:15:54.589721Z"
    }
   },
   "outputs": [],
   "source": [
    "docs=[\"the house had a tiny little mouse\", \n",
    "\"the cat saw the mouse\", \n",
    "\"the mouse ran away from the house\", \n",
    "\"the cat finally ate the mouse\", \n",
    "\"the end of the mouse story\"\n",
    "     ]"
   ]
  },
  {
   "cell_type": "markdown",
   "id": "b60ac8fd",
   "metadata": {},
   "source": [
    "### Initialize CountVectorizer"
   ]
  },
  {
   "cell_type": "code",
   "execution_count": 15,
   "id": "132d070d",
   "metadata": {
    "ExecuteTime": {
     "end_time": "2021-11-19T10:16:16.255734Z",
     "start_time": "2021-11-19T10:16:16.249732Z"
    }
   },
   "outputs": [],
   "source": [
    "#instantiate CountVectorizer() \n",
    "cv = CountVectorizer() "
   ]
  },
  {
   "cell_type": "code",
   "execution_count": 16,
   "id": "e150463f",
   "metadata": {
    "ExecuteTime": {
     "end_time": "2021-11-19T10:17:21.454877Z",
     "start_time": "2021-11-19T10:17:21.442882Z"
    }
   },
   "outputs": [],
   "source": [
    "# 문서에 있는 단어에 대한 단어 수 생성\n",
    "word_count_vector=cv.fit_transform(docs)"
   ]
  },
  {
   "cell_type": "code",
   "execution_count": 17,
   "id": "496f322f",
   "metadata": {
    "ExecuteTime": {
     "end_time": "2021-11-19T10:17:36.370200Z",
     "start_time": "2021-11-19T10:17:36.346201Z"
    },
    "scrolled": true
   },
   "outputs": [
    {
     "data": {
      "text/plain": [
       "(5, 16)"
      ]
     },
     "execution_count": 17,
     "metadata": {},
     "output_type": "execute_result"
    }
   ],
   "source": [
    "word_count_vector.shape"
   ]
  },
  {
   "cell_type": "markdown",
   "id": "60eb05a9",
   "metadata": {
    "ExecuteTime": {
     "end_time": "2021-11-19T10:20:48.477129Z",
     "start_time": "2021-11-19T10:20:48.456141Z"
    }
   },
   "source": [
    "* 이때, 임의로 불용어 리스트를 지정하고 최소 단어 수를 적용하는 작업을 수행할 수 있다. 사용방법은 문서 참조\n",
    "<br>\n",
    "\n",
    "https://kavita-ganesan.com/how-to-use-countvectorizer/#.YZd6ed_P2Uk"
   ]
  },
  {
   "cell_type": "markdown",
   "id": "ff8da03f",
   "metadata": {},
   "source": [
    "### Compute the IDF values"
   ]
  },
  {
   "cell_type": "code",
   "execution_count": 19,
   "id": "bc7f5ade",
   "metadata": {
    "ExecuteTime": {
     "end_time": "2021-11-19T10:22:08.404236Z",
     "start_time": "2021-11-19T10:22:08.393239Z"
    }
   },
   "outputs": [
    {
     "data": {
      "text/plain": [
       "TfidfTransformer()"
      ]
     },
     "execution_count": 19,
     "metadata": {},
     "output_type": "execute_result"
    }
   ],
   "source": [
    "tfidf_transformer=TfidfTransformer(smooth_idf=True,use_idf=True) \n",
    "tfidf_transformer.fit(word_count_vector)"
   ]
  },
  {
   "cell_type": "code",
   "execution_count": 20,
   "id": "19741607",
   "metadata": {
    "ExecuteTime": {
     "end_time": "2021-11-19T10:22:10.336332Z",
     "start_time": "2021-11-19T10:22:10.291486Z"
    }
   },
   "outputs": [
    {
     "data": {
      "text/html": [
       "<div>\n",
       "<style scoped>\n",
       "    .dataframe tbody tr th:only-of-type {\n",
       "        vertical-align: middle;\n",
       "    }\n",
       "\n",
       "    .dataframe tbody tr th {\n",
       "        vertical-align: top;\n",
       "    }\n",
       "\n",
       "    .dataframe thead th {\n",
       "        text-align: right;\n",
       "    }\n",
       "</style>\n",
       "<table border=\"1\" class=\"dataframe\">\n",
       "  <thead>\n",
       "    <tr style=\"text-align: right;\">\n",
       "      <th></th>\n",
       "      <th>idf_weights</th>\n",
       "    </tr>\n",
       "  </thead>\n",
       "  <tbody>\n",
       "    <tr>\n",
       "      <th>mouse</th>\n",
       "      <td>1.000000</td>\n",
       "    </tr>\n",
       "    <tr>\n",
       "      <th>the</th>\n",
       "      <td>1.000000</td>\n",
       "    </tr>\n",
       "    <tr>\n",
       "      <th>cat</th>\n",
       "      <td>1.693147</td>\n",
       "    </tr>\n",
       "    <tr>\n",
       "      <th>house</th>\n",
       "      <td>1.693147</td>\n",
       "    </tr>\n",
       "    <tr>\n",
       "      <th>ate</th>\n",
       "      <td>2.098612</td>\n",
       "    </tr>\n",
       "    <tr>\n",
       "      <th>away</th>\n",
       "      <td>2.098612</td>\n",
       "    </tr>\n",
       "    <tr>\n",
       "      <th>end</th>\n",
       "      <td>2.098612</td>\n",
       "    </tr>\n",
       "    <tr>\n",
       "      <th>finally</th>\n",
       "      <td>2.098612</td>\n",
       "    </tr>\n",
       "    <tr>\n",
       "      <th>from</th>\n",
       "      <td>2.098612</td>\n",
       "    </tr>\n",
       "    <tr>\n",
       "      <th>had</th>\n",
       "      <td>2.098612</td>\n",
       "    </tr>\n",
       "    <tr>\n",
       "      <th>little</th>\n",
       "      <td>2.098612</td>\n",
       "    </tr>\n",
       "    <tr>\n",
       "      <th>of</th>\n",
       "      <td>2.098612</td>\n",
       "    </tr>\n",
       "    <tr>\n",
       "      <th>ran</th>\n",
       "      <td>2.098612</td>\n",
       "    </tr>\n",
       "    <tr>\n",
       "      <th>saw</th>\n",
       "      <td>2.098612</td>\n",
       "    </tr>\n",
       "    <tr>\n",
       "      <th>story</th>\n",
       "      <td>2.098612</td>\n",
       "    </tr>\n",
       "    <tr>\n",
       "      <th>tiny</th>\n",
       "      <td>2.098612</td>\n",
       "    </tr>\n",
       "  </tbody>\n",
       "</table>\n",
       "</div>"
      ],
      "text/plain": [
       "         idf_weights\n",
       "mouse       1.000000\n",
       "the         1.000000\n",
       "cat         1.693147\n",
       "house       1.693147\n",
       "ate         2.098612\n",
       "away        2.098612\n",
       "end         2.098612\n",
       "finally     2.098612\n",
       "from        2.098612\n",
       "had         2.098612\n",
       "little      2.098612\n",
       "of          2.098612\n",
       "ran         2.098612\n",
       "saw         2.098612\n",
       "story       2.098612\n",
       "tiny        2.098612"
      ]
     },
     "execution_count": 20,
     "metadata": {},
     "output_type": "execute_result"
    }
   ],
   "source": [
    "# print idf values \n",
    "df_idf = pd.DataFrame(tfidf_transformer.idf_, index=cv.get_feature_names(),columns=[\"idf_weights\"]) \n",
    " \n",
    "# sort ascending \n",
    "df_idf.sort_values(by=['idf_weights'])"
   ]
  },
  {
   "cell_type": "markdown",
   "id": "77167e15",
   "metadata": {},
   "source": [
    "* mouse 및 the 단어들은 모든 문서에 나타나기 때문에 해당 단어들의 IDF 값이 가장 낮다,\n",
    "* In practice, your IDF should be based on a large corpora of text."
   ]
  },
  {
   "cell_type": "markdown",
   "id": "7a152f0a",
   "metadata": {},
   "source": [
    "### Compute the TFIDF score for your documents"
   ]
  },
  {
   "cell_type": "markdown",
   "id": "640155f2",
   "metadata": {},
   "source": [
    "IDF 값을 계산하고 나면, 이제 문서나 문서 집합에 대한 tf-idf 점수를 계산할 수 있게 된다."
   ]
  },
  {
   "cell_type": "code",
   "execution_count": 21,
   "id": "d2a0ffa6",
   "metadata": {
    "ExecuteTime": {
     "end_time": "2021-11-19T10:25:26.369284Z",
     "start_time": "2021-11-19T10:25:26.360320Z"
    }
   },
   "outputs": [],
   "source": [
    "# 해당 5개의 문서 에 대한 tf-idf 점수를 계산한다.\n",
    "# count matrix \n",
    "count_vector=cv.transform(docs) \n",
    " \n",
    "# tf-idf scores \n",
    "tf_idf_vector=tfidf_transformer.transform(count_vector)"
   ]
  },
  {
   "cell_type": "markdown",
   "id": "ebea2020",
   "metadata": {},
   "source": [
    "위의 첫 번째 줄은 희소 행렬 형식의 문서에 대한 단어 수를 가져온다.<br>\n",
    "새로운 문서 집합에서 tf-idf 점수를 계산하기 위해서<br> 먼저 cv.transfrom(new_docs)를 word counts의 행렬로 생성해야 한다."
   ]
  },
  {
   "cell_type": "markdown",
   "id": "a9b559fc",
   "metadata": {},
   "source": [
    " tfidf_transformer.transform(count_vector)을 실행함으로써 문서에 대한 tf-idf 점수를 계산할 수 있게 된다. "
   ]
  },
  {
   "cell_type": "markdown",
   "id": "530a9606",
   "metadata": {},
   "source": [
    "### 첫 번째 문서의 tf-idf 점수를 데이터 프레임에 넣고 내림차순으로 정렬"
   ]
  },
  {
   "cell_type": "code",
   "execution_count": 23,
   "id": "47d4c323",
   "metadata": {
    "ExecuteTime": {
     "end_time": "2021-11-19T10:31:02.460655Z",
     "start_time": "2021-11-19T10:31:02.440693Z"
    }
   },
   "outputs": [
    {
     "data": {
      "text/html": [
       "<div>\n",
       "<style scoped>\n",
       "    .dataframe tbody tr th:only-of-type {\n",
       "        vertical-align: middle;\n",
       "    }\n",
       "\n",
       "    .dataframe tbody tr th {\n",
       "        vertical-align: top;\n",
       "    }\n",
       "\n",
       "    .dataframe thead th {\n",
       "        text-align: right;\n",
       "    }\n",
       "</style>\n",
       "<table border=\"1\" class=\"dataframe\">\n",
       "  <thead>\n",
       "    <tr style=\"text-align: right;\">\n",
       "      <th></th>\n",
       "      <th>tfidf</th>\n",
       "    </tr>\n",
       "  </thead>\n",
       "  <tbody>\n",
       "    <tr>\n",
       "      <th>had</th>\n",
       "      <td>0.493562</td>\n",
       "    </tr>\n",
       "    <tr>\n",
       "      <th>little</th>\n",
       "      <td>0.493562</td>\n",
       "    </tr>\n",
       "    <tr>\n",
       "      <th>tiny</th>\n",
       "      <td>0.493562</td>\n",
       "    </tr>\n",
       "    <tr>\n",
       "      <th>house</th>\n",
       "      <td>0.398203</td>\n",
       "    </tr>\n",
       "    <tr>\n",
       "      <th>mouse</th>\n",
       "      <td>0.235185</td>\n",
       "    </tr>\n",
       "    <tr>\n",
       "      <th>the</th>\n",
       "      <td>0.235185</td>\n",
       "    </tr>\n",
       "    <tr>\n",
       "      <th>ate</th>\n",
       "      <td>0.000000</td>\n",
       "    </tr>\n",
       "    <tr>\n",
       "      <th>away</th>\n",
       "      <td>0.000000</td>\n",
       "    </tr>\n",
       "    <tr>\n",
       "      <th>cat</th>\n",
       "      <td>0.000000</td>\n",
       "    </tr>\n",
       "    <tr>\n",
       "      <th>end</th>\n",
       "      <td>0.000000</td>\n",
       "    </tr>\n",
       "    <tr>\n",
       "      <th>finally</th>\n",
       "      <td>0.000000</td>\n",
       "    </tr>\n",
       "    <tr>\n",
       "      <th>from</th>\n",
       "      <td>0.000000</td>\n",
       "    </tr>\n",
       "    <tr>\n",
       "      <th>of</th>\n",
       "      <td>0.000000</td>\n",
       "    </tr>\n",
       "    <tr>\n",
       "      <th>ran</th>\n",
       "      <td>0.000000</td>\n",
       "    </tr>\n",
       "    <tr>\n",
       "      <th>saw</th>\n",
       "      <td>0.000000</td>\n",
       "    </tr>\n",
       "    <tr>\n",
       "      <th>story</th>\n",
       "      <td>0.000000</td>\n",
       "    </tr>\n",
       "  </tbody>\n",
       "</table>\n",
       "</div>"
      ],
      "text/plain": [
       "            tfidf\n",
       "had      0.493562\n",
       "little   0.493562\n",
       "tiny     0.493562\n",
       "house    0.398203\n",
       "mouse    0.235185\n",
       "the      0.235185\n",
       "ate      0.000000\n",
       "away     0.000000\n",
       "cat      0.000000\n",
       "end      0.000000\n",
       "finally  0.000000\n",
       "from     0.000000\n",
       "of       0.000000\n",
       "ran      0.000000\n",
       "saw      0.000000\n",
       "story    0.000000"
      ]
     },
     "execution_count": 23,
     "metadata": {},
     "output_type": "execute_result"
    }
   ],
   "source": [
    "feature_names = cv.get_feature_names() \n",
    " \n",
    "#get tfidf vector for first document \n",
    "first_document_vector=tf_idf_vector[0] \n",
    " \n",
    "#print the scores \n",
    "df = pd.DataFrame(first_document_vector.T.todense(), index=feature_names, columns=[\"tfidf\"]) \n",
    "df.sort_values(by=[\"tfidf\"],ascending=False)"
   ]
  },
  {
   "cell_type": "markdown",
   "id": "22dad8f1",
   "metadata": {},
   "source": [
    "여러 문서에서 공통적으로 사용되는 단어일수록 점수가 낮고 첫 번째 문서 에서 고유한 단어일수록 점수가 높다"
   ]
  },
  {
   "cell_type": "markdown",
   "id": "b19ca699",
   "metadata": {},
   "source": [
    "## Tfidfvectorizer Usage"
   ]
  },
  {
   "cell_type": "markdown",
   "id": "90be9b2e",
   "metadata": {},
   "source": [
    "Tfidfvectorizer 를 사용하면 단어 수, idf 및 tf-idf 값을 한 번에 계산한다. "
   ]
  },
  {
   "cell_type": "code",
   "execution_count": 24,
   "id": "c193a252",
   "metadata": {
    "ExecuteTime": {
     "end_time": "2021-11-19T10:35:00.396717Z",
     "start_time": "2021-11-19T10:35:00.382716Z"
    }
   },
   "outputs": [],
   "source": [
    "from sklearn.feature_extraction.text import TfidfVectorizer \n",
    " \n",
    "# count vectorizer 에서 사용하는 설정이 이동\n",
    "tfidf_vectorizer=TfidfVectorizer(use_idf=True) \n",
    " \n",
    "# 사용했던 문서를 그대로 가져오기 (docs) \n",
    "tfidf_vectorizer_vectors=tfidf_vectorizer.fit_transform(docs)"
   ]
  },
  {
   "cell_type": "code",
   "execution_count": 26,
   "id": "0f56e522",
   "metadata": {
    "ExecuteTime": {
     "end_time": "2021-11-19T10:36:39.008505Z",
     "start_time": "2021-11-19T10:36:38.965505Z"
    }
   },
   "outputs": [
    {
     "data": {
      "text/html": [
       "<div>\n",
       "<style scoped>\n",
       "    .dataframe tbody tr th:only-of-type {\n",
       "        vertical-align: middle;\n",
       "    }\n",
       "\n",
       "    .dataframe tbody tr th {\n",
       "        vertical-align: top;\n",
       "    }\n",
       "\n",
       "    .dataframe thead th {\n",
       "        text-align: right;\n",
       "    }\n",
       "</style>\n",
       "<table border=\"1\" class=\"dataframe\">\n",
       "  <thead>\n",
       "    <tr style=\"text-align: right;\">\n",
       "      <th></th>\n",
       "      <th>tfidf</th>\n",
       "    </tr>\n",
       "  </thead>\n",
       "  <tbody>\n",
       "    <tr>\n",
       "      <th>had</th>\n",
       "      <td>0.493562</td>\n",
       "    </tr>\n",
       "    <tr>\n",
       "      <th>little</th>\n",
       "      <td>0.493562</td>\n",
       "    </tr>\n",
       "    <tr>\n",
       "      <th>tiny</th>\n",
       "      <td>0.493562</td>\n",
       "    </tr>\n",
       "    <tr>\n",
       "      <th>house</th>\n",
       "      <td>0.398203</td>\n",
       "    </tr>\n",
       "    <tr>\n",
       "      <th>mouse</th>\n",
       "      <td>0.235185</td>\n",
       "    </tr>\n",
       "    <tr>\n",
       "      <th>the</th>\n",
       "      <td>0.235185</td>\n",
       "    </tr>\n",
       "    <tr>\n",
       "      <th>ate</th>\n",
       "      <td>0.000000</td>\n",
       "    </tr>\n",
       "    <tr>\n",
       "      <th>away</th>\n",
       "      <td>0.000000</td>\n",
       "    </tr>\n",
       "    <tr>\n",
       "      <th>cat</th>\n",
       "      <td>0.000000</td>\n",
       "    </tr>\n",
       "    <tr>\n",
       "      <th>end</th>\n",
       "      <td>0.000000</td>\n",
       "    </tr>\n",
       "    <tr>\n",
       "      <th>finally</th>\n",
       "      <td>0.000000</td>\n",
       "    </tr>\n",
       "    <tr>\n",
       "      <th>from</th>\n",
       "      <td>0.000000</td>\n",
       "    </tr>\n",
       "    <tr>\n",
       "      <th>of</th>\n",
       "      <td>0.000000</td>\n",
       "    </tr>\n",
       "    <tr>\n",
       "      <th>ran</th>\n",
       "      <td>0.000000</td>\n",
       "    </tr>\n",
       "    <tr>\n",
       "      <th>saw</th>\n",
       "      <td>0.000000</td>\n",
       "    </tr>\n",
       "    <tr>\n",
       "      <th>story</th>\n",
       "      <td>0.000000</td>\n",
       "    </tr>\n",
       "  </tbody>\n",
       "</table>\n",
       "</div>"
      ],
      "text/plain": [
       "            tfidf\n",
       "had      0.493562\n",
       "little   0.493562\n",
       "tiny     0.493562\n",
       "house    0.398203\n",
       "mouse    0.235185\n",
       "the      0.235185\n",
       "ate      0.000000\n",
       "away     0.000000\n",
       "cat      0.000000\n",
       "end      0.000000\n",
       "finally  0.000000\n",
       "from     0.000000\n",
       "of       0.000000\n",
       "ran      0.000000\n",
       "saw      0.000000\n",
       "story    0.000000"
      ]
     },
     "execution_count": 26,
     "metadata": {},
     "output_type": "execute_result"
    }
   ],
   "source": [
    "# 첫 번째 벡터 가져오기\n",
    "first_vector_tfidfvectorizer=tfidf_vectorizer_vectors[0] \n",
    " \n",
    "# 데이터 프레임에 tf-idf 값을 나열\n",
    "df = pd.DataFrame(first_vector_tfidfvectorizer.T.todense(), index=tfidf_vectorizer.get_feature_names(), columns=[\"tfidf\"]) \n",
    "df.sort_values(by=[\"tfidf\"],ascending=False)\n"
   ]
  },
  {
   "cell_type": "markdown",
   "id": "9d2aaa1f",
   "metadata": {},
   "source": [
    "### 또 다른 방법"
   ]
  },
  {
   "cell_type": "code",
   "execution_count": 27,
   "id": "afb9a797",
   "metadata": {
    "ExecuteTime": {
     "end_time": "2021-11-19T10:38:29.954074Z",
     "start_time": "2021-11-19T10:38:29.948079Z"
    }
   },
   "outputs": [],
   "source": [
    "tfidf_vectorizer=TfidfVectorizer(use_idf=True)\n",
    " \n",
    "### \n",
    "fitted_vectorizer=tfidf_vectorizer.fit(docs)\n",
    "tfidf_vectorizer_vectors=fitted_vectorizer.transform(docs)"
   ]
  },
  {
   "cell_type": "markdown",
   "id": "3c270d2a",
   "metadata": {},
   "source": [
    "---"
   ]
  },
  {
   "cell_type": "markdown",
   "id": "c5886f38",
   "metadata": {},
   "source": [
    "## Tfidftransformer vs. Tfidfvectorizer"
   ]
  },
  {
   "cell_type": "markdown",
   "id": "860b7f88",
   "metadata": {},
   "source": [
    "> Tfidftransformer에서는 <br>\n",
    "CountVectorizer를 사용하여 체계적으로 word_count를 계산한 다음 <br>IDF (Inverse Document Frequenct) 값을 계산하고 TF-IDF 점수만 계산한다."
   ]
  },
  {
   "cell_type": "markdown",
   "id": "8a61893f",
   "metadata": {},
   "source": [
    "> Tfidfvectorizer에서는 <br>\n",
    "반대로 세 단계를 모두 한 번에 수행한다.<br>\n",
    "동일한 데이터 세트를 사용하여 단어 수, IDF 값 및 TF-IDF 점수를 계산한다"
   ]
  },
  {
   "cell_type": "markdown",
   "id": "98275bb6",
   "metadata": {
    "ExecuteTime": {
     "end_time": "2021-11-19T10:45:40.230691Z",
     "start_time": "2021-11-19T10:45:40.212518Z"
    }
   },
   "source": [
    "### 결론\n",
    "* 서로 다른 작업에 대해 빈도(term count) 벡터가 필요하다면 Tfidftransformer를 사용\n",
    "* 학습 (training) 데이터 세트 내의 문서에 대한 TF-idf 점수를 계산해야 하는 경우 Tfidfvectorizer를 사용\n",
    "* 학습 (training) 데이터 세트 외부에 있는 문서에서 tf-idf 점수를 계산해야 하는 경우 둘 중 하나를 사용하면 모두 작동한다."
   ]
  },
  {
   "cell_type": "code",
   "execution_count": null,
   "id": "dcbc788b",
   "metadata": {},
   "outputs": [],
   "source": []
  }
 ],
 "metadata": {
  "hide_input": false,
  "kernelspec": {
   "display_name": "Python 3",
   "language": "python",
   "name": "python3"
  },
  "language_info": {
   "codemirror_mode": {
    "name": "ipython",
    "version": 3
   },
   "file_extension": ".py",
   "mimetype": "text/x-python",
   "name": "python",
   "nbconvert_exporter": "python",
   "pygments_lexer": "ipython3",
   "version": "3.8.8"
  },
  "toc": {
   "base_numbering": 1,
   "nav_menu": {},
   "number_sections": true,
   "sideBar": true,
   "skip_h1_title": false,
   "title_cell": "Table of Contents",
   "title_sidebar": "Contents",
   "toc_cell": false,
   "toc_position": {},
   "toc_section_display": true,
   "toc_window_display": false
  },
  "varInspector": {
   "cols": {
    "lenName": 16,
    "lenType": 16,
    "lenVar": 40
   },
   "kernels_config": {
    "python": {
     "delete_cmd_postfix": "",
     "delete_cmd_prefix": "del ",
     "library": "var_list.py",
     "varRefreshCmd": "print(var_dic_list())"
    },
    "r": {
     "delete_cmd_postfix": ") ",
     "delete_cmd_prefix": "rm(",
     "library": "var_list.r",
     "varRefreshCmd": "cat(var_dic_list()) "
    }
   },
   "types_to_exclude": [
    "module",
    "function",
    "builtin_function_or_method",
    "instance",
    "_Feature"
   ],
   "window_display": false
  }
 },
 "nbformat": 4,
 "nbformat_minor": 5
}
