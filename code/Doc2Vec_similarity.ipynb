{
 "cells": [
  {
   "cell_type": "code",
   "execution_count": 2,
   "id": "5c8755c2",
   "metadata": {
    "ExecuteTime": {
     "end_time": "2021-10-17T12:24:24.118791Z",
     "start_time": "2021-10-17T12:24:18.680333Z"
    }
   },
   "outputs": [
    {
     "name": "stderr",
     "output_type": "stream",
     "text": [
      "C:\\ProgramData\\Anaconda3\\lib\\site-packages\\gensim\\similarities\\__init__.py:15: UserWarning: The gensim.similarities.levenshtein submodule is disabled, because the optional Levenshtein package <https://pypi.org/project/python-Levenshtein/> is unavailable. Install Levenhstein (e.g. `pip install python-Levenshtein`) to suppress this warning.\n",
      "  warnings.warn(msg)\n"
     ]
    }
   ],
   "source": [
    "import pandas as pd\n",
    "import numpy as np\n",
    "\n",
    "import re\n",
    "from konlpy.tag import Okt\n",
    "from collections import Counter\n",
    "import matplotlib\n",
    "import matplotlib.pyplot as plt\n",
    "from matplotlib import font_manager, rc\n",
    "from wordcloud import WordCloud\n",
    "\n",
    "from sklearn.feature_extraction.text import TfidfVectorizer\n",
    "import gensim \n",
    "import warnings\n",
    "warnings.filterwarnings('ignore')"
   ]
  },
  {
   "cell_type": "markdown",
   "id": "fda9f17a",
   "metadata": {},
   "source": [
    "# 데이터 정리\n",
    "### 영화정보\n",
    "> meta19 + 20 + 21\n",
    "\n",
    "### 리뷰\n",
    "> review 19 + 20 + 21<br>\n",
    "\n",
    "## 데이터 정보\n",
    "* title : 영화 제목\n",
    "* genre : 장르\n",
    "* nation : 국가\n",
    "* running_time : 러닝타임\n",
    "* release_date : 개봉일\n",
    "* director : 감독\n",
    "* actor : 출연진\n",
    "* grade : 관람가 등급\n",
    "* summary : 줄거리\n",
    "* poster : 포스터 url\n",
    "* score : 평점\n",
    "* content : 리뷰 내용\n",
    "* write_date : 리뷰 작성일\n",
    "* source_site : 플랫폼"
   ]
  },
  {
   "cell_type": "markdown",
   "id": "c8a0a98a",
   "metadata": {},
   "source": [
    "### 전처리\n",
    "* dropna (10,843개)\n",
    "* 스포일러 리뷰 삭제 (9,599개)\n",
    "\n",
    "### 중복값 제거\n",
    "* 중복된 리뷰가 수집된 경우 drop"
   ]
  },
  {
   "cell_type": "code",
   "execution_count": 3,
   "id": "f5785fa6",
   "metadata": {
    "ExecuteTime": {
     "end_time": "2021-10-17T12:24:32.816767Z",
     "start_time": "2021-10-17T12:24:28.433061Z"
    }
   },
   "outputs": [],
   "source": [
    "movie_n = pd.read_csv('naver_movie_192021.csv')"
   ]
  },
  {
   "cell_type": "code",
   "execution_count": 4,
   "id": "0980347f",
   "metadata": {
    "ExecuteTime": {
     "end_time": "2021-10-17T12:24:42.286217Z",
     "start_time": "2021-10-17T12:24:42.063258Z"
    }
   },
   "outputs": [
    {
     "name": "stdout",
     "output_type": "stream",
     "text": [
      "<class 'pandas.core.frame.DataFrame'>\n",
      "RangeIndex: 235785 entries, 0 to 235784\n",
      "Data columns (total 14 columns):\n",
      " #   Column        Non-Null Count   Dtype \n",
      "---  ------        --------------   ----- \n",
      " 0   title         235785 non-null  object\n",
      " 1   genre         235785 non-null  object\n",
      " 2   nation        235785 non-null  object\n",
      " 3   running_time  235785 non-null  object\n",
      " 4   release_date  235785 non-null  object\n",
      " 5   director      235785 non-null  object\n",
      " 6   actor         235785 non-null  object\n",
      " 7   grade         235785 non-null  object\n",
      " 8   summary       235785 non-null  object\n",
      " 9   poster        235785 non-null  object\n",
      " 10  score         235785 non-null  int64 \n",
      " 11  content       235785 non-null  object\n",
      " 12  write_date    235785 non-null  object\n",
      " 13  source_site   235785 non-null  object\n",
      "dtypes: int64(1), object(13)\n",
      "memory usage: 25.2+ MB\n"
     ]
    }
   ],
   "source": [
    "movie_n.info()"
   ]
  },
  {
   "cell_type": "markdown",
   "id": "d23ac1c9",
   "metadata": {},
   "source": [
    "---"
   ]
  },
  {
   "cell_type": "markdown",
   "id": "f744c4da",
   "metadata": {
    "ExecuteTime": {
     "end_time": "2021-10-12T17:19:55.732411Z",
     "start_time": "2021-10-12T17:19:55.720412Z"
    }
   },
   "source": [
    "#### 리뷰 X 영화정보 merge : \n",
    "데이터 총 `234785개`\n"
   ]
  },
  {
   "cell_type": "code",
   "execution_count": 5,
   "id": "2f984b89",
   "metadata": {
    "ExecuteTime": {
     "end_time": "2021-10-13T15:56:46.546948Z",
     "start_time": "2021-10-13T15:56:46.501990Z"
    },
    "scrolled": false
   },
   "outputs": [
    {
     "data": {
      "text/html": [
       "<div>\n",
       "<style scoped>\n",
       "    .dataframe tbody tr th:only-of-type {\n",
       "        vertical-align: middle;\n",
       "    }\n",
       "\n",
       "    .dataframe tbody tr th {\n",
       "        vertical-align: top;\n",
       "    }\n",
       "\n",
       "    .dataframe thead th {\n",
       "        text-align: right;\n",
       "    }\n",
       "</style>\n",
       "<table border=\"1\" class=\"dataframe\">\n",
       "  <thead>\n",
       "    <tr style=\"text-align: right;\">\n",
       "      <th></th>\n",
       "      <th>title</th>\n",
       "      <th>genre</th>\n",
       "      <th>nation</th>\n",
       "      <th>running_time</th>\n",
       "      <th>release_date</th>\n",
       "      <th>director</th>\n",
       "      <th>actor</th>\n",
       "      <th>grade</th>\n",
       "      <th>summary</th>\n",
       "      <th>poster</th>\n",
       "      <th>score</th>\n",
       "      <th>content</th>\n",
       "      <th>write_date</th>\n",
       "      <th>source_site</th>\n",
       "    </tr>\n",
       "  </thead>\n",
       "  <tbody>\n",
       "    <tr>\n",
       "      <th>14556</th>\n",
       "      <td>기생충</td>\n",
       "      <td>드라마</td>\n",
       "      <td>한국</td>\n",
       "      <td>131분</td>\n",
       "      <td>2019 .05.30 개봉</td>\n",
       "      <td>봉준호</td>\n",
       "      <td>송강호(기택), 이선균(동익), 조여정(연교)</td>\n",
       "      <td>15세 관람가</td>\n",
       "      <td>전원백수로 살 길 막막하지만 사이는 좋은 기택(송강호) 가족.\\n 장남 기우(최우식...</td>\n",
       "      <td>https://movie-phinf.pstatic.net/20190528_36/15...</td>\n",
       "      <td>10</td>\n",
       "      <td>비에 젖지 않는 고급 장난감 텐트와, 비에 젖다 못해 잠겨버리는 반지하 가구</td>\n",
       "      <td>2019.05.30 15:58</td>\n",
       "      <td>naver</td>\n",
       "    </tr>\n",
       "  </tbody>\n",
       "</table>\n",
       "</div>"
      ],
      "text/plain": [
       "      title genre nation running_time    release_date director  \\\n",
       "14556   기생충   드라마     한국         131분  2019 .05.30 개봉      봉준호   \n",
       "\n",
       "                           actor    grade  \\\n",
       "14556  송강호(기택), 이선균(동익), 조여정(연교)  15세 관람가   \n",
       "\n",
       "                                                 summary  \\\n",
       "14556  전원백수로 살 길 막막하지만 사이는 좋은 기택(송강호) 가족.\\n 장남 기우(최우식...   \n",
       "\n",
       "                                                  poster  score  \\\n",
       "14556  https://movie-phinf.pstatic.net/20190528_36/15...     10   \n",
       "\n",
       "                                          content        write_date  \\\n",
       "14556  비에 젖지 않는 고급 장난감 텐트와, 비에 젖다 못해 잠겨버리는 반지하 가구  2019.05.30 15:58   \n",
       "\n",
       "      source_site  \n",
       "14556       naver  "
      ]
     },
     "execution_count": 5,
     "metadata": {},
     "output_type": "execute_result"
    }
   ],
   "source": [
    "movie_n[movie_n['title']=='기생충'].head(1)"
   ]
  },
  {
   "cell_type": "markdown",
   "id": "23126db5",
   "metadata": {
    "ExecuteTime": {
     "end_time": "2021-10-12T17:21:59.894705Z",
     "start_time": "2021-10-12T17:21:56.323192Z"
    }
   },
   "source": [
    "# 영화 장르 정리\n",
    "movie['genre'].unique()\n",
    "* 공포\n",
    "* 멜로/로맨스\n",
    "* 드라마\n",
    "* 범죄\n",
    "* 가족\n",
    "* 코미디\n",
    "* 액션\n",
    "* 스릴러\n",
    "* 애니메이션\n",
    "* 모험\n",
    "* 미스터리\n",
    "* SF\n",
    "* 전쟁\n",
    "* 판타지\n",
    "* 서스펜스\n",
    "* 뮤지컬\n",
    "* 블랙코미디\n",
    "* 다큐멘터리"
   ]
  },
  {
   "cell_type": "markdown",
   "id": "1c7b70b1",
   "metadata": {},
   "source": [
    "---"
   ]
  },
  {
   "cell_type": "markdown",
   "id": "b6841b34",
   "metadata": {},
   "source": [
    "## 불용어 설정"
   ]
  },
  {
   "cell_type": "markdown",
   "id": "ab26afe3",
   "metadata": {},
   "source": [
    "* 한국불용어 100 + 영화, '진짜', '많이', '정말', '아주', '매우','내용','중간','모두', ...제외"
   ]
  },
  {
   "cell_type": "code",
   "execution_count": 60,
   "id": "282e6fdb",
   "metadata": {
    "ExecuteTime": {
     "end_time": "2021-10-12T18:02:05.218399Z",
     "start_time": "2021-10-12T18:02:05.214400Z"
    }
   },
   "outputs": [],
   "source": [
    "stop_words = list(set(stop_words))"
   ]
  },
  {
   "cell_type": "code",
   "execution_count": 61,
   "id": "32ad39f4",
   "metadata": {
    "ExecuteTime": {
     "end_time": "2021-10-12T18:02:19.009731Z",
     "start_time": "2021-10-12T18:02:18.989738Z"
    },
    "scrolled": true
   },
   "outputs": [
    {
     "data": {
      "text/plain": [
       "124"
      ]
     },
     "execution_count": 61,
     "metadata": {},
     "output_type": "execute_result"
    }
   ],
   "source": [
    "len(stop_words)"
   ]
  },
  {
   "cell_type": "markdown",
   "id": "e2e42f0f",
   "metadata": {},
   "source": [
    "---"
   ]
  },
  {
   "cell_type": "markdown",
   "id": "6757f81c",
   "metadata": {},
   "source": [
    "# 장르 통합 리뷰"
   ]
  },
  {
   "cell_type": "code",
   "execution_count": 91,
   "id": "2401856a",
   "metadata": {
    "ExecuteTime": {
     "end_time": "2021-10-12T19:23:02.247116Z",
     "start_time": "2021-10-12T19:22:20.442134Z"
    },
    "scrolled": true
   },
   "outputs": [
    {
     "data": {
      "application/vnd.jupyter.widget-view+json": {
       "model_id": "6473c0e850f743b989fd72750825fcfc",
       "version_major": 2,
       "version_minor": 0
      },
      "text/plain": [
       "  0%|          | 0/235785 [00:00<?, ?it/s]"
      ]
     },
     "metadata": {},
     "output_type": "display_data"
    }
   ],
   "source": [
    "allcontent = []\n",
    "for words in tqdm(moive_n['content']):\n",
    "    # word_tokenize을 통해서 Tokenizer를 진행해줍니다. \n",
    "    word_tokens = word_tokenize(words)\n",
    "    # re.sub('[^a-z0-9]+', ' ', str(word_tokens)) 명령어를 통해서 특수문자를 모두 제거해줍니다. \n",
    "    sentence = re.sub('[^A-Za-z0-9]+', ' ', str(word_tokens))\n",
    "    # 양끝에 존재하는 공백을 제거해줍니다. \n",
    "    sentence = sentence.strip()\n",
    "\n",
    "    # 문장의 Tokenizer를 진행해줍니다. \n",
    "    sentence_tokens = word_tokenize(sentence)\n",
    "    result = ''\n",
    "    for token in sentence_tokens: \n",
    "        if token not in stop_words:\n",
    "            result += ' ' + token \n",
    "    result = result.strip().lower()\n",
    "    allcontent.append(result)"
   ]
  },
  {
   "cell_type": "code",
   "execution_count": 92,
   "id": "a75a9fa2",
   "metadata": {
    "ExecuteTime": {
     "end_time": "2021-10-12T19:24:03.564817Z",
     "start_time": "2021-10-12T19:24:03.547138Z"
    }
   },
   "outputs": [],
   "source": [
    "moive_n['pre_content'] = allcontent"
   ]
  },
  {
   "cell_type": "code",
   "execution_count": 93,
   "id": "3153cd1f",
   "metadata": {
    "ExecuteTime": {
     "end_time": "2021-10-12T19:24:54.732266Z",
     "start_time": "2021-10-12T19:24:53.451562Z"
    }
   },
   "outputs": [],
   "source": [
    "from collections import namedtuple\n",
    "\n",
    "# Doc2Vec 입력형태\n",
    "# TaggedDocument 형태로 ('제목', '영화내용') 을 받는다. \n",
    "## 이후, TaggedDocument에 모든 문서에 대해서 '제목', '영화내용'을 넣어준다.\n",
    "agg = moive_n[['title', 'pre_content']]\n",
    "TaggedDocument = namedtuple('TaggedDocument', 'words tags')\n",
    "tagged_train_docs = [TaggedDocument((c), [d]) for d, c in agg[['title', 'pre_content']].values]"
   ]
  },
  {
   "cell_type": "code",
   "execution_count": 95,
   "id": "f62cdc81",
   "metadata": {
    "ExecuteTime": {
     "end_time": "2021-10-12T19:26:44.778113Z",
     "start_time": "2021-10-12T19:26:44.758117Z"
    }
   },
   "outputs": [],
   "source": [
    "doc_vectorizer = doc2vec.Doc2Vec(\n",
    "    dm=1,            # PV-DBOW / default 1\n",
    "    #dbow_words=1,    # w2v simultaneous with DBOW d2v / default 0\n",
    "    window=10,        # distance between the predicted word and context words\n",
    "    vector_size=300,        # vector size\n",
    "    alpha=0.025,     # learning-rate\n",
    "    seed=1234,\n",
    "    #min_count=5,    # ignore with freq lower\n",
    "    min_alpha=0.025, # min learning-rate\n",
    "    #workers=4,   # multi cpu\n",
    "    #hs = 1,          # hierar chical softmax / default 0\n",
    "    negative = 5   # negative sampling / default 5\n",
    ")"
   ]
  },
  {
   "cell_type": "code",
   "execution_count": 96,
   "id": "f04cfe5f",
   "metadata": {
    "ExecuteTime": {
     "end_time": "2021-10-12T19:27:02.333536Z",
     "start_time": "2021-10-12T19:27:02.038074Z"
    }
   },
   "outputs": [
    {
     "name": "stdout",
     "output_type": "stream",
     "text": [
      "Doc2Vec(dm/m,d300,n5,w10,mc5,s0.001,t3)\n"
     ]
    }
   ],
   "source": [
    "# tagged_train_docs으로 사전을 만든다.\n",
    "doc_vectorizer.build_vocab(tagged_train_docs)\n",
    "print(str(doc_vectorizer))"
   ]
  },
  {
   "cell_type": "code",
   "execution_count": 97,
   "id": "7882a5b4",
   "metadata": {
    "ExecuteTime": {
     "end_time": "2021-10-12T19:27:29.399460Z",
     "start_time": "2021-10-12T19:27:29.379490Z"
    }
   },
   "outputs": [],
   "source": [
    "# To save\n",
    "doc_vectorizer.save('doc2vec_all.model')"
   ]
  },
  {
   "cell_type": "code",
   "execution_count": 98,
   "id": "6feb9c8c",
   "metadata": {
    "ExecuteTime": {
     "end_time": "2021-10-12T21:54:58.622908Z",
     "start_time": "2021-10-12T19:27:52.039519Z"
    }
   },
   "outputs": [
    {
     "data": {
      "application/vnd.jupyter.widget-view+json": {
       "model_id": "0a1d5c5514d140338360a3ed021dfd4f",
       "version_major": 2,
       "version_minor": 0
      },
      "text/plain": [
       "  0%|          | 0/30 [00:00<?, ?it/s]"
      ]
     },
     "metadata": {},
     "output_type": "display_data"
    },
    {
     "name": "stdout",
     "output_type": "stream",
     "text": [
      "During Time: 8826.567391395569\n"
     ]
    }
   ],
   "source": [
    "# 벡터 문서 학습\n",
    "from time import time\n",
    "\n",
    "start = time()\n",
    "\n",
    "for epoch in tqdm(range(30)):\n",
    "    # Doc2Vec 학습을 진행\n",
    "    doc_vectorizer.train(tagged_train_docs, total_examples=doc_vectorizer.corpus_count, epochs=30)\n",
    "    doc_vectorizer.alpha -= 0.002 # decrease the learning rate\n",
    "    doc_vectorizer.min_alpha = doc_vectorizer.alpha # fix the learning rate, no decay\n",
    "\n",
    "end = time()\n",
    "print(\"During Time: {}\".format(end-start))"
   ]
  },
  {
   "cell_type": "code",
   "execution_count": 102,
   "id": "89434bf9",
   "metadata": {
    "ExecuteTime": {
     "end_time": "2021-10-13T01:15:08.838503Z",
     "start_time": "2021-10-13T01:15:08.769642Z"
    }
   },
   "outputs": [
    {
     "data": {
      "text/plain": [
       "[('프린세스 에미: 마법 책의 비밀', 0.6510905027389526),\n",
       " ('대환장파티', 0.6344231367111206),\n",
       " ('맨슨 패밀리', 0.6096524000167847),\n",
       " ('내 완벽한 남사친의 비밀', 0.6074991822242737),\n",
       " ('프리즌 브레이커스', 0.5989813804626465),\n",
       " ('영화로운 나날', 0.5903171896934509),\n",
       " ('보르도 우정여행', 0.5771888494491577),\n",
       " ('파이널리스트', 0.5678276419639587),\n",
       " ('프론테라스', 0.562434732913971),\n",
       " ('7월7일', 0.5503718256950378),\n",
       " ('체크 히어로', 0.5486385822296143),\n",
       " ('슈퍼문', 0.5434455275535583),\n",
       " ('더 배니싱', 0.5404161214828491),\n",
       " ('고골: 악령과의 전쟁', 0.5395044684410095),\n",
       " ('O.J. 심슨 사건 파일', 0.5385341048240662),\n",
       " ('구르는 수레바퀴', 0.5361682772636414),\n",
       " ('초대녀 2', 0.5360038876533508),\n",
       " ('그리고 우린 춤을 추었다', 0.535868227481842),\n",
       " ('기묘한 이야기: 리플레이', 0.5341373682022095),\n",
       " ('얼굴들', 0.5340752601623535)]"
      ]
     },
     "execution_count": 102,
     "metadata": {},
     "output_type": "execute_result"
    }
   ],
   "source": [
    "doc_vectorizer.docvecs.most_similar('기생충', topn=20)"
   ]
  },
  {
   "cell_type": "code",
   "execution_count": 106,
   "id": "a064b475",
   "metadata": {
    "ExecuteTime": {
     "end_time": "2021-10-13T01:16:25.709132Z",
     "start_time": "2021-10-13T01:16:25.688227Z"
    }
   },
   "outputs": [
    {
     "data": {
      "text/plain": [
       "[('그것: 두 번째 이야기', 0.576075553894043),\n",
       " ('트롤: 월드 투어', 0.5725052952766418),\n",
       " ('스웨그', 0.5673669576644897),\n",
       " ('초미의 관심사', 0.5517657995223999),\n",
       " ('컨저링 3: 악마가 시켰다', 0.5465413331985474),\n",
       " ('닥터 두리틀', 0.5164274573326111),\n",
       " ('범털2 : 쩐의 전쟁', 0.513810396194458),\n",
       " ('겨울왕국 2', 0.509134829044342),\n",
       " ('콰이어트 플레이스 2', 0.501354992389679),\n",
       " ('데드풀2: 순한 맛', 0.4988044798374176),\n",
       " ('오시로가의 비밀', 0.49445825815200806),\n",
       " ('날씨의 아이', 0.49288317561149597),\n",
       " ('극장판 짱구는 못말려: 격돌! 낙서왕국과 얼추 네 명의 용사들', 0.4908711314201355),\n",
       " ('걸후드', 0.4896414875984192),\n",
       " ('나의 흑역사 로맨티카', 0.48686811327934265),\n",
       " ('메모리즈', 0.4853954613208771),\n",
       " ('스네이크 아이즈: 지.아이.조', 0.48079225420951843),\n",
       " ('피닉스', 0.47633570432662964),\n",
       " ('완벽한 그녀의 비밀', 0.4735615849494934),\n",
       " ('신의 한 수: 귀수편', 0.47197017073631287)]"
      ]
     },
     "execution_count": 106,
     "metadata": {},
     "output_type": "execute_result"
    }
   ],
   "source": [
    "doc_vectorizer.docvecs.most_similar('보스 베이비 2', topn=20)"
   ]
  },
  {
   "cell_type": "markdown",
   "id": "b4d82c43",
   "metadata": {},
   "source": [
    "---"
   ]
  },
  {
   "cell_type": "markdown",
   "id": "b567d337",
   "metadata": {},
   "source": [
    "# 장르 : 공포\n",
    "\n",
    "* → 장르가 공포를 포함하는 모든 영화\n",
    "* 공포'만' 해당X"
   ]
  },
  {
   "cell_type": "code",
   "execution_count": 64,
   "id": "d861c9f4",
   "metadata": {
    "ExecuteTime": {
     "end_time": "2021-10-12T18:25:24.392374Z",
     "start_time": "2021-10-12T18:25:24.214355Z"
    }
   },
   "outputs": [],
   "source": [
    "horror = movie_n[movie_n['genre'].str.contains('공포')].reset_index(drop=True)"
   ]
  },
  {
   "cell_type": "code",
   "execution_count": null,
   "id": "d09c46c3",
   "metadata": {},
   "outputs": [],
   "source": [
    "from gensim.models import doc2vec\n",
    "# 사전 구축\n",
    "doc_vectorizer = doc2vec.Doc2Vec(size=300, alpha=0.025, min_alpha=0.025, seed=1234)\n",
    "doc_vectorizer.build_vocab(tagged_train_docs)"
   ]
  },
  {
   "cell_type": "code",
   "execution_count": 11,
   "id": "ab6818d4",
   "metadata": {
    "ExecuteTime": {
     "end_time": "2021-10-13T16:02:32.133929Z",
     "start_time": "2021-10-13T16:02:32.120933Z"
    }
   },
   "outputs": [],
   "source": [
    "from gensim.models import doc2vec"
   ]
  },
  {
   "cell_type": "code",
   "execution_count": 12,
   "id": "02d72f2b",
   "metadata": {
    "ExecuteTime": {
     "end_time": "2021-10-13T16:02:33.287080Z",
     "start_time": "2021-10-13T16:02:33.172315Z"
    }
   },
   "outputs": [],
   "source": [
    "from nltk.corpus import stopwords \n",
    "from tqdm.notebook import tqdm\n",
    "from nltk.tokenize import word_tokenize, sent_tokenize"
   ]
  },
  {
   "cell_type": "markdown",
   "id": "9765ac50",
   "metadata": {},
   "source": [
    "---"
   ]
  },
  {
   "cell_type": "markdown",
   "id": "3de4eae3",
   "metadata": {
    "ExecuteTime": {
     "end_time": "2021-10-12T19:20:55.853802Z",
     "start_time": "2021-10-12T19:20:55.842802Z"
    }
   },
   "source": [
    "# 공포영화만 유사도 측정하기"
   ]
  },
  {
   "cell_type": "code",
   "execution_count": 65,
   "id": "2c1e8cea",
   "metadata": {
    "ExecuteTime": {
     "end_time": "2021-10-12T18:29:59.101993Z",
     "start_time": "2021-10-12T18:29:55.182307Z"
    }
   },
   "outputs": [
    {
     "data": {
      "application/vnd.jupyter.widget-view+json": {
       "model_id": "4b65c72e43a34931afe1455b31a3de14",
       "version_major": 2,
       "version_minor": 0
      },
      "text/plain": [
       "  0%|          | 0/22291 [00:00<?, ?it/s]"
      ]
     },
     "metadata": {},
     "output_type": "display_data"
    }
   ],
   "source": [
    "hcontent = []\n",
    "for words in tqdm(horror['content']):\n",
    "    # word_tokenize을 통해서 Tokenizer를 진행\n",
    "    word_tokens = word_tokenize(words)\n",
    "    # re.sub('[^a-z0-9]+', ' ', str(word_tokens)) 명령어를 통해서 특수문자를 모두 제거\n",
    "    sentence = re.sub('[^A-Za-z0-9]+', ' ', str(word_tokens))\n",
    "    # 양끝에 존재하는 공백을 제거\n",
    "    sentence = sentence.strip()\n",
    "\n",
    "    # 문장의 Tokenizer를 진행\n",
    "    sentence_tokens = word_tokenize(sentence)\n",
    "    result = ''\n",
    "    for token in sentence_tokens: \n",
    "        if token not in stop_words:\n",
    "            result += ' ' + token \n",
    "    result = result.strip().lower()\n",
    "    hcontent.append(result)"
   ]
  },
  {
   "cell_type": "code",
   "execution_count": null,
   "id": "b5706a1e",
   "metadata": {},
   "outputs": [],
   "source": [
    "from gensim.models import doc2vec\n",
    "# 사전 구축\n",
    "doc_vectorizer = doc2vec.Doc2Vec(size=300, alpha=0.025, min_alpha=0.025, seed=1234)\n",
    "doc_vectorizer.build_vocab(tagged_train_docs)"
   ]
  },
  {
   "cell_type": "code",
   "execution_count": 66,
   "id": "1c430e52",
   "metadata": {
    "ExecuteTime": {
     "end_time": "2021-10-12T18:30:20.627817Z",
     "start_time": "2021-10-12T18:30:20.602296Z"
    }
   },
   "outputs": [],
   "source": [
    "horror['pre_content'] = hcontent"
   ]
  },
  {
   "cell_type": "code",
   "execution_count": 13,
   "id": "3371dbc7",
   "metadata": {
    "ExecuteTime": {
     "end_time": "2021-10-13T16:02:59.467043Z",
     "start_time": "2021-10-13T16:02:59.445515Z"
    }
   },
   "outputs": [],
   "source": [
    "doc_vectorizer = doc2vec.Doc2Vec(\n",
    "    dm=1,            # PV-DBOW / default 1\n",
    "    #dbow_words=1,    # w2v simultaneous with DBOW d2v / default 0\n",
    "    window=10,        # distance between the predicted word and context words\n",
    "    vector_size=300,        # vector size\n",
    "    alpha=0.025,     # learning-rate\n",
    "    seed=1234,\n",
    "    #min_count=5,    # ignore with freq lower\n",
    "    min_alpha=0.025, # min learning-rate\n",
    "    #workers=4,   # multi cpu\n",
    "    #hs = 1,          # hierar chical softmax / default 0\n",
    "    negative = 5   # negative sampling / default 5\n",
    ")"
   ]
  },
  {
   "cell_type": "code",
   "execution_count": 68,
   "id": "65b6a3cd",
   "metadata": {
    "ExecuteTime": {
     "end_time": "2021-10-12T18:48:42.871921Z",
     "start_time": "2021-10-12T18:48:42.762276Z"
    }
   },
   "outputs": [],
   "source": [
    "from collections import namedtuple\n",
    " \n",
    "agg = horror[['title', 'pre_content']]\n",
    "TaggedDocument = namedtuple('TaggedDocument', 'words tags')\n",
    "tagged_train_docs = [TaggedDocument((c), [d]) for d, c in agg[['title', 'pre_content']].values]"
   ]
  },
  {
   "cell_type": "code",
   "execution_count": 69,
   "id": "b196f9f8",
   "metadata": {
    "ExecuteTime": {
     "end_time": "2021-10-12T18:48:57.834397Z",
     "start_time": "2021-10-12T18:48:57.774433Z"
    }
   },
   "outputs": [
    {
     "name": "stdout",
     "output_type": "stream",
     "text": [
      "Doc2Vec(dm/m,d300,n5,w10,mc5,s0.001,t3)\n"
     ]
    }
   ],
   "source": [
    "# 위에서 만든 tagged_train_docs으로 사전을 만들어줍니다. \n",
    "doc_vectorizer.build_vocab(tagged_train_docs)\n",
    "print(str(doc_vectorizer))"
   ]
  },
  {
   "cell_type": "code",
   "execution_count": 79,
   "id": "1a8f7db7",
   "metadata": {
    "ExecuteTime": {
     "end_time": "2021-10-12T19:08:45.144658Z",
     "start_time": "2021-10-12T19:08:45.122102Z"
    }
   },
   "outputs": [],
   "source": [
    "# To save\n",
    "doc_vectorizer.save('doc2vec.model')"
   ]
  },
  {
   "cell_type": "code",
   "execution_count": 75,
   "id": "1ac1b08e",
   "metadata": {
    "ExecuteTime": {
     "end_time": "2021-10-12T19:03:55.323176Z",
     "start_time": "2021-10-12T18:53:49.373163Z"
    },
    "scrolled": false
   },
   "outputs": [
    {
     "data": {
      "application/vnd.jupyter.widget-view+json": {
       "model_id": "ed345c6e5d0c437382a187876cf17e13",
       "version_major": 2,
       "version_minor": 0
      },
      "text/plain": [
       "  0%|          | 0/30 [00:00<?, ?it/s]"
      ]
     },
     "metadata": {},
     "output_type": "display_data"
    },
    {
     "name": "stdout",
     "output_type": "stream",
     "text": [
      "During Time: 605.9310328960419\n"
     ]
    }
   ],
   "source": [
    "# 벡터 문서 학습\n",
    "from time import time\n",
    "\n",
    "start = time()\n",
    "\n",
    "for epoch in tqdm(range(30)):\n",
    "    # Doc2Vec 학습을 진행하는데 Learning rate를 계속 감소해주면서 학습을 진행해줍니다. \n",
    "    doc_vectorizer.train(tagged_train_docs, total_examples=doc_vectorizer.corpus_count, epochs=30)\n",
    "    doc_vectorizer.alpha -= 0.002 # decrease the learning rate\n",
    "    doc_vectorizer.min_alpha = doc_vectorizer.alpha # fix the learning rate, no decay\n",
    "\n",
    "end = time()\n",
    "print(\"During Time: {}\".format(end-start))"
   ]
  },
  {
   "cell_type": "code",
   "execution_count": 76,
   "id": "ad093737",
   "metadata": {
    "ExecuteTime": {
     "end_time": "2021-10-12T19:04:02.412707Z",
     "start_time": "2021-10-12T19:04:02.386751Z"
    },
    "scrolled": true
   },
   "outputs": [
    {
     "data": {
      "text/plain": [
       "array(['0.0MHz', '47미터 2', '공포의 묘지', '귀신의 향기', '그레이브 하우스', '나이트메어 시네마',\n",
       "       '노크: 낯선 그림자', '늑대의 아이들', '다커 나이트', '닥터 킬러 패밀리', '더 바이 바이 맨',\n",
       "       '더 보이', '더 빌리지', '더 스쿨', '더하우스', '데드 돈 다이', '디 엔드?',\n",
       "       '레드 스프링 아포칼립스', '로드킬', '룩 어웨이', '매리', '매트리악', '맨디', '미드소마',\n",
       "       '미이라 리턴즈', '베스와 베라', '변신', '보어 살인 멧돼지', '사일런스', '사자', '사탄의 인형',\n",
       "       '사탄의 인형: 상속 받은 저주', '살인마 잭의 집', '악령의 캠핑카', '암전',\n",
       "       '애나벨 : 잊혀지지 않는 선율', '애나벨 집으로', '어스', '언데드 인 커밍', '요로나의 저주',\n",
       "       '위치 오브 하우스', '이스케이프 룸', '인면어: 저주의 시작', '좀비 : 죽은 자들의 도시',\n",
       "       '좀비랜드: 더블 탭', '카르마', '카리스마타 살인', '카메라를 멈추면 안 돼! 스핀오프 : 할리우드 대작전',\n",
       "       '카운트다운', '캐빈 오브 더 컨저링', '컨벤트', '크로우 라이징', '파라노말 액티비티 2019',\n",
       "       '파이와켓: 죽음의 주문', '폐교', '폴라로이드', '프로디지', '해피 데스데이 2 유', '헌팅 오브 힐하우스',\n",
       "       '검은 사제들: 지옥의 문', '겟 아웃 얼라이브', '고스트 오브 워', '그곳', '그집', '기기괴괴 성형수',\n",
       "       '기묘한 이야기: 리플레이', '나이트메어 라디오', '나이트메어 서커스', '나치 오버로드', '뉴 뮤턴트',\n",
       "       '더 렌탈: 소리없는 감시자', '더 보이 2: 돌아온 브람스', '더 터닝', '데빌 인사이드 미', '돈 스피크',\n",
       "       '디어스킨', '라비드', '런 런 런', '레벨 16', '맨슨 패밀리', '머시블랙: 저주 받은 아이',\n",
       "       '메가 블리자드', '목격자 : 눈이 없는 아이', '반교: 디텐션', '블러드: 궁금한 이야기',\n",
       "       '사냥의 시간: 데스 게임', '사스콰치: 거인 괴물', '세인트 아가타', '스케어리 스토리: 어둠의 속삭임',\n",
       "       '시라이', '시체들의 새벽', '시체들의 새벽: 컨테이젼', '싸이코: 13번째 희생자', '씨 피버',\n",
       "       '악마의 오후', '악몽', '악플러 죽이기', '얼티밋 배틀', '엑소시즘 : 잠들지 못하는 시간',\n",
       "       '엑소시즘: 귀신과의 대화', '엠티맨', '오픈 더 도어', '온다', '올 머스트 다이',\n",
       "       '요가학원:죽음의쿤달리니', '위 섬온 더 다크니스', '위자 악마소환게임', '위자 크래프트', '이블데드 2020',\n",
       "       '이제 그만 끝낼까 해', '인 더 다크: 악령의 부활', '인비저블맨', '자매의 공동묘지', '좀비파이터',\n",
       "       '죽이는 여자', '컬트 걸', '컴 투 대디 : 30년만의 재회', '코벤', '프리키 데스데이',\n",
       "       '할로윈: 살인마 잭', '해피 데스데이: 악마의 큐피드', '헌트', '헌티드 파크', 'CCTV',\n",
       "       '고스트 킬러 vs 블러디 메리', '괴기맨숀', '귀문', '귀신', '나만 보이니', '나이트 언데드',\n",
       "       '다크 앤드 위키드', '더 그레이트 샤크', '더 나이트', '더 드라이버', '더 레치드: 악령의 저주',\n",
       "       '더 배니싱', '더 퍼지: 포에버', '데빌스 나이트', '데스 숏컷', '데스 오브 미', '랑종', '리틀 조',\n",
       "       '링: 더 라스트 챕터', '마네킹', '맨 인 더 다크 2', '모추어리 컬렉션', '바이러스 Z: 백신 대참사',\n",
       "       '배드 헤어', '사라져버린', '사운드 오브 데스', '사일런싱', '살인 매뉴얼', '쇼미더고스트',\n",
       "       '숲의 비명 : 사라진 사람들', '스마일 페이스 킬러', '스쿨 아웃 포에버', '신 강시선생',\n",
       "       '실종: 사라진 사람들', '썰', '아이 씨 유', '여고괴담 여섯번째 이야기 : 모교', '올드', '완벽한 손님',\n",
       "       '이스케이프 룸 2: 노 웨이 아웃', '이스케이프 큐브', '존 도우', '최면', '캔디맨', '커넥트',\n",
       "       '컨저링 3: 악마가 시켰다', '컨저링: 귀신의 집', '클리닝 레이디', '피어 오브 레인', '피어썸',\n",
       "       '호스트: 접속금지'], dtype=object)"
      ]
     },
     "execution_count": 76,
     "metadata": {},
     "output_type": "execute_result"
    }
   ],
   "source": [
    "horror['title'].unique()"
   ]
  },
  {
   "cell_type": "code",
   "execution_count": 83,
   "id": "970259c1",
   "metadata": {
    "ExecuteTime": {
     "end_time": "2021-10-12T19:13:18.864844Z",
     "start_time": "2021-10-12T19:13:18.848325Z"
    }
   },
   "outputs": [
    {
     "data": {
      "text/plain": [
       "[('인면어: 저주의 시작', 0.5635553002357483), ('세인트 아가타', 0.5156008005142212), ('자매의 공동묘지', 0.4939689338207245), ('매트리악', 0.4887956976890564), ('맨디', 0.48686933517456055), ('링: 더 라스트 챕터', 0.46589788794517517), ('데빌 인사이드 미', 0.46528691053390503), ('더 스쿨', 0.46294263005256653), ('레드 스프링 아포칼립스', 0.46280795335769653), ('헌티드 파크', 0.46124446392059326), ('돈 스피크', 0.45582059025764465), ('존 도우', 0.4442197382450104), ('목격자 : 눈이 없는 아이', 0.4434628486633301), ('더 나이트', 0.44225889444351196), ('악플러 죽이기', 0.44203585386276245), ('실종: 사라진 사람들', 0.42329758405685425), ('요가학원:죽음의쿤달리니', 0.42286810278892517), ('악령의 캠핑카', 0.41867345571517944), ('런 런 런', 0.41380488872528076), ('피어썸', 0.40190389752388)]"
      ]
     },
     "execution_count": 83,
     "metadata": {},
     "output_type": "execute_result"
    }
   ],
   "source": [
    "doc_vectorizer.docvecs.most_similar(positive=['컨저링: 귀신의 집', '공포의 묘지'], negative=['47미터 2'], topn=20)"
   ]
  },
  {
   "cell_type": "code",
   "execution_count": 78,
   "id": "4802df95",
   "metadata": {
    "ExecuteTime": {
     "end_time": "2021-10-12T19:06:04.623222Z",
     "start_time": "2021-10-12T19:06:04.615219Z"
    }
   },
   "outputs": [
    {
     "data": {
      "text/plain": [
       "[('아이 씨 유', 0.650468647480011),\n",
       " ('실종: 사라진 사람들', 0.6181316375732422),\n",
       " ('카르마', 0.6146055459976196),\n",
       " ('그곳', 0.6142624020576477),\n",
       " ('애나벨 : 잊혀지지 않는 선율', 0.6089791059494019),\n",
       " ('컬트 걸', 0.6086001396179199),\n",
       " ('캐빈 오브 더 컨저링', 0.6045429110527039),\n",
       " ('신 강시선생', 0.6001917719841003),\n",
       " ('해피 데스데이 2 유', 0.5811768770217896),\n",
       " ('피어 오브 레인', 0.5806698203086853),\n",
       " ('더 배니싱', 0.5653866529464722),\n",
       " ('47미터 2', 0.5523381233215332),\n",
       " ('위자 크래프트', 0.5474677681922913),\n",
       " ('파라노말 액티비티 2019', 0.5408865213394165),\n",
       " ('살인 매뉴얼', 0.5378244519233704),\n",
       " ('크로우 라이징', 0.5057649612426758),\n",
       " ('리틀 조', 0.5034528374671936),\n",
       " ('더 빌리지', 0.4987199902534485),\n",
       " ('닥터 킬러 패밀리', 0.4970897138118744),\n",
       " ('고스트 오브 워', 0.4949326515197754)]"
      ]
     },
     "execution_count": 78,
     "metadata": {},
     "output_type": "execute_result"
    }
   ],
   "source": [
    "doc_vectorizer.docvecs.most_similar('컨저링 3: 악마가 시켰다', topn=20)"
   ]
  },
  {
   "cell_type": "code",
   "execution_count": 89,
   "id": "4846b194",
   "metadata": {
    "ExecuteTime": {
     "end_time": "2021-10-12T19:17:39.164938Z",
     "start_time": "2021-10-12T19:17:39.144965Z"
    }
   },
   "outputs": [
    {
     "data": {
      "text/plain": [
       "[('블러드: 궁금한 이야기', 0.9891312122344971),\n",
       " ('캐빈 오브 더 컨저링', 0.8981232643127441),\n",
       " ('리틀 조', 0.863559365272522),\n",
       " ('기묘한 이야기: 리플레이', 0.8523256182670593),\n",
       " ('카르마', 0.8510911464691162),\n",
       " ('애나벨 : 잊혀지지 않는 선율', 0.8502852916717529),\n",
       " ('맨슨 패밀리', 0.8493539094924927),\n",
       " ('그곳', 0.8033229112625122),\n",
       " ('아이 씨 유', 0.7965874671936035),\n",
       " ('신 강시선생', 0.7965527176856995),\n",
       " ('더 배니싱', 0.7948595285415649),\n",
       " ('더 빌리지', 0.7891238927841187),\n",
       " ('피어 오브 레인', 0.7856281995773315),\n",
       " ('위자 크래프트', 0.7809276580810547),\n",
       " ('살인 매뉴얼', 0.7757599353790283),\n",
       " ('크로우 라이징', 0.7675133943557739),\n",
       " ('나이트메어 서커스', 0.7662829160690308),\n",
       " ('사라져버린', 0.7643951773643494),\n",
       " ('닥터 킬러 패밀리', 0.7599900364875793),\n",
       " ('컬트 걸', 0.757792055606842)]"
      ]
     },
     "execution_count": 89,
     "metadata": {},
     "output_type": "execute_result"
    }
   ],
   "source": [
    "doc_vectorizer.docvecs.most_similar('파라노말 액티비티 2019', topn=20)"
   ]
  },
  {
   "cell_type": "markdown",
   "id": "61db5f9c",
   "metadata": {},
   "source": [
    "---"
   ]
  },
  {
   "cell_type": "markdown",
   "id": "a06d483c",
   "metadata": {},
   "source": [
    "# 장르별 유사도 영화 추천 상위 10개 "
   ]
  },
  {
   "cell_type": "code",
   "execution_count": 424,
   "id": "e4013b86",
   "metadata": {
    "ExecuteTime": {
     "end_time": "2021-10-14T03:22:10.792976Z",
     "start_time": "2021-10-14T03:22:10.671684Z"
    }
   },
   "outputs": [],
   "source": [
    "documentary = movie_n[movie_n['genre'].str.contains('다큐멘터리')]"
   ]
  },
  {
   "cell_type": "code",
   "execution_count": 425,
   "id": "b220af19",
   "metadata": {
    "ExecuteTime": {
     "end_time": "2021-10-14T03:22:18.004021Z",
     "start_time": "2021-10-14T03:22:15.311582Z"
    }
   },
   "outputs": [
    {
     "data": {
      "application/vnd.jupyter.widget-view+json": {
       "model_id": "791fb897506c4defb9dab68185b204c6",
       "version_major": 2,
       "version_minor": 0
      },
      "text/plain": [
       "  0%|          | 0/11904 [00:00<?, ?it/s]"
      ]
     },
     "metadata": {},
     "output_type": "display_data"
    }
   ],
   "source": [
    "rcontent = []\n",
    "for words in tqdm(documentary['content']):\n",
    "    # word_tokenize을 통해서 Tokenizer를 진행해줍니다. \n",
    "    word_tokens = word_tokenize(words)\n",
    "    # re.sub('[^a-z0-9]+', ' ', str(word_tokens)) 명령어를 통해서 특수문자를 모두 제거해줍니다. \n",
    "    sentence = re.sub('[^A-Za-z0-9]+', ' ', str(word_tokens))\n",
    "    # 양끝에 존재하는 공백을 제거해줍니다. \n",
    "    sentence = sentence.strip()\n",
    "\n",
    "    # 문장의 Tokenizer를 진행해줍니다. \n",
    "    sentence_tokens = word_tokenize(sentence)\n",
    "    result = ''\n",
    "    for token in sentence_tokens: \n",
    "        if token not in stop_words:\n",
    "            result += ' ' + token \n",
    "    result = result.strip().lower()\n",
    "    rcontent.append(result)"
   ]
  },
  {
   "cell_type": "code",
   "execution_count": 426,
   "id": "c28da991",
   "metadata": {
    "ExecuteTime": {
     "end_time": "2021-10-14T03:22:20.085515Z",
     "start_time": "2021-10-14T03:22:20.077893Z"
    }
   },
   "outputs": [],
   "source": [
    "documentary['pre_content'] = rcontent"
   ]
  },
  {
   "cell_type": "code",
   "execution_count": 427,
   "id": "1bbcbd58",
   "metadata": {
    "ExecuteTime": {
     "end_time": "2021-10-14T03:22:22.177617Z",
     "start_time": "2021-10-14T03:22:22.160576Z"
    }
   },
   "outputs": [],
   "source": [
    "doc_vectorizer = doc2vec.Doc2Vec(\n",
    "    dm=1,            # PV-DBOW / default 1\n",
    "    #dbow_words=1,    # w2v simultaneous with DBOW d2v / default 0\n",
    "    window=10,        # distance between the predicted word and context words\n",
    "    vector_size=300,        # vector size\n",
    "    alpha=0.025,     # learning-rate\n",
    "    seed=1234,\n",
    "    #min_count=5,    # ignore with freq lower\n",
    "    min_alpha=0.025, # min learning-rate\n",
    "    #workers=4,   # multi cpu\n",
    "    #hs = 1,          # hierar chical softmax / default 0\n",
    "    negative = 5   # negative sampling / default 5\n",
    ")"
   ]
  },
  {
   "cell_type": "code",
   "execution_count": 428,
   "id": "4269a725",
   "metadata": {
    "ExecuteTime": {
     "end_time": "2021-10-14T03:22:26.630156Z",
     "start_time": "2021-10-14T03:22:26.580159Z"
    }
   },
   "outputs": [],
   "source": [
    "from collections import namedtuple\n",
    "\n",
    "# Doc2Vec 입력형태를 맞춰줍니다. \n",
    "# TaggedDocument 형태로 ('영화 내용', '제목') 을 받습니다. \n",
    "## 이후, TaggedDocument에 모든 문서에 대해서 '영화 내용', '제목'을 넣어줍니다. \n",
    "agg = documentary[['title', 'pre_content']]\n",
    "TaggedDocument = namedtuple('TaggedDocument', 'words tags')\n",
    "tagged_train_docs = [TaggedDocument((c), [d]) for d, c in agg[['title', 'pre_content']].values]"
   ]
  },
  {
   "cell_type": "code",
   "execution_count": 429,
   "id": "47fcd811",
   "metadata": {
    "ExecuteTime": {
     "end_time": "2021-10-14T03:22:27.425600Z",
     "start_time": "2021-10-14T03:22:27.389577Z"
    }
   },
   "outputs": [
    {
     "name": "stdout",
     "output_type": "stream",
     "text": [
      "Doc2Vec(dm/m,d300,n5,w10,mc5,s0.001,t3)\n"
     ]
    }
   ],
   "source": [
    "# 위에서 만든 tagged_train_docs으로 사전을 만들어줍니다. \n",
    "doc_vectorizer.build_vocab(tagged_train_docs)\n",
    "print(str(doc_vectorizer))"
   ]
  },
  {
   "cell_type": "code",
   "execution_count": 430,
   "id": "a9e184c1",
   "metadata": {
    "ExecuteTime": {
     "end_time": "2021-10-14T03:26:15.768728Z",
     "start_time": "2021-10-14T03:22:28.736881Z"
    }
   },
   "outputs": [
    {
     "data": {
      "application/vnd.jupyter.widget-view+json": {
       "model_id": "e7ead96fa794452aaf7f8de7ceda68af",
       "version_major": 2,
       "version_minor": 0
      },
      "text/plain": [
       "  0%|          | 0/30 [00:00<?, ?it/s]"
      ]
     },
     "metadata": {},
     "output_type": "display_data"
    },
    {
     "name": "stdout",
     "output_type": "stream",
     "text": [
      "During Time: 227.02488660812378\n"
     ]
    }
   ],
   "source": [
    "# 벡터 문서 학습\n",
    "from time import time\n",
    "\n",
    "start = time()\n",
    "\n",
    "for epoch in tqdm(range(30)):\n",
    "    # Doc2Vec 학습을 진행하는데 Learning rate를 계속 감소해주면서 학습을 진행해줍니다. \n",
    "    doc_vectorizer.train(tagged_train_docs, total_examples=doc_vectorizer.corpus_count, epochs=30)\n",
    "    doc_vectorizer.alpha -= 0.002 # decrease the learning rate\n",
    "    doc_vectorizer.min_alpha = doc_vectorizer.alpha # fix the learning rate, no decay\n",
    "\n",
    "end = time()\n",
    "print(\"During Time: {}\".format(end-start))"
   ]
  },
  {
   "cell_type": "markdown",
   "id": "82d84419",
   "metadata": {},
   "source": [
    "---"
   ]
  },
  {
   "cell_type": "code",
   "execution_count": 44,
   "id": "06b0c195",
   "metadata": {
    "ExecuteTime": {
     "end_time": "2021-10-13T16:52:09.746528Z",
     "start_time": "2021-10-13T16:52:09.739529Z"
    }
   },
   "outputs": [],
   "source": [
    "aaa = doc_vectorizer.docvecs.most_similar('엠마', topn=20)"
   ]
  },
  {
   "cell_type": "code",
   "execution_count": 46,
   "id": "e60fe570",
   "metadata": {
    "ExecuteTime": {
     "end_time": "2021-10-13T16:52:20.063867Z",
     "start_time": "2021-10-13T16:52:20.056867Z"
    }
   },
   "outputs": [
    {
     "data": {
      "text/plain": [
       "'키싱 부스 2'"
      ]
     },
     "execution_count": 46,
     "metadata": {},
     "output_type": "execute_result"
    }
   ],
   "source": [
    "aaa[0][0]"
   ]
  },
  {
   "cell_type": "code",
   "execution_count": 222,
   "id": "928ed6a3",
   "metadata": {
    "ExecuteTime": {
     "end_time": "2021-10-13T20:10:53.406107Z",
     "start_time": "2021-10-13T20:10:53.396592Z"
    }
   },
   "outputs": [],
   "source": [
    "slist = family.title.unique().tolist()"
   ]
  },
  {
   "cell_type": "code",
   "execution_count": 223,
   "id": "7754f711",
   "metadata": {
    "ExecuteTime": {
     "end_time": "2021-10-13T20:10:54.698888Z",
     "start_time": "2021-10-13T20:10:54.693925Z"
    }
   },
   "outputs": [
    {
     "data": {
      "text/plain": [
       "['13년의 공백', 'EBS 댄스파티!', '겨울왕국 2', '고릴라와 슈퍼레이스', '구스 베이비']"
      ]
     },
     "execution_count": 223,
     "metadata": {},
     "output_type": "execute_result"
    }
   ],
   "source": [
    "slist[:5]"
   ]
  },
  {
   "cell_type": "markdown",
   "id": "7af76760",
   "metadata": {},
   "source": [
    "---"
   ]
  },
  {
   "cell_type": "markdown",
   "id": "870bbc23",
   "metadata": {},
   "source": [
    "### genre_list \n",
    "* title_x : 유사도를 예측하기 위해 입력하는 영화 제목\n",
    "* title_y : 입력한 영화 제목의 유사도가 높은 영화 제목\n",
    "* similarity : 입력과 출력 영화의 유사도"
   ]
  },
  {
   "cell_type": "code",
   "execution_count": 431,
   "id": "aac9e9b3",
   "metadata": {
    "ExecuteTime": {
     "end_time": "2021-10-14T03:26:34.212459Z",
     "start_time": "2021-10-14T03:26:34.195427Z"
    }
   },
   "outputs": [],
   "source": [
    "result = []\n",
    "def genre_list(genre):\n",
    "    # 전체 데이터에서 입력한 장르만 포함된 데이터 프레임 추출\n",
    "    mg = movie_n[movie_n['genre'].str.contains(genre)]\n",
    "    # 제목 리스트 생성\n",
    "    mgli = mg.title.unique().tolist()\n",
    "    #print(mgli) \n",
    "    for i in range(0,len(mgli)): # 영화의 수 만큼 \n",
    "        mgsim = []\n",
    "        # 제목을 입력했을 때 10개의 추천영화가 도출\n",
    "        mmm = doc_vectorizer.docvecs.most_similar(mgli[i], topn=10) \n",
    "        # 데이터 프레임 생성\n",
    "        df = pd.DataFrame(mmm, columns =['title_y', 'similarity'])\n",
    "        df['title_x'] = mgli[i]\n",
    "        df['genre'] = genre\n",
    "        result.append(df)"
   ]
  },
  {
   "cell_type": "code",
   "execution_count": 432,
   "id": "f2842f36",
   "metadata": {
    "ExecuteTime": {
     "end_time": "2021-10-14T03:26:35.399197Z",
     "start_time": "2021-10-14T03:26:35.085272Z"
    }
   },
   "outputs": [],
   "source": [
    "genre_list('다큐멘터리')"
   ]
  },
  {
   "cell_type": "markdown",
   "id": "abc7a362",
   "metadata": {},
   "source": [
    "---"
   ]
  },
  {
   "cell_type": "markdown",
   "id": "0065d80a",
   "metadata": {},
   "source": [
    "### 공포"
   ]
  },
  {
   "cell_type": "code",
   "execution_count": 157,
   "id": "156106ef",
   "metadata": {
    "ExecuteTime": {
     "end_time": "2021-10-13T18:28:16.660916Z",
     "start_time": "2021-10-13T18:28:16.580324Z"
    }
   },
   "outputs": [],
   "source": [
    "horror = pd.concat(result)"
   ]
  },
  {
   "cell_type": "code",
   "execution_count": 198,
   "id": "87a1e668",
   "metadata": {
    "ExecuteTime": {
     "end_time": "2021-10-13T19:43:56.034913Z",
     "start_time": "2021-10-13T19:43:56.009711Z"
    }
   },
   "outputs": [
    {
     "data": {
      "text/html": [
       "<div>\n",
       "<style scoped>\n",
       "    .dataframe tbody tr th:only-of-type {\n",
       "        vertical-align: middle;\n",
       "    }\n",
       "\n",
       "    .dataframe tbody tr th {\n",
       "        vertical-align: top;\n",
       "    }\n",
       "\n",
       "    .dataframe thead th {\n",
       "        text-align: right;\n",
       "    }\n",
       "</style>\n",
       "<table border=\"1\" class=\"dataframe\">\n",
       "  <thead>\n",
       "    <tr style=\"text-align: right;\">\n",
       "      <th></th>\n",
       "      <th>title_y</th>\n",
       "      <th>similarity</th>\n",
       "      <th>title_x</th>\n",
       "      <th>genre</th>\n",
       "    </tr>\n",
       "  </thead>\n",
       "  <tbody>\n",
       "    <tr>\n",
       "      <th>5</th>\n",
       "      <td>맨디</td>\n",
       "      <td>0.717732</td>\n",
       "      <td>노크: 낯선 그림자</td>\n",
       "      <td>공포</td>\n",
       "    </tr>\n",
       "    <tr>\n",
       "      <th>6</th>\n",
       "      <td>레드 스프링 아포칼립스</td>\n",
       "      <td>0.693068</td>\n",
       "      <td>노크: 낯선 그림자</td>\n",
       "      <td>공포</td>\n",
       "    </tr>\n",
       "    <tr>\n",
       "      <th>7</th>\n",
       "      <td>컨저링: 귀신의 집</td>\n",
       "      <td>0.658900</td>\n",
       "      <td>노크: 낯선 그림자</td>\n",
       "      <td>공포</td>\n",
       "    </tr>\n",
       "    <tr>\n",
       "      <th>8</th>\n",
       "      <td>더 배니싱</td>\n",
       "      <td>0.652452</td>\n",
       "      <td>노크: 낯선 그림자</td>\n",
       "      <td>공포</td>\n",
       "    </tr>\n",
       "    <tr>\n",
       "      <th>9</th>\n",
       "      <td>얼티밋 배틀</td>\n",
       "      <td>0.650097</td>\n",
       "      <td>노크: 낯선 그림자</td>\n",
       "      <td>공포</td>\n",
       "    </tr>\n",
       "  </tbody>\n",
       "</table>\n",
       "</div>"
      ],
      "text/plain": [
       "        title_y  similarity     title_x genre\n",
       "5            맨디    0.717732  노크: 낯선 그림자    공포\n",
       "6  레드 스프링 아포칼립스    0.693068  노크: 낯선 그림자    공포\n",
       "7    컨저링: 귀신의 집    0.658900  노크: 낯선 그림자    공포\n",
       "8         더 배니싱    0.652452  노크: 낯선 그림자    공포\n",
       "9        얼티밋 배틀    0.650097  노크: 낯선 그림자    공포"
      ]
     },
     "execution_count": 198,
     "metadata": {},
     "output_type": "execute_result"
    }
   ],
   "source": [
    "horror.iloc[65:70,:]"
   ]
  },
  {
   "cell_type": "code",
   "execution_count": 299,
   "id": "b87403d7",
   "metadata": {
    "ExecuteTime": {
     "end_time": "2021-10-14T02:27:51.202025Z",
     "start_time": "2021-10-14T02:27:51.173030Z"
    }
   },
   "outputs": [
    {
     "data": {
      "text/html": [
       "<div>\n",
       "<style scoped>\n",
       "    .dataframe tbody tr th:only-of-type {\n",
       "        vertical-align: middle;\n",
       "    }\n",
       "\n",
       "    .dataframe tbody tr th {\n",
       "        vertical-align: top;\n",
       "    }\n",
       "\n",
       "    .dataframe thead th {\n",
       "        text-align: right;\n",
       "    }\n",
       "</style>\n",
       "<table border=\"1\" class=\"dataframe\">\n",
       "  <thead>\n",
       "    <tr style=\"text-align: right;\">\n",
       "      <th></th>\n",
       "      <th>title_y</th>\n",
       "      <th>similarity</th>\n",
       "      <th>title_x</th>\n",
       "      <th>genre</th>\n",
       "    </tr>\n",
       "  </thead>\n",
       "  <tbody>\n",
       "    <tr>\n",
       "      <th>0</th>\n",
       "      <td>존 도우</td>\n",
       "      <td>0.806622</td>\n",
       "      <td>노크: 낯선 그림자</td>\n",
       "      <td>공포</td>\n",
       "    </tr>\n",
       "    <tr>\n",
       "      <th>1</th>\n",
       "      <td>데스 숏컷</td>\n",
       "      <td>0.806510</td>\n",
       "      <td>노크: 낯선 그림자</td>\n",
       "      <td>공포</td>\n",
       "    </tr>\n",
       "    <tr>\n",
       "      <th>0</th>\n",
       "      <td>크로우 라이징</td>\n",
       "      <td>0.824017</td>\n",
       "      <td>더 바이 바이 맨</td>\n",
       "      <td>공포</td>\n",
       "    </tr>\n",
       "    <tr>\n",
       "      <th>1</th>\n",
       "      <td>할로윈: 살인마 잭</td>\n",
       "      <td>0.822003</td>\n",
       "      <td>더 바이 바이 맨</td>\n",
       "      <td>공포</td>\n",
       "    </tr>\n",
       "    <tr>\n",
       "      <th>0</th>\n",
       "      <td>크로우 라이징</td>\n",
       "      <td>0.971301</td>\n",
       "      <td>더 빌리지</td>\n",
       "      <td>공포</td>\n",
       "    </tr>\n",
       "    <tr>\n",
       "      <th>...</th>\n",
       "      <td>...</td>\n",
       "      <td>...</td>\n",
       "      <td>...</td>\n",
       "      <td>...</td>\n",
       "    </tr>\n",
       "    <tr>\n",
       "      <th>6</th>\n",
       "      <td>더 빌리지</td>\n",
       "      <td>0.918931</td>\n",
       "      <td>피어 오브 레인</td>\n",
       "      <td>공포</td>\n",
       "    </tr>\n",
       "    <tr>\n",
       "      <th>7</th>\n",
       "      <td>크로우 라이징</td>\n",
       "      <td>0.876482</td>\n",
       "      <td>피어 오브 레인</td>\n",
       "      <td>공포</td>\n",
       "    </tr>\n",
       "    <tr>\n",
       "      <th>8</th>\n",
       "      <td>카르마</td>\n",
       "      <td>0.859899</td>\n",
       "      <td>피어 오브 레인</td>\n",
       "      <td>공포</td>\n",
       "    </tr>\n",
       "    <tr>\n",
       "      <th>9</th>\n",
       "      <td>할로윈: 살인마 잭</td>\n",
       "      <td>0.851856</td>\n",
       "      <td>피어 오브 레인</td>\n",
       "      <td>공포</td>\n",
       "    </tr>\n",
       "    <tr>\n",
       "      <th>0</th>\n",
       "      <td>위 섬온 더 다크니스</td>\n",
       "      <td>0.877960</td>\n",
       "      <td>피어썸</td>\n",
       "      <td>공포</td>\n",
       "    </tr>\n",
       "  </tbody>\n",
       "</table>\n",
       "<p>213 rows × 4 columns</p>\n",
       "</div>"
      ],
      "text/plain": [
       "        title_y  similarity     title_x genre\n",
       "0          존 도우    0.806622  노크: 낯선 그림자    공포\n",
       "1         데스 숏컷    0.806510  노크: 낯선 그림자    공포\n",
       "0       크로우 라이징    0.824017   더 바이 바이 맨    공포\n",
       "1    할로윈: 살인마 잭    0.822003   더 바이 바이 맨    공포\n",
       "0       크로우 라이징    0.971301       더 빌리지    공포\n",
       "..          ...         ...         ...   ...\n",
       "6         더 빌리지    0.918931    피어 오브 레인    공포\n",
       "7       크로우 라이징    0.876482    피어 오브 레인    공포\n",
       "8           카르마    0.859899    피어 오브 레인    공포\n",
       "9    할로윈: 살인마 잭    0.851856    피어 오브 레인    공포\n",
       "0   위 섬온 더 다크니스    0.877960         피어썸    공포\n",
       "\n",
       "[213 rows x 4 columns]"
      ]
     },
     "execution_count": 299,
     "metadata": {},
     "output_type": "execute_result"
    }
   ],
   "source": [
    "horror[horror['similarity']> 0.8]"
   ]
  },
  {
   "cell_type": "code",
   "execution_count": 300,
   "id": "3eba9c6c",
   "metadata": {
    "ExecuteTime": {
     "end_time": "2021-10-14T02:27:53.732597Z",
     "start_time": "2021-10-14T02:27:53.686542Z"
    }
   },
   "outputs": [],
   "source": [
    "horror = horror.reset_index(drop=True)\n",
    "horror.to_csv('horror.csv',index=False)"
   ]
  },
  {
   "cell_type": "markdown",
   "id": "a80ff44b",
   "metadata": {},
   "source": [
    "### 로맨스"
   ]
  },
  {
   "cell_type": "code",
   "execution_count": 171,
   "id": "827ed4ac",
   "metadata": {
    "ExecuteTime": {
     "end_time": "2021-10-13T18:41:31.035917Z",
     "start_time": "2021-10-13T18:41:30.846954Z"
    }
   },
   "outputs": [],
   "source": [
    "romance = pd.concat(result)"
   ]
  },
  {
   "cell_type": "code",
   "execution_count": 193,
   "id": "664dacff",
   "metadata": {
    "ExecuteTime": {
     "end_time": "2021-10-13T19:42:37.232286Z",
     "start_time": "2021-10-13T19:42:37.210260Z"
    }
   },
   "outputs": [
    {
     "data": {
      "text/html": [
       "<div>\n",
       "<style scoped>\n",
       "    .dataframe tbody tr th:only-of-type {\n",
       "        vertical-align: middle;\n",
       "    }\n",
       "\n",
       "    .dataframe tbody tr th {\n",
       "        vertical-align: top;\n",
       "    }\n",
       "\n",
       "    .dataframe thead th {\n",
       "        text-align: right;\n",
       "    }\n",
       "</style>\n",
       "<table border=\"1\" class=\"dataframe\">\n",
       "  <thead>\n",
       "    <tr style=\"text-align: right;\">\n",
       "      <th></th>\n",
       "      <th>title_y</th>\n",
       "      <th>similarity</th>\n",
       "      <th>title_x</th>\n",
       "      <th>genre</th>\n",
       "    </tr>\n",
       "  </thead>\n",
       "  <tbody>\n",
       "    <tr>\n",
       "      <th>7</th>\n",
       "      <td>이별의 목적</td>\n",
       "      <td>0.757375</td>\n",
       "      <td>계절과 계절 사이</td>\n",
       "      <td>멜로/로맨스</td>\n",
       "    </tr>\n",
       "    <tr>\n",
       "      <th>8</th>\n",
       "      <td>큐리오사</td>\n",
       "      <td>0.741941</td>\n",
       "      <td>계절과 계절 사이</td>\n",
       "      <td>멜로/로맨스</td>\n",
       "    </tr>\n",
       "    <tr>\n",
       "      <th>9</th>\n",
       "      <td>클라라</td>\n",
       "      <td>0.740128</td>\n",
       "      <td>계절과 계절 사이</td>\n",
       "      <td>멜로/로맨스</td>\n",
       "    </tr>\n",
       "    <tr>\n",
       "      <th>0</th>\n",
       "      <td>네가 내가 되었으면 좋겠다</td>\n",
       "      <td>0.742626</td>\n",
       "      <td>굿바이 썸머</td>\n",
       "      <td>멜로/로맨스</td>\n",
       "    </tr>\n",
       "    <tr>\n",
       "      <th>1</th>\n",
       "      <td>내 사랑 찾기</td>\n",
       "      <td>0.620386</td>\n",
       "      <td>굿바이 썸머</td>\n",
       "      <td>멜로/로맨스</td>\n",
       "    </tr>\n",
       "  </tbody>\n",
       "</table>\n",
       "</div>"
      ],
      "text/plain": [
       "          title_y  similarity    title_x   genre\n",
       "7          이별의 목적    0.757375  계절과 계절 사이  멜로/로맨스\n",
       "8            큐리오사    0.741941  계절과 계절 사이  멜로/로맨스\n",
       "9             클라라    0.740128  계절과 계절 사이  멜로/로맨스\n",
       "0  네가 내가 되었으면 좋겠다    0.742626     굿바이 썸머  멜로/로맨스\n",
       "1         내 사랑 찾기    0.620386     굿바이 썸머  멜로/로맨스"
      ]
     },
     "execution_count": 193,
     "metadata": {},
     "output_type": "execute_result"
    }
   ],
   "source": [
    "romance.iloc[47:52,:]"
   ]
  },
  {
   "cell_type": "code",
   "execution_count": 301,
   "id": "6ac9e744",
   "metadata": {
    "ExecuteTime": {
     "end_time": "2021-10-14T02:27:57.625490Z",
     "start_time": "2021-10-14T02:27:57.597280Z"
    }
   },
   "outputs": [],
   "source": [
    "romance = romance.reset_index(drop=True)\n",
    "romance.to_csv('romance.csv',index=False)"
   ]
  },
  {
   "cell_type": "markdown",
   "id": "f78b7827",
   "metadata": {},
   "source": [
    "### 드라마"
   ]
  },
  {
   "cell_type": "code",
   "execution_count": 184,
   "id": "22a4687f",
   "metadata": {
    "ExecuteTime": {
     "end_time": "2021-10-13T19:39:58.683603Z",
     "start_time": "2021-10-13T19:39:58.469075Z"
    }
   },
   "outputs": [],
   "source": [
    "drama = pd.concat(result)"
   ]
  },
  {
   "cell_type": "code",
   "execution_count": 192,
   "id": "51b55bb6",
   "metadata": {
    "ExecuteTime": {
     "end_time": "2021-10-13T19:42:03.269595Z",
     "start_time": "2021-10-13T19:42:03.249366Z"
    }
   },
   "outputs": [
    {
     "data": {
      "text/html": [
       "<div>\n",
       "<style scoped>\n",
       "    .dataframe tbody tr th:only-of-type {\n",
       "        vertical-align: middle;\n",
       "    }\n",
       "\n",
       "    .dataframe tbody tr th {\n",
       "        vertical-align: top;\n",
       "    }\n",
       "\n",
       "    .dataframe thead th {\n",
       "        text-align: right;\n",
       "    }\n",
       "</style>\n",
       "<table border=\"1\" class=\"dataframe\">\n",
       "  <thead>\n",
       "    <tr style=\"text-align: right;\">\n",
       "      <th></th>\n",
       "      <th>title_y</th>\n",
       "      <th>similarity</th>\n",
       "      <th>title_x</th>\n",
       "      <th>genre</th>\n",
       "    </tr>\n",
       "  </thead>\n",
       "  <tbody>\n",
       "    <tr>\n",
       "      <th>8</th>\n",
       "      <td>엔젤 오브 마인</td>\n",
       "      <td>0.788466</td>\n",
       "      <td>계절과 계절 사이</td>\n",
       "      <td>드라마</td>\n",
       "    </tr>\n",
       "    <tr>\n",
       "      <th>9</th>\n",
       "      <td>슈팅걸스</td>\n",
       "      <td>0.776903</td>\n",
       "      <td>계절과 계절 사이</td>\n",
       "      <td>드라마</td>\n",
       "    </tr>\n",
       "    <tr>\n",
       "      <th>0</th>\n",
       "      <td>1917</td>\n",
       "      <td>0.594529</td>\n",
       "      <td>고흐, 영원의 문에서</td>\n",
       "      <td>드라마</td>\n",
       "    </tr>\n",
       "    <tr>\n",
       "      <th>1</th>\n",
       "      <td>더블패티</td>\n",
       "      <td>0.573229</td>\n",
       "      <td>고흐, 영원의 문에서</td>\n",
       "      <td>드라마</td>\n",
       "    </tr>\n",
       "    <tr>\n",
       "      <th>2</th>\n",
       "      <td>아이 엠 우먼</td>\n",
       "      <td>0.568890</td>\n",
       "      <td>고흐, 영원의 문에서</td>\n",
       "      <td>드라마</td>\n",
       "    </tr>\n",
       "  </tbody>\n",
       "</table>\n",
       "</div>"
      ],
      "text/plain": [
       "    title_y  similarity      title_x genre\n",
       "8  엔젤 오브 마인    0.788466    계절과 계절 사이   드라마\n",
       "9      슈팅걸스    0.776903    계절과 계절 사이   드라마\n",
       "0      1917    0.594529  고흐, 영원의 문에서   드라마\n",
       "1      더블패티    0.573229  고흐, 영원의 문에서   드라마\n",
       "2   아이 엠 우먼    0.568890  고흐, 영원의 문에서   드라마"
      ]
     },
     "execution_count": 192,
     "metadata": {},
     "output_type": "execute_result"
    }
   ],
   "source": [
    "drama.iloc[98:103,:]"
   ]
  },
  {
   "cell_type": "code",
   "execution_count": 302,
   "id": "23fda708",
   "metadata": {
    "ExecuteTime": {
     "end_time": "2021-10-14T02:28:01.833736Z",
     "start_time": "2021-10-14T02:28:01.795107Z"
    }
   },
   "outputs": [],
   "source": [
    "drama = drama.reset_index(drop=True)\n",
    "drama.to_csv('drama.csv',index=False)"
   ]
  },
  {
   "cell_type": "markdown",
   "id": "fbb4a7af",
   "metadata": {},
   "source": [
    "### 범죄"
   ]
  },
  {
   "cell_type": "code",
   "execution_count": 208,
   "id": "653dcc87",
   "metadata": {
    "ExecuteTime": {
     "end_time": "2021-10-13T19:59:00.153876Z",
     "start_time": "2021-10-13T19:59:00.093879Z"
    }
   },
   "outputs": [],
   "source": [
    "crime = pd.concat(result)"
   ]
  },
  {
   "cell_type": "code",
   "execution_count": 212,
   "id": "29d9c97b",
   "metadata": {
    "ExecuteTime": {
     "end_time": "2021-10-13T19:59:30.509242Z",
     "start_time": "2021-10-13T19:59:30.486216Z"
    }
   },
   "outputs": [
    {
     "data": {
      "text/html": [
       "<div>\n",
       "<style scoped>\n",
       "    .dataframe tbody tr th:only-of-type {\n",
       "        vertical-align: middle;\n",
       "    }\n",
       "\n",
       "    .dataframe tbody tr th {\n",
       "        vertical-align: top;\n",
       "    }\n",
       "\n",
       "    .dataframe thead th {\n",
       "        text-align: right;\n",
       "    }\n",
       "</style>\n",
       "<table border=\"1\" class=\"dataframe\">\n",
       "  <thead>\n",
       "    <tr style=\"text-align: right;\">\n",
       "      <th></th>\n",
       "      <th>title_y</th>\n",
       "      <th>similarity</th>\n",
       "      <th>title_x</th>\n",
       "      <th>genre</th>\n",
       "    </tr>\n",
       "  </thead>\n",
       "  <tbody>\n",
       "    <tr>\n",
       "      <th>4</th>\n",
       "      <td>킬러의 보디가드 2</td>\n",
       "      <td>0.636436</td>\n",
       "      <td>나쁜 녀석들: 더 무비</td>\n",
       "      <td>범죄</td>\n",
       "    </tr>\n",
       "    <tr>\n",
       "      <th>5</th>\n",
       "      <td>디스트로이어</td>\n",
       "      <td>0.631680</td>\n",
       "      <td>나쁜 녀석들: 더 무비</td>\n",
       "      <td>범죄</td>\n",
       "    </tr>\n",
       "    <tr>\n",
       "      <th>6</th>\n",
       "      <td>에이바</td>\n",
       "      <td>0.605774</td>\n",
       "      <td>나쁜 녀석들: 더 무비</td>\n",
       "      <td>범죄</td>\n",
       "    </tr>\n",
       "    <tr>\n",
       "      <th>7</th>\n",
       "      <td>21 브릿지: 테러 셧다운</td>\n",
       "      <td>0.604939</td>\n",
       "      <td>나쁜 녀석들: 더 무비</td>\n",
       "      <td>범죄</td>\n",
       "    </tr>\n",
       "    <tr>\n",
       "      <th>8</th>\n",
       "      <td>비행</td>\n",
       "      <td>0.594132</td>\n",
       "      <td>나쁜 녀석들: 더 무비</td>\n",
       "      <td>범죄</td>\n",
       "    </tr>\n",
       "  </tbody>\n",
       "</table>\n",
       "</div>"
      ],
      "text/plain": [
       "          title_y  similarity       title_x genre\n",
       "4      킬러의 보디가드 2    0.636436  나쁜 녀석들: 더 무비    범죄\n",
       "5          디스트로이어    0.631680  나쁜 녀석들: 더 무비    범죄\n",
       "6             에이바    0.605774  나쁜 녀석들: 더 무비    범죄\n",
       "7  21 브릿지: 테러 셧다운    0.604939  나쁜 녀석들: 더 무비    범죄\n",
       "8              비행    0.594132  나쁜 녀석들: 더 무비    범죄"
      ]
     },
     "execution_count": 212,
     "metadata": {},
     "output_type": "execute_result"
    }
   ],
   "source": [
    "crime.iloc[24:29,:]"
   ]
  },
  {
   "cell_type": "code",
   "execution_count": 303,
   "id": "3fc613d5",
   "metadata": {
    "ExecuteTime": {
     "end_time": "2021-10-14T02:28:06.517226Z",
     "start_time": "2021-10-14T02:28:06.493240Z"
    }
   },
   "outputs": [],
   "source": [
    "crime = crime.reset_index(drop=True)\n",
    "crime.to_csv('crime.csv',index=False)"
   ]
  },
  {
   "cell_type": "markdown",
   "id": "b206f7f5",
   "metadata": {},
   "source": [
    "### 가족"
   ]
  },
  {
   "cell_type": "code",
   "execution_count": 224,
   "id": "a7a628a4",
   "metadata": {
    "ExecuteTime": {
     "end_time": "2021-10-13T20:11:08.935638Z",
     "start_time": "2021-10-13T20:11:08.902551Z"
    }
   },
   "outputs": [],
   "source": [
    "family = pd.concat(result)"
   ]
  },
  {
   "cell_type": "code",
   "execution_count": 225,
   "id": "a5581348",
   "metadata": {
    "ExecuteTime": {
     "end_time": "2021-10-13T20:11:10.279051Z",
     "start_time": "2021-10-13T20:11:10.263063Z"
    }
   },
   "outputs": [
    {
     "data": {
      "text/html": [
       "<div>\n",
       "<style scoped>\n",
       "    .dataframe tbody tr th:only-of-type {\n",
       "        vertical-align: middle;\n",
       "    }\n",
       "\n",
       "    .dataframe tbody tr th {\n",
       "        vertical-align: top;\n",
       "    }\n",
       "\n",
       "    .dataframe thead th {\n",
       "        text-align: right;\n",
       "    }\n",
       "</style>\n",
       "<table border=\"1\" class=\"dataframe\">\n",
       "  <thead>\n",
       "    <tr style=\"text-align: right;\">\n",
       "      <th></th>\n",
       "      <th>title_y</th>\n",
       "      <th>similarity</th>\n",
       "      <th>title_x</th>\n",
       "      <th>genre</th>\n",
       "    </tr>\n",
       "  </thead>\n",
       "  <tbody>\n",
       "    <tr>\n",
       "      <th>8</th>\n",
       "      <td>베카신!</td>\n",
       "      <td>0.779718</td>\n",
       "      <td>동키 킹</td>\n",
       "      <td>가족</td>\n",
       "    </tr>\n",
       "    <tr>\n",
       "      <th>9</th>\n",
       "      <td>구스 베이비</td>\n",
       "      <td>0.764487</td>\n",
       "      <td>동키 킹</td>\n",
       "      <td>가족</td>\n",
       "    </tr>\n",
       "    <tr>\n",
       "      <th>0</th>\n",
       "      <td>원더랜드</td>\n",
       "      <td>0.847956</td>\n",
       "      <td>라이온 킹</td>\n",
       "      <td>가족</td>\n",
       "    </tr>\n",
       "    <tr>\n",
       "      <th>1</th>\n",
       "      <td>닥터 두리틀</td>\n",
       "      <td>0.806366</td>\n",
       "      <td>라이온 킹</td>\n",
       "      <td>가족</td>\n",
       "    </tr>\n",
       "    <tr>\n",
       "      <th>2</th>\n",
       "      <td>썬키스 패밀리</td>\n",
       "      <td>0.785979</td>\n",
       "      <td>라이온 킹</td>\n",
       "      <td>가족</td>\n",
       "    </tr>\n",
       "  </tbody>\n",
       "</table>\n",
       "</div>"
      ],
      "text/plain": [
       "   title_y  similarity title_x genre\n",
       "8     베카신!    0.779718    동키 킹    가족\n",
       "9   구스 베이비    0.764487    동키 킹    가족\n",
       "0     원더랜드    0.847956   라이온 킹    가족\n",
       "1   닥터 두리틀    0.806366   라이온 킹    가족\n",
       "2  썬키스 패밀리    0.785979   라이온 킹    가족"
      ]
     },
     "execution_count": 225,
     "metadata": {},
     "output_type": "execute_result"
    }
   ],
   "source": [
    "family.iloc[98:103,:]"
   ]
  },
  {
   "cell_type": "code",
   "execution_count": 304,
   "id": "94ab137d",
   "metadata": {
    "ExecuteTime": {
     "end_time": "2021-10-14T02:28:10.128174Z",
     "start_time": "2021-10-14T02:28:10.115170Z"
    }
   },
   "outputs": [],
   "source": [
    "family = family.reset_index(drop=True)\n",
    "family.to_csv('family.csv',index=False)"
   ]
  },
  {
   "cell_type": "markdown",
   "id": "3f0b726f",
   "metadata": {},
   "source": [
    "### 코미디"
   ]
  },
  {
   "cell_type": "code",
   "execution_count": 235,
   "id": "f786c723",
   "metadata": {
    "ExecuteTime": {
     "end_time": "2021-10-13T23:50:30.719225Z",
     "start_time": "2021-10-13T23:50:30.624531Z"
    }
   },
   "outputs": [],
   "source": [
    "comedy = pd.concat(result)"
   ]
  },
  {
   "cell_type": "code",
   "execution_count": 246,
   "id": "d527fa9c",
   "metadata": {
    "ExecuteTime": {
     "end_time": "2021-10-13T23:53:23.010485Z",
     "start_time": "2021-10-13T23:53:22.994324Z"
    }
   },
   "outputs": [
    {
     "data": {
      "text/html": [
       "<div>\n",
       "<style scoped>\n",
       "    .dataframe tbody tr th:only-of-type {\n",
       "        vertical-align: middle;\n",
       "    }\n",
       "\n",
       "    .dataframe tbody tr th {\n",
       "        vertical-align: top;\n",
       "    }\n",
       "\n",
       "    .dataframe thead th {\n",
       "        text-align: right;\n",
       "    }\n",
       "</style>\n",
       "<table border=\"1\" class=\"dataframe\">\n",
       "  <thead>\n",
       "    <tr style=\"text-align: right;\">\n",
       "      <th></th>\n",
       "      <th>title_y</th>\n",
       "      <th>similarity</th>\n",
       "      <th>title_x</th>\n",
       "      <th>genre</th>\n",
       "    </tr>\n",
       "  </thead>\n",
       "  <tbody>\n",
       "    <tr>\n",
       "      <th>3</th>\n",
       "      <td>잃어버린 세계를 찾아서</td>\n",
       "      <td>0.615852</td>\n",
       "      <td>극한직업</td>\n",
       "      <td>코미디</td>\n",
       "    </tr>\n",
       "    <tr>\n",
       "      <th>4</th>\n",
       "      <td>크루엘라</td>\n",
       "      <td>0.609393</td>\n",
       "      <td>극한직업</td>\n",
       "      <td>코미디</td>\n",
       "    </tr>\n",
       "    <tr>\n",
       "      <th>5</th>\n",
       "      <td>기묘한 가족</td>\n",
       "      <td>0.605210</td>\n",
       "      <td>극한직업</td>\n",
       "      <td>코미디</td>\n",
       "    </tr>\n",
       "    <tr>\n",
       "      <th>6</th>\n",
       "      <td>슈퍼문</td>\n",
       "      <td>0.600795</td>\n",
       "      <td>극한직업</td>\n",
       "      <td>코미디</td>\n",
       "    </tr>\n",
       "    <tr>\n",
       "      <th>7</th>\n",
       "      <td>내 사랑 찾기</td>\n",
       "      <td>0.582706</td>\n",
       "      <td>극한직업</td>\n",
       "      <td>코미디</td>\n",
       "    </tr>\n",
       "  </tbody>\n",
       "</table>\n",
       "</div>"
      ],
      "text/plain": [
       "        title_y  similarity title_x genre\n",
       "3  잃어버린 세계를 찾아서    0.615852    극한직업   코미디\n",
       "4          크루엘라    0.609393    극한직업   코미디\n",
       "5        기묘한 가족    0.605210    극한직업   코미디\n",
       "6           슈퍼문    0.600795    극한직업   코미디\n",
       "7       내 사랑 찾기    0.582706    극한직업   코미디"
      ]
     },
     "execution_count": 246,
     "metadata": {},
     "output_type": "execute_result"
    }
   ],
   "source": [
    "comedy.iloc[133:138,:]"
   ]
  },
  {
   "cell_type": "code",
   "execution_count": 305,
   "id": "41cbc122",
   "metadata": {
    "ExecuteTime": {
     "end_time": "2021-10-14T02:28:13.130651Z",
     "start_time": "2021-10-14T02:28:13.098062Z"
    }
   },
   "outputs": [],
   "source": [
    "comedy = comedy.reset_index(drop=True)\n",
    "comedy.to_csv('comedy.csv',index=False)"
   ]
  },
  {
   "cell_type": "markdown",
   "id": "2d72eaaa",
   "metadata": {},
   "source": [
    "### 액션"
   ]
  },
  {
   "cell_type": "code",
   "execution_count": 256,
   "id": "373355ae",
   "metadata": {
    "ExecuteTime": {
     "end_time": "2021-10-14T00:35:42.363629Z",
     "start_time": "2021-10-14T00:35:42.152107Z"
    }
   },
   "outputs": [],
   "source": [
    "action = pd.concat(result)"
   ]
  },
  {
   "cell_type": "code",
   "execution_count": 261,
   "id": "143f6763",
   "metadata": {
    "ExecuteTime": {
     "end_time": "2021-10-14T00:36:32.765494Z",
     "start_time": "2021-10-14T00:36:32.749467Z"
    }
   },
   "outputs": [
    {
     "data": {
      "text/html": [
       "<div>\n",
       "<style scoped>\n",
       "    .dataframe tbody tr th:only-of-type {\n",
       "        vertical-align: middle;\n",
       "    }\n",
       "\n",
       "    .dataframe tbody tr th {\n",
       "        vertical-align: top;\n",
       "    }\n",
       "\n",
       "    .dataframe thead th {\n",
       "        text-align: right;\n",
       "    }\n",
       "</style>\n",
       "<table border=\"1\" class=\"dataframe\">\n",
       "  <thead>\n",
       "    <tr style=\"text-align: right;\">\n",
       "      <th></th>\n",
       "      <th>title_y</th>\n",
       "      <th>similarity</th>\n",
       "      <th>title_x</th>\n",
       "      <th>genre</th>\n",
       "    </tr>\n",
       "  </thead>\n",
       "  <tbody>\n",
       "    <tr>\n",
       "      <th>0</th>\n",
       "      <td>카르텔 2045</td>\n",
       "      <td>0.781806</td>\n",
       "      <td>고검기담: 소명신검의 부활</td>\n",
       "      <td>액션</td>\n",
       "    </tr>\n",
       "    <tr>\n",
       "      <th>1</th>\n",
       "      <td>척살대</td>\n",
       "      <td>0.775853</td>\n",
       "      <td>고검기담: 소명신검의 부활</td>\n",
       "      <td>액션</td>\n",
       "    </tr>\n",
       "    <tr>\n",
       "      <th>2</th>\n",
       "      <td>몬스터 가디언즈</td>\n",
       "      <td>0.770202</td>\n",
       "      <td>고검기담: 소명신검의 부활</td>\n",
       "      <td>액션</td>\n",
       "    </tr>\n",
       "    <tr>\n",
       "      <th>3</th>\n",
       "      <td>나치 오버로드</td>\n",
       "      <td>0.749156</td>\n",
       "      <td>고검기담: 소명신검의 부활</td>\n",
       "      <td>액션</td>\n",
       "    </tr>\n",
       "    <tr>\n",
       "      <th>4</th>\n",
       "      <td>잘리카투</td>\n",
       "      <td>0.694453</td>\n",
       "      <td>고검기담: 소명신검의 부활</td>\n",
       "      <td>액션</td>\n",
       "    </tr>\n",
       "  </tbody>\n",
       "</table>\n",
       "</div>"
      ],
      "text/plain": [
       "    title_y  similarity         title_x genre\n",
       "0  카르텔 2045    0.781806  고검기담: 소명신검의 부활    액션\n",
       "1       척살대    0.775853  고검기담: 소명신검의 부활    액션\n",
       "2  몬스터 가디언즈    0.770202  고검기담: 소명신검의 부활    액션\n",
       "3   나치 오버로드    0.749156  고검기담: 소명신검의 부활    액션\n",
       "4      잘리카투    0.694453  고검기담: 소명신검의 부활    액션"
      ]
     },
     "execution_count": 261,
     "metadata": {},
     "output_type": "execute_result"
    }
   ],
   "source": [
    "action.iloc[40:45,:]"
   ]
  },
  {
   "cell_type": "code",
   "execution_count": 306,
   "id": "70599f5d",
   "metadata": {
    "ExecuteTime": {
     "end_time": "2021-10-14T02:28:16.116825Z",
     "start_time": "2021-10-14T02:28:16.082804Z"
    }
   },
   "outputs": [],
   "source": [
    "action = action.reset_index(drop=True)\n",
    "action.to_csv('action.csv',index=False)"
   ]
  },
  {
   "cell_type": "markdown",
   "id": "0059926e",
   "metadata": {},
   "source": [
    "### 스릴러"
   ]
  },
  {
   "cell_type": "code",
   "execution_count": 271,
   "id": "4cb7ad79",
   "metadata": {
    "ExecuteTime": {
     "end_time": "2021-10-14T01:37:04.387988Z",
     "start_time": "2021-10-14T01:37:04.270918Z"
    }
   },
   "outputs": [],
   "source": [
    "thriller= pd.concat(result)"
   ]
  },
  {
   "cell_type": "code",
   "execution_count": 272,
   "id": "ddf96de5",
   "metadata": {
    "ExecuteTime": {
     "end_time": "2021-10-14T01:37:05.961841Z",
     "start_time": "2021-10-14T01:37:05.933170Z"
    }
   },
   "outputs": [
    {
     "data": {
      "text/html": [
       "<div>\n",
       "<style scoped>\n",
       "    .dataframe tbody tr th:only-of-type {\n",
       "        vertical-align: middle;\n",
       "    }\n",
       "\n",
       "    .dataframe tbody tr th {\n",
       "        vertical-align: top;\n",
       "    }\n",
       "\n",
       "    .dataframe thead th {\n",
       "        text-align: right;\n",
       "    }\n",
       "</style>\n",
       "<table border=\"1\" class=\"dataframe\">\n",
       "  <thead>\n",
       "    <tr style=\"text-align: right;\">\n",
       "      <th></th>\n",
       "      <th>title_y</th>\n",
       "      <th>similarity</th>\n",
       "      <th>title_x</th>\n",
       "      <th>genre</th>\n",
       "    </tr>\n",
       "  </thead>\n",
       "  <tbody>\n",
       "    <tr>\n",
       "      <th>8</th>\n",
       "      <td>목격자들 5번의 살인</td>\n",
       "      <td>0.056162</td>\n",
       "      <td>나노 테러리즘: CIA 비밀요원</td>\n",
       "      <td>스릴러</td>\n",
       "    </tr>\n",
       "    <tr>\n",
       "      <th>9</th>\n",
       "      <td>라플라스의 마녀</td>\n",
       "      <td>0.056131</td>\n",
       "      <td>나노 테러리즘: CIA 비밀요원</td>\n",
       "      <td>스릴러</td>\n",
       "    </tr>\n",
       "    <tr>\n",
       "      <th>0</th>\n",
       "      <td>에브리타임 아이 다이</td>\n",
       "      <td>0.611840</td>\n",
       "      <td>나를 찾아줘</td>\n",
       "      <td>스릴러</td>\n",
       "    </tr>\n",
       "    <tr>\n",
       "      <th>1</th>\n",
       "      <td>사냥의 시간</td>\n",
       "      <td>0.607749</td>\n",
       "      <td>나를 찾아줘</td>\n",
       "      <td>스릴러</td>\n",
       "    </tr>\n",
       "    <tr>\n",
       "      <th>2</th>\n",
       "      <td>팬데믹</td>\n",
       "      <td>0.571659</td>\n",
       "      <td>나를 찾아줘</td>\n",
       "      <td>스릴러</td>\n",
       "    </tr>\n",
       "  </tbody>\n",
       "</table>\n",
       "</div>"
      ],
      "text/plain": [
       "       title_y  similarity            title_x genre\n",
       "8  목격자들 5번의 살인    0.056162  나노 테러리즘: CIA 비밀요원   스릴러\n",
       "9     라플라스의 마녀    0.056131  나노 테러리즘: CIA 비밀요원   스릴러\n",
       "0  에브리타임 아이 다이    0.611840             나를 찾아줘   스릴러\n",
       "1       사냥의 시간    0.607749             나를 찾아줘   스릴러\n",
       "2          팬데믹    0.571659             나를 찾아줘   스릴러"
      ]
     },
     "execution_count": 272,
     "metadata": {},
     "output_type": "execute_result"
    }
   ],
   "source": [
    "thriller.iloc[98:103,:]"
   ]
  },
  {
   "cell_type": "code",
   "execution_count": 307,
   "id": "2f322a40",
   "metadata": {
    "ExecuteTime": {
     "end_time": "2021-10-14T02:28:18.980861Z",
     "start_time": "2021-10-14T02:28:18.945864Z"
    }
   },
   "outputs": [],
   "source": [
    "thriller = thriller.reset_index(drop=True)\n",
    "thriller.to_csv('thriller.csv',index=False)"
   ]
  },
  {
   "cell_type": "markdown",
   "id": "17ed595a",
   "metadata": {},
   "source": [
    "### 애니메이션"
   ]
  },
  {
   "cell_type": "code",
   "execution_count": 283,
   "id": "5d7a0bf3",
   "metadata": {
    "ExecuteTime": {
     "end_time": "2021-10-14T02:03:27.870177Z",
     "start_time": "2021-10-14T02:03:27.798210Z"
    }
   },
   "outputs": [],
   "source": [
    "animation= pd.concat(result)"
   ]
  },
  {
   "cell_type": "code",
   "execution_count": 287,
   "id": "ced51448",
   "metadata": {
    "ExecuteTime": {
     "end_time": "2021-10-14T02:04:05.463283Z",
     "start_time": "2021-10-14T02:04:05.442288Z"
    }
   },
   "outputs": [
    {
     "data": {
      "text/html": [
       "<div>\n",
       "<style scoped>\n",
       "    .dataframe tbody tr th:only-of-type {\n",
       "        vertical-align: middle;\n",
       "    }\n",
       "\n",
       "    .dataframe tbody tr th {\n",
       "        vertical-align: top;\n",
       "    }\n",
       "\n",
       "    .dataframe thead th {\n",
       "        text-align: right;\n",
       "    }\n",
       "</style>\n",
       "<table border=\"1\" class=\"dataframe\">\n",
       "  <thead>\n",
       "    <tr style=\"text-align: right;\">\n",
       "      <th></th>\n",
       "      <th>title_y</th>\n",
       "      <th>similarity</th>\n",
       "      <th>title_x</th>\n",
       "      <th>genre</th>\n",
       "    </tr>\n",
       "  </thead>\n",
       "  <tbody>\n",
       "    <tr>\n",
       "      <th>2</th>\n",
       "      <td>신밧드와 마법 양탄자</td>\n",
       "      <td>0.904160</td>\n",
       "      <td>고릴라와 슈퍼레이스</td>\n",
       "      <td>애니메이션</td>\n",
       "    </tr>\n",
       "    <tr>\n",
       "      <th>3</th>\n",
       "      <td>모험왕 블링키</td>\n",
       "      <td>0.890328</td>\n",
       "      <td>고릴라와 슈퍼레이스</td>\n",
       "      <td>애니메이션</td>\n",
       "    </tr>\n",
       "    <tr>\n",
       "      <th>4</th>\n",
       "      <td>헬로 몽키</td>\n",
       "      <td>0.879091</td>\n",
       "      <td>고릴라와 슈퍼레이스</td>\n",
       "      <td>애니메이션</td>\n",
       "    </tr>\n",
       "    <tr>\n",
       "      <th>5</th>\n",
       "      <td>동키 킹</td>\n",
       "      <td>0.865685</td>\n",
       "      <td>고릴라와 슈퍼레이스</td>\n",
       "      <td>애니메이션</td>\n",
       "    </tr>\n",
       "    <tr>\n",
       "      <th>6</th>\n",
       "      <td>똑딱똑딱 마법의 시계나라</td>\n",
       "      <td>0.858593</td>\n",
       "      <td>고릴라와 슈퍼레이스</td>\n",
       "      <td>애니메이션</td>\n",
       "    </tr>\n",
       "  </tbody>\n",
       "</table>\n",
       "</div>"
      ],
      "text/plain": [
       "         title_y  similarity     title_x  genre\n",
       "2    신밧드와 마법 양탄자    0.904160  고릴라와 슈퍼레이스  애니메이션\n",
       "3        모험왕 블링키    0.890328  고릴라와 슈퍼레이스  애니메이션\n",
       "4          헬로 몽키    0.879091  고릴라와 슈퍼레이스  애니메이션\n",
       "5           동키 킹    0.865685  고릴라와 슈퍼레이스  애니메이션\n",
       "6  똑딱똑딱 마법의 시계나라    0.858593  고릴라와 슈퍼레이스  애니메이션"
      ]
     },
     "execution_count": 287,
     "metadata": {},
     "output_type": "execute_result"
    }
   ],
   "source": [
    "animation.iloc[12:17,:]"
   ]
  },
  {
   "cell_type": "code",
   "execution_count": 308,
   "id": "bedfedf1",
   "metadata": {
    "ExecuteTime": {
     "end_time": "2021-10-14T02:28:21.708342Z",
     "start_time": "2021-10-14T02:28:21.691309Z"
    }
   },
   "outputs": [],
   "source": [
    "animation = animation.reset_index(drop=True)\n",
    "animation.to_csv('animation.csv',index=False)"
   ]
  },
  {
   "cell_type": "markdown",
   "id": "1f0d5f12",
   "metadata": {},
   "source": [
    "### 모험"
   ]
  },
  {
   "cell_type": "code",
   "execution_count": 297,
   "id": "cc7795c8",
   "metadata": {
    "ExecuteTime": {
     "end_time": "2021-10-14T02:22:42.989511Z",
     "start_time": "2021-10-14T02:22:42.941435Z"
    }
   },
   "outputs": [],
   "source": [
    "adventure= pd.concat(result)"
   ]
  },
  {
   "cell_type": "code",
   "execution_count": 298,
   "id": "be803ded",
   "metadata": {
    "ExecuteTime": {
     "end_time": "2021-10-14T02:22:44.203172Z",
     "start_time": "2021-10-14T02:22:44.191140Z"
    }
   },
   "outputs": [
    {
     "data": {
      "text/html": [
       "<div>\n",
       "<style scoped>\n",
       "    .dataframe tbody tr th:only-of-type {\n",
       "        vertical-align: middle;\n",
       "    }\n",
       "\n",
       "    .dataframe tbody tr th {\n",
       "        vertical-align: top;\n",
       "    }\n",
       "\n",
       "    .dataframe thead th {\n",
       "        text-align: right;\n",
       "    }\n",
       "</style>\n",
       "<table border=\"1\" class=\"dataframe\">\n",
       "  <thead>\n",
       "    <tr style=\"text-align: right;\">\n",
       "      <th></th>\n",
       "      <th>title_y</th>\n",
       "      <th>similarity</th>\n",
       "      <th>title_x</th>\n",
       "      <th>genre</th>\n",
       "    </tr>\n",
       "  </thead>\n",
       "  <tbody>\n",
       "    <tr>\n",
       "      <th>8</th>\n",
       "      <td>툼 인베이더</td>\n",
       "      <td>0.584473</td>\n",
       "      <td>레드슈즈</td>\n",
       "      <td>모험</td>\n",
       "    </tr>\n",
       "    <tr>\n",
       "      <th>9</th>\n",
       "      <td>극장판 도라에몽: 진구의 신공룡</td>\n",
       "      <td>0.576830</td>\n",
       "      <td>레드슈즈</td>\n",
       "      <td>모험</td>\n",
       "    </tr>\n",
       "    <tr>\n",
       "      <th>0</th>\n",
       "      <td>기묘한 이야기: 리플레이</td>\n",
       "      <td>0.882317</td>\n",
       "      <td>리노</td>\n",
       "      <td>모험</td>\n",
       "    </tr>\n",
       "    <tr>\n",
       "      <th>1</th>\n",
       "      <td>체크 히어로</td>\n",
       "      <td>0.877668</td>\n",
       "      <td>리노</td>\n",
       "      <td>모험</td>\n",
       "    </tr>\n",
       "    <tr>\n",
       "      <th>2</th>\n",
       "      <td>플레이모빌: 더 무비</td>\n",
       "      <td>0.793840</td>\n",
       "      <td>리노</td>\n",
       "      <td>모험</td>\n",
       "    </tr>\n",
       "  </tbody>\n",
       "</table>\n",
       "</div>"
      ],
      "text/plain": [
       "             title_y  similarity title_x genre\n",
       "8             툼 인베이더    0.584473    레드슈즈    모험\n",
       "9  극장판 도라에몽: 진구의 신공룡    0.576830    레드슈즈    모험\n",
       "0      기묘한 이야기: 리플레이    0.882317      리노    모험\n",
       "1             체크 히어로    0.877668      리노    모험\n",
       "2        플레이모빌: 더 무비    0.793840      리노    모험"
      ]
     },
     "execution_count": 298,
     "metadata": {},
     "output_type": "execute_result"
    }
   ],
   "source": [
    "adventure.iloc[98:103,:]"
   ]
  },
  {
   "cell_type": "code",
   "execution_count": 309,
   "id": "28500e3b",
   "metadata": {
    "ExecuteTime": {
     "end_time": "2021-10-14T02:28:25.192417Z",
     "start_time": "2021-10-14T02:28:25.171387Z"
    }
   },
   "outputs": [],
   "source": [
    "adventure = adventure.reset_index(drop=True)\n",
    "adventure.to_csv('adventure.csv',index=False)"
   ]
  },
  {
   "cell_type": "markdown",
   "id": "21d14cd8",
   "metadata": {},
   "source": [
    "---"
   ]
  },
  {
   "cell_type": "markdown",
   "id": "68eede99",
   "metadata": {},
   "source": [
    "### 미스터리"
   ]
  },
  {
   "cell_type": "code",
   "execution_count": 319,
   "id": "4edbdc81",
   "metadata": {
    "ExecuteTime": {
     "end_time": "2021-10-14T02:36:00.345790Z",
     "start_time": "2021-10-14T02:36:00.300795Z"
    }
   },
   "outputs": [],
   "source": [
    "mystery= pd.concat(result)"
   ]
  },
  {
   "cell_type": "code",
   "execution_count": 323,
   "id": "325eb393",
   "metadata": {
    "ExecuteTime": {
     "end_time": "2021-10-14T02:36:31.547311Z",
     "start_time": "2021-10-14T02:36:31.528756Z"
    }
   },
   "outputs": [
    {
     "data": {
      "text/html": [
       "<div>\n",
       "<style scoped>\n",
       "    .dataframe tbody tr th:only-of-type {\n",
       "        vertical-align: middle;\n",
       "    }\n",
       "\n",
       "    .dataframe tbody tr th {\n",
       "        vertical-align: top;\n",
       "    }\n",
       "\n",
       "    .dataframe thead th {\n",
       "        text-align: right;\n",
       "    }\n",
       "</style>\n",
       "<table border=\"1\" class=\"dataframe\">\n",
       "  <thead>\n",
       "    <tr style=\"text-align: right;\">\n",
       "      <th></th>\n",
       "      <th>title_y</th>\n",
       "      <th>similarity</th>\n",
       "      <th>title_x</th>\n",
       "      <th>genre</th>\n",
       "    </tr>\n",
       "  </thead>\n",
       "  <tbody>\n",
       "    <tr>\n",
       "      <th>25</th>\n",
       "      <td>프로페서 앤 매드맨</td>\n",
       "      <td>0.672261</td>\n",
       "      <td>노벰버 크리미널즈</td>\n",
       "      <td>미스터리</td>\n",
       "    </tr>\n",
       "    <tr>\n",
       "      <th>26</th>\n",
       "      <td>블러드하운드</td>\n",
       "      <td>0.671214</td>\n",
       "      <td>노벰버 크리미널즈</td>\n",
       "      <td>미스터리</td>\n",
       "    </tr>\n",
       "    <tr>\n",
       "      <th>27</th>\n",
       "      <td>비블리아 고서당 사건수첩</td>\n",
       "      <td>0.669880</td>\n",
       "      <td>노벰버 크리미널즈</td>\n",
       "      <td>미스터리</td>\n",
       "    </tr>\n",
       "    <tr>\n",
       "      <th>28</th>\n",
       "      <td>오시로가의 비밀</td>\n",
       "      <td>0.662793</td>\n",
       "      <td>노벰버 크리미널즈</td>\n",
       "      <td>미스터리</td>\n",
       "    </tr>\n",
       "    <tr>\n",
       "      <th>29</th>\n",
       "      <td>파리의 딜릴리</td>\n",
       "      <td>0.649068</td>\n",
       "      <td>노벰버 크리미널즈</td>\n",
       "      <td>미스터리</td>\n",
       "    </tr>\n",
       "  </tbody>\n",
       "</table>\n",
       "</div>"
      ],
      "text/plain": [
       "          title_y  similarity    title_x genre\n",
       "25     프로페서 앤 매드맨    0.672261  노벰버 크리미널즈  미스터리\n",
       "26         블러드하운드    0.671214  노벰버 크리미널즈  미스터리\n",
       "27  비블리아 고서당 사건수첩    0.669880  노벰버 크리미널즈  미스터리\n",
       "28       오시로가의 비밀    0.662793  노벰버 크리미널즈  미스터리\n",
       "29        파리의 딜릴리    0.649068  노벰버 크리미널즈  미스터리"
      ]
     },
     "execution_count": 323,
     "metadata": {},
     "output_type": "execute_result"
    }
   ],
   "source": [
    "mystery.iloc[25:30,:]"
   ]
  },
  {
   "cell_type": "code",
   "execution_count": 321,
   "id": "d3e53fc8",
   "metadata": {
    "ExecuteTime": {
     "end_time": "2021-10-14T02:36:04.160130Z",
     "start_time": "2021-10-14T02:36:04.133176Z"
    }
   },
   "outputs": [],
   "source": [
    "mystery = mystery.reset_index(drop=True)\n",
    "mystery.to_csv('mystery.csv',index=False)"
   ]
  },
  {
   "cell_type": "markdown",
   "id": "c832f90f",
   "metadata": {},
   "source": [
    "### SF"
   ]
  },
  {
   "cell_type": "code",
   "execution_count": 333,
   "id": "a3177c8d",
   "metadata": {
    "ExecuteTime": {
     "end_time": "2021-10-14T02:47:55.175751Z",
     "start_time": "2021-10-14T02:47:55.129717Z"
    }
   },
   "outputs": [],
   "source": [
    "sf= pd.concat(result)"
   ]
  },
  {
   "cell_type": "code",
   "execution_count": 334,
   "id": "2ec9b445",
   "metadata": {
    "ExecuteTime": {
     "end_time": "2021-10-14T02:47:56.916363Z",
     "start_time": "2021-10-14T02:47:56.896276Z"
    }
   },
   "outputs": [
    {
     "data": {
      "text/html": [
       "<div>\n",
       "<style scoped>\n",
       "    .dataframe tbody tr th:only-of-type {\n",
       "        vertical-align: middle;\n",
       "    }\n",
       "\n",
       "    .dataframe tbody tr th {\n",
       "        vertical-align: top;\n",
       "    }\n",
       "\n",
       "    .dataframe thead th {\n",
       "        text-align: right;\n",
       "    }\n",
       "</style>\n",
       "<table border=\"1\" class=\"dataframe\">\n",
       "  <thead>\n",
       "    <tr style=\"text-align: right;\">\n",
       "      <th></th>\n",
       "      <th>title_y</th>\n",
       "      <th>similarity</th>\n",
       "      <th>title_x</th>\n",
       "      <th>genre</th>\n",
       "    </tr>\n",
       "  </thead>\n",
       "  <tbody>\n",
       "    <tr>\n",
       "      <th>8</th>\n",
       "      <td>포제서</td>\n",
       "      <td>0.730940</td>\n",
       "      <td>몬스터 가디언즈</td>\n",
       "      <td>SF</td>\n",
       "    </tr>\n",
       "    <tr>\n",
       "      <th>9</th>\n",
       "      <td>심장소리</td>\n",
       "      <td>0.709116</td>\n",
       "      <td>몬스터 가디언즈</td>\n",
       "      <td>SF</td>\n",
       "    </tr>\n",
       "    <tr>\n",
       "      <th>0</th>\n",
       "      <td>더 수어사이드 스쿼드</td>\n",
       "      <td>0.525683</td>\n",
       "      <td>샤잠!</td>\n",
       "      <td>SF</td>\n",
       "    </tr>\n",
       "    <tr>\n",
       "      <th>1</th>\n",
       "      <td>캡틴 마블</td>\n",
       "      <td>0.510713</td>\n",
       "      <td>샤잠!</td>\n",
       "      <td>SF</td>\n",
       "    </tr>\n",
       "    <tr>\n",
       "      <th>2</th>\n",
       "      <td>마션 인베이션</td>\n",
       "      <td>0.508875</td>\n",
       "      <td>샤잠!</td>\n",
       "      <td>SF</td>\n",
       "    </tr>\n",
       "  </tbody>\n",
       "</table>\n",
       "</div>"
      ],
      "text/plain": [
       "       title_y  similarity   title_x genre\n",
       "8          포제서    0.730940  몬스터 가디언즈    SF\n",
       "9         심장소리    0.709116  몬스터 가디언즈    SF\n",
       "0  더 수어사이드 스쿼드    0.525683       샤잠!    SF\n",
       "1        캡틴 마블    0.510713       샤잠!    SF\n",
       "2      마션 인베이션    0.508875       샤잠!    SF"
      ]
     },
     "execution_count": 334,
     "metadata": {},
     "output_type": "execute_result"
    }
   ],
   "source": [
    "sf.iloc[98:103,:]"
   ]
  },
  {
   "cell_type": "code",
   "execution_count": 335,
   "id": "be95dccc",
   "metadata": {
    "ExecuteTime": {
     "end_time": "2021-10-14T02:48:02.786769Z",
     "start_time": "2021-10-14T02:48:02.766683Z"
    }
   },
   "outputs": [],
   "source": [
    "sf = sf.reset_index(drop=True)\n",
    "sf.to_csv('sf.csv',index=False)"
   ]
  },
  {
   "cell_type": "markdown",
   "id": "2019a93c",
   "metadata": {},
   "source": [
    "### 전쟁"
   ]
  },
  {
   "cell_type": "code",
   "execution_count": 345,
   "id": "99dcc8e2",
   "metadata": {
    "ExecuteTime": {
     "end_time": "2021-10-14T02:50:28.479055Z",
     "start_time": "2021-10-14T02:50:28.451016Z"
    }
   },
   "outputs": [],
   "source": [
    "war= pd.concat(result)"
   ]
  },
  {
   "cell_type": "code",
   "execution_count": 346,
   "id": "5d58b573",
   "metadata": {
    "ExecuteTime": {
     "end_time": "2021-10-14T02:50:29.413526Z",
     "start_time": "2021-10-14T02:50:29.401582Z"
    }
   },
   "outputs": [
    {
     "data": {
      "text/html": [
       "<div>\n",
       "<style scoped>\n",
       "    .dataframe tbody tr th:only-of-type {\n",
       "        vertical-align: middle;\n",
       "    }\n",
       "\n",
       "    .dataframe tbody tr th {\n",
       "        vertical-align: top;\n",
       "    }\n",
       "\n",
       "    .dataframe thead th {\n",
       "        text-align: right;\n",
       "    }\n",
       "</style>\n",
       "<table border=\"1\" class=\"dataframe\">\n",
       "  <thead>\n",
       "    <tr style=\"text-align: right;\">\n",
       "      <th></th>\n",
       "      <th>title_y</th>\n",
       "      <th>similarity</th>\n",
       "      <th>title_x</th>\n",
       "      <th>genre</th>\n",
       "    </tr>\n",
       "  </thead>\n",
       "  <tbody>\n",
       "    <tr>\n",
       "      <th>8</th>\n",
       "      <td>패트리어트 워</td>\n",
       "      <td>0.749042</td>\n",
       "      <td>솔져스 메모리</td>\n",
       "      <td>전쟁</td>\n",
       "    </tr>\n",
       "    <tr>\n",
       "      <th>9</th>\n",
       "      <td>1917</td>\n",
       "      <td>0.746085</td>\n",
       "      <td>솔져스 메모리</td>\n",
       "      <td>전쟁</td>\n",
       "    </tr>\n",
       "    <tr>\n",
       "      <th>0</th>\n",
       "      <td>바이킹 워</td>\n",
       "      <td>0.941131</td>\n",
       "      <td>스페셜 솔져</td>\n",
       "      <td>전쟁</td>\n",
       "    </tr>\n",
       "    <tr>\n",
       "      <th>1</th>\n",
       "      <td>터키쉬 아이스크림</td>\n",
       "      <td>0.930223</td>\n",
       "      <td>스페셜 솔져</td>\n",
       "      <td>전쟁</td>\n",
       "    </tr>\n",
       "    <tr>\n",
       "      <th>2</th>\n",
       "      <td>패트리어트 워</td>\n",
       "      <td>0.922119</td>\n",
       "      <td>스페셜 솔져</td>\n",
       "      <td>전쟁</td>\n",
       "    </tr>\n",
       "  </tbody>\n",
       "</table>\n",
       "</div>"
      ],
      "text/plain": [
       "     title_y  similarity  title_x genre\n",
       "8    패트리어트 워    0.749042  솔져스 메모리    전쟁\n",
       "9       1917    0.746085  솔져스 메모리    전쟁\n",
       "0      바이킹 워    0.941131   스페셜 솔져    전쟁\n",
       "1  터키쉬 아이스크림    0.930223   스페셜 솔져    전쟁\n",
       "2    패트리어트 워    0.922119   스페셜 솔져    전쟁"
      ]
     },
     "execution_count": 346,
     "metadata": {},
     "output_type": "execute_result"
    }
   ],
   "source": [
    "war.iloc[98:103,:]"
   ]
  },
  {
   "cell_type": "code",
   "execution_count": 347,
   "id": "cdb91277",
   "metadata": {
    "ExecuteTime": {
     "end_time": "2021-10-14T02:50:30.442158Z",
     "start_time": "2021-10-14T02:50:30.421201Z"
    }
   },
   "outputs": [],
   "source": [
    "war = war.reset_index(drop=True)\n",
    "war.to_csv('war.csv',index=False)"
   ]
  },
  {
   "cell_type": "markdown",
   "id": "49a90244",
   "metadata": {},
   "source": [
    "### 판타지"
   ]
  },
  {
   "cell_type": "code",
   "execution_count": 357,
   "id": "99451b28",
   "metadata": {
    "ExecuteTime": {
     "end_time": "2021-10-14T03:06:24.394528Z",
     "start_time": "2021-10-14T03:06:24.348888Z"
    }
   },
   "outputs": [],
   "source": [
    "fantasy= pd.concat(result)"
   ]
  },
  {
   "cell_type": "code",
   "execution_count": 366,
   "id": "99030818",
   "metadata": {
    "ExecuteTime": {
     "end_time": "2021-10-14T03:07:36.281086Z",
     "start_time": "2021-10-14T03:07:36.268054Z"
    }
   },
   "outputs": [
    {
     "data": {
      "text/html": [
       "<div>\n",
       "<style scoped>\n",
       "    .dataframe tbody tr th:only-of-type {\n",
       "        vertical-align: middle;\n",
       "    }\n",
       "\n",
       "    .dataframe tbody tr th {\n",
       "        vertical-align: top;\n",
       "    }\n",
       "\n",
       "    .dataframe thead th {\n",
       "        text-align: right;\n",
       "    }\n",
       "</style>\n",
       "<table border=\"1\" class=\"dataframe\">\n",
       "  <thead>\n",
       "    <tr style=\"text-align: right;\">\n",
       "      <th></th>\n",
       "      <th>title_y</th>\n",
       "      <th>similarity</th>\n",
       "      <th>title_x</th>\n",
       "      <th>genre</th>\n",
       "    </tr>\n",
       "  </thead>\n",
       "  <tbody>\n",
       "    <tr>\n",
       "      <th>80</th>\n",
       "      <td>드래곤 빌리지</td>\n",
       "      <td>0.612016</td>\n",
       "      <td>덤보</td>\n",
       "      <td>판타지</td>\n",
       "    </tr>\n",
       "    <tr>\n",
       "      <th>81</th>\n",
       "      <td>사자</td>\n",
       "      <td>0.550013</td>\n",
       "      <td>덤보</td>\n",
       "      <td>판타지</td>\n",
       "    </tr>\n",
       "    <tr>\n",
       "      <th>82</th>\n",
       "      <td>적인걸6 - 집요술사</td>\n",
       "      <td>0.545669</td>\n",
       "      <td>덤보</td>\n",
       "      <td>판타지</td>\n",
       "    </tr>\n",
       "    <tr>\n",
       "      <th>83</th>\n",
       "      <td>킹 아더 카멜롯의 기사</td>\n",
       "      <td>0.542180</td>\n",
       "      <td>덤보</td>\n",
       "      <td>판타지</td>\n",
       "    </tr>\n",
       "    <tr>\n",
       "      <th>84</th>\n",
       "      <td>영화로운 나날</td>\n",
       "      <td>0.539652</td>\n",
       "      <td>덤보</td>\n",
       "      <td>판타지</td>\n",
       "    </tr>\n",
       "  </tbody>\n",
       "</table>\n",
       "</div>"
      ],
      "text/plain": [
       "         title_y  similarity title_x genre\n",
       "80       드래곤 빌리지    0.612016      덤보   판타지\n",
       "81            사자    0.550013      덤보   판타지\n",
       "82   적인걸6 - 집요술사    0.545669      덤보   판타지\n",
       "83  킹 아더 카멜롯의 기사    0.542180      덤보   판타지\n",
       "84       영화로운 나날    0.539652      덤보   판타지"
      ]
     },
     "execution_count": 366,
     "metadata": {},
     "output_type": "execute_result"
    }
   ],
   "source": [
    "fantasy.iloc[80:85,:]"
   ]
  },
  {
   "cell_type": "code",
   "execution_count": 360,
   "id": "a7307b3b",
   "metadata": {
    "ExecuteTime": {
     "end_time": "2021-10-14T03:06:32.384312Z",
     "start_time": "2021-10-14T03:06:32.357136Z"
    }
   },
   "outputs": [],
   "source": [
    "fantasy = fantasy.reset_index(drop=True)\n",
    "fantasy.to_csv('fantasy.csv',index=False)"
   ]
  },
  {
   "cell_type": "markdown",
   "id": "146de38c",
   "metadata": {},
   "source": [
    "### 서스펜스"
   ]
  },
  {
   "cell_type": "code",
   "execution_count": 376,
   "id": "2a758a79",
   "metadata": {
    "ExecuteTime": {
     "end_time": "2021-10-14T03:09:25.270917Z",
     "start_time": "2021-10-14T03:09:25.259298Z"
    }
   },
   "outputs": [],
   "source": [
    "suspense= pd.concat(result)"
   ]
  },
  {
   "cell_type": "code",
   "execution_count": 387,
   "id": "9c40da84",
   "metadata": {
    "ExecuteTime": {
     "end_time": "2021-10-14T03:11:54.320508Z",
     "start_time": "2021-10-14T03:11:54.306509Z"
    }
   },
   "outputs": [
    {
     "data": {
      "text/html": [
       "<div>\n",
       "<style scoped>\n",
       "    .dataframe tbody tr th:only-of-type {\n",
       "        vertical-align: middle;\n",
       "    }\n",
       "\n",
       "    .dataframe tbody tr th {\n",
       "        vertical-align: top;\n",
       "    }\n",
       "\n",
       "    .dataframe thead th {\n",
       "        text-align: right;\n",
       "    }\n",
       "</style>\n",
       "<table border=\"1\" class=\"dataframe\">\n",
       "  <thead>\n",
       "    <tr style=\"text-align: right;\">\n",
       "      <th></th>\n",
       "      <th>title_y</th>\n",
       "      <th>similarity</th>\n",
       "      <th>title_x</th>\n",
       "      <th>genre</th>\n",
       "    </tr>\n",
       "  </thead>\n",
       "  <tbody>\n",
       "    <tr>\n",
       "      <th>1</th>\n",
       "      <td>신문기자</td>\n",
       "      <td>-0.104747</td>\n",
       "      <td>신영웅문 : 천년의 비밀</td>\n",
       "      <td>서스펜스</td>\n",
       "    </tr>\n",
       "    <tr>\n",
       "      <th>2</th>\n",
       "      <td>좋은 사람</td>\n",
       "      <td>-0.105865</td>\n",
       "      <td>신영웅문 : 천년의 비밀</td>\n",
       "      <td>서스펜스</td>\n",
       "    </tr>\n",
       "    <tr>\n",
       "      <th>0</th>\n",
       "      <td>신문기자</td>\n",
       "      <td>0.988590</td>\n",
       "      <td>좋은 사람</td>\n",
       "      <td>서스펜스</td>\n",
       "    </tr>\n",
       "    <tr>\n",
       "      <th>1</th>\n",
       "      <td>명탐정 코난:전율의 악보</td>\n",
       "      <td>0.879516</td>\n",
       "      <td>좋은 사람</td>\n",
       "      <td>서스펜스</td>\n",
       "    </tr>\n",
       "    <tr>\n",
       "      <th>2</th>\n",
       "      <td>신영웅문 : 천년의 비밀</td>\n",
       "      <td>-0.105865</td>\n",
       "      <td>좋은 사람</td>\n",
       "      <td>서스펜스</td>\n",
       "    </tr>\n",
       "  </tbody>\n",
       "</table>\n",
       "</div>"
      ],
      "text/plain": [
       "         title_y  similarity        title_x genre\n",
       "1           신문기자   -0.104747  신영웅문 : 천년의 비밀  서스펜스\n",
       "2          좋은 사람   -0.105865  신영웅문 : 천년의 비밀  서스펜스\n",
       "0           신문기자    0.988590          좋은 사람  서스펜스\n",
       "1  명탐정 코난:전율의 악보    0.879516          좋은 사람  서스펜스\n",
       "2  신영웅문 : 천년의 비밀   -0.105865          좋은 사람  서스펜스"
      ]
     },
     "execution_count": 387,
     "metadata": {},
     "output_type": "execute_result"
    }
   ],
   "source": [
    "suspense.iloc[7:12,:]"
   ]
  },
  {
   "cell_type": "code",
   "execution_count": 390,
   "id": "878ab887",
   "metadata": {
    "ExecuteTime": {
     "end_time": "2021-10-14T03:13:14.237162Z",
     "start_time": "2021-10-14T03:13:14.213273Z"
    }
   },
   "outputs": [],
   "source": [
    "suspense = suspense.reset_index(drop=True)\n",
    "suspense.to_csv('suspense.csv',index=False)"
   ]
  },
  {
   "cell_type": "markdown",
   "id": "355b6bf6",
   "metadata": {},
   "source": [
    "### 뮤지컬"
   ]
  },
  {
   "cell_type": "code",
   "execution_count": 400,
   "id": "6f7913be",
   "metadata": {
    "ExecuteTime": {
     "end_time": "2021-10-14T03:15:20.620734Z",
     "start_time": "2021-10-14T03:15:20.606923Z"
    }
   },
   "outputs": [],
   "source": [
    "musical= pd.concat(result)"
   ]
  },
  {
   "cell_type": "code",
   "execution_count": 406,
   "id": "2657cbe6",
   "metadata": {
    "ExecuteTime": {
     "end_time": "2021-10-14T03:16:12.193973Z",
     "start_time": "2021-10-14T03:16:12.170984Z"
    }
   },
   "outputs": [
    {
     "data": {
      "text/html": [
       "<div>\n",
       "<style scoped>\n",
       "    .dataframe tbody tr th:only-of-type {\n",
       "        vertical-align: middle;\n",
       "    }\n",
       "\n",
       "    .dataframe tbody tr th {\n",
       "        vertical-align: top;\n",
       "    }\n",
       "\n",
       "    .dataframe thead th {\n",
       "        text-align: right;\n",
       "    }\n",
       "</style>\n",
       "<table border=\"1\" class=\"dataframe\">\n",
       "  <thead>\n",
       "    <tr style=\"text-align: right;\">\n",
       "      <th></th>\n",
       "      <th>title_y</th>\n",
       "      <th>similarity</th>\n",
       "      <th>title_x</th>\n",
       "      <th>genre</th>\n",
       "    </tr>\n",
       "  </thead>\n",
       "  <tbody>\n",
       "    <tr>\n",
       "      <th>0</th>\n",
       "      <td>잃어버린 얼굴 1895</td>\n",
       "      <td>0.924100</td>\n",
       "      <td>아이스</td>\n",
       "      <td>뮤지컬</td>\n",
       "    </tr>\n",
       "    <tr>\n",
       "      <th>1</th>\n",
       "      <td>당나귀 공주</td>\n",
       "      <td>0.858261</td>\n",
       "      <td>아이스</td>\n",
       "      <td>뮤지컬</td>\n",
       "    </tr>\n",
       "    <tr>\n",
       "      <th>2</th>\n",
       "      <td>슈퍼스타 뚜루</td>\n",
       "      <td>0.753403</td>\n",
       "      <td>아이스</td>\n",
       "      <td>뮤지컬</td>\n",
       "    </tr>\n",
       "    <tr>\n",
       "      <th>3</th>\n",
       "      <td>롤라</td>\n",
       "      <td>0.708973</td>\n",
       "      <td>아이스</td>\n",
       "      <td>뮤지컬</td>\n",
       "    </tr>\n",
       "    <tr>\n",
       "      <th>4</th>\n",
       "      <td>블루스 인 인디아</td>\n",
       "      <td>0.686905</td>\n",
       "      <td>아이스</td>\n",
       "      <td>뮤지컬</td>\n",
       "    </tr>\n",
       "  </tbody>\n",
       "</table>\n",
       "</div>"
      ],
      "text/plain": [
       "        title_y  similarity title_x genre\n",
       "0  잃어버린 얼굴 1895    0.924100     아이스   뮤지컬\n",
       "1        당나귀 공주    0.858261     아이스   뮤지컬\n",
       "2       슈퍼스타 뚜루    0.753403     아이스   뮤지컬\n",
       "3            롤라    0.708973     아이스   뮤지컬\n",
       "4     블루스 인 인디아    0.686905     아이스   뮤지컬"
      ]
     },
     "execution_count": 406,
     "metadata": {},
     "output_type": "execute_result"
    }
   ],
   "source": [
    "musical.iloc[70:75,:]"
   ]
  },
  {
   "cell_type": "code",
   "execution_count": null,
   "id": "dda94d84",
   "metadata": {},
   "outputs": [],
   "source": [
    "musical = musical.reset_index(drop=True)\n",
    "musical.to_csv('musical.csv',index=False)"
   ]
  },
  {
   "cell_type": "markdown",
   "id": "0940411a",
   "metadata": {},
   "source": [
    "### 블랙코미디"
   ]
  },
  {
   "cell_type": "code",
   "execution_count": 416,
   "id": "4ecd76b0",
   "metadata": {
    "ExecuteTime": {
     "end_time": "2021-10-14T03:17:48.995017Z",
     "start_time": "2021-10-14T03:17:48.978984Z"
    }
   },
   "outputs": [],
   "source": [
    "blackcomedy= pd.concat(result)"
   ]
  },
  {
   "cell_type": "code",
   "execution_count": 419,
   "id": "f7964086",
   "metadata": {
    "ExecuteTime": {
     "end_time": "2021-10-14T03:18:08.999321Z",
     "start_time": "2021-10-14T03:18:08.983319Z"
    }
   },
   "outputs": [
    {
     "data": {
      "text/html": [
       "<div>\n",
       "<style scoped>\n",
       "    .dataframe tbody tr th:only-of-type {\n",
       "        vertical-align: middle;\n",
       "    }\n",
       "\n",
       "    .dataframe tbody tr th {\n",
       "        vertical-align: top;\n",
       "    }\n",
       "\n",
       "    .dataframe thead th {\n",
       "        text-align: right;\n",
       "    }\n",
       "</style>\n",
       "<table border=\"1\" class=\"dataframe\">\n",
       "  <thead>\n",
       "    <tr style=\"text-align: right;\">\n",
       "      <th></th>\n",
       "      <th>title_y</th>\n",
       "      <th>similarity</th>\n",
       "      <th>title_x</th>\n",
       "      <th>genre</th>\n",
       "    </tr>\n",
       "  </thead>\n",
       "  <tbody>\n",
       "  </tbody>\n",
       "</table>\n",
       "</div>"
      ],
      "text/plain": [
       "Empty DataFrame\n",
       "Columns: [title_y, similarity, title_x, genre]\n",
       "Index: []"
      ]
     },
     "execution_count": 419,
     "metadata": {},
     "output_type": "execute_result"
    }
   ],
   "source": [
    "blackcomedy"
   ]
  },
  {
   "cell_type": "code",
   "execution_count": 423,
   "id": "72d10228",
   "metadata": {
    "ExecuteTime": {
     "end_time": "2021-10-14T03:20:27.206854Z",
     "start_time": "2021-10-14T03:20:27.103834Z"
    }
   },
   "outputs": [
    {
     "data": {
      "text/plain": [
       "title\n",
       "폴리스 스파이    70\n",
       "Name: title, dtype: int64"
      ]
     },
     "execution_count": 423,
     "metadata": {},
     "output_type": "execute_result"
    }
   ],
   "source": [
    "movie_n[movie_n['genre'].str.contains('블랙코미디')].groupby('title')['title'].count()"
   ]
  },
  {
   "cell_type": "code",
   "execution_count": 417,
   "id": "fa5b6e2b",
   "metadata": {
    "ExecuteTime": {
     "end_time": "2021-10-14T03:17:50.926251Z",
     "start_time": "2021-10-14T03:17:50.906260Z"
    }
   },
   "outputs": [
    {
     "data": {
      "text/html": [
       "<div>\n",
       "<style scoped>\n",
       "    .dataframe tbody tr th:only-of-type {\n",
       "        vertical-align: middle;\n",
       "    }\n",
       "\n",
       "    .dataframe tbody tr th {\n",
       "        vertical-align: top;\n",
       "    }\n",
       "\n",
       "    .dataframe thead th {\n",
       "        text-align: right;\n",
       "    }\n",
       "</style>\n",
       "<table border=\"1\" class=\"dataframe\">\n",
       "  <thead>\n",
       "    <tr style=\"text-align: right;\">\n",
       "      <th></th>\n",
       "      <th>title_y</th>\n",
       "      <th>similarity</th>\n",
       "      <th>title_x</th>\n",
       "      <th>genre</th>\n",
       "    </tr>\n",
       "  </thead>\n",
       "  <tbody>\n",
       "  </tbody>\n",
       "</table>\n",
       "</div>"
      ],
      "text/plain": [
       "Empty DataFrame\n",
       "Columns: [title_y, similarity, title_x, genre]\n",
       "Index: []"
      ]
     },
     "execution_count": 417,
     "metadata": {},
     "output_type": "execute_result"
    }
   ],
   "source": [
    "blackcomedy.iloc[98:103,:]"
   ]
  },
  {
   "cell_type": "code",
   "execution_count": null,
   "id": "9e0670d9",
   "metadata": {},
   "outputs": [],
   "source": [
    "blackcomedy = blackcomedy.reset_index(drop=True)\n",
    "blackcomedy.to_csv('blackcomedy.csv',index=False)"
   ]
  },
  {
   "cell_type": "markdown",
   "id": "c826f67f",
   "metadata": {},
   "source": [
    "### 다큐멘터리"
   ]
  },
  {
   "cell_type": "code",
   "execution_count": 433,
   "id": "71440a4c",
   "metadata": {
    "ExecuteTime": {
     "end_time": "2021-10-14T03:26:44.599085Z",
     "start_time": "2021-10-14T03:26:44.545464Z"
    }
   },
   "outputs": [],
   "source": [
    "documentary= pd.concat(result)"
   ]
  },
  {
   "cell_type": "code",
   "execution_count": 434,
   "id": "c7a8e13e",
   "metadata": {
    "ExecuteTime": {
     "end_time": "2021-10-14T03:26:45.897379Z",
     "start_time": "2021-10-14T03:26:45.877344Z"
    }
   },
   "outputs": [
    {
     "data": {
      "text/html": [
       "<div>\n",
       "<style scoped>\n",
       "    .dataframe tbody tr th:only-of-type {\n",
       "        vertical-align: middle;\n",
       "    }\n",
       "\n",
       "    .dataframe tbody tr th {\n",
       "        vertical-align: top;\n",
       "    }\n",
       "\n",
       "    .dataframe thead th {\n",
       "        text-align: right;\n",
       "    }\n",
       "</style>\n",
       "<table border=\"1\" class=\"dataframe\">\n",
       "  <thead>\n",
       "    <tr style=\"text-align: right;\">\n",
       "      <th></th>\n",
       "      <th>title_y</th>\n",
       "      <th>similarity</th>\n",
       "      <th>title_x</th>\n",
       "      <th>genre</th>\n",
       "    </tr>\n",
       "  </thead>\n",
       "  <tbody>\n",
       "    <tr>\n",
       "      <th>0</th>\n",
       "      <td>스쿨 오브 락(樂)</td>\n",
       "      <td>0.995592</td>\n",
       "      <td>녹차의 중력</td>\n",
       "      <td>다큐멘터리</td>\n",
       "    </tr>\n",
       "    <tr>\n",
       "      <th>1</th>\n",
       "      <td>발리: 천상의 울림</td>\n",
       "      <td>0.993866</td>\n",
       "      <td>녹차의 중력</td>\n",
       "      <td>다큐멘터리</td>\n",
       "    </tr>\n",
       "    <tr>\n",
       "      <th>2</th>\n",
       "      <td>머리카락</td>\n",
       "      <td>0.985007</td>\n",
       "      <td>녹차의 중력</td>\n",
       "      <td>다큐멘터리</td>\n",
       "    </tr>\n",
       "    <tr>\n",
       "      <th>3</th>\n",
       "      <td>스매시 앤 그랩: 보석강도단 핑크 팬더</td>\n",
       "      <td>0.978416</td>\n",
       "      <td>녹차의 중력</td>\n",
       "      <td>다큐멘터리</td>\n",
       "    </tr>\n",
       "    <tr>\n",
       "      <th>4</th>\n",
       "      <td>백두 번째 구름</td>\n",
       "      <td>0.958807</td>\n",
       "      <td>녹차의 중력</td>\n",
       "      <td>다큐멘터리</td>\n",
       "    </tr>\n",
       "  </tbody>\n",
       "</table>\n",
       "</div>"
      ],
      "text/plain": [
       "                 title_y  similarity title_x  genre\n",
       "0             스쿨 오브 락(樂)    0.995592  녹차의 중력  다큐멘터리\n",
       "1             발리: 천상의 울림    0.993866  녹차의 중력  다큐멘터리\n",
       "2                   머리카락    0.985007  녹차의 중력  다큐멘터리\n",
       "3  스매시 앤 그랩: 보석강도단 핑크 팬더    0.978416  녹차의 중력  다큐멘터리\n",
       "4               백두 번째 구름    0.958807  녹차의 중력  다큐멘터리"
      ]
     },
     "execution_count": 434,
     "metadata": {},
     "output_type": "execute_result"
    }
   ],
   "source": [
    "documentary.iloc[70:75,:]"
   ]
  },
  {
   "cell_type": "code",
   "execution_count": 435,
   "id": "fe40e8ad",
   "metadata": {
    "ExecuteTime": {
     "end_time": "2021-10-14T03:26:52.540570Z",
     "start_time": "2021-10-14T03:26:52.519771Z"
    }
   },
   "outputs": [],
   "source": [
    "documentary = documentary.reset_index(drop=True)\n",
    "documentary.to_csv('documentary.csv',index=False)"
   ]
  },
  {
   "cell_type": "code",
   "execution_count": 467,
   "id": "b0e02f4e",
   "metadata": {
    "ExecuteTime": {
     "end_time": "2021-10-14T03:37:12.060003Z",
     "start_time": "2021-10-14T03:37:12.049840Z"
    }
   },
   "outputs": [],
   "source": [
    "genresim = genresim.append(documentary, ignore_index=True)"
   ]
  },
  {
   "cell_type": "code",
   "execution_count": 468,
   "id": "e7d0dc17",
   "metadata": {
    "ExecuteTime": {
     "end_time": "2021-10-14T03:37:12.996242Z",
     "start_time": "2021-10-14T03:37:12.977617Z"
    }
   },
   "outputs": [
    {
     "data": {
      "text/html": [
       "<div>\n",
       "<style scoped>\n",
       "    .dataframe tbody tr th:only-of-type {\n",
       "        vertical-align: middle;\n",
       "    }\n",
       "\n",
       "    .dataframe tbody tr th {\n",
       "        vertical-align: top;\n",
       "    }\n",
       "\n",
       "    .dataframe thead th {\n",
       "        text-align: right;\n",
       "    }\n",
       "</style>\n",
       "<table border=\"1\" class=\"dataframe\">\n",
       "  <thead>\n",
       "    <tr style=\"text-align: right;\">\n",
       "      <th></th>\n",
       "      <th>title_y</th>\n",
       "      <th>similarity</th>\n",
       "      <th>title_x</th>\n",
       "      <th>genre</th>\n",
       "    </tr>\n",
       "  </thead>\n",
       "  <tbody>\n",
       "    <tr>\n",
       "      <th>0</th>\n",
       "      <td>위자 악마소환게임</td>\n",
       "      <td>0.658763</td>\n",
       "      <td>0.0MHz</td>\n",
       "      <td>공포</td>\n",
       "    </tr>\n",
       "    <tr>\n",
       "      <th>1</th>\n",
       "      <td>이블데드 2020</td>\n",
       "      <td>0.654926</td>\n",
       "      <td>0.0MHz</td>\n",
       "      <td>공포</td>\n",
       "    </tr>\n",
       "    <tr>\n",
       "      <th>2</th>\n",
       "      <td>메가 블리자드</td>\n",
       "      <td>0.616077</td>\n",
       "      <td>0.0MHz</td>\n",
       "      <td>공포</td>\n",
       "    </tr>\n",
       "    <tr>\n",
       "      <th>3</th>\n",
       "      <td>나치 오버로드</td>\n",
       "      <td>0.565864</td>\n",
       "      <td>0.0MHz</td>\n",
       "      <td>공포</td>\n",
       "    </tr>\n",
       "    <tr>\n",
       "      <th>4</th>\n",
       "      <td>컨벤트</td>\n",
       "      <td>0.563100</td>\n",
       "      <td>0.0MHz</td>\n",
       "      <td>공포</td>\n",
       "    </tr>\n",
       "    <tr>\n",
       "      <th>...</th>\n",
       "      <td>...</td>\n",
       "      <td>...</td>\n",
       "      <td>...</td>\n",
       "      <td>...</td>\n",
       "    </tr>\n",
       "    <tr>\n",
       "      <th>27937</th>\n",
       "      <td>쿠엔틴 타란티노 8</td>\n",
       "      <td>0.576438</td>\n",
       "      <td>학교 가는 길</td>\n",
       "      <td>다큐멘터리</td>\n",
       "    </tr>\n",
       "    <tr>\n",
       "      <th>27938</th>\n",
       "      <td>스매시 앤 그랩: 보석강도단 핑크 팬더</td>\n",
       "      <td>0.574950</td>\n",
       "      <td>학교 가는 길</td>\n",
       "      <td>다큐멘터리</td>\n",
       "    </tr>\n",
       "    <tr>\n",
       "      <th>27939</th>\n",
       "      <td>스쿨 오브 락(樂)</td>\n",
       "      <td>0.568384</td>\n",
       "      <td>학교 가는 길</td>\n",
       "      <td>다큐멘터리</td>\n",
       "    </tr>\n",
       "    <tr>\n",
       "      <th>27940</th>\n",
       "      <td>녹차의 중력</td>\n",
       "      <td>0.564385</td>\n",
       "      <td>학교 가는 길</td>\n",
       "      <td>다큐멘터리</td>\n",
       "    </tr>\n",
       "    <tr>\n",
       "      <th>27941</th>\n",
       "      <td>포겟 미 낫-엄마에게 쓰는 편지</td>\n",
       "      <td>0.562708</td>\n",
       "      <td>학교 가는 길</td>\n",
       "      <td>다큐멘터리</td>\n",
       "    </tr>\n",
       "  </tbody>\n",
       "</table>\n",
       "<p>27942 rows × 4 columns</p>\n",
       "</div>"
      ],
      "text/plain": [
       "                     title_y  similarity  title_x  genre\n",
       "0                  위자 악마소환게임    0.658763   0.0MHz     공포\n",
       "1                  이블데드 2020    0.654926   0.0MHz     공포\n",
       "2                    메가 블리자드    0.616077   0.0MHz     공포\n",
       "3                    나치 오버로드    0.565864   0.0MHz     공포\n",
       "4                        컨벤트    0.563100   0.0MHz     공포\n",
       "...                      ...         ...      ...    ...\n",
       "27937             쿠엔틴 타란티노 8    0.576438  학교 가는 길  다큐멘터리\n",
       "27938  스매시 앤 그랩: 보석강도단 핑크 팬더    0.574950  학교 가는 길  다큐멘터리\n",
       "27939             스쿨 오브 락(樂)    0.568384  학교 가는 길  다큐멘터리\n",
       "27940                 녹차의 중력    0.564385  학교 가는 길  다큐멘터리\n",
       "27941      포겟 미 낫-엄마에게 쓰는 편지    0.562708  학교 가는 길  다큐멘터리\n",
       "\n",
       "[27942 rows x 4 columns]"
      ]
     },
     "execution_count": 468,
     "metadata": {},
     "output_type": "execute_result"
    }
   ],
   "source": [
    "genresim"
   ]
  },
  {
   "cell_type": "code",
   "execution_count": 469,
   "id": "25dcc6c2",
   "metadata": {
    "ExecuteTime": {
     "end_time": "2021-10-14T03:37:38.748339Z",
     "start_time": "2021-10-14T03:37:38.646767Z"
    }
   },
   "outputs": [],
   "source": [
    "genresim.to_csv('genresim.csv',index=False)"
   ]
  },
  {
   "cell_type": "code",
   "execution_count": null,
   "id": "55c1bb3a",
   "metadata": {},
   "outputs": [],
   "source": []
  }
 ],
 "metadata": {
  "hide_input": false,
  "kernelspec": {
   "display_name": "Python 3",
   "language": "python",
   "name": "python3"
  },
  "language_info": {
   "codemirror_mode": {
    "name": "ipython",
    "version": 3
   },
   "file_extension": ".py",
   "mimetype": "text/x-python",
   "name": "python",
   "nbconvert_exporter": "python",
   "pygments_lexer": "ipython3",
   "version": "3.8.8"
  },
  "toc": {
   "base_numbering": 1,
   "nav_menu": {},
   "number_sections": true,
   "sideBar": true,
   "skip_h1_title": false,
   "title_cell": "Table of Contents",
   "title_sidebar": "Contents",
   "toc_cell": false,
   "toc_position": {},
   "toc_section_display": true,
   "toc_window_display": false
  },
  "varInspector": {
   "cols": {
    "lenName": 16,
    "lenType": 16,
    "lenVar": 40
   },
   "kernels_config": {
    "python": {
     "delete_cmd_postfix": "",
     "delete_cmd_prefix": "del ",
     "library": "var_list.py",
     "varRefreshCmd": "print(var_dic_list())"
    },
    "r": {
     "delete_cmd_postfix": ") ",
     "delete_cmd_prefix": "rm(",
     "library": "var_list.r",
     "varRefreshCmd": "cat(var_dic_list()) "
    }
   },
   "types_to_exclude": [
    "module",
    "function",
    "builtin_function_or_method",
    "instance",
    "_Feature"
   ],
   "window_display": false
  }
 },
 "nbformat": 4,
 "nbformat_minor": 5
}
