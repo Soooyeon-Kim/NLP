{
 "cells": [
  {
   "cell_type": "code",
   "execution_count": 1,
   "id": "716d728b",
   "metadata": {
    "ExecuteTime": {
     "end_time": "2021-11-05T07:05:27.498837Z",
     "start_time": "2021-11-05T07:05:26.663816Z"
    }
   },
   "outputs": [],
   "source": [
    "import warnings\n",
    "warnings.filterwarnings(action='ignore')\n",
    "\n",
    "import pandas as pd\n",
    "from konlpy.tag import Kkma, Okt"
   ]
  },
  {
   "cell_type": "code",
   "execution_count": 3,
   "id": "b68345b5",
   "metadata": {
    "ExecuteTime": {
     "end_time": "2021-11-05T07:06:03.490371Z",
     "start_time": "2021-11-05T07:06:03.479370Z"
    }
   },
   "outputs": [
    {
     "name": "stdout",
     "output_type": "stream",
     "text": [
      "0             비행기가 이륙하고 있다.\n",
      "1     한 남자가 큰 플루트를 연주하고 있다.\n",
      "2    한 남자가 피자에 치즈를 뿌려놓고 있다.\n",
      "3          세 남자가 체스를 하고 있다.\n",
      "4        한 남자가 첼로를 연주하고 있다.\n",
      "Name: sentence1, dtype: object\n"
     ]
    }
   ],
   "source": [
    "# sts-train.tsv 파일에 저장되어 있는 KorSTS 데이터셋 불러오기\n",
    "sent = pd.read_table(\"sts-train.tsv\", delimiter='\\t', header=0)['sentence1']\n",
    "\n",
    "# sent 변수에 저장된 첫 5개 문장 확인 \n",
    "print(sent[:5])"
   ]
  },
  {
   "cell_type": "code",
   "execution_count": 4,
   "id": "aad0fb53",
   "metadata": {
    "ExecuteTime": {
     "end_time": "2021-11-05T07:06:13.139780Z",
     "start_time": "2021-11-05T07:06:12.779319Z"
    }
   },
   "outputs": [
    {
     "name": "stdout",
     "output_type": "stream",
     "text": [
      "{'글', '일렉트릭', '빵', '튀김', '장', '도로', '스케이트보드', '스케이트', '돼지고기', '연주', '드럼', '담배', '이륙', '호랑이', '플루트', '팬', '캥거루', '아이', '후', '사자', '사람', '껍질', '노래', '소년', '동상', '말', '고양이', '남자가', '누군가', '감자', '독수리', '생선', '막대기', '등에', '추', '기계식', '남자', '피아노', '공', '판다', '새끼', '피자', '북극곰', '냄비', '위', '양파', '체스', '베이컨', '아래', '첼로', '개가', '연', '종이', '이드', '보드', '여자', '소녀', '토마토', '남', '여성', '얼굴', '기름', '새우', '황소', '기타', '아기', '눈', '자전거', '비행기', '치즈', '조각', '천장', '키보드', '후추', '토끼', '자가'}\n"
     ]
    }
   ],
   "source": [
    "# 꼬꼬마 형태소 사전을 이용해서 sent 내 문장의 명사를 nouns 리스트에 저장 \n",
    "nouns = []\n",
    "kkma = Kkma()\n",
    "for se in sent:\n",
    "    words = kkma.nouns(se)\n",
    "    nouns += words\n",
    "    \n",
    "    \n",
    "# 명사의 종류 확인 \n",
    "print(set(nouns))"
   ]
  },
  {
   "cell_type": "code",
   "execution_count": 6,
   "id": "eeed1f27",
   "metadata": {
    "ExecuteTime": {
     "end_time": "2021-11-05T07:06:50.116835Z",
     "start_time": "2021-11-05T07:06:50.005995Z"
    }
   },
   "outputs": [
    {
     "name": "stdout",
     "output_type": "stream",
     "text": [
      "[[('비행기', 'Noun'), ('가', 'Josa'), ('이륙', 'Noun'), ('하고', 'Josa'), ('있다', 'Adjective'), ('.', 'Punctuation')], [('한', 'Verb'), ('남자', 'Noun'), ('가', 'Josa'), ('큰', 'Verb'), ('플루트', 'Noun'), ('를', 'Josa'), ('연주', 'Noun'), ('하고', 'Josa'), ('있다', 'Adjective'), ('.', 'Punctuation')], [('한', 'Verb'), ('남자', 'Noun'), ('가', 'Josa'), ('피자', 'Noun'), ('에', 'Josa'), ('치즈', 'Noun'), ('를', 'Josa'), ('뿌려놓고', 'Verb'), ('있다', 'Adjective'), ('.', 'Punctuation')], [('세', 'Noun'), ('남자', 'Noun'), ('가', 'Josa'), ('체스', 'Noun'), ('를', 'Josa'), ('하고', 'Verb'), ('있다', 'Adjective'), ('.', 'Punctuation')], [('한', 'Verb'), ('남자', 'Noun'), ('가', 'Josa'), ('첼로', 'Noun'), ('를', 'Josa'), ('연주', 'Noun'), ('하고', 'Josa'), ('있다', 'Adjective'), ('.', 'Punctuation')], [('몇몇', 'Noun'), ('남자', 'Noun'), ('들', 'Suffix'), ('이', 'Josa'), ('싸우고', 'Verb'), ('있다', 'Adjective'), ('.', 'Punctuation')], [('남자', 'Noun'), ('가', 'Josa'), ('담배', 'Noun'), ('를', 'Josa'), ('피우고', 'Verb'), ('있다', 'Adjective'), ('.', 'Punctuation')], [('남자', 'Noun'), ('가', 'Josa'), ('피아노', 'Noun'), ('를', 'Josa'), ('치고', 'Josa'), ('있다', 'Adjective'), ('.', 'Punctuation')], [('한', 'Verb'), ('남자', 'Noun'), ('가', 'Josa'), ('기타', 'Noun'), ('를', 'Josa'), ('치고', 'Josa'), ('노래', 'Noun'), ('를', 'Josa'), ('부르고', 'Verb'), ('있다', 'Adjective'), ('.', 'Punctuation')], [('사람', 'Noun'), ('이', 'Josa'), ('고양이', 'Noun'), ('를', 'Josa'), ('천장', 'Noun'), ('에', 'Josa'), ('던지고', 'Verb'), ('있다', 'Adjective'), ('.', 'Punctuation')], [('그', 'Noun'), ('남자', 'Noun'), ('는', 'Josa'), ('다른', 'Noun'), ('남자', 'Noun'), ('를', 'Josa'), ('막대기', 'Noun'), ('로', 'Josa'), ('때렸다', 'Verb'), ('.', 'Punctuation')], [('한', 'Verb'), ('여성', 'Noun'), ('이', 'Josa'), ('아기', 'Noun'), ('를', 'Josa'), ('안아서', 'Verb'), ('캥거루', 'Noun'), ('를', 'Josa'), ('안는다', 'Verb'), ('.', 'Punctuation')], [('남자', 'Noun'), ('가', 'Josa'), ('플루트', 'Noun'), ('를', 'Josa'), ('연주', 'Noun'), ('하고', 'Josa'), ('있다', 'Adjective'), ('.', 'Punctuation')], [('사람', 'Noun'), ('이', 'Josa'), ('종이', 'Noun'), ('한', 'Verb'), ('장', 'Noun'), ('을', 'Josa'), ('접고', 'Verb'), ('있다', 'Adjective'), ('.', 'Punctuation')], [('한', 'Verb'), ('남자', 'Noun'), ('가', 'Josa'), ('도로', 'Noun'), ('를', 'Josa'), ('달리', 'Noun'), ('고', 'Josa'), ('있다', 'Adjective'), ('.', 'Punctuation')], [('개', 'Noun'), ('가', 'Josa'), ('베이컨', 'Noun'), ('을', 'Josa'), ('등', 'Noun'), ('에서', 'Josa'), ('떼려고', 'Verb'), ('하고', 'Verb'), ('있다', 'Adjective'), ('.', 'Punctuation')], [('북극곰', 'Noun'), ('이', 'Josa'), ('눈', 'Noun'), ('위', 'Noun'), ('에서', 'Josa'), ('미끄러지고', 'Verb'), ('있다', 'Adjective'), ('.', 'Punctuation')], [('여자', 'Noun'), ('가', 'Josa'), ('글', 'Noun'), ('을', 'Josa'), ('쓰고', 'Verb'), ('있다', 'Adjective'), ('.', 'Punctuation')], [('고양이', 'Noun'), ('가', 'Josa'), ('아기', 'Noun'), ('의', 'Josa'), ('얼굴', 'Noun'), ('을', 'Josa'), ('문지르고', 'Verb'), ('있다', 'Adjective'), ('.', 'Punctuation')], [('남자', 'Noun'), ('가', 'Josa'), ('말', 'Noun'), ('을', 'Josa'), ('타고', 'Noun'), ('있다', 'Adjective'), ('.', 'Punctuation')], [('한', 'Verb'), ('남자', 'Noun'), ('가', 'Josa'), ('냄비', 'Noun'), ('에', 'Josa'), ('기름', 'Noun'), ('을', 'Josa'), ('부어', 'Noun'), ('넣는다', 'Verb'), ('.', 'Punctuation')], [('남자', 'Noun'), ('가', 'Josa'), ('기타', 'Noun'), ('를', 'Josa'), ('치고', 'Josa'), ('있다', 'Adjective'), ('.', 'Punctuation')], [('판다', 'Noun'), ('가', 'Josa'), ('슬라이드', 'Noun'), ('아래', 'Noun'), ('로', 'Josa'), ('미끄러져', 'Verb'), ('내려간다', 'Verb'), ('.', 'Punctuation')], [('여자', 'Noun'), ('가', 'Josa'), ('뭔가', 'Noun'), ('를', 'Josa'), ('먹고', 'Verb'), ('있다', 'Adjective'), ('.', 'Punctuation')], [('한', 'Verb'), ('여자', 'Noun'), ('가', 'Josa'), ('감자', 'Noun'), ('껍질', 'Noun'), ('을', 'Josa'), ('벗긴다', 'Verb'), ('.', 'Punctuation')], [('그', 'Noun'), ('소년', 'Noun'), ('은', 'Josa'), ('자전거', 'Noun'), ('에서', 'Josa'), ('떨어졌다', 'Verb'), ('.', 'Punctuation')], [('여자', 'Noun'), ('가', 'Josa'), ('플루트', 'Noun'), ('를', 'Josa'), ('연주', 'Noun'), ('하고', 'Josa'), ('있다', 'Adjective'), ('.', 'Punctuation')], [('토끼', 'Noun'), ('가', 'Josa'), ('독수리', 'Noun'), ('에게서', 'Josa'), ('뛰고', 'Verb'), ('있다', 'Adjective'), ('.', 'Punctuation')], [('여자', 'Noun'), ('가', 'Josa'), ('빵', 'Noun'), ('을', 'Josa'), ('곁들인', 'Verb'), ('돼지고기', 'Noun'), ('를', 'Josa'), ('튀기고', 'Verb'), ('있다', 'Adjective'), ('.', 'Punctuation')], [('한', 'Verb'), ('소녀', 'Noun'), ('가', 'Josa'), ('연', 'Noun'), ('을', 'Josa'), ('날리고', 'Verb'), ('있다', 'Adjective'), ('.', 'Punctuation')], [('한', 'Verb'), ('남자', 'Noun'), ('가', 'Josa'), ('기계', 'Noun'), ('식', 'Suffix'), ('황소', 'Noun'), ('를', 'Josa'), ('타고', 'Noun'), ('있다', 'Adjective'), ('.', 'Punctuation')], [('남자', 'Noun'), ('가', 'Josa'), ('기타', 'Noun'), ('를', 'Josa'), ('연주', 'Noun'), ('하고', 'Josa'), ('있다', 'Adjective'), ('.', 'Punctuation')], [('한', 'Verb'), ('여성', 'Noun'), ('이', 'Josa'), ('다른', 'Noun'), ('여성', 'Noun'), ('들', 'Suffix'), ('과', 'Josa'), ('춤추고', 'Verb'), ('노래', 'Noun'), ('하고', 'Josa'), ('있다', 'Adjective'), ('.', 'Punctuation')], [('남자', 'Noun'), ('가', 'Josa'), ('빵', 'Noun'), ('을', 'Josa'), ('자르고', 'Verb'), ('있다', 'Adjective'), ('.', 'Punctuation')], [('남자', 'Noun'), ('가', 'Josa'), ('팬', 'Noun'), ('에', 'Josa'), ('기름', 'Noun'), ('을', 'Josa'), ('부어', 'Noun'), ('넣고', 'Verb'), ('있다', 'Adjective'), ('.', 'Punctuation')], [('사자', 'Noun'), ('가', 'Josa'), ('사람', 'Noun'), ('들', 'Suffix'), ('과', 'Josa'), ('놀고', 'Verb'), ('있다', 'Adjective'), ('.', 'Punctuation')], [('개', 'Noun'), ('가', 'Josa'), ('스케이트보드', 'Noun'), ('를', 'Josa'), ('탄다', 'Verb'), ('.', 'Punctuation')], [('누군가', 'Noun'), ('가', 'Josa'), ('동상', 'Noun'), ('을', 'Josa'), ('조각', 'Noun'), ('하고', 'Josa'), ('있다', 'Adjective'), ('.', 'Punctuation')], [('한', 'Verb'), ('여성', 'Noun'), ('이', 'Josa'), ('양파', 'Noun'), ('를', 'Josa'), ('자르고', 'Verb'), ('있다', 'Adjective'), ('.', 'Punctuation')], [('여자', 'Noun'), ('는', 'Josa'), ('새우', 'Noun'), ('껍질', 'Noun'), ('을', 'Josa'), ('벗긴다', 'Verb'), ('.', 'Punctuation')], [('한', 'Verb'), ('여성', 'Noun'), ('이', 'Josa'), ('생선', 'Noun'), ('튀김', 'Noun'), ('을', 'Josa'), ('하고', 'Verb'), ('있다', 'Adjective'), ('.', 'Punctuation')], [('한', 'Verb'), ('여성', 'Noun'), ('이', 'Josa'), ('일', 'Modifier'), ('렉', 'Noun'), ('트릭', 'Noun'), ('기타', 'Noun'), ('를', 'Josa'), ('연주', 'Noun'), ('하고', 'Josa'), ('있다', 'Adjective'), ('.', 'Punctuation')], [('새끼', 'Noun'), ('호랑이', 'Noun'), ('가', 'Josa'), ('공', 'Noun'), ('을', 'Josa'), ('가지', 'Noun'), ('고', 'Josa'), ('놀고', 'Verb'), ('있다', 'Adjective'), ('.', 'Punctuation')], [('사람', 'Noun'), ('이', 'Josa'), ('토마토', 'Noun'), ('를', 'Josa'), ('자르고', 'Verb'), ('있다', 'Adjective'), ('.', 'Punctuation')], [('사람', 'Noun'), ('이', 'Josa'), ('양파', 'Noun'), ('를', 'Josa'), ('잘랐다', 'Verb'), ('.', 'Punctuation')], [('한', 'Verb'), ('남자', 'Noun'), ('가', 'Josa'), ('피아노', 'Noun'), ('를', 'Josa'), ('치고', 'Josa'), ('있다', 'Adjective'), ('.', 'Punctuation')], [('한', 'Verb'), ('여성', 'Noun'), ('이', 'Josa'), ('플루트', 'Noun'), ('를', 'Josa'), ('연주', 'Noun'), ('하고', 'Josa'), ('있다', 'Adjective'), ('.', 'Punctuation')], [('남자', 'Noun'), ('가', 'Josa'), ('감자', 'Noun'), ('를', 'Josa'), ('자르고', 'Verb'), ('있다', 'Adjective'), ('.', 'Punctuation')], [('한', 'Verb'), ('아이', 'Noun'), ('가', 'Josa'), ('기타', 'Noun'), ('를', 'Josa'), ('치고', 'Josa'), ('있다', 'Adjective'), ('.', 'Punctuation')], [('한', 'Verb'), ('소년', 'Noun'), ('이', 'Josa'), ('기타', 'Noun'), ('를', 'Josa'), ('치고', 'Josa'), ('있다', 'Adjective'), ('.', 'Punctuation')], [('남자', 'Noun'), ('가', 'Josa'), ('기타', 'Noun'), ('를', 'Josa'), ('치고', 'Josa'), ('있다', 'Adjective'), ('.', 'Punctuation')], [('어린', 'Verb'), ('소년', 'Noun'), ('이', 'Josa'), ('키', 'Noun'), ('보드', 'Noun'), ('를', 'Josa'), ('연주', 'Noun'), ('하고', 'Josa'), ('있다', 'Adjective'), ('.', 'Punctuation')], [('남자', 'Noun'), ('가', 'Josa'), ('기타', 'Noun'), ('를', 'Josa'), ('치고', 'Josa'), ('있다', 'Adjective'), ('.', 'Punctuation')], [('개', 'Noun'), ('가', 'Josa'), ('아기', 'Noun'), ('를', 'Josa'), ('핥는다', 'Verb'), ('.', 'Punctuation')], [('한', 'Verb'), ('여성', 'Noun'), ('이', 'Josa'), ('양파', 'Noun'), ('를', 'Josa'), ('자르고', 'Verb'), ('있다', 'Adjective'), ('.', 'Punctuation')], [('남자', 'Noun'), ('가', 'Josa'), ('기타', 'Noun'), ('를', 'Josa'), ('치고', 'Josa'), ('있다', 'Adjective'), ('.', 'Punctuation')], [('여자', 'Noun'), ('가', 'Josa'), ('후추', 'Noun'), ('를', 'Josa'), ('썰고', 'Verb'), ('있다', 'Adjective'), ('.', 'Punctuation')], [('남자', 'Noun'), ('가', 'Josa'), ('드럼', 'Noun'), ('을', 'Josa'), ('치고', 'Josa'), ('있다', 'Adjective'), ('.', 'Punctuation')], [('여자', 'Noun'), ('가', 'Josa'), ('말', 'Noun'), ('을', 'Josa'), ('탄다', 'Verb'), ('.', 'Punctuation')]]\n"
     ]
    }
   ],
   "source": [
    "# Open Korean Text 형태소 사전을 이용해서 sent 내 형태소 분석 결과를 pos_results 리스트에 저장 \n",
    "pos_results = []\n",
    "okt = Okt()\n",
    "for se in sent:\n",
    "    mor = okt.pos(se)\n",
    "    pos_results.append(mor)\n",
    "    \n",
    "# 분석 결과 확인 .\n",
    "print(pos_results)"
   ]
  },
  {
   "cell_type": "code",
   "execution_count": 7,
   "id": "a729af01",
   "metadata": {
    "ExecuteTime": {
     "end_time": "2021-11-05T07:07:00.113033Z",
     "start_time": "2021-11-05T07:07:00.102017Z"
    }
   },
   "outputs": [
    {
     "name": "stdout",
     "output_type": "stream",
     "text": [
      "[('하다', 'Verb'), ('남자', 'Noun'), ('가', 'Josa'), ('크다', 'Verb'), ('플루트', 'Noun'), ('를', 'Josa'), ('연주', 'Noun'), ('하고', 'Josa'), ('있다', 'Adjective'), ('.', 'Punctuation')]\n"
     ]
    }
   ],
   "source": [
    "# stemming 기반 형태소 분석이 적용된 sent의 두 번째 문장을 stem_pos_results 리스트에 저장 \n",
    "stem_pos_results = []\n",
    "\n",
    "stem_pos_results = okt.pos(sent[1], stem=True)\n",
    "\n",
    "print(stem_pos_results)"
   ]
  }
 ],
 "metadata": {
  "hide_input": false,
  "kernelspec": {
   "display_name": "Python 3",
   "language": "python",
   "name": "python3"
  },
  "language_info": {
   "codemirror_mode": {
    "name": "ipython",
    "version": 3
   },
   "file_extension": ".py",
   "mimetype": "text/x-python",
   "name": "python",
   "nbconvert_exporter": "python",
   "pygments_lexer": "ipython3",
   "version": "3.8.8"
  },
  "toc": {
   "base_numbering": 1,
   "nav_menu": {},
   "number_sections": true,
   "sideBar": true,
   "skip_h1_title": false,
   "title_cell": "Table of Contents",
   "title_sidebar": "Contents",
   "toc_cell": false,
   "toc_position": {},
   "toc_section_display": true,
   "toc_window_display": false
  },
  "varInspector": {
   "cols": {
    "lenName": 16,
    "lenType": 16,
    "lenVar": 40
   },
   "kernels_config": {
    "python": {
     "delete_cmd_postfix": "",
     "delete_cmd_prefix": "del ",
     "library": "var_list.py",
     "varRefreshCmd": "print(var_dic_list())"
    },
    "r": {
     "delete_cmd_postfix": ") ",
     "delete_cmd_prefix": "rm(",
     "library": "var_list.r",
     "varRefreshCmd": "cat(var_dic_list()) "
    }
   },
   "types_to_exclude": [
    "module",
    "function",
    "builtin_function_or_method",
    "instance",
    "_Feature"
   ],
   "window_display": false
  }
 },
 "nbformat": 4,
 "nbformat_minor": 5
}
