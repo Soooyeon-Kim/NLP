{
 "cells": [
  {
   "cell_type": "code",
   "execution_count": 1,
   "id": "9a1339ad",
   "metadata": {
    "ExecuteTime": {
     "end_time": "2021-11-05T07:17:16.635174Z",
     "start_time": "2021-11-05T07:17:13.863528Z"
    }
   },
   "outputs": [],
   "source": [
    "import nltk"
   ]
  },
  {
   "cell_type": "code",
   "execution_count": 2,
   "id": "cf426757",
   "metadata": {
    "ExecuteTime": {
     "end_time": "2021-11-05T07:17:16.683204Z",
     "start_time": "2021-11-05T07:17:16.672175Z"
    }
   },
   "outputs": [],
   "source": [
    "sent_1 = \"오늘 중부지방을 중심으로 소나기가 예상됩니다\"\n",
    "sent_2 = \"오늘 전국이 맑은 날씨가 예상됩니다\""
   ]
  },
  {
   "cell_type": "code",
   "execution_count": 3,
   "id": "4b862d79",
   "metadata": {
    "ExecuteTime": {
     "end_time": "2021-11-05T07:17:16.731173Z",
     "start_time": "2021-11-05T07:17:16.717174Z"
    }
   },
   "outputs": [
    {
     "name": "stdout",
     "output_type": "stream",
     "text": [
      "0.25\n"
     ]
    }
   ],
   "source": [
    "def cal_jaccard_sim(sent1, sent2):\n",
    "    # 각 문장을 토큰화 후 set 타입으로 변환 .\n",
    "    words_sent1 = set(sent1.split())\n",
    "    words_sent2 = set(sent2.split())\n",
    "\n",
    "    # 공통된 단어의 개수를 intersection 변수에 저장 .\n",
    "    intersection = words_sent1.intersection(words_sent2)\n",
    "    \n",
    "    # 두 문장 내 발생하는 모든 단어의 개수를 union 변수에 저장하세요.\n",
    "    union = words_sent1.union(words_sent2)\n",
    "\n",
    "    # intersection과 union을 사용하여 자카드 지수를 계산하고 float 타입으로 반환\n",
    "    return float(len(intersection) / len(union))\n",
    "\n",
    "# cal_jaccard_sim() 함수 실행 결과 확인 \n",
    "print(cal_jaccard_sim(sent_1, sent_2))"
   ]
  },
  {
   "cell_type": "markdown",
   "id": "128bfdf5",
   "metadata": {},
   "source": [
    "### nltk의 jaccard_distance() 함수를 이용해 자카드 유사도를 계산 "
   ]
  },
  {
   "cell_type": "code",
   "execution_count": 4,
   "id": "96d3903c",
   "metadata": {
    "ExecuteTime": {
     "end_time": "2021-11-05T07:17:17.311149Z",
     "start_time": "2021-11-05T07:17:17.290161Z"
    }
   },
   "outputs": [
    {
     "name": "stdout",
     "output_type": "stream",
     "text": [
      "0.25\n"
     ]
    }
   ],
   "source": [
    "sent1_set = set(sent_1.split())\n",
    "sent2_set = set(sent_2.split())\n",
    "\n",
    "nltk_jaccard_sim = 1 - nltk.jaccard_distance(sent1_set,sent2_set)\n",
    "\n",
    "# 직접 정의한 함수와 결과가 같은지 비교합니다.\n",
    "print(nltk_jaccard_sim)"
   ]
  },
  {
   "cell_type": "markdown",
   "id": "192d3d43",
   "metadata": {},
   "source": [
    "---"
   ]
  },
  {
   "cell_type": "markdown",
   "id": "d54db74e",
   "metadata": {},
   "source": [
    "### 코사인 유사도를 통한 문장 유사도 측정"
   ]
  },
  {
   "cell_type": "code",
   "execution_count": 5,
   "id": "dbc26e9d",
   "metadata": {
    "ExecuteTime": {
     "end_time": "2021-11-05T07:32:26.048762Z",
     "start_time": "2021-11-05T07:32:26.039758Z"
    }
   },
   "outputs": [],
   "source": [
    "from numpy import sqrt, dot\n",
    "from scipy.spatial import distance\n",
    "from sklearn.metrics import pairwise"
   ]
  },
  {
   "cell_type": "markdown",
   "id": "8b46502e",
   "metadata": {},
   "source": [
    "### 문장 벡터 데이터"
   ]
  },
  {
   "cell_type": "code",
   "execution_count": 6,
   "id": "ad67d43f",
   "metadata": {
    "ExecuteTime": {
     "end_time": "2021-11-05T07:32:27.785580Z",
     "start_time": "2021-11-05T07:32:27.772665Z"
    }
   },
   "outputs": [],
   "source": [
    "sent_1 = [0.3, 0.2, 0.2133, 0.3891, 0.8852, 0.586, 1.244, 0.777, 0.882]\n",
    "sent_2 = [0.03, 0.223, 0.1, 0.4, 2.931, 0.122, 0.5934, 0.8472, 0.54]\n",
    "sent_3 = [0.13, 0.83, 0.827, 0.92, 0.1, 0.32, 0.28, 0.34, 0]"
   ]
  },
  {
   "cell_type": "code",
   "execution_count": 7,
   "id": "fe1948ee",
   "metadata": {
    "ExecuteTime": {
     "end_time": "2021-11-05T07:32:42.563304Z",
     "start_time": "2021-11-05T07:32:42.541328Z"
    }
   },
   "outputs": [
    {
     "name": "stdout",
     "output_type": "stream",
     "text": [
      "0.713722489605211\n"
     ]
    }
   ],
   "source": [
    "def cal_cosine_sim(v1, v2):\n",
    "    # 벡터 v1, v2 간 코사인 유사도를 계산 후 반환 \n",
    "    # v1과 v2의 내적\n",
    "    top = dot(v1, v2)\n",
    "    # 각각 입력 벡터의 크기\n",
    "    size1 = sqrt(dot(v1, v1)) # 자기 자신과의 내적 + 루트\n",
    "    size2 = sqrt(dot(v2, v2))\n",
    "    return top / (size1 * size2) # 내적 / 각 벡터 크기의 곱\n",
    "\n",
    "# 정의한 코사인 유도 계산 함수 확인 \n",
    "print(cal_cosine_sim(sent_1, sent_2))"
   ]
  },
  {
   "cell_type": "markdown",
   "id": "f56cd11a",
   "metadata": {},
   "source": [
    "### scipy의 distance.cosine() 함수를 이용한 코사인 유사도를 계산 "
   ]
  },
  {
   "cell_type": "markdown",
   "id": "72b5d728",
   "metadata": {},
   "source": [
    "* `distance.cosine()` 은 코사인 거리를 계산하기 때문에 유사도 = 1 - 거리 관계를 사용해서 유사도로 변환"
   ]
  },
  {
   "cell_type": "code",
   "execution_count": 9,
   "id": "bb44fb83",
   "metadata": {
    "ExecuteTime": {
     "end_time": "2021-11-05T07:33:52.823757Z",
     "start_time": "2021-11-05T07:33:52.810706Z"
    }
   },
   "outputs": [
    {
     "name": "stdout",
     "output_type": "stream",
     "text": [
      "0.7137224896052109\n"
     ]
    }
   ],
   "source": [
    "scipy_cosine_sim = 1 - distance.cosine(sent_1, sent_2)\n",
    "\n",
    "# scipy를 이용해 계산한 코사인 유사도 확인 \n",
    "print(scipy_cosine_sim)"
   ]
  },
  {
   "cell_type": "markdown",
   "id": "771996a9",
   "metadata": {},
   "source": [
    "### scikit-learn의 pairwise.cosine_similarity() 함수를 이용한 코사인 유사도 계산"
   ]
  },
  {
   "cell_type": "code",
   "execution_count": 10,
   "id": "99415fa5",
   "metadata": {
    "ExecuteTime": {
     "end_time": "2021-11-05T07:33:57.695365Z",
     "start_time": "2021-11-05T07:33:57.677366Z"
    }
   },
   "outputs": [
    {
     "name": "stdout",
     "output_type": "stream",
     "text": [
      "[[1.         0.71372249 0.4876509 ]\n",
      " [0.71372249 1.         0.2801926 ]\n",
      " [0.4876509  0.2801926  1.        ]]\n"
     ]
    }
   ],
   "source": [
    " all_sent = [sent_1] + [sent_2] + [sent_3]\n",
    "scikit_learn_cosine_sim  = pairwise.cosine_similarity(all_sent)\n",
    "\n",
    "# scikit-learn을 이용해 계산한 코사인 유사도 확인 \n",
    "print(scikit_learn_cosine_sim)"
   ]
  },
  {
   "cell_type": "code",
   "execution_count": null,
   "id": "200ef962",
   "metadata": {},
   "outputs": [],
   "source": []
  }
 ],
 "metadata": {
  "hide_input": false,
  "kernelspec": {
   "display_name": "Python 3",
   "language": "python",
   "name": "python3"
  },
  "language_info": {
   "codemirror_mode": {
    "name": "ipython",
    "version": 3
   },
   "file_extension": ".py",
   "mimetype": "text/x-python",
   "name": "python",
   "nbconvert_exporter": "python",
   "pygments_lexer": "ipython3",
   "version": "3.8.8"
  },
  "toc": {
   "base_numbering": 1,
   "nav_menu": {},
   "number_sections": true,
   "sideBar": true,
   "skip_h1_title": false,
   "title_cell": "Table of Contents",
   "title_sidebar": "Contents",
   "toc_cell": false,
   "toc_position": {},
   "toc_section_display": true,
   "toc_window_display": false
  },
  "varInspector": {
   "cols": {
    "lenName": 16,
    "lenType": 16,
    "lenVar": 40
   },
   "kernels_config": {
    "python": {
     "delete_cmd_postfix": "",
     "delete_cmd_prefix": "del ",
     "library": "var_list.py",
     "varRefreshCmd": "print(var_dic_list())"
    },
    "r": {
     "delete_cmd_postfix": ") ",
     "delete_cmd_prefix": "rm(",
     "library": "var_list.r",
     "varRefreshCmd": "cat(var_dic_list()) "
    }
   },
   "types_to_exclude": [
    "module",
    "function",
    "builtin_function_or_method",
    "instance",
    "_Feature"
   ],
   "window_display": false
  }
 },
 "nbformat": 4,
 "nbformat_minor": 5
}
