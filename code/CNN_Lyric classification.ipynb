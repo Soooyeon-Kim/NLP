{
 "cells": [
  {
   "cell_type": "code",
   "execution_count": 9,
   "id": "9aa91044",
   "metadata": {
    "ExecuteTime": {
     "end_time": "2021-11-18T11:46:45.104768Z",
     "start_time": "2021-11-18T11:46:41.976632Z"
    }
   },
   "outputs": [],
   "source": [
    "import re\n",
    "import requests\n",
    "from bs4 import BeautifulSoup\n",
    "import pandas as pd\n",
    "from konlpy.tag import Okt  \n",
    "okt = Okt() \n",
    "import tensorflow as tf\n",
    "import numpy as np\n",
    "from collections import Counter\n",
    "from konlpy.tag import Komoran\n",
    "komoran = Komoran()\n",
    "from wordcloud import WordCloud\n",
    "import matplotlib.pyplot as plt\n",
    "\n",
    "\n",
    "import urllib.request\n",
    "from tqdm import tqdm\n",
    "from tensorflow.keras.preprocessing.text import Tokenizer\n",
    "from tensorflow.keras.preprocessing.sequence import pad_sequences\n",
    "from tensorflow.keras.callbacks import EarlyStopping, ModelCheckpoint\n",
    "from tensorflow.keras import layers\n",
    "import os\n",
    "import json"
   ]
  },
  {
   "cell_type": "code",
   "execution_count": 10,
   "id": "22ab0c36",
   "metadata": {
    "ExecuteTime": {
     "end_time": "2021-11-18T11:46:45.756417Z",
     "start_time": "2021-11-18T11:46:45.109668Z"
    }
   },
   "outputs": [],
   "source": [
    "import matplotlib.pyplot as plt \n",
    "%matplotlib inline\n",
    "from string import punctuation\n",
    "import warnings\n",
    "warnings.filterwarnings('ignore')"
   ]
  },
  {
   "cell_type": "code",
   "execution_count": 12,
   "id": "3d672ec0",
   "metadata": {
    "ExecuteTime": {
     "end_time": "2021-11-18T11:46:45.820022Z",
     "start_time": "2021-11-18T11:46:45.773915Z"
    }
   },
   "outputs": [],
   "source": [
    "jdf = pd.read_csv('pre_joy_list.csv')"
   ]
  },
  {
   "cell_type": "code",
   "execution_count": 13,
   "id": "cc73d993",
   "metadata": {
    "ExecuteTime": {
     "end_time": "2021-11-18T11:46:45.852061Z",
     "start_time": "2021-11-18T11:46:45.821915Z"
    }
   },
   "outputs": [],
   "source": [
    "sdf = pd.read_csv('pre_sad_list.csv')"
   ]
  },
  {
   "cell_type": "code",
   "execution_count": 14,
   "id": "db2298ce",
   "metadata": {
    "ExecuteTime": {
     "end_time": "2021-11-18T11:46:45.883950Z",
     "start_time": "2021-11-18T11:46:45.853918Z"
    }
   },
   "outputs": [
    {
     "name": "stdout",
     "output_type": "stream",
     "text": [
      "<class 'pandas.core.frame.DataFrame'>\n",
      "RangeIndex: 531 entries, 0 to 530\n",
      "Data columns (total 10 columns):\n",
      " #   Column      Non-Null Count  Dtype \n",
      "---  ------      --------------  ----- \n",
      " 0   index       531 non-null    int64 \n",
      " 1   song_id     531 non-null    int64 \n",
      " 2   song_name   531 non-null    object\n",
      " 3   artist      531 non-null    object\n",
      " 4   album       531 non-null    object\n",
      " 5   Like_Count  531 non-null    object\n",
      " 6   Lyric       521 non-null    object\n",
      " 7   cover_url   531 non-null    object\n",
      " 8   words       531 non-null    object\n",
      " 9   label       531 non-null    int64 \n",
      "dtypes: int64(3), object(7)\n",
      "memory usage: 41.6+ KB\n"
     ]
    }
   ],
   "source": [
    "jsdf = sdf.append(jdf)\n",
    "jsdf.reset_index(inplace=True)\n",
    "jsdf.info()"
   ]
  },
  {
   "cell_type": "code",
   "execution_count": 15,
   "id": "9bc3c485",
   "metadata": {
    "ExecuteTime": {
     "end_time": "2021-11-18T11:46:45.898949Z",
     "start_time": "2021-11-18T11:46:45.885916Z"
    }
   },
   "outputs": [],
   "source": [
    "from sklearn.model_selection import train_test_split"
   ]
  },
  {
   "cell_type": "code",
   "execution_count": 16,
   "id": "3788f86a",
   "metadata": {
    "ExecuteTime": {
     "end_time": "2021-11-18T11:46:45.914920Z",
     "start_time": "2021-11-18T11:46:45.901917Z"
    }
   },
   "outputs": [],
   "source": [
    "train_data, test_data = train_test_split(\n",
    "  jsdf,\n",
    "  test_size = 0.25,\n",
    "  random_state = 5\n",
    ")"
   ]
  },
  {
   "cell_type": "code",
   "execution_count": 17,
   "id": "fd1150a3",
   "metadata": {
    "ExecuteTime": {
     "end_time": "2021-11-18T11:46:45.930921Z",
     "start_time": "2021-11-18T11:46:45.917936Z"
    }
   },
   "outputs": [
    {
     "name": "stdout",
     "output_type": "stream",
     "text": [
      "훈련 샘플의 개수 : 398\n",
      "테스트 샘플의 개수 : 133\n"
     ]
    }
   ],
   "source": [
    "print('훈련 샘플의 개수 :',len(train_data)) # 훈련용 리뷰 개수 출력\n",
    "print('테스트 샘플의 개수 :',len(test_data)) # 테스트용 리뷰 개수 출력"
   ]
  },
  {
   "cell_type": "code",
   "execution_count": 18,
   "id": "069d4931",
   "metadata": {
    "ExecuteTime": {
     "end_time": "2021-11-18T11:46:45.946952Z",
     "start_time": "2021-11-18T11:46:45.933973Z"
    }
   },
   "outputs": [
    {
     "data": {
      "text/html": [
       "<div>\n",
       "<style scoped>\n",
       "    .dataframe tbody tr th:only-of-type {\n",
       "        vertical-align: middle;\n",
       "    }\n",
       "\n",
       "    .dataframe tbody tr th {\n",
       "        vertical-align: top;\n",
       "    }\n",
       "\n",
       "    .dataframe thead th {\n",
       "        text-align: right;\n",
       "    }\n",
       "</style>\n",
       "<table border=\"1\" class=\"dataframe\">\n",
       "  <thead>\n",
       "    <tr style=\"text-align: right;\">\n",
       "      <th></th>\n",
       "      <th>index</th>\n",
       "      <th>song_id</th>\n",
       "      <th>song_name</th>\n",
       "      <th>artist</th>\n",
       "      <th>album</th>\n",
       "      <th>Like_Count</th>\n",
       "      <th>Lyric</th>\n",
       "      <th>cover_url</th>\n",
       "      <th>words</th>\n",
       "      <th>label</th>\n",
       "    </tr>\n",
       "  </thead>\n",
       "  <tbody>\n",
       "    <tr>\n",
       "      <th>186</th>\n",
       "      <td>186</td>\n",
       "      <td>80208612</td>\n",
       "      <td>아름다운 이별 (Song By 옥주현)</td>\n",
       "      <td>김형석</td>\n",
       "      <td>김형석 With Friends</td>\n",
       "      <td>[2,584]</td>\n",
       "      <td>눈물이 흘러 이별인걸 알았어.  힘없이 돌아서던 너의 뒷모습을 바라보며  나만큼 너...</td>\n",
       "      <td>https://image.bugsm.co.kr/album/images/200/801...</td>\n",
       "      <td>['눈물이', '흘러', '이별인걸', '알았어.', '힘없이', '돌아서던', '...</td>\n",
       "      <td>0</td>\n",
       "    </tr>\n",
       "    <tr>\n",
       "      <th>131</th>\n",
       "      <td>131</td>\n",
       "      <td>31867978</td>\n",
       "      <td>처음처럼</td>\n",
       "      <td>엠씨더맥스 (M.C the MAX)</td>\n",
       "      <td>CEREMONIA</td>\n",
       "      <td>[3,358]</td>\n",
       "      <td>눈이 부시게 웃던 널 기억해  이제는 다시 볼 수 없게 됐지만  끝내 붙잡았던 기억...</td>\n",
       "      <td>https://image.bugsm.co.kr/album/images/200/203...</td>\n",
       "      <td>['눈이', '부시게', '웃던', '널', '기억해', '이제는', '다시', '...</td>\n",
       "      <td>0</td>\n",
       "    </tr>\n",
       "    <tr>\n",
       "      <th>140</th>\n",
       "      <td>140</td>\n",
       "      <td>31706106</td>\n",
       "      <td>나만 아픈 일</td>\n",
       "      <td>이해리</td>\n",
       "      <td>나만 아픈 일</td>\n",
       "      <td>[2,342]</td>\n",
       "      <td>멍하니 또 하루 종일  의미 없는 생각들만 했어  아니라고 아니라고  헤어지자 말하...</td>\n",
       "      <td>https://image.bugsm.co.kr/album/images/200/202...</td>\n",
       "      <td>['멍하니', '또', '하루', '종일', '의미', '없는', '생각들만', '...</td>\n",
       "      <td>0</td>\n",
       "    </tr>\n",
       "    <tr>\n",
       "      <th>285</th>\n",
       "      <td>37</td>\n",
       "      <td>4558347</td>\n",
       "      <td>Oh Boy</td>\n",
       "      <td>Red Velvet (레드벨벳)</td>\n",
       "      <td>The Red - The 1st Album</td>\n",
       "      <td>[6,130]</td>\n",
       "      <td>Oh Boy Oh Boy Oh Boy Oh Boy    Oh Boy 날 비춘 햇빛 ...</td>\n",
       "      <td>https://image.bugsm.co.kr/album/images/200/530...</td>\n",
       "      <td>['Oh', 'Boy', 'Oh', 'Boy', 'Oh', 'Boy', 'Oh', ...</td>\n",
       "      <td>1</td>\n",
       "    </tr>\n",
       "    <tr>\n",
       "      <th>507</th>\n",
       "      <td>259</td>\n",
       "      <td>3977739</td>\n",
       "      <td>왼손을 잡고</td>\n",
       "      <td>케이윌</td>\n",
       "      <td>[RE:]</td>\n",
       "      <td>[794]</td>\n",
       "      <td>매일 보던 넌데   오늘따라 왜이리 떨리니  어제는 생각이 많아서   좀처럼 잠들지...</td>\n",
       "      <td>https://image.bugsm.co.kr/album/images/200/492...</td>\n",
       "      <td>['매일', '보던', '넌데', '오늘따라', '왜이리', '떨리니', '어제는'...</td>\n",
       "      <td>1</td>\n",
       "    </tr>\n",
       "  </tbody>\n",
       "</table>\n",
       "</div>"
      ],
      "text/plain": [
       "     index   song_id              song_name               artist  \\\n",
       "186    186  80208612  아름다운 이별 (Song By 옥주현)                  김형석   \n",
       "131    131  31867978                   처음처럼  엠씨더맥스 (M.C the MAX)   \n",
       "140    140  31706106                나만 아픈 일                  이해리   \n",
       "285     37   4558347                 Oh Boy    Red Velvet (레드벨벳)   \n",
       "507    259   3977739                 왼손을 잡고                  케이윌   \n",
       "\n",
       "                       album Like_Count  \\\n",
       "186         김형석 With Friends    [2,584]   \n",
       "131                CEREMONIA    [3,358]   \n",
       "140                  나만 아픈 일    [2,342]   \n",
       "285  The Red - The 1st Album    [6,130]   \n",
       "507                    [RE:]      [794]   \n",
       "\n",
       "                                                 Lyric  \\\n",
       "186  눈물이 흘러 이별인걸 알았어.  힘없이 돌아서던 너의 뒷모습을 바라보며  나만큼 너...   \n",
       "131  눈이 부시게 웃던 널 기억해  이제는 다시 볼 수 없게 됐지만  끝내 붙잡았던 기억...   \n",
       "140  멍하니 또 하루 종일  의미 없는 생각들만 했어  아니라고 아니라고  헤어지자 말하...   \n",
       "285  Oh Boy Oh Boy Oh Boy Oh Boy    Oh Boy 날 비춘 햇빛 ...   \n",
       "507  매일 보던 넌데   오늘따라 왜이리 떨리니  어제는 생각이 많아서   좀처럼 잠들지...   \n",
       "\n",
       "                                             cover_url  \\\n",
       "186  https://image.bugsm.co.kr/album/images/200/801...   \n",
       "131  https://image.bugsm.co.kr/album/images/200/203...   \n",
       "140  https://image.bugsm.co.kr/album/images/200/202...   \n",
       "285  https://image.bugsm.co.kr/album/images/200/530...   \n",
       "507  https://image.bugsm.co.kr/album/images/200/492...   \n",
       "\n",
       "                                                 words  label  \n",
       "186  ['눈물이', '흘러', '이별인걸', '알았어.', '힘없이', '돌아서던', '...      0  \n",
       "131  ['눈이', '부시게', '웃던', '널', '기억해', '이제는', '다시', '...      0  \n",
       "140  ['멍하니', '또', '하루', '종일', '의미', '없는', '생각들만', '...      0  \n",
       "285  ['Oh', 'Boy', 'Oh', 'Boy', 'Oh', 'Boy', 'Oh', ...      1  \n",
       "507  ['매일', '보던', '넌데', '오늘따라', '왜이리', '떨리니', '어제는'...      1  "
      ]
     },
     "execution_count": 18,
     "metadata": {},
     "output_type": "execute_result"
    }
   ],
   "source": [
    "train_data[:5] # 상위 5개 출력"
   ]
  },
  {
   "cell_type": "code",
   "execution_count": 19,
   "id": "2738e63d",
   "metadata": {
    "ExecuteTime": {
     "end_time": "2021-11-18T11:46:45.962916Z",
     "start_time": "2021-11-18T11:46:45.949917Z"
    }
   },
   "outputs": [
    {
     "data": {
      "text/plain": [
       "(385, 2)"
      ]
     },
     "execution_count": 19,
     "metadata": {},
     "output_type": "execute_result"
    }
   ],
   "source": [
    "train_data['Lyric'].nunique(), train_data['label'].nunique()"
   ]
  },
  {
   "cell_type": "code",
   "execution_count": 20,
   "id": "a871905e",
   "metadata": {
    "ExecuteTime": {
     "end_time": "2021-11-18T11:46:45.977916Z",
     "start_time": "2021-11-18T11:46:45.964922Z"
    }
   },
   "outputs": [],
   "source": [
    "train_data.drop_duplicates(subset=['Lyric'], inplace=True) # document 열에서 중복인 내용이 있다면 중복 제거"
   ]
  },
  {
   "cell_type": "code",
   "execution_count": 21,
   "id": "99fc295a",
   "metadata": {
    "ExecuteTime": {
     "end_time": "2021-11-18T11:46:45.993954Z",
     "start_time": "2021-11-18T11:46:45.979915Z"
    }
   },
   "outputs": [
    {
     "name": "stdout",
     "output_type": "stream",
     "text": [
      "총 샘플의 수 : 386\n"
     ]
    }
   ],
   "source": [
    "print('총 샘플의 수 :',len(train_data))"
   ]
  },
  {
   "cell_type": "code",
   "execution_count": 22,
   "id": "49ae749e",
   "metadata": {
    "ExecuteTime": {
     "end_time": "2021-11-18T11:46:46.182959Z",
     "start_time": "2021-11-18T11:46:45.996945Z"
    }
   },
   "outputs": [
    {
     "data": {
      "text/plain": [
       "<AxesSubplot:>"
      ]
     },
     "execution_count": 22,
     "metadata": {},
     "output_type": "execute_result"
    },
    {
     "data": {
      "image/png": "[encoded data removed]",
      "text/plain": [
       "<Figure size 432x288 with 1 Axes>"
      ]
     },
     "metadata": {
      "needs_background": "light"
     },
     "output_type": "display_data"
    }
   ],
   "source": [
    "train_data['label'].value_counts().plot(kind = 'bar')"
   ]
  },
  {
   "cell_type": "code",
   "execution_count": 25,
   "id": "b32a8691",
   "metadata": {
    "ExecuteTime": {
     "end_time": "2021-11-18T11:46:46.484915Z",
     "start_time": "2021-11-18T11:46:46.470916Z"
    }
   },
   "outputs": [
    {
     "name": "stdout",
     "output_type": "stream",
     "text": [
      "   label  count\n",
      "0      0    179\n",
      "1      1    207\n"
     ]
    }
   ],
   "source": [
    "print(train_data.groupby('label').size().reset_index(name = 'count'))"
   ]
  },
  {
   "cell_type": "code",
   "execution_count": 26,
   "id": "bf7bf242",
   "metadata": {
    "ExecuteTime": {
     "end_time": "2021-11-18T11:46:46.499916Z",
     "start_time": "2021-11-18T11:46:46.486914Z"
    }
   },
   "outputs": [
    {
     "name": "stdout",
     "output_type": "stream",
     "text": [
      "True\n"
     ]
    }
   ],
   "source": [
    "print(train_data.isnull().values.any())"
   ]
  },
  {
   "cell_type": "code",
   "execution_count": 27,
   "id": "229c4039",
   "metadata": {
    "ExecuteTime": {
     "end_time": "2021-11-18T11:46:46.515915Z",
     "start_time": "2021-11-18T11:46:46.501921Z"
    }
   },
   "outputs": [
    {
     "name": "stdout",
     "output_type": "stream",
     "text": [
      "index         0\n",
      "song_id       0\n",
      "song_name     0\n",
      "artist        0\n",
      "album         0\n",
      "Like_Count    0\n",
      "Lyric         1\n",
      "cover_url     0\n",
      "words         0\n",
      "label         0\n",
      "dtype: int64\n"
     ]
    }
   ],
   "source": [
    "print(train_data.isnull().sum())"
   ]
  },
  {
   "cell_type": "code",
   "execution_count": 28,
   "id": "d367898c",
   "metadata": {
    "ExecuteTime": {
     "end_time": "2021-11-18T11:46:46.531924Z",
     "start_time": "2021-11-18T11:46:46.517915Z"
    }
   },
   "outputs": [
    {
     "data": {
      "text/html": [
       "<div>\n",
       "<style scoped>\n",
       "    .dataframe tbody tr th:only-of-type {\n",
       "        vertical-align: middle;\n",
       "    }\n",
       "\n",
       "    .dataframe tbody tr th {\n",
       "        vertical-align: top;\n",
       "    }\n",
       "\n",
       "    .dataframe thead th {\n",
       "        text-align: right;\n",
       "    }\n",
       "</style>\n",
       "<table border=\"1\" class=\"dataframe\">\n",
       "  <thead>\n",
       "    <tr style=\"text-align: right;\">\n",
       "      <th></th>\n",
       "      <th>index</th>\n",
       "      <th>song_id</th>\n",
       "      <th>song_name</th>\n",
       "      <th>artist</th>\n",
       "      <th>album</th>\n",
       "      <th>Like_Count</th>\n",
       "      <th>Lyric</th>\n",
       "      <th>cover_url</th>\n",
       "      <th>words</th>\n",
       "      <th>label</th>\n",
       "    </tr>\n",
       "  </thead>\n",
       "  <tbody>\n",
       "    <tr>\n",
       "      <th>224</th>\n",
       "      <td>224</td>\n",
       "      <td>3877117</td>\n",
       "      <td>돌이킬 수 없는 걸음 (장화홍련, 메모리즈 OST)</td>\n",
       "      <td>Ttoyo Studio Orchestra</td>\n",
       "      <td>The Good Movie Music</td>\n",
       "      <td>[166]</td>\n",
       "      <td>NaN</td>\n",
       "      <td>https://image.bugsm.co.kr/album/images/200/479...</td>\n",
       "      <td>[]</td>\n",
       "      <td>0</td>\n",
       "    </tr>\n",
       "  </tbody>\n",
       "</table>\n",
       "</div>"
      ],
      "text/plain": [
       "     index  song_id                     song_name                  artist  \\\n",
       "224    224  3877117  돌이킬 수 없는 걸음 (장화홍련, 메모리즈 OST)  Ttoyo Studio Orchestra   \n",
       "\n",
       "                    album Like_Count Lyric  \\\n",
       "224  The Good Movie Music      [166]   NaN   \n",
       "\n",
       "                                             cover_url words  label  \n",
       "224  https://image.bugsm.co.kr/album/images/200/479...    []      0  "
      ]
     },
     "execution_count": 28,
     "metadata": {},
     "output_type": "execute_result"
    }
   ],
   "source": [
    "train_data.loc[train_data.Lyric.isnull()]"
   ]
  },
  {
   "cell_type": "code",
   "execution_count": 29,
   "id": "24b76c85",
   "metadata": {
    "ExecuteTime": {
     "end_time": "2021-11-18T11:46:46.563954Z",
     "start_time": "2021-11-18T11:46:46.534957Z"
    }
   },
   "outputs": [
    {
     "name": "stdout",
     "output_type": "stream",
     "text": [
      "False\n"
     ]
    }
   ],
   "source": [
    "train_data = train_data.dropna(how = 'any') # Null 값이 존재하는 행 제거\n",
    "print(train_data.isnull().values.any()) # Null 값이 존재하는지 확인"
   ]
  },
  {
   "cell_type": "code",
   "execution_count": 30,
   "id": "0ad03dc1",
   "metadata": {
    "ExecuteTime": {
     "end_time": "2021-11-18T11:46:46.579916Z",
     "start_time": "2021-11-18T11:46:46.565951Z"
    }
   },
   "outputs": [
    {
     "name": "stdout",
     "output_type": "stream",
     "text": [
      "385\n"
     ]
    }
   ],
   "source": [
    "print(len(train_data))"
   ]
  },
  {
   "cell_type": "code",
   "execution_count": 31,
   "id": "64609b72",
   "metadata": {
    "ExecuteTime": {
     "end_time": "2021-11-18T11:46:46.611919Z",
     "start_time": "2021-11-18T11:46:46.585922Z"
    }
   },
   "outputs": [
    {
     "data": {
      "text/html": [
       "<div>\n",
       "<style scoped>\n",
       "    .dataframe tbody tr th:only-of-type {\n",
       "        vertical-align: middle;\n",
       "    }\n",
       "\n",
       "    .dataframe tbody tr th {\n",
       "        vertical-align: top;\n",
       "    }\n",
       "\n",
       "    .dataframe thead th {\n",
       "        text-align: right;\n",
       "    }\n",
       "</style>\n",
       "<table border=\"1\" class=\"dataframe\">\n",
       "  <thead>\n",
       "    <tr style=\"text-align: right;\">\n",
       "      <th></th>\n",
       "      <th>index</th>\n",
       "      <th>song_id</th>\n",
       "      <th>song_name</th>\n",
       "      <th>artist</th>\n",
       "      <th>album</th>\n",
       "      <th>Like_Count</th>\n",
       "      <th>Lyric</th>\n",
       "      <th>cover_url</th>\n",
       "      <th>words</th>\n",
       "      <th>label</th>\n",
       "    </tr>\n",
       "  </thead>\n",
       "  <tbody>\n",
       "    <tr>\n",
       "      <th>186</th>\n",
       "      <td>186</td>\n",
       "      <td>80208612</td>\n",
       "      <td>아름다운 이별 (Song By 옥주현)</td>\n",
       "      <td>김형석</td>\n",
       "      <td>김형석 With Friends</td>\n",
       "      <td>[2,584]</td>\n",
       "      <td>눈물이 흘러 이별인걸 알았어  힘없이 돌아서던 너의 뒷모습을 바라보며  나만큼 너도...</td>\n",
       "      <td>https://image.bugsm.co.kr/album/images/200/801...</td>\n",
       "      <td>['눈물이', '흘러', '이별인걸', '알았어.', '힘없이', '돌아서던', '...</td>\n",
       "      <td>0</td>\n",
       "    </tr>\n",
       "    <tr>\n",
       "      <th>131</th>\n",
       "      <td>131</td>\n",
       "      <td>31867978</td>\n",
       "      <td>처음처럼</td>\n",
       "      <td>엠씨더맥스 (M.C the MAX)</td>\n",
       "      <td>CEREMONIA</td>\n",
       "      <td>[3,358]</td>\n",
       "      <td>눈이 부시게 웃던 널 기억해  이제는 다시 볼 수 없게 됐지만  끝내 붙잡았던 기억...</td>\n",
       "      <td>https://image.bugsm.co.kr/album/images/200/203...</td>\n",
       "      <td>['눈이', '부시게', '웃던', '널', '기억해', '이제는', '다시', '...</td>\n",
       "      <td>0</td>\n",
       "    </tr>\n",
       "    <tr>\n",
       "      <th>140</th>\n",
       "      <td>140</td>\n",
       "      <td>31706106</td>\n",
       "      <td>나만 아픈 일</td>\n",
       "      <td>이해리</td>\n",
       "      <td>나만 아픈 일</td>\n",
       "      <td>[2,342]</td>\n",
       "      <td>멍하니 또 하루 종일  의미 없는 생각들만 했어  아니라고 아니라고  헤어지자 말하...</td>\n",
       "      <td>https://image.bugsm.co.kr/album/images/200/202...</td>\n",
       "      <td>['멍하니', '또', '하루', '종일', '의미', '없는', '생각들만', '...</td>\n",
       "      <td>0</td>\n",
       "    </tr>\n",
       "    <tr>\n",
       "      <th>285</th>\n",
       "      <td>37</td>\n",
       "      <td>4558347</td>\n",
       "      <td>Oh Boy</td>\n",
       "      <td>Red Velvet (레드벨벳)</td>\n",
       "      <td>The Red - The 1st Album</td>\n",
       "      <td>[6,130]</td>\n",
       "      <td>날 비춘 햇빛     모두 네 눈빛   넌 너무 눈이 부셔 ...</td>\n",
       "      <td>https://image.bugsm.co.kr/album/images/200/530...</td>\n",
       "      <td>['Oh', 'Boy', 'Oh', 'Boy', 'Oh', 'Boy', 'Oh', ...</td>\n",
       "      <td>1</td>\n",
       "    </tr>\n",
       "    <tr>\n",
       "      <th>507</th>\n",
       "      <td>259</td>\n",
       "      <td>3977739</td>\n",
       "      <td>왼손을 잡고</td>\n",
       "      <td>케이윌</td>\n",
       "      <td>[RE:]</td>\n",
       "      <td>[794]</td>\n",
       "      <td>매일 보던 넌데   오늘따라 왜이리 떨리니  어제는 생각이 많아서   좀처럼 잠들지...</td>\n",
       "      <td>https://image.bugsm.co.kr/album/images/200/492...</td>\n",
       "      <td>['매일', '보던', '넌데', '오늘따라', '왜이리', '떨리니', '어제는'...</td>\n",
       "      <td>1</td>\n",
       "    </tr>\n",
       "  </tbody>\n",
       "</table>\n",
       "</div>"
      ],
      "text/plain": [
       "     index   song_id              song_name               artist  \\\n",
       "186    186  80208612  아름다운 이별 (Song By 옥주현)                  김형석   \n",
       "131    131  31867978                   처음처럼  엠씨더맥스 (M.C the MAX)   \n",
       "140    140  31706106                나만 아픈 일                  이해리   \n",
       "285     37   4558347                 Oh Boy    Red Velvet (레드벨벳)   \n",
       "507    259   3977739                 왼손을 잡고                  케이윌   \n",
       "\n",
       "                       album Like_Count  \\\n",
       "186         김형석 With Friends    [2,584]   \n",
       "131                CEREMONIA    [3,358]   \n",
       "140                  나만 아픈 일    [2,342]   \n",
       "285  The Red - The 1st Album    [6,130]   \n",
       "507                    [RE:]      [794]   \n",
       "\n",
       "                                                 Lyric  \\\n",
       "186  눈물이 흘러 이별인걸 알았어  힘없이 돌아서던 너의 뒷모습을 바라보며  나만큼 너도...   \n",
       "131  눈이 부시게 웃던 널 기억해  이제는 다시 볼 수 없게 됐지만  끝내 붙잡았던 기억...   \n",
       "140  멍하니 또 하루 종일  의미 없는 생각들만 했어  아니라고 아니라고  헤어지자 말하...   \n",
       "285               날 비춘 햇빛     모두 네 눈빛   넌 너무 눈이 부셔 ...   \n",
       "507  매일 보던 넌데   오늘따라 왜이리 떨리니  어제는 생각이 많아서   좀처럼 잠들지...   \n",
       "\n",
       "                                             cover_url  \\\n",
       "186  https://image.bugsm.co.kr/album/images/200/801...   \n",
       "131  https://image.bugsm.co.kr/album/images/200/203...   \n",
       "140  https://image.bugsm.co.kr/album/images/200/202...   \n",
       "285  https://image.bugsm.co.kr/album/images/200/530...   \n",
       "507  https://image.bugsm.co.kr/album/images/200/492...   \n",
       "\n",
       "                                                 words  label  \n",
       "186  ['눈물이', '흘러', '이별인걸', '알았어.', '힘없이', '돌아서던', '...      0  \n",
       "131  ['눈이', '부시게', '웃던', '널', '기억해', '이제는', '다시', '...      0  \n",
       "140  ['멍하니', '또', '하루', '종일', '의미', '없는', '생각들만', '...      0  \n",
       "285  ['Oh', 'Boy', 'Oh', 'Boy', 'Oh', 'Boy', 'Oh', ...      1  \n",
       "507  ['매일', '보던', '넌데', '오늘따라', '왜이리', '떨리니', '어제는'...      1  "
      ]
     },
     "execution_count": 31,
     "metadata": {},
     "output_type": "execute_result"
    }
   ],
   "source": [
    "train_data['Lyric'] = train_data['Lyric'].str.replace(\"[^ㄱ-ㅎㅏ-ㅣ가-힣 ]\",\"\")\n",
    "# 한글과 공백을 제외하고 모두 제거\n",
    "train_data[:5]"
   ]
  },
  {
   "cell_type": "code",
   "execution_count": 32,
   "id": "11e1e9e4",
   "metadata": {
    "ExecuteTime": {
     "end_time": "2021-11-18T11:46:46.642950Z",
     "start_time": "2021-11-18T11:46:46.614916Z"
    }
   },
   "outputs": [
    {
     "name": "stdout",
     "output_type": "stream",
     "text": [
      "index         0\n",
      "song_id       0\n",
      "song_name     0\n",
      "artist        0\n",
      "album         0\n",
      "Like_Count    0\n",
      "Lyric         4\n",
      "cover_url     0\n",
      "words         0\n",
      "label         0\n",
      "dtype: int64\n"
     ]
    }
   ],
   "source": [
    "train_data['Lyric'] = train_data['Lyric'].str.replace('^ +', \"\") # white space 데이터를 empty value로 변경\n",
    "train_data['Lyric'].replace('', np.nan, inplace=True)\n",
    "print(train_data.isnull().sum())"
   ]
  },
  {
   "cell_type": "code",
   "execution_count": 33,
   "id": "2d7d2b5e",
   "metadata": {
    "ExecuteTime": {
     "end_time": "2021-11-18T11:46:46.658916Z",
     "start_time": "2021-11-18T11:46:46.644916Z"
    }
   },
   "outputs": [
    {
     "data": {
      "text/html": [
       "<div>\n",
       "<style scoped>\n",
       "    .dataframe tbody tr th:only-of-type {\n",
       "        vertical-align: middle;\n",
       "    }\n",
       "\n",
       "    .dataframe tbody tr th {\n",
       "        vertical-align: top;\n",
       "    }\n",
       "\n",
       "    .dataframe thead th {\n",
       "        text-align: right;\n",
       "    }\n",
       "</style>\n",
       "<table border=\"1\" class=\"dataframe\">\n",
       "  <thead>\n",
       "    <tr style=\"text-align: right;\">\n",
       "      <th></th>\n",
       "      <th>index</th>\n",
       "      <th>song_id</th>\n",
       "      <th>song_name</th>\n",
       "      <th>artist</th>\n",
       "      <th>album</th>\n",
       "      <th>Like_Count</th>\n",
       "      <th>Lyric</th>\n",
       "      <th>cover_url</th>\n",
       "      <th>words</th>\n",
       "      <th>label</th>\n",
       "    </tr>\n",
       "  </thead>\n",
       "  <tbody>\n",
       "    <tr>\n",
       "      <th>434</th>\n",
       "      <td>186</td>\n",
       "      <td>5896896</td>\n",
       "      <td>fallin (feat.Liss)</td>\n",
       "      <td>죠지</td>\n",
       "      <td>fallin (feat.Liss)</td>\n",
       "      <td>[559]</td>\n",
       "      <td>NaN</td>\n",
       "      <td>https://image.bugsm.co.kr/album/images/200/978...</td>\n",
       "      <td>[\"Don't\", 'know', 'what', \"I've\", 'been', 'thi...</td>\n",
       "      <td>1</td>\n",
       "    </tr>\n",
       "    <tr>\n",
       "      <th>469</th>\n",
       "      <td>221</td>\n",
       "      <td>32338490</td>\n",
       "      <td>xo</td>\n",
       "      <td>G. Nine</td>\n",
       "      <td>xo</td>\n",
       "      <td>[23]</td>\n",
       "      <td>NaN</td>\n",
       "      <td>https://image.bugsm.co.kr/album/images/200/204...</td>\n",
       "      <td>['Er', 'ya', 'this', \"song's\", 'for', 'ya', 'H...</td>\n",
       "      <td>1</td>\n",
       "    </tr>\n",
       "    <tr>\n",
       "      <th>425</th>\n",
       "      <td>177</td>\n",
       "      <td>32321750</td>\n",
       "      <td>So In Love (Feat. Filipe Santos)</td>\n",
       "      <td>vvav (웨이브)</td>\n",
       "      <td>So In Love</td>\n",
       "      <td>[18]</td>\n",
       "      <td>NaN</td>\n",
       "      <td>https://image.bugsm.co.kr/album/images/200/204...</td>\n",
       "      <td>['I', \"don't\", 'know', 'where', 'to', 'start',...</td>\n",
       "      <td>1</td>\n",
       "    </tr>\n",
       "    <tr>\n",
       "      <th>225</th>\n",
       "      <td>225</td>\n",
       "      <td>1814881</td>\n",
       "      <td>24-25</td>\n",
       "      <td>Kings Of Convenience(킹스 오브 컨비니언스)</td>\n",
       "      <td>Declaration Of Dependence</td>\n",
       "      <td>[2,637]</td>\n",
       "      <td>NaN</td>\n",
       "      <td>https://image.bugsm.co.kr/album/images/200/201...</td>\n",
       "      <td>[\"She'll\", 'be', 'gone', 'soon', 'You', 'can',...</td>\n",
       "      <td>0</td>\n",
       "    </tr>\n",
       "  </tbody>\n",
       "</table>\n",
       "</div>"
      ],
      "text/plain": [
       "     index   song_id                         song_name  \\\n",
       "434    186   5896896                fallin (feat.Liss)   \n",
       "469    221  32338490                                xo   \n",
       "425    177  32321750  So In Love (Feat. Filipe Santos)   \n",
       "225    225   1814881                             24-25   \n",
       "\n",
       "                                artist                      album Like_Count  \\\n",
       "434                                 죠지         fallin (feat.Liss)      [559]   \n",
       "469                            G. Nine                         xo       [23]   \n",
       "425                         vvav (웨이브)                 So In Love       [18]   \n",
       "225  Kings Of Convenience(킹스 오브 컨비니언스)  Declaration Of Dependence    [2,637]   \n",
       "\n",
       "    Lyric                                          cover_url  \\\n",
       "434   NaN  https://image.bugsm.co.kr/album/images/200/978...   \n",
       "469   NaN  https://image.bugsm.co.kr/album/images/200/204...   \n",
       "425   NaN  https://image.bugsm.co.kr/album/images/200/204...   \n",
       "225   NaN  https://image.bugsm.co.kr/album/images/200/201...   \n",
       "\n",
       "                                                 words  label  \n",
       "434  [\"Don't\", 'know', 'what', \"I've\", 'been', 'thi...      1  \n",
       "469  ['Er', 'ya', 'this', \"song's\", 'for', 'ya', 'H...      1  \n",
       "425  ['I', \"don't\", 'know', 'where', 'to', 'start',...      1  \n",
       "225  [\"She'll\", 'be', 'gone', 'soon', 'You', 'can',...      0  "
      ]
     },
     "execution_count": 33,
     "metadata": {},
     "output_type": "execute_result"
    }
   ],
   "source": [
    "train_data[train_data['Lyric'].isnull()]"
   ]
  },
  {
   "cell_type": "code",
   "execution_count": 34,
   "id": "97d51a53",
   "metadata": {
    "ExecuteTime": {
     "end_time": "2021-11-18T11:46:46.674953Z",
     "start_time": "2021-11-18T11:46:46.660919Z"
    }
   },
   "outputs": [],
   "source": [
    "train_data = train_data.dropna(how = 'any')"
   ]
  },
  {
   "cell_type": "code",
   "execution_count": 35,
   "id": "948ca1dc",
   "metadata": {
    "ExecuteTime": {
     "end_time": "2021-11-18T11:46:46.690954Z",
     "start_time": "2021-11-18T11:46:46.676916Z"
    }
   },
   "outputs": [
    {
     "name": "stdout",
     "output_type": "stream",
     "text": [
      "381\n"
     ]
    }
   ],
   "source": [
    "print(len(train_data))"
   ]
  },
  {
   "cell_type": "code",
   "execution_count": 36,
   "id": "43b7c70b",
   "metadata": {
    "ExecuteTime": {
     "end_time": "2021-11-18T11:46:46.722952Z",
     "start_time": "2021-11-18T11:46:46.691916Z"
    }
   },
   "outputs": [
    {
     "name": "stdout",
     "output_type": "stream",
     "text": [
      "전처리 후 테스트용 샘플의 개수 : 130\n"
     ]
    }
   ],
   "source": [
    "test_data.drop_duplicates(subset = ['Lyric'], inplace=True) # document 열에서 중복인 내용이 있다면 중복 제거\n",
    "test_data['Lyric'] = test_data['Lyric'].str.replace(\"[^ㄱ-ㅎㅏ-ㅣ가-힣 ]\",\"\") # 정규 표현식 수행\n",
    "test_data['Lyric'] = test_data['Lyric'].str.replace('^ +', \"\") # 공백은 empty 값으로 변경\n",
    "test_data['Lyric'].replace('', np.nan, inplace=True) # 공백은 Null 값으로 변경\n",
    "test_data = test_data.dropna(how='any') # Null 값 제거\n",
    "print('전처리 후 테스트용 샘플의 개수 :',len(test_data))"
   ]
  },
  {
   "cell_type": "code",
   "execution_count": 37,
   "id": "c2d03f63",
   "metadata": {
    "ExecuteTime": {
     "end_time": "2021-11-18T11:46:46.738951Z",
     "start_time": "2021-11-18T11:46:46.723916Z"
    }
   },
   "outputs": [
    {
     "name": "stdout",
     "output_type": "stream",
     "text": [
      "전처리 후 테스트용 샘플의 개수 : 130\n"
     ]
    }
   ],
   "source": [
    "print('전처리 후 테스트용 샘플의 개수 :',len(test_data))"
   ]
  },
  {
   "cell_type": "code",
   "execution_count": 38,
   "id": "0b13621c",
   "metadata": {
    "ExecuteTime": {
     "end_time": "2021-11-18T11:46:46.754949Z",
     "start_time": "2021-11-18T11:46:46.739915Z"
    }
   },
   "outputs": [],
   "source": [
    "stop_w = ['all','이렇게','네가','있는','니가','없는','너의','너무','그런',\n",
    "          'oh','whoo','tuesday','내가','너를','나를','we','this','the','그렇게',\n",
    "          'so','am','baby','and','can','you','much','me','for','go','in',\n",
    "          '은', '는', '이', '가', '하',\n",
    "          'know','no','of','let','my','사랑','수','너','내','나','그','난','봐','돼','건','모든',\n",
    "          '날','널','수','것','못','말','넌','젠','하나','정말','알','여기','우리','그대','다시',\n",
    "          '때','아','더','게','또','채','일','걸','누구','나는','너는','라면','같아','있어','지금',\n",
    "          '의','가','보','들','좀','잘','걍','과','도','를','으로','우린',\n",
    "          '자','에','와','한','하다','네','있다','나의','해','다','내게','왜','거야']"
   ]
  },
  {
   "cell_type": "code",
   "execution_count": 39,
   "id": "193845b0",
   "metadata": {
    "ExecuteTime": {
     "end_time": "2021-11-18T11:46:46.770918Z",
     "start_time": "2021-11-18T11:46:46.756919Z"
    }
   },
   "outputs": [],
   "source": [
    "stop_w = set(stop_w)"
   ]
  },
  {
   "cell_type": "code",
   "execution_count": 40,
   "id": "0fc64c29",
   "metadata": {
    "ExecuteTime": {
     "end_time": "2021-11-18T11:46:58.846569Z",
     "start_time": "2021-11-18T11:46:46.773921Z"
    }
   },
   "outputs": [
    {
     "name": "stderr",
     "output_type": "stream",
     "text": [
      "100%|████████████████████████████████████████████████████████████████████████████████| 381/381 [00:12<00:00, 31.62it/s]\n"
     ]
    }
   ],
   "source": [
    "X_train = []\n",
    "for sentence in tqdm(train_data['Lyric']):\n",
    "    tokenized_sentence = okt.morphs(sentence, stem=True) # 토큰화\n",
    "    stopwords_removed_sentence = [word for word in tokenized_sentence if not word in stop_w] # 불용어 제거\n",
    "    X_train.append(stopwords_removed_sentence)"
   ]
  },
  {
   "cell_type": "code",
   "execution_count": 41,
   "id": "535a6767",
   "metadata": {
    "ExecuteTime": {
     "end_time": "2021-11-18T11:47:00.913923Z",
     "start_time": "2021-11-18T11:46:58.849531Z"
    }
   },
   "outputs": [
    {
     "name": "stderr",
     "output_type": "stream",
     "text": [
      "100%|████████████████████████████████████████████████████████████████████████████████| 130/130 [00:02<00:00, 63.65it/s]\n"
     ]
    }
   ],
   "source": [
    "X_test = []\n",
    "for sentence in tqdm(test_data['Lyric']):\n",
    "    tokenized_sentence = okt.morphs(sentence, stem=True) # 토큰화\n",
    "    stopwords_removed_sentence = [word for word in tokenized_sentence if not word in stop_w] # 불용어 제거\n",
    "    X_test.append(stopwords_removed_sentence)"
   ]
  },
  {
   "cell_type": "code",
   "execution_count": 42,
   "id": "6e9923a9",
   "metadata": {
    "ExecuteTime": {
     "end_time": "2021-11-18T11:47:00.929924Z",
     "start_time": "2021-11-18T11:47:00.915921Z"
    }
   },
   "outputs": [
    {
     "name": "stdout",
     "output_type": "stream",
     "text": [
      "전처리 후 테스트용 샘플의 개수 : 130\n"
     ]
    }
   ],
   "source": [
    "print('전처리 후 테스트용 샘플의 개수 :',len(X_test))"
   ]
  },
  {
   "cell_type": "code",
   "execution_count": 43,
   "id": "c2774549",
   "metadata": {
    "ExecuteTime": {
     "end_time": "2021-11-18T11:47:04.730266Z",
     "start_time": "2021-11-18T11:47:04.717269Z"
    }
   },
   "outputs": [
    {
     "name": "stdout",
     "output_type": "stream",
     "text": [
      "긍정 리뷰 개수: 204\n",
      "부정 리뷰 개수: 177\n"
     ]
    }
   ],
   "source": [
    "print(\"긍정 리뷰 개수: {}\".format(train_data['label'].value_counts()[1]))\n",
    "print(\"부정 리뷰 개수: {}\".format(train_data['label'].value_counts()[0]))"
   ]
  },
  {
   "cell_type": "code",
   "execution_count": 44,
   "id": "2a3c087f",
   "metadata": {
    "ExecuteTime": {
     "end_time": "2021-11-18T11:47:06.760875Z",
     "start_time": "2021-11-18T11:47:06.708821Z"
    }
   },
   "outputs": [],
   "source": [
    "tokenizer = Tokenizer()\n",
    "tokenizer.fit_on_texts(X_train)"
   ]
  },
  {
   "cell_type": "code",
   "execution_count": 45,
   "id": "1d1b5a1f",
   "metadata": {
    "ExecuteTime": {
     "end_time": "2021-11-18T11:47:09.320255Z",
     "start_time": "2021-11-18T11:47:09.310261Z"
    }
   },
   "outputs": [
    {
     "name": "stdout",
     "output_type": "stream",
     "text": [
      "{'을': 1, '보다': 2, '없다': 3, '않다': 4, '같다': 5, '만': 6, '싶다': 7, '그렇다': 8, '좋다': 9, '사람': 10, '처럼': 11, '내다': 12, '맘': 13, '되다': 14, '마음': 15, '나르다': 16, '모르다': 17, '돼다': 18, '눈': 19, '로': 20, '오늘': 21, '니': 22, '생각': 23, '안': 24, '눈물': 25, '알다': 26, '잊다': 27, '에게': 28, '행복하다': 29, '대다': 30, '아프다': 31, '아니다': 32, '밤': 33, '시간': 34, '곁': 35, '에서': 36, '해주다': 37, '요': 38, '세상': 39, '버리다': 40, '주다': 41, '야': 42, '고': 43, '가다': 44, '오다': 45, '속': 46, '아무': 47, '이제': 48, '함께': 49, '웃다': 50, '하루': 51, '어떻다': 52, '떠나다': 53, '이다': 54, '나다': 55, '거': 56, '만나다': 57, '꿈': 58, '바라보다': 59, '기억': 60, '모습': 61, '엔': 62, '줄': 63, '하고': 64, '기다리다': 65, '자다': 66, '들다': 67, '가슴': 68, '이별': 69, '당신': 70, '마': 71, '괜찮다': 72, '순간': 73, '이렇다': 74, '손': 75, '보고': 76, '혼자': 77, '없이': 78, '다른': 79, '두': 80, '매일': 81, '차다': 82, '만들다': 83, '곳': 84, '까지': 85, '아직': 86, '보내다': 87, '인': 88, '뿐': 89, '처음': 90, '영원하다': 91, '모두': 92, '서': 93, '서로': 94, '추억': 95, '둘': 96, '많다': 97, '조금': 98, '살다': 99, '그때': 100, '받다': 101, '지': 102, '끝': 103, '면': 104, '미안하다': 105, '언제': 106, '보이다': 107, '노래': 108, '헤어지다': 109, '말다': 110, '많이': 111, '슬프다': 112, '바람': 113, '좋아하다': 114, '두다': 115, '그냥': 116, '위해': 117, '꼭': 118, '번': 119, '힘들다': 120, '지우다': 121, '그립다': 122, '쉬다': 123, '걸다': 124, '그저': 125, '이야': 126, '멈추다': 127, '해도': 128, '아름답다': 129, '자꾸': 130, '부터': 131, '안다': 132, '지키다': 133, '앞': 134, '어디': 135, '살': 136, '남다': 137, '위': 138, '후회': 139, '한번': 140, '마지막': 141, '바보': 142, '서다': 143, '저': 144, '척': 145, '볼': 146, '변하다': 147, '가끔': 148, '불다': 149, '놓다': 150, '느끼다': 151, '뭐': 152, '믿다': 153, '울다': 154, '단': 155, '니까': 156, '나오다': 157, '여자': 158, '되어다': 159, '길': 160, '래': 161, '내겐': 162, '그대로': 163, '울': 164, '늘': 165, '하늘': 166, '수가': 167, '온': 168, '미소': 169, '뒤': 170, '원하다': 171, '싫다': 172, '그게': 173, '언제나': 174, '기다': 175, '눈빛': 176, '예쁘다': 177, '항상': 178, '멀어지다': 179, '전': 180, '돌아오다': 181, '행복': 182, '멀다': 183, '가지': 184, '지치다': 185, '얘기': 186, '잡다': 187, '흐르다': 188, '하지만': 189, '작다': 190, '에도': 191, '만이': 192, '오직': 193, '듯': 194, '찾다': 195, '계속': 196, '이란': 197, '건지다': 198, '애쓰다': 199, '전부': 200, '바라다': 201, '혹시': 202, '밖에': 203, '남자': 204, '상처': 205, '걸음': 206, '사이': 207, '옆': 208, '듣다': 209, '갈다': 210, '그리다': 211, '숨': 212, '지나다': 213, '거리': 214, '라고': 215, '아침': 216, '이유': 217, '설레다': 218, '품': 219, '사라지다': 220, '해보다': 221, '지나가다': 222, '약속': 223, '마다': 224, '안되다': 225, '기분': 226, '고백': 227, '견디다': 228, '인데': 229, '다가오다': 230, '맞추다': 231, '꽃': 232, '때문': 233, '오': 234, '채우다': 235, '아직도': 236, '떠나가다': 237, '얼굴': 238, '잡고': 239, '애': 240, '이미': 241, '마주': 242, '어떡하다': 243, '소중하다': 244, '같이': 245, '미치다': 246, '어색하다': 247, '별': 248, '땐': 249, '힘': 250, '여': 251, '음': 252, '그녀': 253, '달라': 254, '만큼': 255, '담다': 256, '감다': 257, '무슨': 258, '라': 259, '순': 260, '시작': 261, '부르다': 262, '바': 263, '잠시': 264, '홀로': 265, '두렵다': 266, '걷다': 267, '빛': 268, '아주': 269, '랑': 270, '걱정': 271, '가지다': 272, '먼저': 273, '계절': 274, '종일': 275, '잠들다': 276, '이름': 277, '친구': 278, '끝나다': 279, '조금씩': 280, '늦다': 281, '라도': 282, '뜨다': 283, '잃다': 284, '거짓말': 285, '먹다': 286, '미우다': 287, '참다': 288, '너무나': 289, '깊다': 290, '흘리다': 291, '떨리다': 292, '제발': 293, '점점': 294, '다가가다': 295, '언젠가': 296, '다시다': 297, '자꾸만': 298, '내일': 299, '생기다': 300, '입술': 301, '안녕': 302, '멀리': 303, '사실': 304, '햇살': 305, '예요': 306, '숨다': 307, '이대로': 308, '위로': 309, '준': 310, '향': 311, '꾸다': 312, '테': 313, '그래도': 314, '소리': 315, '말고': 316, '고맙다': 317, '지다': 318, '스치다': 319, '워': 320, '닿다': 321, '만을': 322, '안고': 323, '살아가다': 324, '나쁘다': 325, '어리다': 326, '이제야': 327, '대도': 328, '아끼다': 329, '집': 330, '묻다': 331, '아픔': 332, '이르다': 333, '라는': 334, '누군가': 335, '삶': 336, '떠올리다': 337, '지만': 338, '술': 339, '인걸': 340, '목소리': 341, '적': 342, '차갑다': 343, '빠지다': 344, '든': 345, '지내다': 346, '죠': 347, '기대다': 348, '전화': 349, '나나': 350, '어제': 351, '한참': 352, '이라도': 353, '결국': 354, '어렵다': 355, '돌아서다': 356, '따뜻하다': 357, '평생': 358, '일이': 359, '돌다': 360, '닮다': 361, '선물': 362, '불안하다': 363, '동안': 364, '미워하다': 365, '조차': 366, '달콤하다': 367, '향기': 368, '뭐라다': 369, '크다': 370, '길이': 371, '서툴다': 372, '까지나': 373, '기도': 374, '씩': 375, '표정': 376, '솔직하다': 377, '궁금하다': 378, '쯤': 379, '겁': 380, '어깨': 381, '마치': 382, '인사': 383, '웃음': 384, '후': 385, '앉다': 386, '빈': 387, '끄다': 388, '지나': 389, '그날': 390, '느껴지다': 391, '돌아가다': 392, '다르다': 393, '어서': 394, '나누다': 395, '이라': 396, '가득하다': 397, '어쩌면': 398, '용기': 399, '에겐': 400, '머리': 401, '어': 402, '몸': 403, '찾아오다': 404, '부족하다': 405, '이상': 406, '새': 407, '여전하다': 408, '그만': 409, '무엇': 410, '고프다': 411, '마주치다': 412, '잠': 413, '맘속': 414, '감싸다': 415, '그것': 416, '태어나다': 417, '슬픔': 418, '편하다': 419, '선': 420, '란': 421, '감정': 422, '무너지다': 423, '내리다': 424, '자리': 425, '바쁘다': 426, '이나': 427, '머물다': 428, '선명하다': 429, '이해': 430, '붙잡다': 431, '그리움': 432, '낼': 433, '달라지다': 434, '스며들다': 435, '바로': 436, '울리다': 437, '에게만': 438, '거니': 439, '아무렇다': 440, '중': 441, '다음': 442, '겨울': 443, '의미': 444, '놓치다': 445, '아래': 446, '인지': 447, '치다': 448, '와의': 449, '바뀌다': 450, '준비': 451, '커지다': 452, '생각나다': 453, '가장': 454, '얼마나': 455, '죽다': 456, '아무리': 457, '만약': 458, '까지도': 459, '느낌': 460, '보아': 461, '근데': 462, '방': 463, '뭘': 464, '한다는': 465, '반하다': 466, '입': 467, '따르다': 468, '마저': 469, '사진': 470, '어느': 471, '남아': 472, '망설이다': 473, '두운': 474, '만의': 475, '안기다': 476, '심장': 477, '가보다': 478, '간': 479, '데려가다': 480, '무섭다': 481, '만난': 482, '며': 483, '기대': 484, '돌아보다': 485, '한마디': 486, '피어': 487, '눈부시다': 488, '표현': 489, '그땐': 490, '몇': 491, '짓다': 492, '이니까': 493, '지난': 494, '젖다': 495, '괜히': 496, '우': 497, '가까이': 498, '버티다': 499, '힘드다': 500, '천천히': 501, '분만': 502, '노력': 503, '뒷모습': 504, '불어오다': 505, '특별하다': 506, '이리': 507, '연락': 508, '가득': 509, '분': 510, '외롭다': 511, '진심': 512, '비우다': 513, '어설프다': 514, '빛나다': 515, '빌리다': 516, '뭔가': 517, '비': 518, '알아주다': 519, '밝다': 520, '딱': 521, '데': 522, '차라리': 523, '넘다': 524, '텅': 525, '오랜': 526, '덤': 527, '치키다': 528, '짧다': 529, '들리다': 530, '뜨겁다': 531, '발': 532, '잡히다': 533, '와도': 534, '초라하다': 535, '감사하다': 536, '영화': 537, '똑같다': 538, '돌리다': 539, '가요': 540, '남': 541, '쌓이다': 542, '어둠': 543, '누가': 544, '추다': 545, '꿈꾸다': 546, '수많다': 547, '서두르다': 548, '한숨': 549, '흔들다': 550, '첨': 551, '이고': 552, '아쉽다': 553, '잊혀지다': 554, '아마': 555, '가만히': 556, '뭔': 557, '속마음': 558, '사랑스럽다': 559, '오지': 560, '하얗다': 561, '허락': 562, '저기': 563, '문득': 564, '태우다': 565, '머릿속': 566, '쓰다': 567, '자리다': 568, '지나치다': 569, '적다': 570, '어느새다': 571, '춤': 572, '목': 573, '이기다': 574, '보지': 575, '잘못': 576, '자신': 577, '떠오르다': 578, '우우': 579, '여름': 580, '달': 581, '탓': 582, '어울리다': 583, '이야기': 584, '공기': 585, '그대만': 586, '여자친구': 587, '남기다': 588, '하나로': 589, '충분하다': 590, '가슴속': 591, '비추다': 592, '운명': 593, '기적': 594, '우릴': 595, '오늘이': 596, '때로는': 597, '보이지': 598, '갖다': 599, '에선': 600, '손잡다': 601, '따다': 602, '피다': 603, '파': 604, '터지다': 605, '필요': 606, '미련': 607, '맞다': 608, '달려가다': 609, '눈치': 610, '흩어지다': 611, '오래': 612, '아마도': 613, '원망하다': 614, '비밀': 615, '토록': 616, '땀': 617, '늘다': 618, '에만': 619, '결혼': 620, '만남': 621, '감고': 622, '숨기다': 623, '깨우다': 624, '완벽하다': 625, '익숙하다': 626, '왠지': 627, '멋지다': 628, '만으로': 629, '때론': 630, '만날': 631, '온통': 632, '가까워지다': 633, '하고프다': 634, '장난': 635, '흘러가다': 636, '들어오다': 637, '아이': 638, '차가워지다': 639, '타고': 640, '나인': 641, '에서도': 642, '지워지다': 643, '기': 644, '속이다': 645, '쉽다': 646, '침대': 647, '혜': 648, '다가': 649, '으로도': 650, '지난날': 651, '끝내': 652, '시리다': 653, '하루하루': 654, '어차피': 655, '로는': 656, '멎다': 657, '나서다': 658, '저녁': 659, '수도': 660, '제일': 661, '노랗다': 662, '쳐다보다': 663, '낯설다': 664, '입맞춤': 665, '주': 666, '부턴': 667, '그리고': 668, '새벽': 669, '고민': 670, '넣다': 671, '년': 672, '꺼내다': 673, '무': 674, '빈자리': 675, '가져가다': 676, '발걸음': 677, '밀다': 678, '두려움': 679, '반대': 680, '시': 681, '찾아가다': 682, '에는': 683, '틀다': 684, '차마': 685, '너무도': 686, '잠깐': 687, '내야': 688, '밝히다': 689, '모자라다': 690, '등': 691, '연예인': 692, '대': 693, '즐겁다': 694, '오빠': 695, '그건': 696, '마음속': 697, '잖다': 698, '귓가': 699, '뻔하다': 700, '귀': 701, '가볍다': 702, '비치다': 703, '귀엽다': 704, '파도': 705, '대로': 706, '욕심': 707, '만은': 708, '습관': 709, '첫': 710, '근': 711, '별빛': 712, '인가': 713, '취한': 714, '질': 715, '이라고': 716, '뎌': 717, '구름': 718, '갈수록': 719, '달래다': 720, '밤새다': 721, '소식': 722, '잠기다': 723, '차오르다': 724, '비틀': 725, '한순간': 726, '얘길': 727, '어쩜': 728, '별처럼': 729, '벌써': 730, '일어나다': 731, '옷': 732, '어지럽다': 733, '힘겹다': 734, '흔들리다': 735, '빨갛다': 736, '외로움': 737, '하니': 738, '라서': 739, '잔': 740, '부럽다': 741, '덥다': 742, '진짜': 743, '예전': 744, '천': 745, '흔하다': 746, '이면': 747, '어쩌다': 748, '하이': 749, '전해': 750, '건가': 751, '숨결': 752, '남자친구': 753, '말로': 754, '열다': 755, '새롭다': 756, '살짝': 757, '문': 758, '걸어오다': 759, '세월': 760, '익숙해지다': 761, '기르다': 762, '희미하다': 763, '흔적': 764, '바다': 765, '반짝이다': 766, '어둡다': 767, '어쩔': 768, '필요하다': 769, '해오다': 770, '듯이': 771, '더욱': 772, '포근하다': 773, '편지': 774, '맴돌다': 775, '써다': 776, '오르다': 777, '답답하다': 778, '허전하다': 779, '서럽다': 780, '몇번': 781, '녹다': 782, '제': 783, '방황': 784, '파리': 785, '오랫동안': 786, '마르다': 787, '웃': 788, '서서': 789, '밖': 790, '부디': 791, '해봤다': 792, '실수': 793, '도대체': 794, '박히다': 795, '잊어버리다': 796, '반복': 797, '끌어안다': 798, '서면': 799, '외치다': 800, '오래되다': 801, '맨': 802, '몰래': 803, '부드럽다': 804, '로운': 805, '눈감다': 806, '가버리다': 807, '갈래': 808, '누': 809, '치': 810, '께': 811, '리지': 812, '부리다': 813, '띄다': 814, '고치다': 815, '미루다': 816, '뜰': 817, '멜로디': 818, '기쁨': 819, '달빛': 820, '그림자': 821, '그늘': 822, '가야': 823, '헤매다': 824, '모진': 825, '거치다': 826, '데리다': 827, '철': 828, '매번': 829, '헷갈리다': 830, '라라라라': 831, '떨어지다': 832, '험하다': 833, '나날': 834, '농담': 835, '부끄럽다': 836, '라이': 837, '기쁘다': 838, '대답': 839, '모으다': 840, '날아가다': 841, '빨리': 842, '달아나다': 843, '쏟아지다': 844, '깊이': 845, '한단': 846, '음음': 847, '넘치다': 848, '비틀대다': 849, '누굴': 850, '언': 851, '지는': 852, '투명하다': 853, '무겁다': 854, '비다': 855, '흐려지다': 856, '에야': 857, '빠져들다': 858, '복잡하다': 859, '물들다': 860, '개다': 861, '그토록': 862, '여기다': 863, '스럽게': 864, '기다림': 865, '지켜보다': 866, '참고': 867, '크게': 868, '주오': 869, '시선': 870, '잃어버리다': 871, '만이라도': 872, '품다': 873, '높다': 874, '이라서': 875, '시계': 876, '넘기다': 877, '다가서다': 878, '우울하다': 879, '따스하다': 880, '정도': 881, '영원': 882, '매': 883, '반쪽': 884, '물어': 885, '환하다': 886, '절대': 887, '미래': 888, '괴롭다': 889, '착하다': 890, '요즘': 891, '그동안': 892, '활': 893, '넓다': 894, '상상': 895, '겁쟁이': 896, '분다': 897, '와르르': 898, '떼다': 899, '피고': 900, '헤어지자': 901, '배우다': 902, '놀랍다': 903, '보이': 904, '거기': 905, '걸어가다': 906, '되돌리다': 907, '취해': 908, '뿐이다': 909, '굳이': 910, '말투': 911, '파도처럼': 912, '밀려오다': 913, '마냥': 914, '님': 915, '나무': 916, '수록': 917, '잦다': 918, '사': 919, '공간': 920, '남겨지다': 921, '피해': 922, '부서지다': 923, '들이다': 924, '인가요': 925, '진': 926, '하나요': 927, '약해지다': 928, '곧': 929, '던': 930, '건데': 931, '창가': 932, '짙어지다': 933, '처럼만': 934, '일지': 935, '시절': 936, '그래서': 937, '인연': 938, '첫사랑': 939, '막다': 940, '뛰다': 941, '나가다': 942, '주지': 943, '가도': 944, '도저히': 945, '편': 946, '맑은': 947, '롤': 948, '죽': 949, '과는': 950, '가두다': 951, '웃기': 952, '다짐': 953, '쓸다': 954, '좁다': 955, '부탁': 956, '수줍다': 957, '누르다': 958, '손길': 959, '짙다': 960, '한테': 961, '보여주다': 962, '돌이키다': 963, '상관없다': 964, '취향': 965, '무심하다': 966, '밥': 967, '밤새': 968, '완전': 969, '대체': 970, '달이': 971, '귀찮다': 972, '일도': 973, '어리석다': 974, '소용': 975, '시원하다': 976, '닳다': 977, '감추다': 978, '이루다': 979, '글자': 980, '춤추다': 981, '사소하다': 982, '역시': 983, '이보': 984, '괜': 985, '설레임': 986, '배터리': 987, '여태': 988, '한동안': 989, '맴도': 990, '멍하니': 991, '햇빛': 992, '살며시': 993, '조각': 994, '이건': 995, '현실': 996, '벗어나다': 997, '꽃잎': 998, '축복': 999, '서글프다': 1000, '훗날': 1001, '또다시': 1002, '당연하다': 1003, '텐데': 1004, '자고': 1005, '지겹다': 1006, '타': 1007, '다정하다': 1008, '다해': 1009, '퍼지다': 1010, '숨기': 1011, '어딘가': 1012, '물': 1013, '이번': 1014, '바램': 1015, '문자': 1016, '수없이': 1017, '꽃집': 1018, '이지만': 1019, '초': 1020, '오래전': 1021, '다투다': 1022, '마시다': 1023, '새기다': 1024, '놀라다': 1025, '향기롭다': 1026, '땜': 1027, '낙엽': 1028, '떨다': 1029, '낮다': 1030, '더하다': 1031, '사다': 1032, '론': 1033, '신경': 1034, '고서': 1035, '쉬': 1036, '룰': 1037, '차': 1038, '조심': 1039, '두근거리다': 1040, '봄': 1041, '따라오다': 1042, '고르다': 1043, '이후': 1044, '꽉': 1045, '조용하다': 1046, '우연히': 1047, '사로자다': 1048, '감당': 1049, '만지다': 1050, '며칠': 1051, '시키다': 1052, '불': 1053, '원래': 1054, '거지': 1055, '가시': 1056, '웃어요': 1057, '촌스럽다': 1058, '여리다': 1059, '우아하다': 1060, '자존심': 1061, '내버리다': 1062, '연인': 1063, '쓸쓸하다': 1064, '분명하다': 1065, '엔딩': 1066, '위태': 1067, '맺다': 1068, '하든': 1069, '겠다': 1070, '찢다': 1071, '문제': 1072, '싫어지다': 1073, '굳다': 1074, '어찌': 1075, '법': 1076, '필요없다': 1077, '라오': 1078, '곡': 1079, '그러니까': 1080, '심쿵하다': 1081, '방안': 1082, '헤어': 1083, '깨다': 1084, '풀다': 1085, '조명': 1086, '유난히': 1087, '그만큼': 1088, '울먹이다': 1089, '기억나다': 1090, '놈': 1091, '우어': 1092, '오래도록': 1093, '잘살다': 1094, '이니': 1095, '그림': 1096, '겪다': 1097, '맴돈다': 1098, '내사': 1099, '짱': 1100, '대신': 1101, '켜다': 1102, '뜸': 1103, '오해': 1104, '입다': 1105, '서운하다': 1106, '아련하다': 1107, '불어': 1108, '맛있다': 1109, '존재': 1110, '간다': 1111, '서투르다': 1112, '밀리다': 1113, '어딜': 1114, '평범하다': 1115, '일상': 1116, '아쉬움': 1117, '그려지다': 1118, '똑같이': 1119, '연습': 1120, '물어보다': 1121, '가리다': 1122, '온종일': 1123, '서성이다': 1124, '풀리다': 1125, '붙다': 1126, '살아오다': 1127, '길다': 1128, '커피': 1129, '막': 1130, '새다': 1131, '열': 1132, '체': 1133, '마저도': 1134, '이라는': 1135, '가을': 1136, '진하다': 1137, '한가지': 1138, '빗물': 1139, '까지만': 1140, '덜': 1141, '친': 1142, '외면': 1143, '첨으로': 1144, '나중': 1145, '통화': 1146, '주문': 1147, '자연스럽다': 1148, '꾸미다': 1149, '쿵쿵': 1150, '비록': 1151, '한잔': 1152, '자주': 1153, '그걸': 1154, '과분': 1155, '끌리다': 1156, '씻다': 1157, '머릴': 1158, '화려하다': 1159, '틈': 1160, '헝클어지다': 1161, '식다': 1162, '는걸': 1163, '인거': 1164, '이불': 1165, '덮다': 1166, '물든': 1167, '밉다': 1168, '창': 1169, '째': 1170, '손가락': 1171, '번호': 1172, '바꾸다': 1173, '편안하다': 1174, '사람과': 1175, '구석': 1176, '갇히다': 1177, '모질다': 1178, '짓': 1179, '들어가다': 1180, '붉다': 1181, '가게': 1182, '녹이다': 1183, '안쓰럽다': 1184, '끝내다': 1185, '하염없이': 1186, '잡': 1187, '서인': 1188, '들어주다': 1189, '야하다': 1190, '서도': 1191, '이래': 1192, '고작': 1193, '다행': 1194, '관심': 1195, '들려주다': 1196, '빗': 1197, '까지라도': 1198, '가면': 1199, '전화하다': 1200, '발끝': 1201, '정신': 1202, '래야': 1203, '잔인하다': 1204, '군': 1205, '너무나도': 1206, '그만하다': 1207, '채다': 1208, '손짓': 1209, '은근': 1210, '다치다': 1211, '접다': 1212, '부끄럼': 1213, '아른거리다': 1214, '간절하다': 1215, '아이스크림': 1216, '막히다': 1217, '비교': 1218, '둥지': 1219, '살수': 1220, '반짝거리다': 1221, '수만': 1222, '이지': 1223, '주기': 1224, '뱉다': 1225, '고개': 1226, '힘껏': 1227, '어른': 1228, '반기다': 1229, '달달': 1230, '안길': 1231, '찰땐': 1232, '감동': 1233, '끼': 1234, '분도': 1235, '부시': 1236, '전하': 1237, '피우다': 1238, '깜박': 1239, '완': 1240, '깨어나다': 1241, '속삭임': 1242, '왼손': 1243, '셀': 1244, '너머': 1245, '안부': 1246, '눕다': 1247, '맞이': 1248, '보기': 1249, '넘어지다': 1250, '아침햇살': 1251, '둘러보다': 1252, '터': 1253, '별거': 1254, '가사': 1255, '조이다': 1256, '짓궂다': 1257, '가르다': 1258, '거닐다': 1259, '무뚝뚝하다': 1260, '든지': 1261, '이뤄지다': 1262, '노을': 1263, '흠뻑': 1264, '애매하다': 1265, '게로': 1266, '팔': 1267, '천사': 1268, '쏟다': 1269, '우주': 1270, '메다': 1271, '빠르다': 1272, '뺏다': 1273, '잡지': 1274, '어젠': 1275, '헤메': 1276, '거울': 1277, '인게': 1278, '소원': 1279, '숨쉬다': 1280, '포기': 1281, '만큼만': 1282, '용서': 1283, '강하다': 1284, '에펠': 1285, '타워': 1286, '백합': 1287, '샴페인': 1288, '끼리': 1289, '빗다': 1290, '기만': 1291, '하아': 1292, '이던': 1293, '에게도': 1294, '주신': 1295, '핑계': 1296, '빌다': 1297, '전분': 1298, '알아보다': 1299, '화': 1300, '에게서': 1301, '밑': 1302, '자라다': 1303, '물러서다': 1304, '튀다': 1305, '이여': 1306, '생': 1307, '버스': 1308, '일일': 1309, '아예': 1310, '무얼': 1311, '억': 1312, '에게로': 1313, '가나': 1314, '울면': 1315, '가기': 1316, '바라지': 1317, '촛불': 1318, '담기다': 1319, '첫날': 1320, '원망': 1321, '삼키다': 1322, '요동치다': 1323, '와는': 1324, '가라앉다': 1325, '최선': 1326, '똑바로': 1327, '점': 1328, '죄': 1329, '뜻': 1330, '고생': 1331, '과연': 1332, '읽다': 1333, '아득해지다': 1334, '바늘': 1335, '날다': 1336, '어떻': 1337, '끊다': 1338, '내란': 1339, '이상하다': 1340, '덤덤하다': 1341, '축': 1342, '다리다': 1343, '뒤척': 1344, '밖엔': 1345, '깜깜': 1346, '다니다': 1347, '스윗': 1348, '벅차다': 1349, '차디차다': 1350, '이네': 1351, '꽤': 1352, '자라나다': 1353, '확실하다': 1354, '바란': 1355, '달려오다': 1356, '대란': 1357, '편이': 1358, '개': 1359, '행여': 1360, '빼다': 1361, '멍': 1362, '때리다': 1363, '어김없이': 1364, '야위다': 1365, '따라서': 1366, '눈꽃': 1367, '무대': 1368, '에로': 1369, '찍다': 1370, '하필': 1371, '나타나다': 1372, '여덟': 1373, '걔': 1374, '그러나': 1375, '얼마': 1376, '많아지다': 1377, '편의': 1378, '투정': 1379, '비슷하다': 1380, '자극': 1381, '선택': 1382, '묘': 1383, '화장': 1384, '분명': 1385, '펴다': 1386, '나아': 1387, '상관': 1388, '간직': 1389, '실감': 1390, '눈짓': 1391, '안보': 1392, '뻗다': 1393, '짜이다': 1394, '틀리다': 1395, '지네': 1396, '살리다': 1397, '절대로': 1398, '피': 1399, '재미없다': 1400, '작업': 1401, '선하다': 1402, '엄마': 1403, '후회되다': 1404, '자랑스럽다': 1405, '보채다': 1406, '조급하다': 1407, '영혼': 1408, '색': 1409, '정리': 1410, '까진': 1411, '사랑받다': 1412, '타다': 1413, '벼랑': 1414, '털다': 1415, '찬': 1416, '여섯': 1417, '토라': 1418, '내게로': 1419, '온기': 1420, '나요': 1421, '소리치다': 1422, '더디다': 1423, '한없이': 1424, '커다랗다': 1425, '키스': 1426, '행동': 1427, '오오오': 1428, '백년': 1429, '집앞': 1430, '손목': 1431, '기대하다': 1432, '오우': 1433, '고여': 1434, '어깰': 1435, '리오': 1436, '비틀거릴': 1437, '알쏭달쏭': 1438, '장미': 1439, '똑똑하다': 1440, '뿌리치다': 1441, '힘없다': 1442, '쌓다': 1443, '늦추다': 1444, '긋다': 1445, '소개': 1446, '둘러싸다': 1447, '기울이다': 1448, '부시다': 1449, '풍경': 1450, '려고': 1451, '훤해': 1452, '으로라도': 1453, '채운': 1454, '라며': 1455, '가수': 1456, '옛날': 1457, '듣기': 1458, '굿모닝': 1459, '꾸밈': 1460, '활짝': 1461, '치고': 1462, '파고들다': 1463, '자그마하다': 1464, '어디서': 1465, '뿌리다': 1466, '주고받다': 1467, '자랑': 1468, '열두': 1469, '유치하다': 1470, '쑥스럽다': 1471, '멋쩍': 1472, '머뭇거리다': 1473, '아들': 1474, '세다': 1475, '간지럽다': 1476, '둘이서': 1477, '입가': 1478, '올리다': 1479, '마구': 1480, '겨워': 1481, '섞이다': 1482, '갑자기': 1483, '별것': 1484, '리': 1485, '인정': 1486, '물다': 1487, '꿈속': 1488, '장면': 1489, '비겁하다': 1490, '다만': 1491, '괴롭히다': 1492, '고통': 1493, '가치': 1494, '낳다': 1495, '주위': 1496, '거슬러': 1497, '따라가다': 1498, '움직이다': 1499, '그제야': 1500, '번만': 1501, '서서히': 1502, '어딘': 1503, '내지': 1504, '한발': 1505, '오후': 1506, '벨': 1507, '자연': 1508, '들려오다': 1509, '발길': 1510, '시련': 1511, '찬란하다': 1512, '신촌': 1513, '하자': 1514, '뒷': 1515, '우연': 1516, '의지': 1517, '설명': 1518, '전해지다': 1519, '외우다': 1520, '준걸': 1521, '쓴다': 1522, '력': 1523, '변치': 1524, '뿌리': 1525, '연애': 1526, '목소릴': 1527, '외로워': 1528, '덧': 1529, '아물다': 1530, '내뱉다': 1531, '이쯤': 1532, '인지도': 1533, '안나': 1534, '약하다': 1535, '당장': 1536, '제법': 1537, '빨르다': 1538, '언어': 1539, '솜사탕': 1540, '도망치다': 1541, '거지같다': 1542, '띄우다': 1543, '나아지다': 1544, '염치': 1545, '의심': 1546, '종이': 1547, '권하다': 1548, '먼지': 1549, '건네다': 1550, '라라': 1551, '뚫어지다': 1552, '혹은': 1553, '단순하다': 1554, '셋': 1555, '눈동자': 1556, '숙이다': 1557, '놀다': 1558, '숨바꼭질': 1559, '얼마만큼': 1560, '에너지': 1561, '드': 1562, '링크': 1563, '스레': 1564, '마법': 1565, '통': 1566, '데리': 1567, '썸': 1568, '후련하다': 1569, '묻히다': 1570, '뼛속': 1571, '얼리다': 1572, '이든': 1573, '누나': 1574, '라니까': 1575, '장하다': 1576, '과거': 1577, '키': 1578, '여유': 1579, '장': 1580, '여행': 1581, '놀리다': 1582, '애원': 1583, '매정하다': 1584, '내주다': 1585, '수고': 1586, '어쩌겠어': 1587, '체념하다': 1588, '지붕': 1589, '팽': 1590, '저리다': 1591, '관심사': 1592, '정답': 1593, '향길': 1594, '이쁘다': 1595, '신기하다': 1596, '분위기': 1597, '떨구다': 1598, '확': 1599, '어머나': 1600, '거려': 1601, '네겐': 1602, '이따위': 1603, '세': 1604, '없어지다': 1605, '짜증': 1606, '바르다': 1607, '허리': 1608, '아찔하다': 1609, '저격': 1610, '싫증': 1611, '밝아지다': 1612, '검거': 1613, '하얬는데': 1614, '색감': 1615, '여서': 1616, '움': 1617, '갈라': 1618, '끈': 1619, '아득하다': 1620, '평온하다': 1621, '택': 1622, '허우적대다': 1623, '닦다': 1624, '주저앉다': 1625, '꽃처럼': 1626, '봄날': 1627, '지고': 1628, '한눈': 1629, '늦어지다': 1630, '차리다': 1631, '그렇지만': 1632, '깜빡': 1633, '본적': 1634, '위험하다': 1635, '별일': 1636, '겨우': 1637, '반': 1638, '배다': 1639, '못자다': 1640, '둥글다': 1641, '애정': 1642, '주변': 1643, '몸짓': 1644, '헤아리다': 1645, '악마': 1646, '푸른': 1647, '만으론': 1648, '가인': 1649, '중요하다': 1650, '가능하다': 1651, '한가운데': 1652, '꿈결': 1653, '태엽': 1654, '슨': 1655, '느지막': 1656, '던지다': 1657, '맑다': 1658, '도와주다': 1659, '착각': 1660, '몰아치다': 1661, '뇌': 1662, '보단': 1663, '면서': 1664, '대여': 1665, '기회': 1666, '놓이다': 1667, '빌어': 1668, '나라': 1669, '침묵': 1670, '저절로': 1671, '작고': 1672, '몸부림': 1673, '권': 1674, '모': 1675, '조차도': 1676, '대로가': 1677, '잘생기다': 1678, '공평하다': 1679, '살피다': 1680, '달다': 1681, '최고': 1682, '날수': 1683, '거릴': 1684, '빨': 1685, '따끔하다': 1686, '중독': 1687, '하진': 1688, '태연하다': 1689, '산다': 1690, '여인': 1691, '우산': 1692, '시들다': 1693, '에요': 1694, '군데': 1695, '대충': 1696, '입지': 1697, '말리다': 1698, '번의': 1699, '비밀번호': 1700, '가로등': 1701, '이어폰': 1702, '블루': 1703, '레모네이드': 1704, '삐': 1705, '결코': 1706, '버겁다': 1707, '속상하다': 1708, '흰수염고래': 1709, '헤엄': 1710, '성벽': 1711, '허물': 1712, '쭉': 1713, '곤란하다': 1714, '이해해': 1715, '아파해': 1716, '랍니': 1717, '가려진': 1718, '놓아두다': 1719, '처음처럼': 1720, '켜': 1721, '이대': 1722, '발견': 1723, '환상': 1724, '깜짝': 1725, '퍼즐': 1726, '넌데': 1727, '좀처럼': 1728, '열리다': 1729, '울컥': 1730, '허다': 1731, '생일': 1732, '드리우다': 1733, '캄캄하다': 1734, '새우다': 1735, '나야': 1736, '별로': 1737, '영감': 1738, '비치': 1739, '이리저리': 1740, '지루하다': 1741, '짜다': 1742, '사진첩': 1743, '모래': 1744, '자연스레': 1745, '일어나고': 1746, '순수하다': 1747, '오신': 1748, '꽃씨': 1749, '시도': 1750, '전화기': 1751, '적히다': 1752, '허무하다': 1753, '헛된': 1754, '믿음': 1755, '불쑥': 1756, '부담': 1757, '주저': 1758, '취기': 1759, '쓴웃음': 1760, '넘실대다': 1761, '언덕': 1762, '불타다': 1763, '들고파다': 1764, '휩쓸다': 1765, '뺨': 1766, '은하수': 1767, '엄지': 1768, '주윌': 1769, '안간힘': 1770, '덜다': 1771, '이틀': 1772, '지독하다': 1773, '숙제': 1774, '서버': 1775, '린': 1776, '드리다': 1777, '수다': 1778, '턱': 1779, '메우다': 1780, '죽음': 1781, '되돌아보다': 1782, '이기심': 1783, '뜻대로': 1784, '뒤늦다': 1785, '자석': 1786, '즐기다': 1787, '돈': 1788, '마침내': 1789, '거란': 1790, '쓰이다': 1791, '차이': 1792, '나이': 1793, '이맘': 1794, '티': 1795, '광화문': 1796, '들키다': 1797, '내쉬다': 1798, '이어도': 1799, '저물다': 1800, '집착': 1801, '소복소복': 1802, '이마': 1803, '짚다': 1804, '차곡차곡': 1805, '발그레해': 1806, '얼다': 1807, '쥐다': 1808, '반갑다': 1809, '푸르른': 1810, '번은': 1811, '욕': 1812, '지도': 1813, '어쩌자': 1814, '계산': 1815, '두드리다': 1816, '흘러내리다': 1817, '사치': 1818, '머린': 1819, '이상은': 1820, '재밌다': 1821, '카페': 1822, '유리창': 1823, '일단': 1824, '한데': 1825, '쉿': 1826, '눈길': 1827, '밟다': 1828, '쓸모': 1829, '마다의': 1830, '만으로도': 1831, '맘대로': 1832, '금요일': 1833, '거길': 1834, '내려오다': 1835, '빗속': 1836, '올': 1837, '홀린': 1838, '도록': 1839, '엉': 1840, '다시금': 1841, '억지로': 1842, '남모르다': 1843, '이끌다': 1844, '불행': 1845, '허상': 1846, '괜스레': 1847, '유일하다': 1848, '불빛': 1849, '와인': 1850, '화가': 1851, '실망': 1852, '애틋하다': 1853, '체온': 1854, '시커멓다': 1855, '새까맣다': 1856, '삶다': 1857, '기전': 1858, '이에요': 1859, '맨날': 1860, '꼭꼭': 1861, '바짝': 1862, '가만': 1863, '리도': 1864, '줍다': 1865, '마무리': 1866, '거나': 1867, '루루': 1868, '대론': 1869, '취': 1870, '까마득하다': 1871, '술김': 1872, '이런': 1873, '에게나': 1874, '만큼이나': 1875, '아깝다': 1876, '시월': 1877, '부딪히다': 1878, '받아들이다': 1879, '감촉': 1880, '긴': 1881, '각자': 1882, '재다': 1883, '짜릿하다': 1884, '시야': 1885, '얘': 1886, '코끝': 1887, '탁자': 1888, '산': 1889, '장미꽃': 1890, '한송이': 1891, '논': 1892, '여야': 1893, '발버둥치다': 1894, '열심히': 1895, '칸': 1896, '무색': 1897, '방이': 1898, '느리다': 1899, '다루다': 1900, '흉터': 1901, '우유': 1902, '낡다': 1903, '냄새': 1904, '보라': 1905, '돌려주다': 1906, '담': 1907, '택시': 1908, '자가용': 1909, '주방': 1910, '야근': 1911, '카운터': 1912, '넷': 1913, '조그만': 1914, '일기장': 1915, '고양이': 1916, '가주': 1917, '질투': 1918, '투': 1919, '에서라도': 1920, '결': 1921, '곱다': 1922, '왠': 1923, '화면': 1924, '주어': 1925, '나란하다': 1926, '만큼은': 1927, '보다는': 1928, '정해': 1929, '밀가루': 1930, '소설': 1931, '폭풍': 1932, '내려놓다': 1933, '쏟아내다': 1934, '꾹': 1935, '잠도': 1936, '까맣다': 1937, '발음': 1938, '초조하다': 1939, '동생': 1940, '으로만': 1941, '로만': 1942, '어디가': 1943, '냐': 1944, '쓰다듬다': 1945, '인하다': 1946, '패턴': 1947, '정신없이': 1948, '망가지다': 1949, '나태하다': 1950, '치열하다': 1951, '소파': 1952, '깔깔': 1953, '한지': 1954, '안타깝다': 1955, '딴사람': 1956, '찢기다': 1957, '도망': 1958, '정확하다': 1959, '멋대로': 1960, '어째': 1961, '든든하다': 1962, '심하다': 1963, '하루살이': 1964, '살아나다': 1965, '무의미하다': 1966, '천사백사십분': 1967, '연일': 1968, '길어지다': 1969, '가깝다': 1970, '올해': 1971, '끝없이': 1972, '놀': 1973, '연기': 1974, '코메디': 1975, '말씀': 1976, '댄스': 1977, '리듬': 1978, '힙합': 1979, '담담하다': 1980, '소릴': 1981, '날리다': 1982, '상황': 1983, '자시다': 1984, '이윤': 1985, '소녀': 1986, '날렵하다': 1987, '눈매': 1988, '얇다': 1989, '어보': 1990, '긴장': 1991, '걷기': 1992, '혀': 1993, '알아채다': 1994, '건배': 1995, '아른대다': 1996, '문장': 1997, '즈음': 1998, '대책': 1999, '나아가다': 2000, '스럽다': 2001, '아무래도': 2002, '눈가': 2003, '드리워지다': 2004, '벽': 2005, '눈앞': 2006, '깜빡이다': 2007, '어긋나다': 2008, '속삭이다': 2009, '무기': 2010, '날씨': 2011, '몽롱': 2012, '이기': 2013, '그러면': 2014, '올라오다': 2015, '당황': 2016, '이러다가': 2017, '망치': 2018, '랑은': 2019, '인생': 2020, '에다': 2021, '앉히다': 2022, '팔지마다': 2023, '공허하다': 2024, '린다': 2025, '번째': 2026, '방도': 2027, '늦잠': 2028, '식사': 2029, '제대로': 2030, '내내': 2031, '그런데': 2032, '꾹꾹': 2033, '뚜뚜뚜뚜': 2034, '걱정스럽다': 2035, '가누다': 2036, '도무지': 2037, '지리다': 2038, '나로': 2039, '바랬던': 2040, '멋': 2041, '싱글벙글': 2042, '게요': 2043, '단둘': 2044, '모험': 2045, '함': 2046, '벅차오르다': 2047, '아슬아슬하다': 2048, '간신히': 2049, '가위': 2050, '인내심': 2051, '정철': 2052, '스러운': 2053, '걸치다': 2054, '색깔': 2055, '끼우다': 2056, '재잘대다': 2057, '하룬': 2058, '어도': 2059, '미움': 2060, '바랬어': 2061, '맡다': 2062, '마는': 2063, '답': 2064, '책임지다': 2065, '예감': 2066, '라디오': 2067, '앤': 2068, '대하': 2069, '웬만하다': 2070, '반기': 2071, '되뇌었었': 2072, '괜시리': 2073, '검다': 2074, '파란': 2075, '겹': 2076, '큰일': 2077, '창밖': 2078, '곤': 2079, '무릎': 2080, '꿇다': 2081, '일련': 2082, '마침': 2083, '밀어내기': 2084, '내생': 2085, '지지': 2086, '낮': 2087, '결말': 2088, '느릿하다': 2089, '주인공': 2090, '몹시': 2091, '우물쭈물': 2092, '어쩌나': 2093, '삼': 2094, '깨지다': 2095, '핸드폰': 2096, '박다': 2097, '살결': 2098, '줄기': 2099, '낙서': 2100, '닫히다': 2101, '다독이다': 2102, '설': 2103, '가방': 2104, '글씨': 2105, '거짓': 2106, '나약하다': 2107, '화요일': 2108, '화요': 2109, '초원': 2110, '샴푸': 2111, '근처': 2112, '용다': 2113, '곳도': 2114, '머무르다': 2115, '덕분': 2116, '옛': 2117, '전혀': 2118, '짐': 2119, '길가': 2120, '약': 2121, '대해': 2122, '확률': 2123, '백': 2124, '퍼센트': 2125, '할아버지': 2126, '본가': 2127, '라곤': 2128, '걸리다': 2129, '깨': 2130, '치마': 2131, '품속': 2132, '꺼': 2133, '무작정': 2134, '맡기다': 2135, '예': 2136, '숨막히다': 2137, '여름밤': 2138, '달리다': 2139, '방법': 2140, '서나': 2141, '화도': 2142, '인기': 2143, '쌀쌀하다': 2144, '확신': 2145, '찾아다니다': 2146, '검색': 2147, '깨끗이': 2148, '초대': 2149, '정': 2150, '음악': 2151, '바다로': 2152, '창문': 2153, '모닝': 2154, '재촉': 2155, '너마저': 2156, '골목': 2157, '사월': 2158, '나은': 2159, '십': 2160, '따위': 2161, '멀쩡하다': 2162, '만으로는': 2163, '버려지다': 2164, '겁니다': 2165, '목숨': 2166, '하룻밤': 2167, '풋사랑': 2168, '저렇다': 2169, '일어서다': 2170, '치명': 2171, '약점': 2172, '던전': 2173, '왜인': 2174, '졸리다': 2175, '주도': 2176, '집다': 2177, '귀가': 2178, '놀이': 2179, '배': 2180, '파서': 2181, '어둑하다': 2182, '비뚤어지다': 2183, '어쨌든지': 2184, '물끄러미': 2185, '바이': 2186, '갈피': 2187, '꽂다': 2188, '남몰래': 2189, '펼치다': 2190, '뒷걸음': 2191, '배신': 2192, '감': 2193, '잘나다': 2194, '잔소리': 2195, '고장': 2196, '도망가다': 2197, '만하': 2198, '전쟁': 2199, '벗': 2200, '짓눌리다': 2201, '단치': 2202, '예고': 2203, '나지막이': 2204, '낯선': 2205, '모이다': 2206, '글쎄': 2207, '오기': 2208, '쓸데없다': 2209, '등불': 2210, '무지개': 2211, '곳곳': 2212, '피하': 2213, '재미': 2214, '달린다': 2215, '술잔': 2216, '팔베개': 2217, '지면': 2218, '누리': 2219, '애가': 2220, '선율': 2221, '덴': 2222, '앨범': 2223, '차분하다': 2224, '질리': 2225, '베개': 2226, '즐거움': 2227, '이어서': 2228, '인터넷': 2229, '유명': 2230, '알아듣다': 2231, '희망': 2232, '일어나서': 2233, '짜증나다': 2234, '벨소리': 2235, '안거': 2236, '해변': 2237, '자욱이': 2238, '남고': 2239, '신나다': 2240, '다툼': 2241, '된거': 2242, '떠들다': 2243, '해주': 2244, '왼쪽': 2245, '오른쪽': 2246, '반드시': 2247, '레시피': 2248, '유통': 2249, '기한': 2250, '진실': 2251, '요리': 2252, '무뎌져가': 2253, '뒤지다': 2254, '손바닥': 2255, '뒤엉킬': 2256, '카운트': 2257, '칵테일': 2258, '섞다': 2259, '도란도란': 2260, '잡아가다': 2261, '빠져드': 2262, '달밤': 2263, '잔향': 2264, '함정': 2265, '곱씹다': 2266, '스르르': 2267, '벌리다': 2268, '대고': 2269, '비처럼': 2270, '검지': 2271, '안달': 2272, '쏘다': 2273, '인공위성': 2274, '행성': 2275, '에다가': 2276, '물르다': 2277, '겁나다': 2278, '소': 2279, '란스': 2280, '레': 2281, '이내': 2282, '시기하다': 2283, '지지도': 2284, '용감하다': 2285, '무뎌': 2286, '싸우다': 2287, '자유롭다': 2288, '한나': 2289, '그깟': 2290, '까지라고': 2291, '줄다': 2292, '정말로': 2293, '버릇': 2294, '무딘': 2295, '태양': 2296, '마르고': 2297, '후련': 2298, '런가': 2299, '갈리다': 2300, '아릴': 2301, '목록': 2302, '관': 2303, '도착': 2304, '요란하다': 2305, '나하': 2306, '가로수': 2307, '은행': 2308, '잎': 2309, '반짝': 2310, '너뿐이': 2311, '아름': 2312, '다우니': 2313, '하얘지다': 2314, '자꾸자꾸': 2315, '눈뜨다': 2316, '어두워지다': 2317, '손끝': 2318, '녹아내리다': 2319, '숨소리': 2320, '웃음소리': 2321, '잊혀짐': 2322, '부질없다': 2323, '뒷걸음질': 2324, '조심하다': 2325, '동그랗다': 2326, '어루만지다': 2327, '훔치다': 2328, '일로': 2329, '금은': 2330, '오전': 2331, '옷장': 2332, '연결': 2333, '상': 2334, '가빠': 2335, '폰': 2336, '응': 2337, '쿵': 2338, '반한': 2339, '야우리': 2340, '오가다': 2341, '소망': 2342, '줌': 2343, '햇볕': 2344, '소담': 2345, '스런': 2346, '즈': 2347, '넉': 2348, '거름': 2349, '과도': 2350, '몫': 2351, '고달프다': 2352, '희망이': 2353, '꼬시': 2354, '사거리': 2355, '포장마차': 2356, '엘': 2357, '막차': 2358, '호': 2359, '입김': 2360, '챙기다': 2361, '우정': 2362, '온몸': 2363, '심장소리': 2364, '좀더': 2365, '길일': 2366, '하기는': 2367, '갗': 2368, '쪽': 2369, '더듬다': 2370, '기울다': 2371, '흐릿해': 2372, '녹슬다': 2373, '움큼': 2374, '틈새': 2375, '달리': 2376, '별수': 2377, '끝내기': 2378, '실컷': 2379, '설득': 2380, '앞뒤': 2381, '죄인': 2382, '불때': 2383, '고기': 2384, '먹이': 2385, '꼴': 2386, '화난': 2387, '튀어나오다': 2388, '쫄': 2389, '자국': 2390, '씌우다': 2391, '드나봐': 2392, '우리말': 2393, '오늘밤': 2394, '말또해': 2395, '휴일': 2396, '확인': 2397, '결정': 2398, '치솟다': 2399, '현기증': 2400, '능숙하다': 2401, '고정': 2402, '흩다': 2403, '좁히다': 2404, '속눈썹': 2405, '속도': 2406, '말론': 2407, '단계': 2408, '호흡': 2409, '얹다': 2410, '옮': 2411, '소름': 2412, '끼치다': 2413, '토씨': 2414, '색다르다': 2415, '방식': 2416, '찻잔': 2417, '찻집': 2418, '그녈': 2419, '세번': 2420, '구두': 2421, '쇼': 2422, '윈도': 2423, '쓱': 2424, '못마땅하다': 2425, '살살': 2426, '뛰어오르다': 2427, '오로지': 2428, '들여다보다': 2429, '닷': 2430, '독하다': 2431, '나라고': 2432, '자격': 2433, '대본': 2434, '생명': 2435, '알기': 2436, '함부로': 2437, '픈': 2438, '자전거': 2439, '동네': 2440, '바퀴': 2441, '슈퍼': 2442, '책방': 2443, '나즈': 2444, '책': 2445, '편칠': 2446, '볼품': 2447, '솜씨': 2448, '세수': 2449, '민망하다': 2450, '수화기': 2451, '멋있다': 2452, '쑤시다': 2453, '사무실': 2454, '끙끙대다': 2455, '그릴': 2456, '임도': 2457, '괴물': 2458, '서랍': 2459, '친하다': 2460, '애인': 2461, '초점': 2462, '안식': 2463, '주네': 2464, '메': 2465, '음성': 2466, '쇠잔': 2467, '모퉁이': 2468, '얼': 2469, '흰눈': 2470, '고요한': 2471, '센치하다': 2472, '날인': 2473, '앵글': 2474, '차차': 2475, '얼른': 2476, '작품': 2477, '매기': 2478, '버킷리스트': 2479, '도시': 2480, '차일': 2481, '맵다': 2482, '풀이': 2483, '떠밀다': 2484, '뛰어오다': 2485, '한적': 2486, '인적': 2487, '발자국': 2488, '베다': 2489, '캐럴': 2490, '마디': 2491, '밖에는': 2492, '까불다': 2493, '답지': 2494, '뒤집어지다': 2495, '모래성': 2496, '얽히다': 2497, '설킨': 2498, '틀어지다': 2499, '계획': 2500, '무질서': 2501, '나침반': 2502, '과자': 2503, '빛바랜': 2504, '진담': 2505, '굴지': 2506, '각도': 2507, '자기': 2508, '달래': 2509, '나래': 2510, '다른사람': 2511, '하곤': 2512, '적어도': 2513, '머릿': 2514, '머릿결': 2515, '폭죽': 2516, '꽃봉오리': 2517, '물감': 2518, '방울': 2519, '아지랑이': 2520, '작사': 2521, '집중': 2522, '한텐': 2523, '단점': 2524, '형용': 2525, '괴로움': 2526, '보오': 2527, '인스타': 2528, '팔로우': 2529, '땅거미': 2530, '드네': 2531, '그리네': 2532, '유머러스하다': 2533, '추세': 2534, '다운': 2535, '낭자': 2536, '부로': 2537, '데뷰': 2538, '코믹': 2539, '멜로': 2540, '액션': 2541, '슛': 2542, '키스신': 2543, '그러자': 2544, '개인': 2545, '기와': 2546, '이벤트': 2547, '쇼쇼쇼': 2548, '뮤직': 2549, '무드': 2550, '발라드': 2551, '뽑다': 2552, '플': 2553, '히': 2554, '높이': 2555, '영화배우': 2556, '코메디언': 2557, '탈': 2558, '렌트': 2559, '가까스로': 2560, '그앨': 2561, '요구': 2562, '잘알다': 2563, '그다지': 2564, '휴대폰': 2565, '슬며시': 2566, '바람꽃': 2567, '날아오르다': 2568, '장소': 2569, '소린': 2570, '야속하다': 2571, '심쿵': 2572, '아등바등': 2573, '왕자': 2574, '보나': 2575, '내미다': 2576, '푸르다': 2577, '찡그리다': 2578, '피곤하다': 2579, '쿡쿡': 2580, '건드리다': 2581, '변명': 2582, '부재': 2583, '끊어지다': 2584, '목적지': 2585, '취했': 2586, '너희': 2587, '꼬부': 2588, '알코올': 2589, '머리카락': 2590, '폼페이': 2591, '초췌': 2592, '정체': 2593, '나른하다': 2594, '반듯하다': 2595, '자세': 2596, '흐트러진대': 2597, '시각': 2598, '의존': 2599, '경이': 2600, '감상': 2601, '단정하다': 2602, '셔츠': 2603, '구기다': 2604, '따윈': 2605, '쓰리다': 2606, '패인': 2607, '보다도': 2608, '아문': 2609, '미래엔': 2610, '비약': 2611, '해지': 2612, '안갯속': 2613, '기선': 2614, '흐느껴': 2615, '눈물나다': 2616, '쟁이': 2617, '벙어리': 2618, '칠': 2619, '전보': 2620, '의자': 2621, '울진': 2622, '내딛다': 2623, '데려오다': 2624, '익다': 2625, '가파른': 2626, '완만': 2627, '대화': 2628, '생일도': 2629, '슥': 2630, '하늘만': 2631, '물리다': 2632, '두껍다': 2633, '독약': 2634, '요가': 2635, '은사': 2636, '즐거이': 2637, '야식': 2638, '장식': 2639, '양': 2640, '세우다': 2641, '재': 2642, '천장': 2643, '도화지': 2644, '삼다': 2645, '허공': 2646, '흩날리다': 2647, '평소': 2648, '낯': 2649, '선거': 2650, '아기': 2651, '감사': 2652, '화만': 2653, '머리칼': 2654, '간질': 2655, '동동': 2656, '도통': 2657, '완전하다': 2658, '굴뚝': 2659, '툴툴거리': 2660, '별다르다': 2661, '가하다': 2662, '멍하다': 2663, '어젠데': 2664, '다그치다': 2665, '천둥': 2666, '번개': 2667, '바위': 2668, '길목': 2669, '법도': 2670, '예민하다': 2671, '차선': 2672, '유난스럽다': 2673, '아른아른': 2674, '아려': 2675, '부정': 2676, '수천': 2677, '앗': 2678, '단호': 2679, '큰소리치다': 2680, '내려앉다': 2681, '등지': 2682, '앞서다': 2683, '네잎클로버': 2684, '직진': 2685, '다리': 2686, '목발': 2687, '도도하다': 2688, '해당': 2689, '사항': 2690, '진부하다': 2691, '진도': 2692, '경험': 2693, '훌쩍': 2694, '요기': 2695, '낫': 2696, '안전벨트': 2697, '랬': 2698, '꼬아': 2699, '여보': 2700, '금방': 2701, '사무치다': 2702, '통해': 2703, '보람': 2704, '지난번': 2705, '원피스': 2706, '곱슬': 2707, '테킬라': 2708, '들이키다': 2709, '보통': 2710, '망치다': 2711, '마음대로': 2712, '양쪽': 2713, '저리': 2714, '호의': 2715, '유혹': 2716, '취하': 2717, '헛소릴': 2718, '불지': 2719, '본능': 2720, '성적': 2721, '나잇': 2722, '값': 2723, '싸다': 2724, '움직': 2725, '수작': 2726, '꽃내음': 2727, '우리둘': 2728, '만에': 2729, '난충': 2730, '분하다': 2731, '부분': 2732, '소란': 2733, '매만지다': 2734, '백일': 2735, '가족': 2736, '생기': 2737, '올라가다': 2738, '싹트다': 2739, '천사처럼': 2740, '그완': 2741, '여기저기': 2742, '저울': 2743, '옅다': 2744, '어렴풋이': 2745, '앙상하다': 2746, '술에취해': 2747, '숨죽': 2748, '끝없다': 2749, '대단하다': 2750, '핀': 2751, '로맨스': 2752, '깨닫다': 2753, '때별': 2754, '늘어지다': 2755, '앞서': 2756, '슬쩍': 2757, '먹거리': 2758, '바삐': 2759, '너그럽다': 2760, '무뎌져': 2761, '듬뿍': 2762, '펑펑': 2763, '너무하다': 2764, '벌': 2765, '강아지': 2766, '푹': 2767, '찔리다': 2768, '은커녕': 2769, '낫다': 2770, '휘': 2771, '젓다': 2772, '구명조끼': 2773, '시험': 2774, '검사': 2775, '울적하다': 2776, '감옥': 2777, '옷차림': 2778, '스타일': 2779, '엉망': 2780, '겸허': 2781, '한두': 2782, '꺼지다': 2783, '숨차': 2784, '그치다': 2785, '일찍': 2786, '조깅': 2787, '시후': 2788, '금식': 2789, '손톱': 2790, '외출': 2791, '굽': 2792, '하이힐': 2793, '자기야': 2794, '애칭': 2795, '질땐': 2796, '애교': 2797, '무오': 2798, '억지': 2799, '지은': 2800, '물기': 2801, '해내다': 2802, '갈수': 2803, '족': 2804, '알콩달콩': 2805, '천년': 2806, '만년': 2807, '주름': 2808, '늘어나다': 2809, '너와나': 2810, '보글보글': 2811, '찌개': 2812, '천생연분': 2813, '강': 2814, '한강': 2815, '떠나오다': 2816, '매력': 2817, '매료': 2818, '상자': 2819, '미스터리': 2820, '크리스마스': 2821, '트리': 2822, '하모니': 2823, '아름다워지다': 2824, '귀하다': 2825, '게으르다': 2826, '부지런하다': 2827, '여자라서': 2828, '나머지': 2829, '묶다': 2830, '병들다': 2831, '오히려': 2832, '서성': 2833, '돋아나다': 2834, '흥얼거리다': 2835, '노랜': 2836, '노랫말': 2837, '일인': 2838, '한여름': 2839, '화성': 2840, '금성': 2841, '폭닥': 2842, '라벤더': 2843, '잔잔하다': 2844, '롤러브레이드': 2845, '모금': 2846, '좋아지다': 2847, '불면': 2848, '까칠하다': 2849, '지금껏': 2850, '반년': 2851, '번홀': 2852, '달도': 2853, '악몽': 2854, '죽이다': 2855, '먼발치': 2856, '불행하다': 2857, '적막하다': 2858, '거린': 2859, '밤하늘': 2860, '춥다': 2861, '다물어지다': 2862, '남녀': 2863, '한마딘': 2864, '대사': 2865, '씬': 2866, '을해': 2867, '사흘': 2868, '저런': 2869, '일주일': 2870, '이주일': 2871, '내면': 2872, '한평생': 2873, '쓰러지다': 2874, '볼일': 2875, '웨딩드레스': 2876, '반지': 2877, '베베': 2878, '워워': 2879, '딴': 2880, '청': 2881, '넌지시': 2882, '친굴': 2883, '샐쭉': 2884, '읊': 2885, '당': 2886, '신': 2887, '뭣': 2888, '버려진': 2889, '잘해주다': 2890, '부란': 2891, '임': 2892, '찾아보다': 2893, '달리기': 2894, '피부': 2895, '마크': 2896, '겉모습': 2897, '검정': 2898, '잉크': 2899, '찾아내다': 2900, '연': 2901, '바랜': 2902, '지라': 2903, '거래': 2904, '투성이': 2905, '그런대로': 2906, '적신': 2907, '가든': 2908, '재미있다': 2909, '내색': 2910, '메여': 2911, '근심': 2912, '하라': 2913, '갈망': 2914, '자르다': 2915, '외': 2916, '롭고': 2917, '고단': 2918, '일부러': 2919, '깊숙이': 2920, '내려가다': 2921, '어리숙하다': 2922, '강인하다': 2923, '지혜': 2924, '롭다': 2925, '관계': 2926, '체념': 2927, '비난': 2928, '스물': 2929, '한주': 2930, '씨앗': 2931, '풍년': 2932, '멋쟁이': 2933, '빌딩': 2934, '으': 2935, '시대': 2936, '유행': 2937, '반딧불': 2938, '초가집': 2939, '님과함': 2940, '퉁일': 2941, '생애': 2942, '파라': 2943, '외로': 2944, '주리': 2945, '콧노래': 2946, '어가': 2947, '건강하다': 2948, '핼쑥': 2949, '발칙하다': 2950, '놀랠킬': 2951, '살라': 2952, '지난주': 2953, '무한': 2954, '먼훗날일꺼': 2955, '웬': 2956, '마술': 2957, '돌리지': 2958, '말걸': 2959, '도로': 2960, '다한': 2961, '해결': 2962, '스스럼없는': 2963, '얼짱': 2964, '몸짱': 2965, '아저씨': 2966, '못줄': 2967, '말고도': 2968, '게다가': 2969, '전과': 2970, '다물다': 2971, '친구사이': 2972, '출근': 2973, '자유': 2974, '남일': 2975, '길들다': 2976, '상철': 2977, '매달리다': 2978, '오라': 2979, '난생': 2980, '영화에서처럼': 2981, '눈속': 2982, '숙녀': 2983, '조': 2984, '심': 2985, '면사포': 2986, '신부': 2987, '서약': 2988, '넥타이': 2989, '떨치다': 2990, '찰나': 2991, '리진': 2992, '무너뜨렸': 2993, '물음': 2994, '위기': 2995, '널린': 2996, '지식': 2997, '섬세하다': 2998, '바람둥이': 2999, '도서관': 3000, '이어지다': 3001, '교복': 3002, '카펠': 3003, '투덜대다': 3004, '흘러나오다': 3005, '깍지': 3006, '스니커즈': 3007, '플랫슈즈': 3008, '서울': 3009, '삐뚤다': 3010, '빼둘': 3011, '맞춤법': 3012, '자락': 3013, '변화': 3014, '식탁': 3015, '썩': 3016, '배려': 3017, '수백': 3018, '글': 3019, '페이지': 3020, '되돌아가다': 3021, '냉장고': 3022, '수건': 3023, '머나멀다': 3024, '상냥하다': 3025, '자라': 3026, '퓐': 3027, '책상': 3028, '엎드리다': 3029, '리다': 3030, '떠보다': 3031, '별안간': 3032, '살랑': 3033, '원': 3034, '올려주다': 3035, '하나같다': 3036, '팔목': 3037, '신발': 3038, '벗다': 3039, '어쩌구': 3040, '부릅뜨다': 3041, '연못': 3042, '처지다': 3043, '깨끗하다': 3044, '설램': 3045, '한쪽': 3046, '은은하다': 3047, '만치': 3048, '휴': 3049, '둔하다': 3050, '곱': 3051, '아이쿠': 3052, '집도': 3053, '사일': 3054, '치우다': 3055, '산들바람': 3056, '이율': 3057, '내기': 3058, '억울하다': 3059, '유난': 3060, '걘': 3061, '알량하다': 3062, '알맞다': 3063, '뒤끝': 3064, '오렌지': 3065, '빗방울': 3066, '불편하다': 3067, '지옥': 3068, '혼잔': 3069, '음식': 3070, '거구': 3071, '당분간': 3072, '뻔': 3073, '상식': 3074, '나름': 3075, '연속': 3076, '퇴근': 3077, '악수': 3078, '가라': 3079, '맴': 3080, '그까짓': 3081, '상하': 3082, '콕콕': 3083, '찌르다': 3084, '빼앗다': 3085, '수월하다': 3086, '코웃음': 3087, '미안': 3088, '피차': 3089, '일보': 3090, '직전': 3091, '부끄러움': 3092, '아버지': 3093, '법칙': 3094, '널찍하다': 3095, '노크': 3096, '침범': 3097, '아이구': 3098, '반칙': 3099, '어장': 3100, '주렴': 3101, '빨다': 3102, '귓속말': 3103, '케잌': 3104, '맛보다': 3105, '벌다': 3106, '포이즌': 3107, '마비': 3108, '뱀': 3109, '자태': 3110, '돌': 3111, '뽀뽀': 3112, '단위': 3113, '미팅': 3114, '옥탑': 3115, '케미': 3116, '듀오': 3117, '으로부터': 3118, '물론': 3119, '누리다': 3120, '호기심': 3121, '유희': 3122, '시시하다': 3123, '얼버무리다': 3124, '가쁘': 3125, '렁': 3126, '가세': 3127, '밤잠': 3128, '설치다': 3129, '까봐': 3130, '두기': 3131, '오월': 3132, '폭풍우': 3133, '낙원': 3134, '먹구름': 3135, '지옥도': 3136, '아가': 3137, '뜬금없이': 3138, '채널': 3139, '쇼핑': 3140, '늘리다': 3141, '거더': 3142, '더군': 3143, '바이바이': 3144, '스윽': 3145, '훑다': 3146, '여운': 3147, '본채': 3148, '꺾다': 3149, '온대': 3150, '치면': 3151, '무렵': 3152, '소홀하다': 3153, '편안함': 3154, '여느': 3155, '에서만': 3156, '어귀': 3157, '데도': 3158, '닫다': 3159, '조명하': 3160, '어둑해지다': 3161, '하나같이': 3162, '옮기다': 3163, '감지': 3164, '담배': 3165, '성격': 3166, '급하다': 3167, '주말': 3168, '만도': 3169, '애꿎': 3170, '꿈뻑': 3171, '짝': 3172, '쓸모없다': 3173, '추': 3174, '스리': 3175, '움켜쥐다': 3176, '나가요': 3177, '안전하다': 3178, '박기영': 3179, '흐릿하': 3180, '에게는': 3181, '넘어서다': 3182, '희다': 3183, '성당': 3184, '종소리': 3185, '겨를': 3186, '뼘': 3187, '그러하다': 3188, '소란하다': 3189, '근대': 3190, '두근두근': 3191, '일밤': 3192, '어둔': 3193, '바랬었는데': 3194, '살길': 3195, '바랬었': 3196, '목걸일': 3197, '사주다': 3198, '입히다': 3199, '주머니': 3200, '생활': 3201}\n"
     ]
    }
   ],
   "source": [
    "print(tokenizer.word_index)"
   ]
  },
  {
   "cell_type": "code",
   "execution_count": 46,
   "id": "af7ed1f6",
   "metadata": {
    "ExecuteTime": {
     "end_time": "2021-11-18T11:47:13.052445Z",
     "start_time": "2021-11-18T11:47:13.034417Z"
    }
   },
   "outputs": [
    {
     "name": "stdout",
     "output_type": "stream",
     "text": [
      "odict_items([('눈물', 185), ('흐르다', 47), ('이별', 106), ('인걸', 28), ('알다', 184), ('힘없다', 3), ('돌아서다', 26), ('뒷모습', 16), ('을', 1227), ('바라보다', 123), ('만큼', 38), ('슬프다', 75), ('하지만', 47), ('견디다', 41), ('추억', 84), ('아름답다', 67), ('짧다', 15), ('만남', 12), ('로', 209), ('지우다', 71), ('상처', 44), ('뿐', 88), ('인데', 41), ('맘', 259), ('깊다', 33), ('곳', 93), ('엔', 120), ('언제나', 50), ('남기다', 13), ('두다', 74), ('하나로', 13), ('내겐', 53), ('충분하다', 13), ('시간', 166), ('속', 144), ('잊다', 182), ('모두', 85), ('한동안', 6), ('가끔', 58), ('울다', 55), ('같다', 388), ('두', 96), ('눈', 220), ('감고', 12), ('지난날', 11), ('돌아보다', 17), ('숨기다', 12), ('마음속', 10), ('에서', 160), ('느끼다', 56), ('가려진', 2), ('기다', 50), ('에게', 178), ('보고', 101), ('부시', 4), ('웃다', 139), ('기억', 122), ('이제', 143), ('볼', 59), ('없다', 710), ('돼다', 234), ('끝내', 11), ('붙잡다', 20), ('만', 377), ('겨울', 19), ('지나가다', 42), ('나지막이', 1), ('들리다', 15), ('않다', 446), ('전하', 4), ('기다리다', 115), ('한마디', 17), ('대신', 5), ('피고', 7), ('지다', 30), ('뜨겁다', 15), ('시리다', 11), ('보내다', 90), ('계절', 35), ('처럼', 267), ('피어', 17), ('단', 55), ('번', 72), ('언제', 77), ('라도', 34), ('사랑스럽다', 14), ('그대로', 53), ('지나', 23), ('버리다', 153), ('놓아두다', 2), ('그렇다', 287), ('처음처럼', 2), ('가슴속', 13), ('켜', 2), ('켜다', 5), ('쌓다', 3), ('그리움', 20), ('흘리다', 33), ('대다', 172), ('피우다', 4), ('낼', 20), ('괜찮다', 105), ('스치다', 30), ('곁', 166), ('맴도', 6), ('작다', 47), ('조차', 25), ('아프다', 172), ('남다', 63), ('처음', 86), ('만나다', 125), ('그때', 80), ('모습', 121), ('마치', 24), ('멍하니', 6), ('하루', 139), ('종일', 35), ('의미', 19), ('생각', 198), ('아니다', 169), ('헤어지자', 7), ('힘들다', 72), ('내다', 266), ('오지', 14), ('고', 150), ('하루하루', 11), ('늦추다', 3), ('어차피', 11), ('가다', 148), ('워', 30), ('지', 79), ('잖다', 10), ('달라지다', 20), ('순간', 105), ('에도', 47), ('조금', 81), ('거', 126), ('이대', 2), ('로는', 11), ('좋다', 287), ('나다', 129), ('만들다', 94), ('오늘', 209), ('꼭', 73), ('두렵다', 37), ('미루다', 8), ('혼자', 99), ('서', 85), ('행복하다', 176), ('안다', 65), ('서다', 61), ('비추다', 13), ('햇빛', 6), ('눈빛', 50), ('불다', 57), ('귓가', 10), ('살며시', 6), ('달콤하다', 25), ('목소리', 28), ('잠들다', 35), ('깨우다', 12), ('준', 31), ('배우다', 7), ('적', 28), ('말로', 9), ('입', 18), ('열다', 9), ('오직', 46), ('담다', 38), ('감다', 38), ('뜨다', 34), ('모르다', 245), ('발견', 2), ('꿈', 124), ('그리다', 43), ('온', 51), ('환상', 2), ('찾아오다', 22), ('없이', 97), ('다가오다', 41), ('숨', 43), ('멎다', 11), ('미소', 51), ('깜짝', 2), ('깜박', 4), ('입술', 32), ('닿다', 30), ('듯', 46), ('멈추다', 68), ('안', 195), ('새롭다', 9), ('불어오다', 16), ('나르다', 250), ('눈부시다', 17), ('뜰', 8), ('어제', 27), ('완', 4), ('다른', 97), ('세상', 154), ('퍼즐', 2), ('조각', 6), ('완벽하다', 12), ('맞추다', 41), ('야', 151), ('익숙하다', 12), ('왠지', 12), ('특별하다', 16), ('전부', 45), ('놀랍다', 7), ('이렇다', 105), ('감정', 21), ('운명', 13), ('살짝', 9), ('부족하다', 22), ('이건', 6), ('기적', 13), ('인', 89), ('보다', 714), ('멋지다', 12), ('현실', 6), ('앞', 64), ('이상', 22), ('깨어나다', 4), ('표현', 17), ('만을', 30), ('속삭임', 4), ('벗어나다', 6), ('긋다', 3), ('따뜻하다', 26), ('차다', 95), ('낯선', 1), ('향기', 25), ('이름', 35), ('꽃', 41), ('매일', 96), ('넌데', 2), ('따르다', 18), ('이리', 16), ('떨리다', 33), ('많다', 82), ('좀처럼', 2), ('연락', 16), ('뜸', 5), ('친구', 35), ('얼굴', 40), ('보이', 7), ('우릴', 13), ('사람', 287), ('모이다', 1), ('문', 9), ('열리다', 2), ('발', 15), ('향', 31), ('걸어오다', 9), ('글쎄', 1), ('뭐라다', 25), ('울컥', 2), ('니', 205), ('왼손', 4), ('잡고', 40), ('걸음', 44), ('소개', 3), ('꽃잎', 6), ('사이', 44), ('셀', 4), ('축복', 6), ('둘', 84), ('오늘이', 13), ('오기', 1), ('까지', 91), ('크다', 25), ('쓸데없다', 1), ('오해', 5), ('때문', 41), ('놓치다', 19), ('뻔하다', 10), ('둘러싸다', 3), ('너머', 4), ('새', 22), ('하얗다', 14), ('입다', 5), ('보이다', 77), ('꾸다', 31), ('노래', 76), ('들다', 109), ('멜로디', 8), ('귀', 10), ('기울이다', 3), ('위', 63), ('예쁘다', 50), ('허락', 14), ('받다', 80), ('기쁨', 8), ('서운하다', 5), ('테', 31), ('허다', 2), ('영원하다', 86), ('아끼다', 29), ('저', 61), ('나서다', 11), ('약속', 42), ('되다', 256), ('지나다', 43), ('평생', 26), ('생일', 2), ('지치다', 48), ('달빛', 8), ('아래', 19), ('그림자', 8), ('잡히다', 15), ('아련하다', 5), ('행복', 49), ('아직', 91), ('저기', 14), ('마음', 256), ('마저', 18), ('그늘', 8), ('드리우다', 2), ('주다', 152), ('때로는', 13), ('길이', 25), ('멀다', 49), ('서글프다', 6), ('일이', 26), ('서로', 85), ('쉬다', 69), ('되어다', 54), ('함께', 142), ('어디', 64), ('가야', 8), ('보이지', 13), ('만으로', 12), ('부시다', 3), ('그날', 23), ('여전하다', 22), ('서툴다', 25), ('까지나', 25), ('캄캄하다', 2), ('밤', 167), ('길', 54), ('잃다', 34), ('헤매다', 8), ('등불', 1), ('훗날', 6), ('무지개', 1), ('찾다', 46), ('거기', 7), ('해도', 68), ('소중하다', 39), ('모진', 8), ('바람', 75), ('또다시', 6), ('불어', 5), ('와도', 15), ('거치다', 8), ('세월', 9), ('집', 29), ('데리다', 8), ('안부', 4), ('묻다', 29), ('풍경', 3), ('사진', 18), ('맛있다', 5), ('저녁', 11), ('새우다', 2), ('얘기', 48), ('당연하다', 6), ('때론', 12), ('철', 8), ('울', 53), ('기도', 25), ('안고', 30), ('갖다', 13), ('이다', 131), ('뒤', 51), ('돌다', 26), ('걸어가다', 7), ('되돌리다', 7), ('만날', 12), ('거리', 43), ('한참', 27), ('걷다', 37), ('곳곳', 1), ('마다', 42), ('온통', 12), ('그땐', 17), ('그냥', 74), ('나야', 2), ('걸다', 69), ('후회', 63), ('안녕', 32), ('끝', 79), ('가볍다', 10), ('인사', 24), ('한번', 62), ('씩', 25), ('무너지다', 21), ('내리다', 21), ('매번', 8), ('헷갈리다', 8), ('뭐', 56), ('무슨', 38), ('인지', 19), ('항상', 50), ('피하', 1), ('려고', 3), ('재미', 1), ('문득', 14), ('라고', 43), ('옆', 44), ('자리', 21), ('태우다', 14), ('달린다', 1), ('면', 79), ('같이', 39), ('텐데', 6), ('술잔', 1), ('비치다', 10), ('초라하다', 15), ('느껴지다', 23), ('취해', 7), ('자고', 6), ('싶다', 367), ('미치다', 39), ('살', 64), ('머릿속', 14), ('훤해', 3), ('차갑다', 28), ('표정', 25), ('으로라도', 3), ('계속', 46), ('원하다', 51), ('척', 61), ('별로', 2), ('지키다', 65), ('눕다', 4), ('아침', 43), ('맞이', 4), ('팔베개', 1), ('익숙해지다', 9), ('가까워지다', 12), ('지겹다', 6), ('지면', 1), ('안되다', 42), ('누리', 1), ('수도', 11), ('애가', 1), ('타', 6), ('영감', 2), ('가득', 16), ('채운', 3), ('선율', 1), ('존재', 5), ('하고', 116), ('바라다', 45), ('닮다', 26), ('스며들다', 20), ('멀리', 32), ('라라라라', 8), ('라', 38), ('걱정', 36), ('덴', 1), ('이유', 43), ('오', 41), ('다정하다', 6), ('해주다', 159), ('감사하다', 15), ('떨어지다', 8), ('멀어지다', 50), ('뿐이다', 7), ('라며', 3), ('믿다', 56), ('영화', 15), ('보기', 4), ('앨범', 1), ('채우다', 41), ('차분하다', 1), ('질리', 1), ('바로', 20), ('몇', 17), ('분', 16), ('전', 50), ('니까', 55), ('넘어지다', 4), ('가슴', 108), ('베개', 1), ('험하다', 8), ('간다', 5), ('아침햇살', 4), ('비치', 2), ('이리저리', 2), ('둘러보다', 4), ('제일', 11), ('지루하다', 2), ('외롭다', 16), ('즐거움', 1), ('웃음', 24), ('짓다', 17), ('나날', 8), ('이어서', 1), ('인터넷', 1), ('치다', 19), ('나오다', 55), ('굳이', 7), ('가수', 3), ('유명', 1), ('하고프다', 12), ('이니까', 17), ('알아듣다', 1), ('혹시', 45), ('기르다', 9), ('쓰다', 14), ('옛날', 3), ('위해', 74), ('살다', 81), ('솔직하다', 25), ('터', 4), ('놓다', 57), ('노랗다', 11), ('듣다', 44), ('아픔', 29), ('진심', 16), ('다해', 6), ('짜다', 2), ('별거', 4), ('가사', 4), ('울리다', 20), ('퍼지다', 6), ('제발', 33), ('듣기', 3), ('돌아오다', 50), ('희미하다', 9), ('흔적', 9), ('점점', 33), ('그만', 22), ('와의', 19), ('조이다', 4), ('사진첩', 2), ('비우다', 16), ('희망', 1), ('지난', 17), ('돌아가다', 23), ('순', 38), ('늘', 53), ('자리다', 14), ('굿모닝', 3), ('일어나서', 1), ('자다', 112), ('이르다', 29), ('설레다', 43), ('시작', 38), ('짜증나다', 1), ('벨소리', 1), ('다르다', 23), ('똑같다', 15), ('어설프다', 16), ('농담', 8), ('짓궂다', 4), ('장난', 12), ('애', 40), ('꾸밈', 3), ('말투', 7), ('부끄럽다', 8), ('자꾸', 66), ('숨기', 6), ('돌리다', 15), ('귀엽다', 10), ('서투르다', 5), ('이미', 40), ('안거', 1), ('활짝', 3), ('쳐다보다', 11), ('어느', 18), ('해변', 1), ('가르다', 4), ('거닐다', 4), ('파도', 10), ('밀리다', 5), ('바다', 9), ('에선', 13), ('치고', 3), ('모래', 2), ('자욱이', 1), ('남고', 1), ('그저', 69), ('손잡다', 13), ('가요', 15), ('어떻다', 136), ('이라도', 27), ('파고들다', 3), ('요', 157), ('파도처럼', 7), ('낯설다', 11), ('어색하다', 39), ('어딜', 5), ('밀려오다', 7), ('반짝이다', 9), ('흘러가다', 12), ('대로', 10), ('빛', 37), ('들어오다', 12), ('자연스레', 2), ('어딘가', 6), ('바뀌다', 19), ('남', 15), ('일어나고', 2), ('에게만', 20), ('준비', 19), ('선물', 26), ('자그마하다', 3), ('커지다', 19), ('평범하다', 5), ('일상', 5), ('별', 39), ('지나치다', 14), ('마냥', 7), ('어둡다', 9), ('빛나다', 16), ('신나다', 1), ('아이', 12), ('순수하다', 2), ('빠지다', 28), ('오신', 2), ('님', 7), ('어서', 23), ('오다', 147), ('당신', 106), ('라이', 8), ('어디서', 3), ('무엇', 22), ('꽃씨', 2), ('뿌리다', 3), ('나누다', 23), ('이라', 23), ('나무', 7), ('기쁘다', 8), ('시도', 2), ('입맞춤', 11), ('주고받다', 3), ('아쉬움', 5), ('가득하다', 23), ('헤어지다', 76), ('쌓이다', 15), ('어쩔', 9), ('남아', 18), ('차가워지다', 12), ('다툼', 1), ('미안하다', 79), ('그려지다', 5), ('마지막', 62), ('거니', 20), ('물', 6), ('된거', 1), ('대답', 8), ('자랑', 3), ('기분', 42), ('모으다', 8), ('떠들다', 1), ('열두', 3), ('전화기', 2), ('바쁘다', 21), ('바보', 62), ('유치하다', 3), ('주', 11), ('고프다', 22), ('적다', 14), ('해주', 1), ('왼쪽', 1), ('오른쪽', 1), ('땐', 39), ('반드시', 1), ('필요하다', 9), ('레시피', 1), ('유통', 1), ('기한', 1), ('적히다', 2), ('진실', 1), ('이란', 46), ('요리', 1), ('욕심', 10), ('허무하다', 2), ('똑같이', 5), ('불안하다', 26), ('무뎌져가', 1), ('이번', 6), ('만은', 10), ('라는', 29), ('헛된', 2), ('바램', 6), ('가지', 49), ('믿음', 2), ('수록', 7), ('부턴', 11), ('불쑥', 2), ('습관', 10), ('어쩌면', 23), ('부담', 2), ('주저', 2), ('어느새다', 14), ('어둠', 15), ('젖다', 17), ('취기', 2), ('빌리다', 16), ('고백', 42), ('괜히', 17), ('망설이다', 18), ('무뚝뚝하다', 4), ('쑥스럽다', 3), ('문자', 6), ('멋쩍', 3), ('쓴웃음', 2), ('마주치다', 22), ('머뭇거리다', 3), ('손', 102), ('잦다', 7), ('아들', 3), ('수없이', 6), ('연습', 5), ('해오다', 9), ('첫', 10), ('품', 43), ('마주', 40), ('좋아하다', 75), ('하늘', 52), ('근', 10), ('두운', 18), ('타고', 12), ('갈다', 44), ('꽃집', 6), ('사', 7), ('줄', 117), ('날아가다', 8), ('든지', 4), ('이지만', 6), ('거짓말', 34), ('사실', 32), ('누가', 15), ('뒤지다', 1), ('빨리', 8), ('달아나다', 8), ('별빛', 10), ('넘실대다', 2), ('만의', 18), ('따다', 13), ('물어보다', 5), ('손바닥', 1), ('가리다', 5), ('그리고', 11), ('뒤엉킬', 1), ('초', 6), ('다가가다', 33), ('뭔가', 16), ('카운트', 1), ('세다', 3), ('간지럽다', 3), ('듯이', 9), ('말다', 76), ('피다', 13), ('궁금하다', 25), ('잡다', 48), ('쏟아지다', 8), ('언덕', 2), ('춤', 14), ('추다', 15), ('먹다', 34), ('칵테일', 1), ('섞다', 1), ('만이', 47), ('이뤄지다', 4), ('도란도란', 1), ('둘이서', 3), ('새벽', 11), ('비', 16), ('노을', 4), ('불타다', 2), ('파', 13), ('안기다', 18), ('잠', 22), ('들고파다', 2), ('우', 17), ('터지다', 13), ('입가', 3), ('아무', 144), ('필요', 13), ('깊이', 8), ('맘속', 22), ('잡아가다', 1), ('떠나다', 135), ('휩쓸다', 2), ('가지다', 36), ('이야', 69), ('온종일', 5), ('흠뻑', 4), ('빠져드', 1), ('달밤', 1), ('서성이다', 5), ('잔향', 1), ('고민', 11), ('풀리다', 5), ('더욱', 9), ('그래도', 31), ('미련', 13), ('붙다', 5), ('사라지다', 43), ('공간', 7), ('남겨지다', 7), ('함정', 1), ('알아주다', 16), ('밝다', 16), ('부터', 66), ('나인', 12), ('한단', 8), ('생각나다', 19), ('살아오다', 5), ('오래전', 6), ('딱', 16), ('맞다', 13), ('애매하다', 4), ('길다', 5), ('음음', 8), ('후', 24), ('게로', 4), ('달려가다', 13), ('포근하다', 9), ('다투다', 6), ('편지', 9), ('넣다', 11), ('곱씹다', 1), ('햇살', 32), ('스르르', 1), ('뺨', 2), ('팔', 4), ('벌리다', 1), ('커피', 5), ('많이', 76), ('마시다', 6), ('심장', 18), ('막', 5), ('대고', 1), ('수가', 52), ('새다', 5), ('천사', 4), ('쏟다', 4), ('은하수', 2), ('든', 28), ('비처럼', 1), ('엄지', 2), ('검지', 1), ('안달', 1), ('쏘다', 1), ('올리다', 3), ('인공위성', 1), ('주윌', 2), ('마구', 3), ('맴돌다', 9), ('행성', 1), ('에다가', 1), ('새기다', 6), ('가장', 19), ('우주', 4), ('목', 14), ('메다', 4), ('안간힘', 2), ('써다', 9), ('피해', 7), ('물르다', 1), ('인가', 10), ('놀라다', 6), ('겁나다', 1), ('이기다', 14), ('눈치', 13), ('빠르다', 4), ('먼저', 36), ('소', 1), ('란스', 1), ('레', 1), ('이내', 1), ('뺏다', 4), ('넘치다', 8), ('시기하다', 1), ('취한', 10), ('열', 5), ('오르다', 9), ('비틀대다', 8), ('꿈꾸다', 15), ('부서지다', 7), ('흩어지다', 13), ('향기롭다', 6), ('잡지', 4), ('지지도', 1), ('덜다', 2), ('가보다', 18), ('미우다', 34), ('누굴', 8), ('수많다', 15), ('체', 5), ('용감하다', 1), ('살아가다', 30), ('이틀', 2), ('언', 8), ('간', 18), ('에서도', 12), ('무뎌', 1), ('지는', 8), ('얼마나', 19), ('싸우다', 1), ('쯤', 25), ('자유롭다', 1), ('데려가다', 18), ('땜', 6), ('힘', 39), ('겨워', 3), ('지독하다', 2), ('앉다', 24), ('마저도', 5), ('지워지다', 12), ('한나', 1), ('질', 10), ('답답하다', 9), ('숙제', 2), ('나쁘다', 30), ('소리', 31), ('어젠', 4), ('서버', 2), ('린', 2), ('년', 11), ('꺼내다', 11), ('용기', 23), ('그깟', 1), ('까지라고', 1), ('이라고', 10), ('아무렇다', 20), ('이라는', 5), ('보지', 14), ('오래', 13), ('가을', 5), ('줄다', 1), ('낙엽', 6), ('여자', 55), ('헤메', 4), ('드리다', 2), ('지내다', 28), ('정말로', 1), ('섞이다', 3), ('수다', 2), ('떨다', 6), ('거울', 4), ('들이다', 7), ('갑자기', 3), ('인가요', 7), ('그립다', 71), ('아주', 37), ('버릇', 1), ('여', 39), ('별것', 3), ('턱', 2), ('리', 3), ('인게', 4), ('소원', 4), ('숨쉬다', 4), ('투명하다', 8), ('허전하다', 9), ('감싸다', 22), ('무', 11), ('뎌', 10), ('진', 7), ('낮다', 6), ('구름', 10), ('무겁다', 8), ('빈자리', 11), ('인정', 3), ('서럽다', 9), ('포기', 4), ('무딘', 1), ('메우다', 2), ('아마도', 13), ('몇번', 9), ('이나', 21), ('물다', 3), ('태양', 1), ('끝나다', 35), ('꿈속', 3), ('죽음', 2), ('머물다', 21), ('비다', 8), ('마르고', 1), ('녹다', 9), ('아직도', 41), ('흐려지다', 8), ('갈수록', 10), ('진하다', 5), ('장면', 3), ('더하다', 6), ('되돌아보다', 2), ('잘못', 14), ('동안', 26), ('이기심', 2), ('뜻대로', 2), ('뒤늦다', 2), ('후련', 1), ('런가', 1), ('비겁하다', 3), ('달래다', 10), ('갈리다', 1), ('자석', 2), ('다만', 3), ('아릴', 1), ('하나요', 7), ('약해지다', 7), ('마', 106), ('예요', 32), ('만큼만', 4), ('어리다', 30), ('자신', 14), ('제', 9), ('죽다', 19), ('즐기다', 2), ('부르다', 38), ('괴롭히다', 3), ('어떡하다', 40), ('용서', 4), ('방황', 9), ('고통', 3), ('강하다', 4), ('바', 38), ('래', 54), ('에펠', 4), ('타워', 4), ('백합', 4), ('파리', 9), ('밤새다', 10), ('샴페인', 4), ('오랫동안', 9), ('한가지', 5), ('곧', 7), ('소식', 10), ('돈', 2), ('가치', 3), ('목록', 1), ('관', 1), ('마침내', 2), ('도착', 1), ('죠', 28), ('사다', 6), ('론', 6), ('끼리', 4), ('던', 7), ('떠나가다', 41), ('거란', 2), ('낳다', 3), ('서두르다', 15), ('데', 16), ('신경', 6), ('쓰이다', 2), ('건데', 7), ('빈', 24), ('싫다', 51), ('차이', 2), ('나이', 2), ('주위', 3), ('이맘', 2), ('숨다', 32), ('티', 2), ('가져가다', 11), ('창가', 7), ('요란하다', 1), ('빗물', 5), ('짙어지다', 7), ('잠기다', 10), ('거슬러', 3), ('처럼만', 7), ('빗다', 4), ('따라가다', 3), ('떠오르다', 14), ('차오르다', 10), ('일지', 7), ('발걸음', 11), ('움직이다', 3), ('이제야', 30), ('에야', 8), ('비틀', 10), ('기대다', 28), ('기만', 4), ('밀다', 11), ('고서', 6), ('건지다', 46), ('빠져들다', 8), ('복잡하다', 8), ('우우', 14), ('나하', 1), ('하아', 4), ('여름', 14), ('광화문', 2), ('가로수', 1), ('은행', 1), ('잎', 1), ('물들다', 8), ('그제야', 3), ('개다', 8), ('반짝', 1), ('이던', 4), ('시절', 7), ('그토록', 8), ('너뿐이', 1), ('조금씩', 35), ('변하다', 59), ('여기다', 8), ('아름', 1), ('다우니', 1), ('음', 39), ('그것', 22), ('에게도', 4), ('한순간', 10), ('태어나다', 22), ('누군가', 29), ('주신', 4), ('삶', 29), ('에겐', 23), ('들키다', 2), ('하얘지다', 1), ('핑계', 4), ('무섭다', 18), ('자꾸자꾸', 1), ('그래서', 7), ('밖에', 45), ('번만', 3), ('눈뜨다', 1), ('쉬', 6), ('얘길', 10), ('한숨', 15), ('내쉬다', 2), ('차라리', 16), ('빌다', 4), ('인연', 7), ('룰', 6), ('애쓰다', 46), ('참다', 34), ('슬픔', 22), ('이어도', 2), ('서서히', 3), ('저물다', 2), ('어딘', 3), ('그게', 51), ('전분', 4), ('어두워지다', 1), ('집착', 2), ('어쩜', 10), ('별처럼', 10), ('소복소복', 2), ('손끝', 1), ('차', 6), ('이마', 2), ('짚다', 2), ('겁', 25), ('내지', 3), ('첫사랑', 7), ('조심', 6), ('스럽게', 8), ('차곡차곡', 2), ('떠올리다', 29), ('발그레해', 2), ('얼다', 2), ('녹아내리다', 1), ('쥐다', 2), ('두근거리다', 6), ('한발', 3), ('가까이', 17), ('반갑다', 2), ('숨소리', 1), ('웃음소리', 1), ('흔들다', 15), ('푸르른', 2), ('까지만', 5), ('기다림', 8), ('잊혀짐', 1), ('부질없다', 1), ('지만', 29), ('번은', 2), ('욕', 2), ('지도', 2), ('늦다', 35), ('해보다', 43), ('말고', 31), ('지켜보다', 8), ('어쩌자', 2), ('알아보다', 4), ('언젠가', 33), ('덜', 5), ('참고', 8), ('첨', 15), ('뒷걸음질', 1), ('친', 5), ('외면', 5), ('계산', 2), ('아무리', 19), ('조심하다', 1), ('두드리다', 2), ('동그랗다', 1), ('어루만지다', 1), ('마르다', 9), ('봄', 6), ('두려움', 11), ('편하다', 22), ('만난', 18), ('첨으로', 5), ('원망하다', 13), ('훔치다', 1), ('일로', 1), ('다시다', 33), ('막다', 7), ('미워하다', 26), ('화', 4), ('웃', 9), ('흘러내리다', 2), ('에게서', 4), ('서서', 9), ('반대', 11), ('뛰다', 7), ('밑', 4), ('따라오다', 6), ('나중', 5), ('금은', 1), ('벌써', 10), ('일어나다', 10), ('오후', 3), ('시', 11), ('오전', 1), ('사치', 2), ('머린', 2), ('자라다', 4), ('이상은', 2), ('재밌다', 2), ('밖', 9), ('나가다', 7), ('옷장', 1), ('옷', 10), ('찾아가다', 11), ('카페', 2), ('유리창', 2), ('머리', 23), ('벨', 3), ('일단', 2), ('물러서다', 4), ('튀다', 4), ('고르다', 6), ('어지럽다', 10), ('한데', 2), ('통화', 5), ('연결', 1), ('상', 1), ('주문', 5), ('가빠', 1), ('폰', 1), ('자연', 3), ('응', 1), ('자연스럽다', 5), ('꾸미다', 5), ('중', 20), ('그녀', 39), ('크게', 8), ('들려오다', 3), ('쿵쿵', 5), ('쿵', 1), ('반한', 1), ('비밀', 13), ('야우리', 1), ('쉿', 2), ('눈길', 2), ('주지', 7), ('오가다', 1), ('발길', 3), ('이고', 15), ('밟다', 2), ('소망', 1), ('쓸모', 2), ('줌', 1), ('햇볕', 1), ('소담', 1), ('스런', 1), ('즈', 1), ('넉', 1), ('힘겹다', 10), ('시련', 3), ('거름', 1), ('과도', 1), ('마다의', 2), ('몫', 1), ('부디', 9), ('주오', 8), ('이여', 4), ('찬란하다', 3), ('토록', 13), ('생', 4), ('비록', 5), ('고달프다', 1), ('희망이', 1), ('만으로도', 2), ('맘대로', 2), ('해봤다', 9), ('흔들리다', 10), ('만약', 19), ('신촌', 3), ('한잔', 5), ('하자', 3), ('꼬시', 1), ('며', 18), ('대도', 30), ('자주', 5), ('사거리', 1), ('포장마차', 1), ('빨갛다', 10), ('엘', 1), ('선', 22), ('아쉽다', 15), ('막차', 1), ('버스', 4), ('뒷', 3), ('호', 1), ('입김', 1), ('그걸', 5), ('땀', 13), ('금요일', 2), ('이후', 6), ('일일', 4), ('끄다', 24), ('거길', 2), ('가도', 7), ('아예', 4), ('어', 23), ('꽉', 6), ('챙기다', 1), ('조용하다', 6), ('이대로', 32), ('시선', 8), ('잠시', 38), ('어깨', 25), ('잃어버리다', 8), ('잊혀지다', 15), ('내려오다', 2), ('빗속', 2), ('실수', 9), ('우연히', 6), ('외로움', 10), ('우정', 1), ('너무나', 34), ('까지도', 19), ('사로자다', 6), ('느낌', 19), ('하니', 10), ('도대체', 9), ('무얼', 4), ('감당', 6), ('만이라도', 8), ('우연', 3), ('의지', 3), ('기', 12), ('억', 4), ('과분', 5), ('올', 2), ('온몸', 1), ('심장소리', 1), ('끌리다', 5), ('도저히', 7), ('설명', 3), ('홀린', 2), ('좀더', 1), ('라서', 10), ('버티다', 17), ('박히다', 9), ('선명하다', 21), ('씻다', 5), ('도록', 2), ('엉', 2), ('다시금', 2), ('머릴', 5), ('억지로', 2), ('전해지다', 3), ('에게로', 4), ('가나', 4), ('넘다', 16), ('텅', 16), ('남모르다', 2), ('울면', 4), ('길일', 1), ('하기는', 1), ('갗', 1), ('에는', 11), ('달', 14), ('편', 7), ('외우다', 3), ('이끌다', 2), ('준걸', 3), ('전화', 28), ('만지다', 6), ('쪽', 1), ('고맙다', 31), ('더듬다', 1), ('불행', 2), ('맑은', 7), ('허상', 2), ('며칠', 6), ('기울다', 1), ('괜스레', 2), ('아마', 15), ('가기', 4), ('유일하다', 2), ('바라지', 4), ('불빛', 2), ('촛불', 4), ('와인', 2), ('잔', 10), ('담기다', 4), ('화려하다', 5), ('첫날', 4), ('흐릿해', 1), ('원망', 4), ('녹슬다', 1), ('화가', 2), ('움큼', 1), ('실망', 2), ('시키다', 6), ('틈새', 1), ('잊어버리다', 9), ('달라', 39), ('달리', 1), ('품다', 8), ('탓', 14), ('어울리다', 14), ('쓴다', 3), ('애틋하다', 2), ('체온', 2), ('별수', 1), ('삼키다', 4), ('끝내기', 1), ('틈', 5), ('결국', 27), ('롤', 7), ('실컷', 1), ('설득', 1), ('력', 3), ('앞뒤', 1), ('헝클어지다', 5), ('보아', 19), ('죽', 7), ('속이다', 12), ('시커멓다', 2), ('새까맣다', 2), ('변치', 3), ('삶다', 2), ('죄인', 1), ('뿌리', 3), ('불때', 1), ('불', 6), ('기전', 2), ('요동치다', 4), ('남자', 45), ('원래', 6), ('과는', 7), ('고기', 1), ('먹이', 1), ('꼴', 1), ('이에요', 2), ('연애', 3), ('거지', 6), ('맨날', 2), ('식다', 5), ('와는', 4), ('틀다', 11), ('화난', 1), ('꼭꼭', 2), ('튀어나오다', 1), ('바짝', 2), ('쫄', 1), ('가만', 2), ('늘다', 13), ('이야기', 14), ('반복', 9), ('근데', 19), ('리도', 2), ('힘드다', 17), ('가라앉다', 4), ('는걸', 5), ('부럽다', 10), ('가시', 6), ('인거', 5), ('웃어요', 6), ('줍다', 2), ('목소릴', 3), ('외로워', 3), ('이불', 5), ('덮다', 5), ('덥다', 10), ('마무리', 2), ('가두다', 7), ('거나', 2), ('자국', 1), ('덧', 3), ('씌우다', 1), ('홀로', 38), ('끌어안다', 9), ('아물다', 3), ('위로', 32), ('내뱉다', 3), ('물든', 5), ('드나봐', 1), ('루루', 2), ('최선', 4), ('이쯤', 3), ('대론', 2), ('우리말', 1), ('취', 2), ('인지도', 3), ('까마득하다', 2), ('안나', 3), ('오늘밤', 1), ('약하다', 3), ('술김', 2), ('서면', 9), ('촌스럽다', 6), ('밉다', 5), ('이런', 2), ('웃기', 7), ('에게나', 2), ('만큼이나', 2), ('똑바로', 4), ('자꾸만', 33), ('아깝다', 2), ('말또해', 1), ('높다', 8), ('휴일', 1), ('창', 5), ('점', 4), ('죄', 4), ('확인', 1), ('시월', 2), ('차마', 11), ('부딪히다', 2), ('뜻', 4), ('너무도', 11), ('고생', 4), ('받아들이다', 2), ('과연', 4), ('감촉', 2), ('긴', 2), ('각자', 2), ('당장', 3), ('내일', 33), ('다짐', 7), ('여리다', 6), ('진짜', 10), ('이라서', 8), ('결정', 1), ('치솟다', 1), ('현기증', 1), ('제법', 3), ('능숙하다', 1), ('고정', 1), ('우아하다', 6), ('흩다', 1), ('좁히다', 1), ('속눈썹', 1), ('잠깐', 11), ('속도', 1), ('재다', 2), ('말론', 1), ('짜릿하다', 2), ('다음', 20), ('단계', 1), ('빨르다', 3), ('호흡', 1), ('얹다', 1), ('옮', 1), ('소름', 1), ('끼치다', 1), ('읽다', 4), ('토씨', 1), ('색다르다', 1), ('방식', 1), ('언어', 3), ('공기', 14), ('시야', 2), ('얘', 2), ('코끝', 2), ('아득해지다', 4), ('찻잔', 1), ('탁자', 2), ('쓸다', 7), ('찻집', 1), ('그녈', 1), ('세번', 1), ('째', 5), ('산', 2), ('구두', 1), ('쇼', 1), ('윈도', 1), ('쓱', 1), ('못마땅하다', 1), ('장미꽃', 2), ('한송이', 2), ('솜사탕', 3), ('내야', 11), ('논', 2), ('시계', 8), ('바늘', 4), ('살살', 1), ('넘기다', 8), ('날다', 4), ('나나', 28), ('뛰어오르다', 1), ('오로지', 1), ('여야', 2), ('도망치다', 3), ('거지같다', 3), ('천천히', 17), ('띄우다', 3), ('가만히', 15), ('들여다보다', 1), ('닷', 1), ('손가락', 5), ('번호', 5), ('나아지다', 3), ('발버둥치다', 2), ('열심히', 2), ('어떻', 4), ('좁다', 7), ('방', 19), ('칸', 2), ('자존심', 6), ('무색', 2), ('방이', 2), ('염치', 3), ('독하다', 1), ('나라고', 1), ('쉽다', 12), ('바꾸다', 5), ('자격', 1), ('끊다', 4), ('다가서다', 8), ('의심', 3), ('외치다', 9), ('대본', 1), ('생명', 1), ('느리다', 2), ('알기', 1), ('부탁', 7), ('함부로', 1), ('다루다', 2), ('흉터', 2), ('내란', 4), ('이해', 21), ('픈', 1), ('자전거', 1), ('동네', 1), ('바퀴', 1), ('슈퍼', 1), ('우유', 2), ('책방', 1), ('오랜', 16), ('낡다', 2), ('종이', 3), ('냄새', 2), ('나즈', 1), ('편안하다', 5), ('예전', 10), ('사람과', 5), ('어렵다', 27), ('권하다', 3), ('보라', 2), ('책', 1), ('돌려주다', 2), ('편칠', 1), ('구석', 5), ('먼지', 3), ('갇히다', 5), ('모질다', 5), ('오래되다', 9), ('건네다', 3), ('볼품', 1), ('솜씨', 1), ('담', 2), ('라라', 3), ('세수', 1), ('맨', 9), ('이상하다', 4), ('민망하다', 1), ('뚫어지다', 3), ('수화기', 1), ('수줍다', 7), ('덤덤하다', 4), ('뭘', 19), ('멋있다', 1), ('짓', 5), ('택시', 2), ('자가용', 2), ('주방', 2), ('혹은', 3), ('야근', 2), ('축', 4), ('다리다', 4), ('쑤시다', 1), ('천', 10), ('누르다', 7), ('밝히다', 11), ('카운터', 2), ('단순하다', 3), ('셋', 3), ('넷', 2), ('우울하다', 8), ('사무실', 1), ('끙끙대다', 1), ('그릴', 1), ('들어가다', 5), ('침대', 12), ('따스하다', 8), ('뒤척', 4), ('임도', 1), ('조그만', 2), ('괴물', 1), ('내버리다', 6), ('서랍', 1), ('일기장', 2), ('몰래', 9), ('고양이', 2), ('가주', 2), ('부드럽다', 9), ('질투', 2), ('밖엔', 4), ('친하다', 1), ('애인', 1), ('투', 2), ('정도', 8), ('에서라도', 2), ('연인', 6), ('결', 2), ('초점', 1), ('눈동자', 3), ('손길', 7), ('쓸쓸하다', 6), ('안식', 1), ('주네', 1), ('붉다', 5), ('메', 1), ('음성', 1), ('곱다', 2), ('쇠잔', 1), ('영원', 8), ('숙이다', 3), ('왠', 2), ('분명하다', 6), ('모퉁이', 1), ('화면', 2), ('주어', 2), ('놀다', 3), ('숨바꼭질', 3), ('가게', 5), ('얼', 1), ('얼마만큼', 3), ('흰눈', 1), ('나란하다', 2), ('만큼은', 2), ('보다는', 2), ('분만', 17), ('에너지', 3), ('드', 3), ('링크', 3), ('짙다', 7), ('고요한', 1), ('스레', 3), ('센치하다', 1), ('날인', 1), ('깜깜', 4), ('마법', 3), ('녹이다', 5), ('한테', 7), ('앵글', 1), ('통', 3), ('차차', 1), ('얼른', 1), ('랑', 37), ('데리', 3), ('란', 22), ('작품', 1), ('매기', 1), ('정해', 2), ('버킷리스트', 1), ('도시', 1), ('보여주다', 7), ('썸', 3), ('매', 8), ('밀가루', 2), ('다니다', 4), ('스윗', 4), ('생기다', 33), ('반쪽', 8), ('차일', 1), ('맵다', 1), ('풀이', 1), ('떠밀다', 1), ('소설', 2), ('엔딩', 6), ('폭풍', 2), ('위태', 6), ('로운', 9), ('내려놓다', 2), ('쏟아내다', 2), ('안쓰럽다', 5), ('꾹', 2), ('잠도', 2), ('후련하다', 3), ('까맣다', 2), ('눈감다', 9), ('묻히다', 3), ('맺다', 6), ('발음', 2), ('모자라다', 11), ('벅차다', 4), ('뛰어오다', 1), ('물어', 8), ('기대', 18), ('한적', 1), ('인적', 1), ('차디차다', 4), ('끝내다', 5), ('돌이키다', 7), ('이네', 4), ('뼛속', 3), ('얼리다', 3), ('하염없이', 5), ('발자국', 1), ('베다', 1), ('캐럴', 1), ('흔하다', 10), ('가버리다', 9), ('이든', 3), ('마디', 1), ('밖에는', 1), ('잡', 5), ('초조하다', 2), ('환하다', 8), ('갈래', 9), ('동생', 2), ('으로만', 2), ('로만', 2), ('누', 9), ('까불다', 1), ('누나', 3), ('하든', 6), ('상관없다', 7), ('라니까', 3), ('어디가', 2), ('답지', 1), ('냐', 2), ('쓰다듬다', 2), ('절대', 8), ('겠다', 6), ('에만', 13), ('인하다', 2), ('뒤집어지다', 1), ('모래성', 1), ('등', 11), ('장하다', 3), ('미래', 8), ('취향', 7), ('패턴', 2), ('정신없이', 2), ('얽히다', 1), ('설킨', 1), ('틀어지다', 1), ('과거', 3), ('계획', 1), ('망가지다', 2), ('무질서', 1), ('나침반', 1), ('서인', 5), ('나태하다', 2), ('치열하다', 2), ('키', 3), ('소파', 2), ('과자', 1), ('연예인', 11), ('깔깔', 2), ('여유', 3), ('들어주다', 5), ('꽤', 4), ('괴롭다', 8), ('한지', 2), ('안타깝다', 2), ('한다는', 19), ('야하다', 5), ('자라나다', 4), ('찢다', 6), ('서도', 5), ('딴사람', 2), ('찢기다', 2), ('장', 3), ('빛바랜', 1), ('여행', 3), ('도망', 2), ('치', 9), ('진담', 1), ('확실하다', 4), ('굴지', 1), ('이면', 10), ('정확하다', 2), ('각도', 1), ('놀리다', 3), ('이래', 5), ('애원', 3), ('자기', 1), ('달래', 1), ('고작', 5), ('나래', 1), ('바란', 4), ('대', 11), ('매정하다', 3), ('뭔', 15), ('문제', 6), ('멋대로', 2), ('어째', 2), ('싫어지다', 6), ('다른사람', 1), ('그대만', 14), ('든든하다', 2), ('달려오다', 4), ('내주다', 3), ('대란', 4), ('편이', 4), ('착하다', 8), ('하곤', 1), ('수고', 3), ('어쩌겠어', 3), ('노력', 17), ('체념하다', 3), ('굳다', 6), ('심하다', 2), ('어찌', 6), ('무심하다', 7), ('법', 6), ('적어도', 1), ('머릿', 1), ('다행', 5), ('지붕', 3), ('팽', 3), ('개', 4), ('하루살이', 2), ('살아나다', 2), ('행여', 4), ('무의미하다', 2), ('밥', 7), ('저리다', 3), ('머릿결', 1), ('관심사', 3), ('관심', 5), ('폭죽', 1), ('꽃봉오리', 1), ('물감', 1), ('방울', 1), ('아지랑이', 1), ('천사백사십분', 2), ('빼다', 4), ('요즘', 8), ('작사', 1), ('멍', 4), ('때리다', 4), ('집중', 1), ('그동안', 8), ('즐겁다', 11), ('필요없다', 6), ('한텐', 1), ('정답', 3), ('향길', 3), ('단점', 1), ('들려주다', 5), ('형용', 1), ('어김없이', 4), ('연일', 2), ('괴로움', 1), ('빗', 5), ('보오', 1), ('라오', 6), ('인스타', 1), ('팔로우', 1), ('술', 29), ('야위다', 4), ('길어지다', 2), ('따라서', 4), ('땅거미', 1), ('까지라도', 5), ('가깝다', 2), ('올해', 2), ('눈꽃', 4), ('께', 9), ('드네', 1), ('끝없이', 2), ('그리네', 1), ('무대', 4), ('유머러스하다', 1), ('추세', 1), ('다운', 1), ('낭자', 1), ('놀', 2), ('부로', 1), ('데뷰', 1), ('코믹', 1), ('멜로', 1), ('액션', 1), ('에로', 4), ('찍다', 4), ('슛', 1), ('키스신', 1), ('연기', 2), ('코메디', 2), ('이쁘다', 3), ('그러자', 1), ('개인', 1), ('기와', 1), ('신기하다', 3), ('이벤트', 1), ('쇼쇼쇼', 1), ('말씀', 2), ('분위기', 3), ('댄스', 2), ('뮤직', 1), ('곡', 6), ('무드', 1), ('발라드', 1), ('뽑다', 1), ('리듬', 2), ('플', 1), ('힙합', 2), ('히', 1), ('높이', 1), ('영화배우', 1), ('코메디언', 1), ('탈', 1), ('렌트', 1), ('담담하다', 2), ('가면', 5), ('가까스로', 1), ('활', 8), ('그앨', 1), ('요구', 1), ('잘알다', 1), ('결혼', 13), ('그다지', 1), ('리지', 9), ('휴대폰', 1), ('슬며시', 1), ('그러니까', 6), ('전화하다', 5), ('소릴', 2), ('바람꽃', 1), ('날리다', 2), ('밤새', 7), ('날아오르다', 1), ('발끝', 5), ('떨구다', 3), ('장소', 1), ('상황', 2), ('하필', 4), ('나타나다', 4), ('정신', 5), ('소린', 1), ('자시다', 2), ('야속하다', 1), ('이윤', 2), ('완전', 7), ('반하다', 19), ('여덟', 4), ('소녀', 2), ('확', 3), ('걔', 4), ('넓다', 8), ('날렵하다', 2), ('눈매', 2), ('얇다', 2), ('어머나', 3), ('심쿵하다', 6), ('어쩌다', 10), ('심쿵', 1), ('거려', 3), ('아등바등', 1), ('대체', 7), ('왕자', 1), ('보나', 1), ('혜', 12), ('래야', 5), ('네겐', 3), ('그러나', 4), ('잔인하다', 5), ('방안', 6), ('헤어', 6), ('깨다', 6), ('군', 5), ('내미다', 1), ('이따위', 3), ('얼마', 4), ('많아지다', 4), ('세', 3), ('어보', 2), ('없어지다', 3), ('푸르다', 1), ('편의', 4), ('찡그리다', 1), ('피곤하다', 1), ('짜증', 3), ('투정', 4), ('부리다', 9), ('쿡쿡', 1), ('건드리다', 1), ('비슷하다', 4), ('바르다', 3), ('너무나도', 5), ('그만하다', 5), ('변명', 1), ('채다', 5), ('자극', 4), ('허리', 3), ('부재', 1), ('풀다', 6), ('긴장', 2), ('끊어지다', 1), ('달이', 7), ('목적지', 1), ('걷기', 2), ('취했', 1), ('너희', 1), ('선택', 4), ('혀', 2), ('꼬부', 1), ('알코올', 1), ('머리카락', 1), ('폼페이', 1), ('초췌', 1), ('정체', 1), ('알아채다', 2), ('건배', 2), ('묘', 4), ('나른하다', 1), ('반듯하다', 1), ('자세', 1), ('흐트러진대', 1), ('조명', 6), ('손짓', 5), ('은근', 5), ('아른대다', 2), ('아찔하다', 3), ('시각', 1), ('의존', 1), ('경이', 1), ('감상', 1), ('화장', 4), ('단정하다', 1), ('셔츠', 1), ('구기다', 1), ('문장', 2), ('따윈', 1), ('저격', 3), ('상상', 8), ('유난히', 6), ('싫증', 3), ('즈음', 2), ('대책', 2), ('귀찮다', 7), ('밝아지다', 3), ('검거', 3), ('하얬는데', 3), ('색감', 3), ('여서', 3), ('다치다', 5), ('분명', 4), ('나아가다', 2), ('몸', 23), ('스럽다', 2), ('쓰리다', 1), ('펴다', 4), ('패인', 1), ('보다도', 1), ('나아', 4), ('상관', 4), ('아무래도', 2), ('아문', 1), ('일도', 7), ('간직', 4), ('눈가', 2), ('드리워지다', 2), ('미래엔', 1), ('비약', 1), ('해지', 1), ('안갯속', 1), ('접다', 5), ('기선', 1), ('벽', 2), ('실감', 4), ('흐느껴', 1), ('움', 3), ('눈짓', 4), ('하이', 10), ('눈물나다', 1), ('부끄럼', 5), ('쟁이', 1), ('벙어리', 1), ('칠', 1), ('눈앞', 2), ('아른거리다', 5), ('갈라', 3), ('오빠', 11), ('안보', 4), ('어리석다', 7), ('그건', 11), ('전보', 1), ('의자', 1), ('울진', 1), ('소용', 7), ('간절하다', 5), ('깜빡이다', 2), ('내딛다', 1), ('뻗다', 4), ('짜이다', 4), ('데려오다', 1), ('어긋나다', 2), ('틀리다', 4), ('속삭이다', 2), ('무기', 2), ('날씨', 2), ('시원하다', 7), ('아이스크림', 5), ('몽롱', 2), ('이기', 2), ('익다', 1), ('가파른', 1), ('완만', 1), ('끈', 3), ('대화', 1), ('아득하다', 3), ('평온하다', 3), ('그러면', 2), ('택', 3), ('올라오다', 2), ('당황', 2), ('허우적대다', 3), ('이러다가', 2), ('생일도', 1), ('막히다', 5), ('슥', 1), ('닦다', 3), ('비교', 5), ('하늘만', 1), ('주저앉다', 3), ('물리다', 1), ('두껍다', 1), ('망치', 2), ('다가', 12), ('독약', 1), ('요가', 1), ('은사', 1), ('랑은', 2), ('꽃처럼', 3), ('봄날', 3), ('지네', 4), ('지고', 3), ('인생', 2), ('에다', 2), ('앉히다', 2), ('한눈', 3), ('팔지마다', 2), ('둥지', 5), ('즐거이', 1), ('공허하다', 2), ('닳다', 7), ('야식', 1), ('장식', 1), ('양', 1), ('세우다', 1), ('재', 1), ('천장', 1), ('도화지', 1), ('삼다', 1), ('린다', 2), ('허공', 1), ('흩날리다', 1), ('평소', 1), ('번째', 2), ('방도', 2), ('늦잠', 2), ('식사', 2), ('제대로', 2), ('살수', 5), ('낯', 1), ('선거', 1), ('아기', 1), ('감사', 1), ('그만큼', 6), ('늦어지다', 3), ('화만', 1), ('머리칼', 1), ('간질', 1), ('차리다', 3), ('동동', 1), ('도통', 1), ('살리다', 4), ('완전하다', 1), ('절대로', 4), ('굴뚝', 1), ('그렇지만', 3), ('깜빡', 3), ('내내', 2), ('감추다', 7), ('그런데', 2), ('툴툴거리', 1), ('별다르다', 1), ('가하다', 1), ('멍하다', 1), ('어젠데', 1), ('본적', 3), ('다그치다', 1), ('천둥', 1), ('번개', 1), ('바위', 1), ('길목', 1), ('법도', 1), ('꾹꾹', 2), ('위험하다', 3), ('예민하다', 1), ('뚜뚜뚜뚜', 2), ('별일', 3), ('걱정스럽다', 2), ('가누다', 2), ('차선', 1), ('유난스럽다', 1), ('아른아른', 1), ('도무지', 2), ('피', 4), ('지리다', 2), ('아려', 1), ('부정', 1), ('울먹이다', 6), ('이루다', 7), ('수천', 1), ('나로', 2), ('앗', 1), ('겨우', 3), ('단호', 1), ('큰소리치다', 1), ('내려앉다', 1), ('등지', 1), ('반', 3), ('재미없다', 4), ('반짝거리다', 5), ('배다', 3), ('글자', 7), ('앞서다', 1), ('바랬던', 2), ('네잎클로버', 1), ('못자다', 3), ('작업', 4), ('직진', 1), ('다리', 1), ('목발', 1), ('선하다', 4), ('도도하다', 1), ('해당', 1), ('사항', 1), ('진부하다', 1), ('진도', 1), ('경험', 1), ('훌쩍', 1), ('요기', 1), ('낫', 1), ('안전벨트', 1), ('랬', 1), ('엄마', 4), ('둥글다', 3), ('꼬아', 1), ('멋', 2), ('여보', 1), ('금방', 1), ('기억나다', 6), ('수만', 5), ('후회되다', 4), ('사무치다', 1), ('자랑스럽다', 4), ('통해', 1), ('이지', 5), ('보람', 1), ('지난번', 1), ('보채다', 4), ('싱글벙글', 2), ('애정', 3), ('놈', 6), ('게요', 2), ('주기', 5), ('띄다', 9), ('주변', 3), ('춤추다', 7), ('원피스', 1), ('곱슬', 1), ('조급하다', 4), ('테킬라', 1), ('들이키다', 1), ('단둘', 2), ('보통', 1), ('망치다', 1), ('모험', 2), ('함', 2), ('뱉다', 5), ('전해', 10), ('고개', 5), ('마음대로', 1), ('몸짓', 3), ('양쪽', 1), ('저리', 1), ('벅차오르다', 2), ('헤아리다', 3), ('아슬아슬하다', 2), ('간신히', 2), ('가위', 2), ('호의', 1), ('인내심', 2), ('유혹', 1), ('취하', 1), ('헛소릴', 1), ('악마', 3), ('불지', 1), ('본능', 1), ('성적', 1), ('나잇', 1), ('값', 1), ('싸다', 1), ('움직', 1), ('수작', 1), ('사소하다', 7), ('푸른', 3), ('꽃내음', 1), ('정철', 2), ('만으론', 3), ('건가', 10), ('우리둘', 1), ('만에', 1), ('가인', 3), ('난충', 1), ('분하다', 1), ('역시', 7), ('영혼', 4), ('부분', 1), ('소란', 1), ('스러운', 2), ('매만지다', 1), ('백일', 1), ('겁쟁이', 8), ('가족', 1), ('중요하다', 3), ('생기', 1), ('올라가다', 1), ('가능하다', 3), ('싹트다', 1), ('천사처럼', 1), ('그완', 1), ('색', 4), ('걸치다', 2), ('색깔', 2), ('여기저기', 1), ('끼우다', 2), ('정리', 4), ('저울', 1), ('숨결', 10), ('옅다', 1), ('어렴풋이', 1), ('분다', 8), ('한가운데', 3), ('앙상하다', 1), ('술에취해', 1), ('이보', 7), ('숨죽', 1), ('힘껏', 5), ('재잘대다', 2), ('꿈결', 3), ('끝없다', 1), ('대단하다', 1), ('까진', 4), ('하룬', 2), ('어른', 5), ('핀', 1), ('태엽', 3), ('슨', 3), ('느지막', 3), ('우어', 6), ('로맨스', 1), ('깨닫다', 1), ('때별', 1), ('늘어지다', 1), ('앞서', 1), ('슬쩍', 1), ('먹거리', 1), ('던지다', 3), ('바삐', 1), ('어도', 2), ('너그럽다', 1), ('맑다', 3), ('무뎌져', 1), ('오래도록', 6), ('사랑받다', 4), ('도와주다', 3), ('착각', 3), ('미움', 2), ('듬뿍', 1), ('잘살다', 6), ('괜', 7), ('바랬어', 2), ('펑펑', 1), ('너무하다', 1), ('벌', 1), ('강아지', 1), ('푹', 1), ('찔리다', 1), ('은커녕', 1), ('낫다', 1), ('와르르', 8), ('타다', 4), ('휘', 1), ('젓다', 1), ('구명조끼', 1), ('시험', 1), ('검사', 1), ('맡다', 2), ('마는', 2), ('몰아치다', 3), ('벼랑', 4), ('울적하다', 1), ('털다', 4), ('답', 2), ('감옥', 1), ('뇌', 3), ('옷차림', 1), ('스타일', 1), ('엉망', 1), ('책임지다', 2), ('겸허', 1), ('한두', 1), ('예감', 2), ('꺼지다', 1), ('숨차', 1), ('그치다', 1), ('라디오', 2), ('찬', 4), ('앤', 2), ('보단', 3), ('일찍', 1), ('조깅', 1), ('여섯', 4), ('시후', 1), ('금식', 1), ('손톱', 1), ('외출', 1), ('굽', 1), ('하이힐', 1), ('대하', 2), ('자기야', 1), ('애칭', 1), ('토라', 4), ('질땐', 1), ('애교', 1), ('무오', 1), ('웬만하다', 2), ('이니', 6), ('억지', 1), ('지은', 1), ('물기', 1), ('면서', 3), ('해내다', 1), ('대여', 3), ('기회', 3), ('갈수', 1), ('반기', 2), ('되뇌었었', 2), ('으로도', 12), ('족', 1), ('알콩달콩', 1), ('천년', 1), ('만년', 1), ('괜시리', 2), ('검다', 2), ('주름', 1), ('늘어나다', 1), ('너와나', 1), ('보글보글', 1), ('찌개', 1), ('반기다', 5), ('천생연분', 1), ('놓이다', 3), ('파란', 2), ('강', 1), ('한강', 1), ('떠나오다', 1), ('그림', 6), ('매력', 1), ('매료', 1), ('상자', 1), ('빌어', 3), ('내게로', 4), ('미스터리', 1), ('온기', 4), ('나라', 3), ('크리스마스', 1), ('트리', 1), ('하모니', 1), ('아름다워지다', 1), ('침묵', 3), ('귀하다', 1), ('게으르다', 1), ('부지런하다', 1), ('겹', 2), ('달달', 5), ('저절로', 3), ('작고', 3), ('겪다', 6), ('큰일', 2), ('여자친구', 14), ('창밖', 2), ('여자라서', 1), ('곤', 2), ('안길', 5), ('나머지', 1), ('묶다', 1), ('무릎', 2), ('꿇다', 2), ('병들다', 1), ('오히려', 1), ('찰땐', 5), ('서성', 1), ('돋아나다', 1), ('흥얼거리다', 1), ('몸부림', 3), ('노랜', 1), ('노랫말', 1), ('일련', 2), ('일인', 1), ('한여름', 1), ('권', 3), ('모', 3), ('화성', 1), ('금성', 1), ('조차도', 3), ('폭닥', 1), ('라벤더', 1), ('잔잔하다', 1), ('롤러브레이드', 1), ('마침', 2), ('모금', 1), ('좋아지다', 1), ('밀어내기', 2), ('대로가', 3), ('내생', 2), ('불면', 1), ('지지', 2), ('잘생기다', 3), ('까칠하다', 1), ('지금껏', 1), ('반년', 1), ('번홀', 1), ('달도', 1), ('낮', 2), ('공평하다', 3), ('결말', 2), ('악몽', 1), ('나요', 4), ('소리치다', 4), ('죽이다', 1), ('떼다', 8), ('더디다', 4), ('먼발치', 1), ('불행하다', 1), ('느릿하다', 2), ('적막하다', 1), ('거린', 1), ('밤하늘', 1), ('춥다', 1), ('다물어지다', 1), ('남녀', 1), ('주인공', 2), ('한마딘', 1), ('대사', 1), ('씬', 1), ('을해', 1), ('사흘', 1), ('저런', 1), ('일주일', 1), ('이주일', 1), ('몹시', 2), ('우물쭈물', 2), ('내면', 1), ('어쩌나', 2), ('살피다', 3), ('달다', 3), ('삼', 2), ('한평생', 1), ('쓰러지다', 1), ('볼일', 1), ('최고', 3), ('웨딩드레스', 1), ('반지', 1), ('베베', 1), ('워워', 1), ('딴', 1), ('청', 1), ('넌지시', 1), ('친굴', 1), ('샐쭉', 1), ('읊', 1), ('한없이', 4), ('당', 1), ('신', 1), ('뭣', 1), ('버려진', 1), ('커다랗다', 4), ('깨지다', 2), ('잘해주다', 1), ('날수', 3), ('부란', 1), ('임', 1), ('핸드폰', 2), ('박다', 2), ('거릴', 3), ('찾아보다', 1), ('달리기', 1), ('피부', 1), ('빨', 3), ('따끔하다', 3), ('살결', 2), ('마크', 1), ('겉모습', 1), ('검정', 1), ('잉크', 1), ('키스', 4), ('중독', 3), ('줄기', 2), ('찾아내다', 1), ('낙서', 2), ('하진', 3), ('닫히다', 2), ('연', 1), ('바랜', 1), ('지라', 1), ('거래', 1), ('투성이', 1), ('그런대로', 1), ('다독이다', 2), ('맴돈다', 6), ('적신', 1), ('행동', 4), ('설레임', 7), ('가든', 1), ('재미있다', 1), ('내색', 1), ('메여', 1), ('태연하다', 3), ('근심', 1), ('하라', 1), ('갈망', 1), ('자르다', 1), ('오오오', 4), ('외', 1), ('롭고', 1), ('고단', 1), ('설', 2), ('일부러', 1), ('가방', 2), ('깊숙이', 1), ('내려가다', 1), ('글씨', 2), ('거짓', 2), ('어리숙하다', 1), ('나약하다', 2), ('강인하다', 1), ('지혜', 1), ('롭다', 1), ('관계', 1), ('체념', 1), ('비난', 1), ('스물', 1), ('한주', 1), ('화요일', 2), ('화요', 2), ('내사', 6), ('초원', 2), ('백년', 4), ('씨앗', 1), ('풍년', 1), ('멋쟁이', 1), ('빌딩', 1), ('으', 1), ('시대', 1), ('유행', 1), ('반딧불', 1), ('초가집', 1), ('님과함', 1), ('산다', 3), ('퉁일', 1), ('생애', 1), ('샴푸', 2), ('근처', 2), ('용다', 2), ('집앞', 4), ('파라', 1), ('여인', 3), ('우산', 3), ('외로', 1), ('주리', 1), ('시들다', 3), ('콧노래', 1), ('어가', 1), ('곳도', 2), ('머무르다', 2), ('덕분', 2), ('옛', 2), ('건강하다', 1), ('핼쑥', 1), ('발칙하다', 1), ('놀랠킬', 1), ('전혀', 2), ('살라', 1), ('짐', 2), ('지난주', 1), ('손목', 4), ('무한', 1), ('먼훗날일꺼', 1), ('웬', 1), ('마술', 1), ('돌리지', 1), ('말걸', 1), ('도로', 1), ('다한', 1), ('길가', 2), ('해결', 1), ('스스럼없는', 1), ('배터리', 7), ('얼짱', 1), ('몸짱', 1), ('짱', 6), ('약', 2), ('에요', 3), ('대해', 2), ('확률', 2), ('백', 2), ('퍼센트', 2), ('아저씨', 1), ('할아버지', 2), ('못줄', 1), ('본가', 2), ('말고도', 1), ('기대하다', 4), ('감동', 5), ('군데', 3), ('대충', 3), ('입지', 3), ('게다가', 1), ('전과', 1), ('말리다', 3), ('다물다', 1), ('친구사이', 1), ('라곤', 2), ('출근', 1), ('자유', 1), ('남일', 1), ('길들다', 1), ('상철', 1), ('걸리다', 2), ('매달리다', 1), ('오라', 1), ('깨', 2), ('난생', 1), ('치마', 2), ('영화에서처럼', 1), ('눈속', 1), ('숙녀', 1), ('품속', 2), ('꺼', 2), ('무작정', 2), ('조', 1), ('심', 1), ('맡기다', 2), ('면사포', 1), ('신부', 1), ('서약', 1), ('덤', 16), ('치키다', 16), ('오우', 4), ('넥타이', 1), ('예', 2), ('숨막히다', 2), ('떨치다', 1), ('여름밤', 2), ('찰나', 1), ('리진', 1), ('달리다', 2), ('무너뜨렸', 1), ('물음', 1), ('위기', 1), ('널린', 1), ('지식', 1), ('방법', 2), ('번의', 3), ('비밀번호', 3), ('서나', 2), ('화도', 2), ('섬세하다', 1), ('바람둥이', 1), ('인기', 2), ('쌀쌀하다', 2), ('가로등', 3), ('확신', 2), ('도서관', 1), ('이어지다', 1), ('교복', 1), ('카펠', 1), ('이어폰', 3), ('끼', 5), ('블루', 3), ('레모네이드', 3), ('투덜대다', 1), ('흘러나오다', 1), ('깍지', 1), ('스니커즈', 1), ('플랫슈즈', 1), ('삐', 3), ('찾아다니다', 2), ('서울', 1), ('삐뚤다', 1), ('빼둘', 1), ('맞춤법', 1), ('고치다', 9), ('자락', 1), ('변화', 1), ('식탁', 1), ('썩', 1), ('배려', 1), ('수백', 1), ('검색', 2), ('글', 1), ('페이지', 1), ('되돌아가다', 1), ('냉장고', 1), ('깨끗이', 2), ('수건', 1), ('결코', 3), ('머나멀다', 1), ('상냥하다', 1), ('자라', 1), ('고여', 4), ('퓐', 1), ('책상', 1), ('엎드리다', 1), ('리다', 1), ('떠보다', 1), ('별안간', 1), ('어깰', 4), ('살랑', 1), ('원', 1), ('초대', 2), ('올려주다', 1), ('하나같다', 1), ('여태', 7), ('정', 2), ('팔목', 1), ('신발', 1), ('벗다', 1), ('음악', 2), ('어쩌구', 1), ('부릅뜨다', 1), ('버겁다', 3), ('속상하다', 3), ('연못', 1), ('바다로', 2), ('흰수염고래', 3), ('헤엄', 3), ('처지다', 1), ('리오', 4), ('창문', 2), ('깨끗하다', 1), ('설램', 1), ('한쪽', 1), ('모닝', 2), ('은은하다', 1), ('만치', 1), ('재촉', 2), ('성벽', 3), ('허물', 3), ('휴', 1), ('둔하다', 1), ('곱', 1), ('아이쿠', 1), ('너마저', 2), ('비틀거릴', 4), ('골목', 2), ('집도', 1), ('쭉', 3), ('사일', 1), ('치우다', 1), ('산들바람', 1), ('사월', 2), ('이율', 1), ('나은', 2), ('내기', 1), ('십', 2), ('억울하다', 1), ('따위', 2), ('유난', 1), ('걘', 1), ('알량하다', 1), ('알맞다', 1), ('뒤끝', 1), ('남자친구', 10), ('오렌지', 1), ('빗방울', 1), ('불편하다', 1), ('멀쩡하다', 2), ('만으로는', 2), ('지옥', 1), ('버려지다', 2), ('혼잔', 1), ('음식', 1), ('거구', 1), ('당분간', 1), ('겁니다', 2), ('목숨', 2), ('뻔', 1), ('상식', 1), ('나름', 1), ('연속', 1), ('퇴근', 1), ('악수', 1), ('가라', 1), ('맴', 1), ('하룻밤', 2), ('풋사랑', 2), ('그까짓', 1), ('상하', 1), ('콕콕', 1), ('찌르다', 1), ('곤란하다', 3), ('빼앗다', 1), ('수월하다', 1), ('코웃음', 1), ('미안', 1), ('피차', 1), ('일보', 1), ('직전', 1), ('부끄러움', 1), ('아버지', 1), ('법칙', 1), ('널찍하다', 1), ('노크', 1), ('침범', 1), ('아이구', 1), ('반칙', 1), ('어장', 1), ('주렴', 1), ('빨다', 1), ('귓속말', 1), ('알쏭달쏭', 4), ('저렇다', 2), ('속마음', 15), ('케잌', 1), ('맛보다', 1), ('일어서다', 2), ('치명', 2), ('약점', 2), ('던전', 2), ('왜인', 2), ('졸리다', 2), ('주도', 2), ('집다', 2), ('귀가', 2), ('놀이', 2), ('벌다', 1), ('포이즌', 1), ('마비', 1), ('뱀', 1), ('자태', 1), ('돌', 1), ('뽀뽀', 1), ('단위', 1), ('미팅', 1), ('옥탑', 1), ('케미', 1), ('듀오', 1), ('으로부터', 1), ('물론', 1), ('누리다', 1), ('호기심', 1), ('유희', 1), ('이해해', 3), ('시시하다', 1), ('얼버무리다', 1), ('가쁘', 1), ('렁', 1), ('가세', 1), ('밤잠', 1), ('설치다', 1), ('까봐', 1), ('아파해', 3), ('두기', 1), ('오월', 1), ('폭풍우', 1), ('낙원', 1), ('먹구름', 1), ('지옥도', 1), ('아가', 1), ('배', 2), ('파서', 2), ('뜬금없이', 1), ('장미', 4), ('채널', 1), ('어둑하다', 2), ('비뚤어지다', 2), ('쇼핑', 1), ('늘리다', 1), ('어쨌든지', 2), ('거더', 1), ('물끄러미', 2), ('바이', 2), ('더군', 1), ('바이바이', 1), ('스윽', 1), ('훑다', 1), ('여운', 1), ('갈피', 2), ('꽂다', 2), ('남몰래', 2), ('펼치다', 2), ('본채', 1), ('꺾다', 1), ('온대', 1), ('뒷걸음', 2), ('치면', 1), ('무렵', 1), ('소홀하다', 1), ('편안함', 1), ('배신', 2), ('감', 2), ('여느', 1), ('에서만', 1), ('어귀', 1), ('데도', 1), ('닫다', 1), ('조명하', 1), ('어둑해지다', 1), ('하나같이', 1), ('잘나다', 2), ('랍니', 3), ('옮기다', 1), ('감지', 1), ('담배', 1), ('잔소리', 2), ('성격', 1), ('급하다', 1), ('주말', 1), ('고장', 2), ('만도', 1), ('똑똑하다', 4), ('도망가다', 2), ('애꿎', 1), ('꿈뻑', 1), ('짝', 1), ('쓸모없다', 1), ('추', 1), ('스리', 1), ('움켜쥐다', 1), ('나가요', 1), ('안전하다', 1), ('박기영', 1), ('분도', 5), ('만하', 2), ('전쟁', 2), ('흐릿하', 1), ('에게는', 1), ('넘어서다', 1), ('희다', 1), ('성당', 1), ('종소리', 1), ('벗', 2), ('짓눌리다', 2), ('겨를', 1), ('뼘', 1), ('단치', 2), ('그러하다', 1), ('소란하다', 1), ('예고', 2), ('뿌리치다', 4), ('근대', 1), ('두근두근', 1), ('일밤', 1), ('어둔', 1), ('바랬었는데', 1), ('살길', 1), ('바랬었', 1), ('목걸일', 1), ('사주다', 1), ('입히다', 1), ('주머니', 1), ('생활', 1)])\n"
     ]
    }
   ],
   "source": [
    "print(tokenizer.word_counts.items())"
   ]
  },
  {
   "cell_type": "markdown",
   "id": "cb72966f",
   "metadata": {},
   "source": [
    "## 데이터 전처리"
   ]
  },
  {
   "cell_type": "code",
   "execution_count": 50,
   "id": "96686e12",
   "metadata": {
    "ExecuteTime": {
     "end_time": "2021-11-18T12:44:21.452890Z",
     "start_time": "2021-11-18T12:44:21.412866Z"
    },
    "scrolled": true
   },
   "outputs": [
    {
     "name": "stdout",
     "output_type": "stream",
     "text": [
      "구름에 빛은 흐려지고  창가에 요란히 내리는  빗물 소리만큼 시린 기억들이  내 마음 붙잡고 있는데  갈수록 짙어져 간 그리움에 잠겨  시간을 거슬러 갈 순 없나요  그때처럼만 그대 날 안아주면  괜찮을 텐데 이젠  젖어든 빗길을 따라가  함께한 추억을 돌아봐  흐려진 빗물에 떠오른 그대가  내 눈물 속에서 차올라와  갈수록 짙어져 간 그리움에 잠겨  시간을 거슬러 갈 순 없나요  그때처럼만 그대 날 안아주면  괜찮을 텐데 이젠  흩어져 가  나와 있어주던 그 시간도  그 모습도  다시 그때처럼만 그대를 안아서  시간을 거슬러 갈 순 없나요  한 번이라도 마지막일지라도  괜찮을 텐데\n"
     ]
    }
   ],
   "source": [
    "review_text = re.sub(\"[^가-힣ㄱ-ㅎㅏ-ㅣ\\\\s]\", \"\", train_data['Lyric'][0]) \n",
    "print(review_text)"
   ]
  },
  {
   "cell_type": "code",
   "execution_count": 51,
   "id": "873add99",
   "metadata": {
    "ExecuteTime": {
     "end_time": "2021-11-18T12:44:32.631101Z",
     "start_time": "2021-11-18T12:44:32.258381Z"
    }
   },
   "outputs": [
    {
     "name": "stdout",
     "output_type": "stream",
     "text": [
      "['구름', '에', '빛', '은', '흐려지다', '창가', '에', '요란하다', '내리다', '빗물', '소리', '만큼', '시리다', '기억', '들', '이', '내', '마음', '붙잡다', '있다', '갈수록', '짙어지다', '간', '그리움', '에', '잠기다', '시간', '을', '거슬러', '갈다', '순', '없다', '그때', '처럼만', '그대', '날', '안다', '괜찮다', '텐데', '이', '젠', '젖다', '빗다', '따라가다', '하다', '추억', '을', '돌아보다', '흐려지다', '빗물', '에', '떠오르다', '그대', '가', '내', '눈물', '속', '에서', '차오르다', '갈수록', '짙어지다', '간', '그리움', '에', '잠기다', '시간', '을', '거슬러', '갈다', '순', '없다', '그때', '처럼만', '그대', '날', '안다', '괜찮다', '텐데', '이', '젠', '흩어지다', '가다', '나오다', '있다', '그', '시간', '도', '그', '모습', '도', '다시', '그때', '처럼만', '그대', '를', '안다', '시간', '을', '거슬러', '갈다', '순', '없다', '하다', '번', '이라도', '마지막', '일지', '라도', '괜찮다', '텐데']\n"
     ]
    }
   ],
   "source": [
    "okt=Okt()\n",
    "review_text = okt.morphs(review_text, stem=True)\n",
    "print(review_text)"
   ]
  },
  {
   "cell_type": "code",
   "execution_count": 52,
   "id": "052cd298",
   "metadata": {
    "ExecuteTime": {
     "end_time": "2021-11-18T12:45:12.016350Z",
     "start_time": "2021-11-18T12:45:11.989157Z"
    }
   },
   "outputs": [
    {
     "name": "stdout",
     "output_type": "stream",
     "text": [
      "['구름', '빛', '흐려지다', '창가', '요란하다', '내리다', '빗물', '소리', '만큼', '시리다', '기억', '마음', '붙잡다', '갈수록', '짙어지다', '간', '그리움', '잠기다', '시간', '을', '거슬러', '갈다', '순', '없다', '그때', '처럼만', '안다', '괜찮다', '텐데', '젖다', '빗다', '따라가다', '추억', '을', '돌아보다', '흐려지다', '빗물', '떠오르다', '눈물', '속', '에서', '차오르다', '갈수록', '짙어지다', '간', '그리움', '잠기다', '시간', '을', '거슬러', '갈다', '순', '없다', '그때', '처럼만', '안다', '괜찮다', '텐데', '흩어지다', '가다', '나오다', '시간', '모습', '그때', '처럼만', '안다', '시간', '을', '거슬러', '갈다', '순', '없다', '번', '이라도', '마지막', '일지', '라도', '괜찮다', '텐데']\n"
     ]
    }
   ],
   "source": [
    "clean_review = [token for token in review_text if not token in stop_w]\n",
    "print(clean_review)"
   ]
  },
  {
   "cell_type": "code",
   "execution_count": 53,
   "id": "3d7bded6",
   "metadata": {
    "ExecuteTime": {
     "end_time": "2021-11-18T12:45:46.395060Z",
     "start_time": "2021-11-18T12:45:46.361601Z"
    }
   },
   "outputs": [],
   "source": [
    "def preprocessing(review, okt, remove_stopwords = False, stop_words = []):\n",
    "    # 함수의 인자는 다음과 같다.\n",
    "    # review : 전처리할 텍스트\n",
    "    # okt : okt 객체를 반복적으로 생성하지 않고 미리 생성후 인자로 받는다.\n",
    "    # remove_stopword : 불용어를 제거할지 선택 기본값은 False\n",
    "    # stop_word : 불용어 사전은 사용자가 직접 입력해야함 기본값은 비어있는 리스트\n",
    "    \n",
    "    # 1. 한글 및 공백을 제외한 문자 모두 제거.\n",
    "    review_text = re.sub(\"[^가-힣ㄱ-ㅎㅏ-ㅣ\\\\s]\", \"\", review)\n",
    "    \n",
    "    # 2. okt 객체를 활용해서 형태소 단위로 나눈다.\n",
    "    word_review = okt.morphs(review_text, stem=True)\n",
    "    \n",
    "    if remove_stopwords:\n",
    "        \n",
    "        # 불용어 제거(선택적)\n",
    "        word_review = [token for token in word_review if not token in stop_words]\n",
    "        \n",
    "   \n",
    "    return word_review"
   ]
  },
  {
   "cell_type": "code",
   "execution_count": 55,
   "id": "b24dea3f",
   "metadata": {
    "ExecuteTime": {
     "end_time": "2021-11-18T12:46:31.370263Z",
     "start_time": "2021-11-18T12:46:19.493938Z"
    }
   },
   "outputs": [],
   "source": [
    "okt = Okt()\n",
    "clean_train_review = []\n",
    "\n",
    "for review in train_data['Lyric']:\n",
    "    # 비어있는 데이터에서 멈추지 않도록 string인 경우만 진행\n",
    "    if type(review) == str:\n",
    "        clean_train_review.append(preprocessing(review, okt, remove_stopwords = True, stop_words=stop_w))\n",
    "    else:\n",
    "        clean_train_review.append([])  #string이 아니면 비어있는 값 추가"
   ]
  },
  {
   "cell_type": "code",
   "execution_count": 56,
   "id": "73006c6d",
   "metadata": {
    "ExecuteTime": {
     "end_time": "2021-11-18T12:46:47.795071Z",
     "start_time": "2021-11-18T12:46:45.071748Z"
    }
   },
   "outputs": [],
   "source": [
    "clean_test_review = []\n",
    "\n",
    "for review in test_data['Lyric']:\n",
    "    # 비어있는 데이터에서 멈추지 않도록 string인 경우만 진행\n",
    "    if type(review) == str:\n",
    "        clean_test_review.append(preprocessing(review, okt, remove_stopwords = True, stop_words=stop_w))\n",
    "    else:\n",
    "        clean_test_review.append([])  #string이 아니면 비어있는 값 추가"
   ]
  },
  {
   "cell_type": "code",
   "execution_count": 57,
   "id": "b1f038ad",
   "metadata": {
    "ExecuteTime": {
     "end_time": "2021-11-18T12:46:56.170276Z",
     "start_time": "2021-11-18T12:46:56.100284Z"
    }
   },
   "outputs": [],
   "source": [
    "tokenizer = Tokenizer()\n",
    "tokenizer.fit_on_texts(clean_train_review)\n",
    "train_sequences = tokenizer.texts_to_sequences(clean_train_review)\n",
    "test_sequences = tokenizer.texts_to_sequences(clean_test_review)\n",
    "\n",
    "word_vocab = tokenizer.word_index # 단어 사전 형태\n",
    "word_vocab[\"<PAD>\"] = 0"
   ]
  },
  {
   "cell_type": "code",
   "execution_count": 58,
   "id": "4c9d374c",
   "metadata": {
    "ExecuteTime": {
     "end_time": "2021-11-18T12:58:56.562848Z",
     "start_time": "2021-11-18T12:58:56.534846Z"
    }
   },
   "outputs": [],
   "source": [
    "MAX_SEQUENCE_LENGTH = 525 # 문장 최대 길이\n",
    "\n",
    "train_inputs = pad_sequences(train_sequences, maxlen=MAX_SEQUENCE_LENGTH, padding='post') # 학습 데이터를 벡터화\n",
    "train_labels = np.array(train_data['label']) # 학습 데이터의 라벨\n",
    "\n",
    "test_inputs = pad_sequences(test_sequences, maxlen=MAX_SEQUENCE_LENGTH, padding='post') # 테스트 데이터를 벡터화\n",
    "test_labels = np.array(test_data['label']) # 테스트 데이터의 라벨"
   ]
  },
  {
   "cell_type": "code",
   "execution_count": 60,
   "id": "b3ea6008",
   "metadata": {
    "ExecuteTime": {
     "end_time": "2021-11-18T13:00:02.430126Z",
     "start_time": "2021-11-18T13:00:02.344129Z"
    }
   },
   "outputs": [],
   "source": [
    "DATA_IN_PATH = './data_in/'\n",
    "TRAIN_INPUT_DATA = 'nsmc_train_input.npy'\n",
    "TRAIN_LABEL_DATA = 'nsmc_train_label.npy'\n",
    "TEST_INPUT_DATA = 'nsmc_test_input.npy'\n",
    "TEST_LABEL_DATA = 'nsmc_test_label.npy'\n",
    "DATA_CONFIGS = 'data_configs.json'\n",
    "\n",
    "data_configs = {}\n",
    "\n",
    "data_configs['vocab'] = word_vocab\n",
    "data_configs['vocab_size'] = len(word_vocab) # vocab size 추가\n",
    "\n",
    "import os\n",
    "# 저장하는 디렉토리가 존재하지 않으면 생성\n",
    "if not os.path.exists(DATA_IN_PATH):\n",
    "    os.makedirs(DATA_IN_PATH)\n",
    "\n",
    "# 전처리 된 학습 데이터를 넘파이 형태로 저장\n",
    "np.save(open(DATA_IN_PATH + TRAIN_INPUT_DATA, 'wb'), train_inputs)\n",
    "np.save(open(DATA_IN_PATH + TRAIN_LABEL_DATA, 'wb'), train_labels)\n",
    "# 전처리 된 테스트 데이터를 넘파이 형태로 저장\n",
    "np.save(open(DATA_IN_PATH + TEST_INPUT_DATA, 'wb'), test_inputs)\n",
    "np.save(open(DATA_IN_PATH + TEST_LABEL_DATA, 'wb'), test_labels)\n",
    "\n",
    "# 데이터 사전을 json 형태로 저장\n",
    "json.dump(data_configs, open(DATA_IN_PATH + DATA_CONFIGS, 'w'), ensure_ascii=False)"
   ]
  },
  {
   "cell_type": "markdown",
   "id": "60eb59af",
   "metadata": {},
   "source": [
    "## 시각화 "
   ]
  },
  {
   "cell_type": "code",
   "execution_count": 47,
   "id": "89229060",
   "metadata": {
    "ExecuteTime": {
     "end_time": "2021-11-18T11:47:50.005221Z",
     "start_time": "2021-11-18T11:47:49.995256Z"
    }
   },
   "outputs": [],
   "source": [
    "def plot_graphs(history, string):\n",
    "    plt.plot(history.history[string])\n",
    "    plt.plot(history.history['val_'+string], '')\n",
    "    plt.xlabel(\"Epochs\")\n",
    "    plt.ylabel(string)\n",
    "    plt.legend([string, 'val_'+string])\n",
    "    plt.show()"
   ]
  },
  {
   "cell_type": "markdown",
   "id": "bcca75fc",
   "metadata": {},
   "source": [
    "## 랜덤 시드 고정"
   ]
  },
  {
   "cell_type": "code",
   "execution_count": 48,
   "id": "f521f53b",
   "metadata": {
    "ExecuteTime": {
     "end_time": "2021-11-18T11:48:19.515581Z",
     "start_time": "2021-11-18T11:48:19.506544Z"
    }
   },
   "outputs": [],
   "source": [
    "### 랜덤 시드 \n",
    "SEED_NUM = 5\n",
    "tf.random.set_seed(SEED_NUM)"
   ]
  },
  {
   "cell_type": "markdown",
   "id": "3c998e8d",
   "metadata": {},
   "source": [
    "## 학습 데이터 경로 정의"
   ]
  },
  {
   "cell_type": "code",
   "execution_count": 62,
   "id": "40e90b7b",
   "metadata": {
    "ExecuteTime": {
     "end_time": "2021-11-18T13:04:37.822774Z",
     "start_time": "2021-11-18T13:04:37.805774Z"
    }
   },
   "outputs": [],
   "source": [
    "DATA_IN_PATH = './data_in/'\n",
    "DATA_OUT_PATH = './data_out/'\n",
    "INPUT_TRAIN_DATA = 'nsmc_train_input.npy'\n",
    "LABEL_TRAIN_DATA = 'nsmc_train_label.npy'\n",
    "DATA_CONFIGS = 'data_configs.json'"
   ]
  },
  {
   "cell_type": "markdown",
   "id": "1a591592",
   "metadata": {
    "ExecuteTime": {
     "end_time": "2021-11-18T13:05:01.666327Z",
     "start_time": "2021-11-18T13:05:01.656324Z"
    }
   },
   "source": [
    "## 파일 로드"
   ]
  },
  {
   "cell_type": "code",
   "execution_count": 63,
   "id": "56f0cb8e",
   "metadata": {
    "ExecuteTime": {
     "end_time": "2021-11-18T13:04:41.975404Z",
     "start_time": "2021-11-18T13:04:41.939369Z"
    },
    "scrolled": true
   },
   "outputs": [],
   "source": [
    "train_input = np.load(open(DATA_IN_PATH + INPUT_TRAIN_DATA, 'rb'))\n",
    "train_label = np.load(open(DATA_IN_PATH + LABEL_TRAIN_DATA, 'rb'))\n",
    "prepro_configs = json.load(open(DATA_IN_PATH + DATA_CONFIGS, 'r'))"
   ]
  },
  {
   "cell_type": "markdown",
   "id": "a61d30e8",
   "metadata": {},
   "source": [
    "## 모델 정의"
   ]
  },
  {
   "cell_type": "code",
   "execution_count": 65,
   "id": "97075c01",
   "metadata": {
    "ExecuteTime": {
     "end_time": "2021-11-18T13:05:21.762699Z",
     "start_time": "2021-11-18T13:05:21.739703Z"
    }
   },
   "outputs": [],
   "source": [
    "model_name = 'cnn_classifier_kr'\n",
    "\n",
    "MAX_LEN = train_input.shape[1]\n",
    "\n",
    "kargs = {'model_name': model_name,\n",
    "        'vocab_size': prepro_configs['vocab_size'],\n",
    "        'embedding_size': 128,\n",
    "        'num_filters': 100,\n",
    "        'dropout_rate': 0.5,\n",
    "        'hidden_dimension': 250,\n",
    "        'output_dimension':1}"
   ]
  },
  {
   "cell_type": "markdown",
   "id": "2b42c118",
   "metadata": {},
   "source": [
    "## 모델 선언 및 컴파일"
   ]
  },
  {
   "cell_type": "code",
   "execution_count": 66,
   "id": "98b6a02b",
   "metadata": {
    "ExecuteTime": {
     "end_time": "2021-11-18T13:05:42.728624Z",
     "start_time": "2021-11-18T13:05:42.700599Z"
    }
   },
   "outputs": [],
   "source": [
    "class CNNClassifier(tf.keras.Model):\n",
    "    \n",
    "    def __init__(self, **kargs):\n",
    "        super(CNNClassifier, self).__init__(name=kargs['model_name'])\n",
    "        self.embedding = layers.Embedding(input_dim=kargs['vocab_size'],\n",
    "                                     output_dim=kargs['embedding_size'])\n",
    "        self.conv_list = [layers.Conv1D(filters=kargs['num_filters'],\n",
    "                                   kernel_size=kernel_size,\n",
    "                                   padding='valid',\n",
    "                                   activation=tf.keras.activations.relu,\n",
    "                                   kernel_constraint=tf.keras.constraints.MaxNorm(max_value=3.))\n",
    "                     for kernel_size in [3,4,5]]\n",
    "        self.pooling = layers.GlobalMaxPooling1D()\n",
    "        self.dropout = layers.Dropout(kargs['dropout_rate'])\n",
    "        self.fc1 = layers.Dense(units=kargs['hidden_dimension'],\n",
    "                           activation=tf.keras.activations.relu,\n",
    "                           kernel_constraint=tf.keras.constraints.MaxNorm(max_value=3.))\n",
    "        self.fc2 = layers.Dense(units=kargs['output_dimension'],\n",
    "                           activation=tf.keras.activations.sigmoid,\n",
    "                           kernel_constraint=tf.keras.constraints.MaxNorm(max_value=3.))\n",
    "    \n",
    "    def call(self, x):\n",
    "        x = self.embedding(x)\n",
    "        x = self.dropout(x)\n",
    "        x = tf.concat([self.pooling(conv(x)) for conv in self.conv_list], axis=-1)\n",
    "        x = self.fc1(x)\n",
    "        x = self.fc2(x)\n",
    "        \n",
    "        return x"
   ]
  },
  {
   "cell_type": "code",
   "execution_count": 67,
   "id": "3a2ed3b0",
   "metadata": {
    "ExecuteTime": {
     "end_time": "2021-11-18T13:05:48.863620Z",
     "start_time": "2021-11-18T13:05:48.423281Z"
    }
   },
   "outputs": [],
   "source": [
    "model = CNNClassifier(**kargs)\n",
    "\n",
    "model.compile(optimizer=tf.keras.optimizers.Adam(),\n",
    "              loss=tf.keras.losses.BinaryCrossentropy(),\n",
    "              metrics=[tf.keras.metrics.BinaryAccuracy(name='accuracy')])"
   ]
  },
  {
   "cell_type": "markdown",
   "id": "7637ed0f",
   "metadata": {},
   "source": [
    "## Callback 선언"
   ]
  },
  {
   "cell_type": "code",
   "execution_count": 68,
   "id": "54e82b83",
   "metadata": {
    "ExecuteTime": {
     "end_time": "2021-11-18T13:06:22.891131Z",
     "start_time": "2021-11-18T13:06:22.877689Z"
    }
   },
   "outputs": [
    {
     "name": "stdout",
     "output_type": "stream",
     "text": [
      "./data_out/cnn_classifier_kr -- Folder create complete \n",
      "\n"
     ]
    }
   ],
   "source": [
    "# overfitting을 막기 위한 ealrystop 추가\n",
    "earlystop_callback = EarlyStopping(monitor='val_accuracy', min_delta=0.0001,patience=2)\n",
    "# min_delta: the threshold that triggers the termination (acc should at least improve 0.0001)\n",
    "# patience: no improvment epochs (patience = 1, 1번 이상 상승이 없으면 종료)\\\n",
    "\n",
    "checkpoint_path = DATA_OUT_PATH + model_name + '/weights.h5'\n",
    "checkpoint_dir = os.path.dirname(checkpoint_path)\n",
    "\n",
    "# Create path if exists\n",
    "if os.path.exists(checkpoint_dir):\n",
    "    print(\"{} -- Folder already exists \\n\".format(checkpoint_dir))\n",
    "else:\n",
    "    os.makedirs(checkpoint_dir, exist_ok=True)\n",
    "    print(\"{} -- Folder create complete \\n\".format(checkpoint_dir))\n",
    "    \n",
    "\n",
    "cp_callback = ModelCheckpoint(\n",
    "    checkpoint_path, monitor='val_accuracy', verbose=1, save_best_only=True, save_weights_only=True)"
   ]
  },
  {
   "cell_type": "markdown",
   "id": "0570f4ef",
   "metadata": {},
   "source": [
    "## 모델 학습"
   ]
  },
  {
   "cell_type": "code",
   "execution_count": 89,
   "id": "18a46ec5",
   "metadata": {
    "ExecuteTime": {
     "end_time": "2021-11-18T13:15:45.581825Z",
     "start_time": "2021-11-18T13:15:45.562846Z"
    }
   },
   "outputs": [],
   "source": [
    "BATCH_SIZE = 512\n",
    "NUM_EPOCHS = 10\n",
    "VALID_SPLIT = 0.1"
   ]
  },
  {
   "cell_type": "code",
   "execution_count": 69,
   "id": "72968cc5",
   "metadata": {
    "ExecuteTime": {
     "end_time": "2021-11-18T13:06:53.736375Z",
     "start_time": "2021-11-18T13:06:40.308663Z"
    }
   },
   "outputs": [
    {
     "name": "stdout",
     "output_type": "stream",
     "text": [
      "Epoch 1/10\n",
      "1/1 [==============================] - 7s 7s/step - loss: 0.6895 - accuracy: 0.5468 - val_loss: 0.7198 - val_accuracy: 0.4359\n",
      "\n",
      "Epoch 00001: val_accuracy improved from -inf to 0.43590, saving model to ./data_out/cnn_classifier_kr\\weights.h5\n",
      "Epoch 2/10\n",
      "1/1 [==============================] - 3s 3s/step - loss: 0.6933 - accuracy: 0.5468 - val_loss: 0.7073 - val_accuracy: 0.4359\n",
      "\n",
      "Epoch 00002: val_accuracy did not improve from 0.43590\n",
      "Epoch 3/10\n",
      "1/1 [==============================] - 3s 3s/step - loss: 0.6855 - accuracy: 0.5468 - val_loss: 0.6975 - val_accuracy: 0.4359\n",
      "\n",
      "Epoch 00003: val_accuracy did not improve from 0.43590\n"
     ]
    }
   ],
   "source": [
    "history = model.fit(train_input, train_label, batch_size=BATCH_SIZE, epochs=NUM_EPOCHS,\n",
    "                    validation_split=VALID_SPLIT, callbacks=[earlystop_callback, cp_callback])"
   ]
  },
  {
   "cell_type": "markdown",
   "id": "1c4444fc",
   "metadata": {},
   "source": [
    "## 결과 플롯"
   ]
  },
  {
   "cell_type": "code",
   "execution_count": 70,
   "id": "24f83cb2",
   "metadata": {
    "ExecuteTime": {
     "end_time": "2021-11-18T13:06:59.254238Z",
     "start_time": "2021-11-18T13:06:59.002276Z"
    }
   },
   "outputs": [
    {
     "data": {
      "image/png": "[encoded data removed]",
      "text/plain": [
       "<Figure size 432x288 with 1 Axes>"
      ]
     },
     "metadata": {
      "needs_background": "light"
     },
     "output_type": "display_data"
    }
   ],
   "source": [
    "plot_graphs(history, 'loss')"
   ]
  },
  {
   "cell_type": "code",
   "execution_count": 71,
   "id": "358580f4",
   "metadata": {
    "ExecuteTime": {
     "end_time": "2021-11-18T13:07:05.933204Z",
     "start_time": "2021-11-18T13:07:05.735313Z"
    }
   },
   "outputs": [
    {
     "data": {
      "image/png": "[encoded data removed]",
      "text/plain": [
       "<Figure size 432x288 with 1 Axes>"
      ]
     },
     "metadata": {
      "needs_background": "light"
     },
     "output_type": "display_data"
    }
   ],
   "source": [
    "plot_graphs(history, 'accuracy')"
   ]
  },
  {
   "cell_type": "markdown",
   "id": "cb6d16e6",
   "metadata": {},
   "source": [
    "## 결과 평가하기"
   ]
  },
  {
   "cell_type": "code",
   "execution_count": 72,
   "id": "4e40950a",
   "metadata": {
    "ExecuteTime": {
     "end_time": "2021-11-18T13:07:23.146611Z",
     "start_time": "2021-11-18T13:07:23.102605Z"
    }
   },
   "outputs": [],
   "source": [
    "DATA_OUT_PATH = './data_out/'\n",
    "INPUT_TEST_DATA = 'nsmc_test_input.npy'\n",
    "LABEL_TEST_DATA = 'nsmc_test_label.npy'\n",
    "SAVE_FILE_NM = 'weights.h5' #저장된 best model 이름\n",
    "\n",
    "test_input = np.load(open(DATA_IN_PATH + INPUT_TEST_DATA, 'rb'))\n",
    "test_input = pad_sequences(test_input, maxlen=test_input.shape[1])\n",
    "test_label_data = np.load(open(DATA_IN_PATH + LABEL_TEST_DATA, 'rb'))"
   ]
  },
  {
   "cell_type": "code",
   "execution_count": 73,
   "id": "ed9bf81f",
   "metadata": {
    "ExecuteTime": {
     "end_time": "2021-11-18T13:07:29.125989Z",
     "start_time": "2021-11-18T13:07:29.083003Z"
    }
   },
   "outputs": [],
   "source": [
    "model.load_weights(os.path.join(DATA_OUT_PATH, model_name, SAVE_FILE_NM))"
   ]
  },
  {
   "cell_type": "code",
   "execution_count": 79,
   "id": "e3558e02",
   "metadata": {
    "ExecuteTime": {
     "end_time": "2021-11-18T13:11:45.484306Z",
     "start_time": "2021-11-18T13:11:45.279308Z"
    }
   },
   "outputs": [
    {
     "name": "stdout",
     "output_type": "stream",
     "text": [
      "5/5 [==============================] - 0s 25ms/step - loss: 0.6825 - accuracy: 0.5769\n",
      "\n",
      " 테스트 정확도: 0.5769\n"
     ]
    }
   ],
   "source": [
    "print(\"\\n 테스트 정확도: %.4f\" % (model.evaluate(test_input, test_label_data)[1]))"
   ]
  },
  {
   "cell_type": "code",
   "execution_count": 82,
   "id": "3a97a411",
   "metadata": {
    "ExecuteTime": {
     "end_time": "2021-11-18T13:14:13.669291Z",
     "start_time": "2021-11-18T13:14:13.652297Z"
    }
   },
   "outputs": [],
   "source": [
    "def sentiment_predict(new_sentence):\n",
    "  new_sentence = re.sub(r'[^ㄱ-ㅎㅏ-ㅣ가-힣 ]','', new_sentence)\n",
    "  new_sentence = okt.morphs(new_sentence, stem=True) # 토큰화\n",
    "  new_sentence = [word for word in new_sentence if not word in stop_w] # 불용어 제거\n",
    "  encoded = tokenizer.texts_to_sequences([new_sentence]) # 정수 인코딩\n",
    "  pad_new = pad_sequences(encoded, maxlen = MAX_SEQUENCE_LENGTH) # 패딩\n",
    "  score = float(model.predict(pad_new)) # 예측\n",
    "  if(score > 0.5):\n",
    "    print(\"{:.2f}% 확률로 긍정 가사입니다.\\n\".format(score * 100))\n",
    "  else:\n",
    "    print(\"{:.2f}% 확률로 부정 가사입니다.\\n\".format((1 - score) * 100))\n"
   ]
  },
  {
   "cell_type": "code",
   "execution_count": 83,
   "id": "720a3266",
   "metadata": {
    "ExecuteTime": {
     "end_time": "2021-11-18T13:14:14.663644Z",
     "start_time": "2021-11-18T13:14:14.497687Z"
    }
   },
   "outputs": [
    {
     "name": "stdout",
     "output_type": "stream",
     "text": [
      "54.23% 확률로 긍정 가사입니다.\n",
      "\n"
     ]
    }
   ],
   "source": [
    "sentiment_predict('너를 만난 세상 슬픈 우연 속에서')"
   ]
  },
  {
   "cell_type": "code",
   "execution_count": 84,
   "id": "eca7fcc9",
   "metadata": {
    "ExecuteTime": {
     "end_time": "2021-11-18T13:14:48.861657Z",
     "start_time": "2021-11-18T13:14:48.792553Z"
    }
   },
   "outputs": [
    {
     "name": "stdout",
     "output_type": "stream",
     "text": [
      "52.59% 확률로 긍정 가사입니다.\n",
      "\n"
     ]
    }
   ],
   "source": [
    "sentiment_predict('잊혀지지 않는 너의 모습 그리며 우네')"
   ]
  },
  {
   "cell_type": "code",
   "execution_count": null,
   "id": "ee836260",
   "metadata": {},
   "outputs": [],
   "source": []
  }
 ],
 "metadata": {
  "hide_input": false,
  "kernelspec": {
   "display_name": "Python 3",
   "language": "python",
   "name": "python3"
  },
  "language_info": {
   "codemirror_mode": {
    "name": "ipython",
    "version": 3
   },
   "file_extension": ".py",
   "mimetype": "text/x-python",
   "name": "python",
   "nbconvert_exporter": "python",
   "pygments_lexer": "ipython3",
   "version": "3.8.8"
  },
  "toc": {
   "base_numbering": 1,
   "nav_menu": {},
   "number_sections": true,
   "sideBar": true,
   "skip_h1_title": false,
   "title_cell": "Table of Contents",
   "title_sidebar": "Contents",
   "toc_cell": false,
   "toc_position": {},
   "toc_section_display": true,
   "toc_window_display": false
  },
  "varInspector": {
   "cols": {
    "lenName": 16,
    "lenType": 16,
    "lenVar": 40
   },
   "kernels_config": {
    "python": {
     "delete_cmd_postfix": "",
     "delete_cmd_prefix": "del ",
     "library": "var_list.py",
     "varRefreshCmd": "print(var_dic_list())"
    },
    "r": {
     "delete_cmd_postfix": ") ",
     "delete_cmd_prefix": "rm(",
     "library": "var_list.r",
     "varRefreshCmd": "cat(var_dic_list()) "
    }
   },
   "types_to_exclude": [
    "module",
    "function",
    "builtin_function_or_method",
    "instance",
    "_Feature"
   ],
   "window_display": false
  }
 },
 "nbformat": 4,
 "nbformat_minor": 5
}
