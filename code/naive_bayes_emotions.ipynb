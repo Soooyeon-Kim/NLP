{
 "cells": [
  {
   "cell_type": "code",
   "execution_count": 1,
   "id": "0bc4a3fb",
   "metadata": {
    "ExecuteTime": {
     "end_time": "2021-11-12T14:23:15.334584Z",
     "start_time": "2021-11-12T14:23:12.395780Z"
    }
   },
   "outputs": [],
   "source": [
    "import pandas as pd\n",
    "from sklearn.naive_bayes import MultinomialNB\n",
    "from sklearn.feature_extraction.text import CountVectorizer"
   ]
  },
  {
   "cell_type": "code",
   "execution_count": 2,
   "id": "4312f8fa",
   "metadata": {
    "ExecuteTime": {
     "end_time": "2021-11-12T14:23:15.461560Z",
     "start_time": "2021-11-12T14:23:15.368560Z"
    }
   },
   "outputs": [],
   "source": [
    "raw_text = pd.read_csv('emotions_train.txt', delimiter=';', header=None, names=['sentence','emotion'])\n",
    "train_data = raw_text['sentence']\n",
    "train_emotion = raw_text['emotion']"
   ]
  },
  {
   "cell_type": "code",
   "execution_count": 3,
   "id": "7c6d9577",
   "metadata": {
    "ExecuteTime": {
     "end_time": "2021-11-12T14:23:15.664557Z",
     "start_time": "2021-11-12T14:23:15.611557Z"
    }
   },
   "outputs": [
    {
     "data": {
      "text/html": [
       "<div>\n",
       "<style scoped>\n",
       "    .dataframe tbody tr th:only-of-type {\n",
       "        vertical-align: middle;\n",
       "    }\n",
       "\n",
       "    .dataframe tbody tr th {\n",
       "        vertical-align: top;\n",
       "    }\n",
       "\n",
       "    .dataframe thead th {\n",
       "        text-align: right;\n",
       "    }\n",
       "</style>\n",
       "<table border=\"1\" class=\"dataframe\">\n",
       "  <thead>\n",
       "    <tr style=\"text-align: right;\">\n",
       "      <th></th>\n",
       "      <th>sentence</th>\n",
       "      <th>emotion</th>\n",
       "    </tr>\n",
       "  </thead>\n",
       "  <tbody>\n",
       "    <tr>\n",
       "      <th>0</th>\n",
       "      <td>i didnt feel humiliated</td>\n",
       "      <td>sadness</td>\n",
       "    </tr>\n",
       "    <tr>\n",
       "      <th>1</th>\n",
       "      <td>i can go from feeling so hopeless to so damned...</td>\n",
       "      <td>sadness</td>\n",
       "    </tr>\n",
       "    <tr>\n",
       "      <th>2</th>\n",
       "      <td>im grabbing a minute to post i feel greedy wrong</td>\n",
       "      <td>anger</td>\n",
       "    </tr>\n",
       "    <tr>\n",
       "      <th>3</th>\n",
       "      <td>i am ever feeling nostalgic about the fireplac...</td>\n",
       "      <td>love</td>\n",
       "    </tr>\n",
       "    <tr>\n",
       "      <th>4</th>\n",
       "      <td>i am feeling grouchy</td>\n",
       "      <td>anger</td>\n",
       "    </tr>\n",
       "    <tr>\n",
       "      <th>...</th>\n",
       "      <td>...</td>\n",
       "      <td>...</td>\n",
       "    </tr>\n",
       "    <tr>\n",
       "      <th>15995</th>\n",
       "      <td>i just had a very brief time in the beanbag an...</td>\n",
       "      <td>sadness</td>\n",
       "    </tr>\n",
       "    <tr>\n",
       "      <th>15996</th>\n",
       "      <td>i am now turning and i feel pathetic that i am...</td>\n",
       "      <td>sadness</td>\n",
       "    </tr>\n",
       "    <tr>\n",
       "      <th>15997</th>\n",
       "      <td>i feel strong and good overall</td>\n",
       "      <td>joy</td>\n",
       "    </tr>\n",
       "    <tr>\n",
       "      <th>15998</th>\n",
       "      <td>i feel like this was such a rude comment and i...</td>\n",
       "      <td>anger</td>\n",
       "    </tr>\n",
       "    <tr>\n",
       "      <th>15999</th>\n",
       "      <td>i know a lot but i feel so stupid because i ca...</td>\n",
       "      <td>sadness</td>\n",
       "    </tr>\n",
       "  </tbody>\n",
       "</table>\n",
       "<p>16000 rows × 2 columns</p>\n",
       "</div>"
      ],
      "text/plain": [
       "                                                sentence  emotion\n",
       "0                                i didnt feel humiliated  sadness\n",
       "1      i can go from feeling so hopeless to so damned...  sadness\n",
       "2       im grabbing a minute to post i feel greedy wrong    anger\n",
       "3      i am ever feeling nostalgic about the fireplac...     love\n",
       "4                                   i am feeling grouchy    anger\n",
       "...                                                  ...      ...\n",
       "15995  i just had a very brief time in the beanbag an...  sadness\n",
       "15996  i am now turning and i feel pathetic that i am...  sadness\n",
       "15997                     i feel strong and good overall      joy\n",
       "15998  i feel like this was such a rude comment and i...    anger\n",
       "15999  i know a lot but i feel so stupid because i ca...  sadness\n",
       "\n",
       "[16000 rows x 2 columns]"
      ]
     },
     "execution_count": 3,
     "metadata": {},
     "output_type": "execute_result"
    }
   ],
   "source": [
    "raw_text"
   ]
  },
  {
   "cell_type": "code",
   "execution_count": 4,
   "id": "4222599d",
   "metadata": {
    "ExecuteTime": {
     "end_time": "2021-11-12T14:23:15.743574Z",
     "start_time": "2021-11-12T14:23:15.730554Z"
    }
   },
   "outputs": [
    {
     "data": {
      "text/plain": [
       "0                                  i didnt feel humiliated\n",
       "1        i can go from feeling so hopeless to so damned...\n",
       "2         im grabbing a minute to post i feel greedy wrong\n",
       "3        i am ever feeling nostalgic about the fireplac...\n",
       "4                                     i am feeling grouchy\n",
       "                               ...                        \n",
       "15995    i just had a very brief time in the beanbag an...\n",
       "15996    i am now turning and i feel pathetic that i am...\n",
       "15997                       i feel strong and good overall\n",
       "15998    i feel like this was such a rude comment and i...\n",
       "15999    i know a lot but i feel so stupid because i ca...\n",
       "Name: sentence, Length: 16000, dtype: object"
      ]
     },
     "execution_count": 4,
     "metadata": {},
     "output_type": "execute_result"
    }
   ],
   "source": [
    "train_data"
   ]
  },
  {
   "cell_type": "code",
   "execution_count": 5,
   "id": "8b5e2ce9",
   "metadata": {
    "ExecuteTime": {
     "end_time": "2021-11-12T14:23:15.854557Z",
     "start_time": "2021-11-12T14:23:15.835560Z"
    },
    "scrolled": true
   },
   "outputs": [
    {
     "data": {
      "text/plain": [
       "0        sadness\n",
       "1        sadness\n",
       "2          anger\n",
       "3           love\n",
       "4          anger\n",
       "          ...   \n",
       "15995    sadness\n",
       "15996    sadness\n",
       "15997        joy\n",
       "15998      anger\n",
       "15999    sadness\n",
       "Name: emotion, Length: 16000, dtype: object"
      ]
     },
     "execution_count": 5,
     "metadata": {},
     "output_type": "execute_result"
    }
   ],
   "source": [
    "train_emotion"
   ]
  },
  {
   "cell_type": "markdown",
   "id": "c441836f",
   "metadata": {},
   "source": [
    "---"
   ]
  },
  {
   "cell_type": "markdown",
   "id": "457b992c",
   "metadata": {},
   "source": [
    "### scikit-learn 나이브 베이즈 감정 분석"
   ]
  },
  {
   "cell_type": "code",
   "execution_count": 6,
   "id": "f939e42c",
   "metadata": {
    "ExecuteTime": {
     "end_time": "2021-11-12T14:23:17.913557Z",
     "start_time": "2021-11-12T14:23:17.026556Z"
    }
   },
   "outputs": [],
   "source": [
    "cv = CountVectorizer()\n",
    "transformed_text = cv.fit_transform(train_data)"
   ]
  },
  {
   "cell_type": "code",
   "execution_count": 7,
   "id": "d32effdc",
   "metadata": {
    "ExecuteTime": {
     "end_time": "2021-11-12T14:23:18.136557Z",
     "start_time": "2021-11-12T14:23:18.014560Z"
    }
   },
   "outputs": [
    {
     "data": {
      "text/plain": [
       "MultinomialNB()"
      ]
     },
     "execution_count": 7,
     "metadata": {},
     "output_type": "execute_result"
    }
   ],
   "source": [
    "clf = MultinomialNB()\n",
    "clf.fit(transformed_text, train_emotion)"
   ]
  },
  {
   "cell_type": "code",
   "execution_count": 8,
   "id": "8d0fa204",
   "metadata": {
    "ExecuteTime": {
     "end_time": "2021-11-12T14:23:18.339146Z",
     "start_time": "2021-11-12T14:23:18.326560Z"
    }
   },
   "outputs": [],
   "source": [
    "test_data = ['i am curious', 'i feel gloomy and tired', 'i feel more creative', 'i feel a little mellow today']"
   ]
  },
  {
   "cell_type": "code",
   "execution_count": 9,
   "id": "4d9715be",
   "metadata": {
    "ExecuteTime": {
     "end_time": "2021-11-12T14:23:19.068142Z",
     "start_time": "2021-11-12T14:23:19.054142Z"
    }
   },
   "outputs": [
    {
     "name": "stdout",
     "output_type": "stream",
     "text": [
      "['surprise' 'sadness' 'joy' 'joy']\n"
     ]
    }
   ],
   "source": [
    "doc_vector = cv.transform(test_data)\n",
    "test_result = clf.predict(doc_vector)\n",
    "print(test_result)"
   ]
  },
  {
   "cell_type": "markdown",
   "id": "35183a61",
   "metadata": {},
   "source": [
    "---"
   ]
  },
  {
   "cell_type": "markdown",
   "id": "d5b2f49e",
   "metadata": {},
   "source": [
    "###  cal_partial_freq\n",
    " 텍스트 데이터(texts)와 특정 감정(emotion)을 매개변수로 가지며, 해당 감정을 나타내는 문서를 filtered_texts에 저장"
   ]
  },
  {
   "cell_type": "code",
   "execution_count": 10,
   "id": "26a6a25c",
   "metadata": {
    "ExecuteTime": {
     "end_time": "2021-11-12T14:23:20.734456Z",
     "start_time": "2021-11-12T14:23:20.727455Z"
    }
   },
   "outputs": [],
   "source": [
    "def cal_partial_freq(texts, emotion):\n",
    "    partial_freq = dict()\n",
    "    filtered_texts = texts[texts['emotion']==emotion]\n",
    "    filtered_texts = filtered_texts['sentence']\n",
    "    \n",
    "    # 전체 데이터 내 각 단어별 빈도수를 입력해 주는 부분\n",
    "    for sent in filtered_texts:\n",
    "        # words = sent.rstrip().split()\n",
    "        # for word in words:\n",
    "        for word in sent.rstrip().split():\n",
    "            if word not in partial_freq:\n",
    "                partial_freq[word] = 1\n",
    "            else:\n",
    "                partial_freq[word] += 1\n",
    "    \n",
    "    return partial_freq"
   ]
  },
  {
   "cell_type": "markdown",
   "id": "8f0ef835",
   "metadata": {},
   "source": [
    "### cal_total_freq \n",
    "partial_freq 딕셔너리를 입력받아, 특정 감정별 문서 내 전체 단어의 빈도수를 계산하여 반환"
   ]
  },
  {
   "cell_type": "code",
   "execution_count": 11,
   "id": "7e67b957",
   "metadata": {
    "ExecuteTime": {
     "end_time": "2021-11-12T14:23:54.885917Z",
     "start_time": "2021-11-12T14:23:54.875914Z"
    }
   },
   "outputs": [],
   "source": [
    "def cal_total_freq(partial_freq):\n",
    "    total = 0\n",
    "    # partial_freq 딕셔너리에서 감정별로 문서 내 전체 단어의 빈도수를 계산하여 반환하는 부분 \n",
    "    for word, freq in partial_freq.items():\n",
    "        total += freq\n",
    "    \n",
    "    return total"
   ]
  },
  {
   "cell_type": "code",
   "execution_count": 12,
   "id": "d42cbc83",
   "metadata": {
    "ExecuteTime": {
     "end_time": "2021-11-12T14:24:24.341235Z",
     "start_time": "2021-11-12T14:24:24.203246Z"
    }
   },
   "outputs": [
    {
     "name": "stdout",
     "output_type": "stream",
     "text": [
      "0.001415604166467398\n",
      "0.0005952589376378725\n",
      "0.002363652280486737\n"
     ]
    }
   ],
   "source": [
    "# Emotions dataset for NLP \n",
    "data = pd.read_csv(\"emotions_train.txt\", delimiter=';', header=None, names=['sentence','emotion'])\n",
    "\n",
    "# happy가 joy라는 감정을 표현하는 문장에서 발생할 가능도 \n",
    "joy_counter = cal_partial_freq(data, \"joy\")\n",
    "joy_likelihood = joy_counter['happy'] / cal_total_freq(joy_counter)\n",
    "print(joy_likelihood)\n",
    "\n",
    "# happy가 sadness라는 감정을 표현하는 문장에서 발생할 가능도 \n",
    "sad_counter =  cal_partial_freq(data, \"sadness\")\n",
    "sad_likelihood = sad_counter['happy'] / cal_total_freq(sad_counter)\n",
    "print(sad_likelihood)\n",
    "\n",
    "# can이 surprise라는 감정을 표현하는 문장에서 발생할 가능도 \n",
    "sup_counter =  cal_partial_freq(data, \"surprise\")\n",
    "sup_likelihood = sup_counter['can'] / cal_total_freq(sup_counter)\n",
    "print(sup_likelihood)"
   ]
  },
  {
   "cell_type": "markdown",
   "id": "79da87fb",
   "metadata": {},
   "source": [
    "### cal_prior_prob\n",
    "입력되는 data 내 특정 감정의 로그 발생 확률 을 반환해 주는 함수"
   ]
  },
  {
   "cell_type": "code",
   "execution_count": 13,
   "id": "d231fbbf",
   "metadata": {
    "ExecuteTime": {
     "end_time": "2021-11-12T14:25:02.811916Z",
     "start_time": "2021-11-12T14:25:02.798915Z"
    }
   },
   "outputs": [],
   "source": [
    "def cal_prior_prob(data, emotion):\n",
    "    filtered_texts = data[data['emotion'] == emotion]\n",
    "    # data 내 특정 감정의 로그발생 확률을 반환하는 부분 \n",
    "    \n",
    "    return np.log(len(filtered_texts)/ len(data))"
   ]
  },
  {
   "cell_type": "markdown",
   "id": "9122832d",
   "metadata": {},
   "source": [
    "### predict_emotion\n",
    "매개변수 data를 학습 데이터로 사용하여 sent의 각 감정별 로그 확률을 계산해 주는 함수\n",
    "\n",
    "* 감정별 로그 확률 계산을 위해 단어의 로그 가능도를 사용\n",
    "* 스무딩 값을 10으로 설정"
   ]
  },
  {
   "cell_type": "code",
   "execution_count": 14,
   "id": "6a987baa",
   "metadata": {
    "ExecuteTime": {
     "end_time": "2021-11-12T14:25:16.156137Z",
     "start_time": "2021-11-12T14:25:16.148140Z"
    }
   },
   "outputs": [],
   "source": [
    "def predict_emotion(sent, data):\n",
    "    emotions = ['anger', 'love', 'sadness', 'fear', 'joy', 'surprise']\n",
    "    predictions = []\n",
    "    train_txt = pd.read_csv(data, delimiter=';', header=None, names=['sentence', 'emotion'])\n",
    "\n",
    "    # sent의 각 감정별 로그 확률을 predictions 리스트에 저장 \n",
    "    for emotion in emotions:\n",
    "        prob = 0\n",
    "        for word in sent.split():\n",
    "            emotion_counter = cal_partial_freq(train_txt, emotion)\n",
    "            prob += np.log((emotion_counter[word] + 10) / (cal_total_freq(emotion_counter) + 10))\n",
    "        prob += cal_prior_prob(train_txt,emotion)\n",
    "        predictions.append((emotion,prob))\n",
    "    predictions.sort(key = lambda a : a[1])\n",
    "    return predictions[-1]"
   ]
  },
  {
   "cell_type": "markdown",
   "id": "9bd4fde6",
   "metadata": {},
   "source": [
    "* (감정, 확률)의 형태로 predictions 리스트에 저장\n",
    "* 확률값이 가장 높은 (감정, 확률) 튜플을 반환"
   ]
  },
  {
   "cell_type": "code",
   "execution_count": 15,
   "id": "5978cdaf",
   "metadata": {
    "ExecuteTime": {
     "end_time": "2021-11-12T14:25:35.253880Z",
     "start_time": "2021-11-12T14:25:34.087884Z"
    }
   },
   "outputs": [
    {
     "name": "stdout",
     "output_type": "stream",
     "text": [
      "('surprise', -49.413280143234715)\n"
     ]
    }
   ],
   "source": [
    "# 문장의 예측된 감정을 확인\n",
    "test_sent = \"i really want to go and enjoy this party\"\n",
    "predicted = predict_emotion(test_sent, \"emotions_train.txt\")\n",
    "print(predicted)"
   ]
  },
  {
   "cell_type": "code",
   "execution_count": null,
   "id": "47bb0b4a",
   "metadata": {},
   "outputs": [],
   "source": []
  }
 ],
 "metadata": {
  "hide_input": false,
  "kernelspec": {
   "display_name": "Python 3",
   "language": "python",
   "name": "python3"
  },
  "language_info": {
   "codemirror_mode": {
    "name": "ipython",
    "version": 3
   },
   "file_extension": ".py",
   "mimetype": "text/x-python",
   "name": "python",
   "nbconvert_exporter": "python",
   "pygments_lexer": "ipython3",
   "version": "3.8.8"
  },
  "toc": {
   "base_numbering": 1,
   "nav_menu": {},
   "number_sections": true,
   "sideBar": true,
   "skip_h1_title": false,
   "title_cell": "Table of Contents",
   "title_sidebar": "Contents",
   "toc_cell": false,
   "toc_position": {},
   "toc_section_display": true,
   "toc_window_display": false
  },
  "varInspector": {
   "cols": {
    "lenName": 16,
    "lenType": 16,
    "lenVar": 40
   },
   "kernels_config": {
    "python": {
     "delete_cmd_postfix": "",
     "delete_cmd_prefix": "del ",
     "library": "var_list.py",
     "varRefreshCmd": "print(var_dic_list())"
    },
    "r": {
     "delete_cmd_postfix": ") ",
     "delete_cmd_prefix": "rm(",
     "library": "var_list.r",
     "varRefreshCmd": "cat(var_dic_list()) "
    }
   },
   "types_to_exclude": [
    "module",
    "function",
    "builtin_function_or_method",
    "instance",
    "_Feature"
   ],
   "window_display": false
  }
 },
 "nbformat": 4,
 "nbformat_minor": 5
}
