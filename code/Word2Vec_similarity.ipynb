{
 "cells": [
  {
   "cell_type": "code",
   "execution_count": 1,
   "id": "831f77cf",
   "metadata": {
    "ExecuteTime": {
     "end_time": "2021-11-02T06:11:31.419531Z",
     "start_time": "2021-11-02T06:11:28.407409Z"
    }
   },
   "outputs": [
    {
     "name": "stderr",
     "output_type": "stream",
     "text": [
      "C:\\ProgramData\\Anaconda3\\lib\\site-packages\\gensim\\similarities\\__init__.py:15: UserWarning: The gensim.similarities.levenshtein submodule is disabled, because the optional Levenshtein package <https://pypi.org/project/python-Levenshtein/> is unavailable. Install Levenhstein (e.g. `pip install python-Levenshtein`) to suppress this warning.\n",
      "  warnings.warn(msg)\n"
     ]
    }
   ],
   "source": [
    "import pandas as pd\n",
    "from gensim.models import Word2Vec"
   ]
  },
  {
   "cell_type": "markdown",
   "id": "d1e0eab7",
   "metadata": {},
   "source": [
    "### 데이터 불러오기"
   ]
  },
  {
   "cell_type": "code",
   "execution_count": 2,
   "id": "3b02e123",
   "metadata": {
    "ExecuteTime": {
     "end_time": "2021-11-02T06:12:00.948437Z",
     "start_time": "2021-11-02T06:12:00.939439Z"
    }
   },
   "outputs": [],
   "source": [
    "def load_data(filepath):\n",
    "    data = pd.read_csv(filepath, delimiter=';', header=None, names=['sentence','emotion'])\n",
    "    data = data['sentence']\n",
    "\n",
    "    gensim_input = []\n",
    "    for text in data:\n",
    "        gensim_input.append(text.rstrip().split())\n",
    "    return gensim_input"
   ]
  },
  {
   "cell_type": "code",
   "execution_count": 3,
   "id": "da1c6e73",
   "metadata": {
    "ExecuteTime": {
     "end_time": "2021-11-02T06:12:10.658911Z",
     "start_time": "2021-11-02T06:12:10.549714Z"
    }
   },
   "outputs": [],
   "source": [
    "input_data = load_data(\"emotions_train.txt\")"
   ]
  },
  {
   "cell_type": "markdown",
   "id": "b50f3a99",
   "metadata": {},
   "source": [
    "### 모델 학습"
   ]
  },
  {
   "cell_type": "code",
   "execution_count": 4,
   "id": "a22113c5",
   "metadata": {
    "ExecuteTime": {
     "end_time": "2021-11-02T06:16:01.878846Z",
     "start_time": "2021-11-02T06:15:59.145861Z"
    }
   },
   "outputs": [
    {
     "data": {
      "text/plain": [
       "(1907525, 3066610)"
      ]
     },
     "execution_count": 4,
     "metadata": {},
     "output_type": "execute_result"
    }
   ],
   "source": [
    "# word2vec 모델을 학습하세요.\n",
    "w2v_model = Word2Vec(window=2, vector_size=300)\n",
    "w2v_model.build_vocab(input_data)\n",
    "w2v_model.train(input_data, total_examples = w2v_model.corpus_count, epochs=10)"
   ]
  },
  {
   "cell_type": "markdown",
   "id": "0e895c35",
   "metadata": {},
   "source": [
    "### 유사 단어 확인"
   ]
  },
  {
   "cell_type": "code",
   "execution_count": 6,
   "id": "49f62490",
   "metadata": {
    "ExecuteTime": {
     "end_time": "2021-11-02T06:16:40.527219Z",
     "start_time": "2021-11-02T06:16:40.508216Z"
    }
   },
   "outputs": [
    {
     "name": "stdout",
     "output_type": "stream",
     "text": [
      "[('excited', 0.9074899554252625), ('thrilled', 0.871713399887085), ('pleased', 0.8471595048904419), ('determined', 0.8442872762680054), ('blessed', 0.8437955975532532), ('stubborn', 0.8403089046478271), ('grateful', 0.8387118577957153), ('thankful', 0.8339088559150696), ('alone', 0.823351263999939), ('afraid', 0.8222542405128479)]\n"
     ]
    }
   ],
   "source": [
    "# happy와 유사한 단어\n",
    "similar_happy = w2v_model.wv.most_similar('happy')\n",
    "print(similar_happy)"
   ]
  },
  {
   "cell_type": "code",
   "execution_count": 7,
   "id": "fff98756",
   "metadata": {
    "ExecuteTime": {
     "end_time": "2021-11-02T06:16:55.404831Z",
     "start_time": "2021-11-02T06:16:55.384841Z"
    }
   },
   "outputs": [
    {
     "name": "stdout",
     "output_type": "stream",
     "text": [
      "[('scared', 0.9419350624084473), ('depressed', 0.9271098375320435), ('hopeless', 0.9239340424537659), ('angry', 0.9194381237030029), ('lonely', 0.915341317653656), ('bitchy', 0.9121831059455872), ('worthless', 0.9103984832763672), ('disappointed', 0.9100468158721924), ('unhappy', 0.9080536365509033), ('needy', 0.9021602869033813)]\n"
     ]
    }
   ],
   "source": [
    "# sad와 유사한 단어\n",
    "similar_sad =  w2v_model.wv.most_similar('sad')\n",
    "print(similar_sad)"
   ]
  },
  {
   "cell_type": "markdown",
   "id": "71ac39d4",
   "metadata": {},
   "source": [
    "### 유사도 확인"
   ]
  },
  {
   "cell_type": "code",
   "execution_count": 8,
   "id": "697302b2",
   "metadata": {
    "ExecuteTime": {
     "end_time": "2021-11-02T06:17:12.806823Z",
     "start_time": "2021-11-02T06:17:12.781772Z"
    }
   },
   "outputs": [
    {
     "name": "stdout",
     "output_type": "stream",
     "text": [
      "0.8156189\n"
     ]
    }
   ],
   "source": [
    "# 단어 good과 bad의 임베딩 벡터 간 유사도\n",
    "similar_good_bad = w2v_model.wv.similarity('good', 'bad')\n",
    "\n",
    "print(similar_good_bad)"
   ]
  },
  {
   "cell_type": "code",
   "execution_count": 9,
   "id": "6d2bb552",
   "metadata": {
    "ExecuteTime": {
     "end_time": "2021-11-02T06:17:29.213327Z",
     "start_time": "2021-11-02T06:17:29.205811Z"
    }
   },
   "outputs": [
    {
     "name": "stdout",
     "output_type": "stream",
     "text": [
      "0.9153413\n"
     ]
    }
   ],
   "source": [
    "# 단어 sad과 lonely의 임베딩 벡터 간 유사도를 확인 \n",
    "similar_sad_lonely =  w2v_model.wv.similarity('sad', 'lonely')\n",
    "\n",
    "print(similar_sad_lonely)"
   ]
  },
  {
   "cell_type": "markdown",
   "id": "cd9b0816",
   "metadata": {},
   "source": [
    "### 임베딩 벡터 확인"
   ]
  },
  {
   "cell_type": "code",
   "execution_count": 10,
   "id": "04401216",
   "metadata": {
    "ExecuteTime": {
     "end_time": "2021-11-02T06:17:43.837969Z",
     "start_time": "2021-11-02T06:17:43.802594Z"
    }
   },
   "outputs": [
    {
     "name": "stdout",
     "output_type": "stream",
     "text": [
      "[-1.34485707e-01  1.55972883e-01 -6.02693744e-02  5.39667942e-02\n",
      " -2.10517183e-01 -1.51054278e-01 -5.70126772e-02  4.50399488e-01\n",
      " -2.78545506e-02 -1.56204417e-01  1.24205515e-01 -1.48717329e-01\n",
      "  4.71505336e-03 -2.10759401e-01  1.98053736e-02 -1.17002130e-01\n",
      "  3.76331061e-01 -2.02878788e-01 -3.93327735e-02 -1.95689183e-02\n",
      " -5.23693487e-02  7.33617991e-02  6.20256476e-02 -7.68440366e-02\n",
      "  1.45906687e-01 -9.11755413e-02 -3.06494325e-01  2.03523606e-01\n",
      " -2.34626099e-01 -2.54533052e-01  1.17501937e-01  3.79053392e-02\n",
      "  1.61961406e-01 -3.71327102e-01 -2.76991338e-01  4.24374938e-01\n",
      "  3.06911409e-01 -3.36622715e-01 -1.00527316e-01  5.73755912e-02\n",
      " -1.74747199e-01  1.83987379e-01 -1.47187421e-02 -4.44820523e-02\n",
      "  1.64843947e-01 -1.54928789e-02  1.43704414e-01  5.96615151e-02\n",
      "  4.27752957e-02  2.12745607e-01  2.31992751e-01  2.68400550e-01\n",
      " -2.10796878e-01 -7.04367831e-02 -2.03192621e-01  1.71163380e-02\n",
      "  4.16711681e-02  1.04675189e-01 -1.99326575e-01 -1.35764003e-01\n",
      " -1.61593005e-01  7.29124323e-02 -7.59047121e-02  1.41459614e-01\n",
      " -1.14593700e-01  7.97808468e-02 -1.58052698e-01  4.31130707e-01\n",
      " -2.34212860e-01 -1.33481771e-01  7.49395490e-02  3.05007640e-02\n",
      "  6.65157139e-02 -2.46232778e-01  2.66487803e-02  2.40985513e-01\n",
      " -1.31221458e-01 -1.15375534e-01 -1.75851537e-03  2.31187761e-01\n",
      " -8.47799852e-02 -1.25095233e-01  7.52423555e-02  3.87299627e-01\n",
      " -1.87994868e-01 -2.04849094e-02  2.07723543e-01  5.96075654e-02\n",
      " -1.31267786e-01  2.47872666e-01  2.08316877e-01 -1.67510077e-01\n",
      " -1.87214967e-02  1.03217587e-01  1.90125838e-01  1.16964482e-01\n",
      " -5.19282259e-02 -4.97951098e-02 -1.01681076e-01  1.22402370e-01\n",
      " -1.05237715e-01  3.73164229e-02  7.29206353e-02 -6.02223538e-02\n",
      " -1.83571111e-02 -4.88269597e-01  1.26149595e-01 -1.97097510e-01\n",
      " -1.33180469e-01 -1.54204190e-01 -2.54306853e-01 -7.33288303e-02\n",
      " -3.27822678e-02  1.08840503e-01  1.56566620e-01  1.08652249e-01\n",
      " -1.95051879e-01  8.41693804e-02  3.54888826e-03 -2.59421229e-01\n",
      "  1.44054040e-01  6.69287145e-02  3.10235023e-01  1.74799219e-01\n",
      " -2.39563873e-03  3.19279730e-01 -4.43626009e-02 -9.59802419e-02\n",
      " -1.35597780e-01  1.12617843e-01  2.13134304e-01  1.76345631e-01\n",
      " -3.49340923e-02 -3.13943177e-01 -7.91419521e-02  4.94158298e-01\n",
      "  8.12658817e-02  7.18496442e-02 -3.09458524e-01  6.60845190e-02\n",
      "  1.70529500e-01 -4.45703536e-01 -2.52924830e-01 -3.30176465e-02\n",
      " -9.33333125e-04 -7.08841532e-02 -2.68108457e-01 -1.11078620e-01\n",
      "  5.19730374e-02 -1.63507164e-01  1.78482071e-01 -6.68580651e-01\n",
      "  8.17765892e-02 -1.66608840e-01 -2.22093999e-01 -5.95500506e-02\n",
      " -1.38208851e-01 -3.39927495e-01  5.74650392e-02 -3.94954607e-02\n",
      " -2.89863020e-01 -5.64274788e-02 -1.80471689e-01  1.37982249e-01\n",
      " -1.30008608e-01  8.78788251e-03  6.28824681e-02  7.39975832e-04\n",
      " -2.86166310e-01  5.85735738e-01 -2.48931289e-01  1.18511908e-01\n",
      " -4.20825003e-04  3.54142278e-01  8.84043723e-02  7.92775676e-02\n",
      " -7.41172433e-02 -2.12803125e-01  1.73877880e-01 -1.76932096e-01\n",
      " -1.55997872e-01  9.87698883e-02 -1.93454072e-01 -1.32458344e-01\n",
      "  1.08504938e-02 -1.07282311e-01  4.15975064e-01 -1.18869416e-01\n",
      " -1.58525661e-01 -3.58742595e-01  6.72827438e-02  7.17539191e-02\n",
      " -2.83681870e-01 -1.55165151e-01 -1.18295573e-01 -2.14367613e-01\n",
      "  1.11775354e-01 -3.05575311e-01  1.82051510e-01  1.20870933e-01\n",
      " -1.95218474e-01  1.77549779e-01  9.78271514e-02 -4.10654575e-01\n",
      " -2.28025019e-01 -2.44829789e-01 -1.33126616e-01  2.98562888e-02\n",
      " -2.40824029e-01  9.70081252e-04 -1.27497301e-01 -8.60662311e-02\n",
      "  5.51180169e-02 -2.26937875e-01  1.53129071e-01 -3.57587993e-01\n",
      "  1.14165120e-01 -2.80702561e-01 -3.57376873e-01 -3.46755683e-02\n",
      "  1.56354055e-01 -6.42987806e-03 -1.59325585e-01 -1.84447750e-01\n",
      " -3.52458209e-01  1.61333293e-01  1.58377647e-01 -4.08846326e-02\n",
      "  2.11272165e-02  7.09960312e-02  2.25592792e-01  9.89327673e-03\n",
      " -3.05392325e-01 -1.10645890e-01 -1.30062938e-01  3.11201438e-03\n",
      " -8.09794366e-02  5.37549444e-02 -1.73156381e-01 -1.38144538e-01\n",
      " -1.16705205e-02  1.60894111e-01  2.93241534e-02 -1.17743656e-01\n",
      "  5.92801981e-02 -2.70169348e-01 -5.28894328e-02  3.71920839e-02\n",
      "  1.08686201e-01  3.41621526e-02  1.26451209e-01 -1.85878515e-01\n",
      "  2.09797233e-01  2.41498709e-01 -4.42658126e-01 -1.15039192e-01\n",
      "  2.00092599e-01  1.03355095e-01 -3.53694171e-01 -9.68064144e-02\n",
      "  3.74302492e-02  2.10274071e-01  2.91940361e-01 -4.36379492e-01\n",
      " -5.53815484e-01  1.19524539e-01  3.36942226e-02  1.79408625e-01\n",
      " -2.26342842e-01  1.81160584e-01 -2.37115324e-01  1.60434678e-01\n",
      "  1.80467546e-01  3.71863954e-02  6.62246123e-02  5.03050506e-01\n",
      "  2.45784387e-01  2.78370887e-01 -2.30612591e-01 -1.07065827e-01\n",
      "  3.64262164e-01 -1.92944318e-01 -1.97185025e-01 -2.69140363e-01\n",
      "  6.02735765e-02  3.42304893e-02 -3.90476972e-01  1.06651008e-01\n",
      "  1.68622315e-01  4.52338070e-01 -4.99067316e-03  1.05563171e-01\n",
      "  4.70786020e-02 -9.37833544e-03  3.03007841e-01  1.38595968e-01\n",
      "  4.55470607e-02 -5.86148612e-02  2.08628103e-01 -1.31773859e-01]\n"
     ]
    }
   ],
   "source": [
    "# happy의 임베딩 벡터를 확인 \n",
    "wv_happy = w2v_model.wv['happy']\n",
    "\n",
    "print(wv_happy)"
   ]
  },
  {
   "cell_type": "markdown",
   "id": "d34aedb1",
   "metadata": {},
   "source": [
    "### 전체 코드"
   ]
  },
  {
   "cell_type": "code",
   "execution_count": null,
   "id": "983fa99a",
   "metadata": {},
   "outputs": [],
   "source": [
    "import pandas as pd\n",
    "from gensim.models import Word2Vec\n",
    "\n",
    "def load_data(filepath):\n",
    "    data = pd.read_csv(filepath, delimiter=';', header=None, names=['sentence','emotion'])\n",
    "    data = data['sentence']\n",
    "\n",
    "    gensim_input = []\n",
    "    for text in data:\n",
    "        gensim_input.append(text.rstrip().split())\n",
    "    return gensim_input\n",
    "\n",
    "input_data = load_data(\"emotions_train.txt\")\n",
    "\n",
    "# word2vec 모델 학습 \n",
    "w2v_model = Word2Vec(window=2, vector_size=300)\n",
    "w2v_model.build_vocab(input_data)\n",
    "w2v_model.train(input_data, total_examples = w2v_model.corpus_count, epochs=10)\n",
    "\n",
    "# happy와 유사한 단어를 확인  \n",
    "similar_happy = w2v_model.wv.most_similar('happy')\n",
    "\n",
    "print(similar_happy)\n",
    "\n",
    "# sad와 유사한 단어를 확인 \n",
    "similar_sad =  w2v_model.wv.most_similar('sad')\n",
    "print(similar_sad)\n",
    "\n",
    "# 단어 good과 bad의 임베딩 벡터 간 유사도를 확인 \n",
    "similar_good_bad = w2v_model.wv.similarity('good', 'bad')\n",
    "\n",
    "print(similar_good_bad)\n",
    "\n",
    "# 단어 sad과 lonely의 임베딩 벡터 간 유사도를 확인 \n",
    "similar_sad_lonely =  w2v_model.wv.similarity('sad', 'lonely')\n",
    "\n",
    "print(similar_sad_lonely)\n",
    "\n",
    "# happy의 임베딩 벡터를 확인 \n",
    "wv_happy = w2v_model.wv['happy']\n",
    "\n",
    "print(wv_happy)\n"
   ]
  }
 ],
 "metadata": {
  "hide_input": false,
  "kernelspec": {
   "display_name": "Python 3",
   "language": "python",
   "name": "python3"
  },
  "language_info": {
   "codemirror_mode": {
    "name": "ipython",
    "version": 3
   },
   "file_extension": ".py",
   "mimetype": "text/x-python",
   "name": "python",
   "nbconvert_exporter": "python",
   "pygments_lexer": "ipython3",
   "version": "3.8.8"
  },
  "toc": {
   "base_numbering": 1,
   "nav_menu": {},
   "number_sections": true,
   "sideBar": true,
   "skip_h1_title": false,
   "title_cell": "Table of Contents",
   "title_sidebar": "Contents",
   "toc_cell": false,
   "toc_position": {},
   "toc_section_display": true,
   "toc_window_display": false
  },
  "varInspector": {
   "cols": {
    "lenName": 16,
    "lenType": 16,
    "lenVar": 40
   },
   "kernels_config": {
    "python": {
     "delete_cmd_postfix": "",
     "delete_cmd_prefix": "del ",
     "library": "var_list.py",
     "varRefreshCmd": "print(var_dic_list())"
    },
    "r": {
     "delete_cmd_postfix": ") ",
     "delete_cmd_prefix": "rm(",
     "library": "var_list.r",
     "varRefreshCmd": "cat(var_dic_list()) "
    }
   },
   "types_to_exclude": [
    "module",
    "function",
    "builtin_function_or_method",
    "instance",
    "_Feature"
   ],
   "window_display": false
  }
 },
 "nbformat": 4,
 "nbformat_minor": 5
}
