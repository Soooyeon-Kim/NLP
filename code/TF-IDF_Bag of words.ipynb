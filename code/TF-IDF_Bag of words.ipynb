{
 "cells": [
  {
   "cell_type": "markdown",
   "id": "0cf23b07",
   "metadata": {},
   "source": [
    "### CountVectorizer"
   ]
  },
  {
   "cell_type": "code",
   "execution_count": 1,
   "id": "a5daf6f9",
   "metadata": {
    "ExecuteTime": {
     "end_time": "2021-11-05T09:29:59.888790Z",
     "start_time": "2021-11-05T09:29:58.010183Z"
    }
   },
   "outputs": [],
   "source": [
    "import re\n",
    "from sklearn.feature_extraction.text import CountVectorizer"
   ]
  },
  {
   "cell_type": "code",
   "execution_count": 34,
   "id": "10a17831",
   "metadata": {
    "ExecuteTime": {
     "end_time": "2021-11-05T10:12:14.476092Z",
     "start_time": "2021-11-05T10:12:14.445191Z"
    }
   },
   "outputs": [],
   "source": [
    "regex = re.compile('[^a-z ]')\n",
    "# 리뷰 데이터\n",
    "with open(\"text.txt\", 'r',encoding='UTF-8') as f:\n",
    "    documents = []\n",
    "    for line in f:\n",
    "        # doucments 리스트에 리뷰 데이터를 저장\n",
    "        doc = regex.sub('',line.rstrip())\n",
    "       # doc = re.sub(regex,'',line)\n",
    "        documents.append(doc)"
   ]
  },
  {
   "cell_type": "code",
   "execution_count": 35,
   "id": "76f11723",
   "metadata": {
    "ExecuteTime": {
     "end_time": "2021-11-05T10:12:16.414560Z",
     "start_time": "2021-11-05T10:12:16.316270Z"
    }
   },
   "outputs": [],
   "source": [
    "# CountVectorizer() 객체를 이용해 Bag of words 문서 벡터를 생성하여 변수 X에 저장 \n",
    "cv = CountVectorizer()\n",
    "X = cv.fit_transform(documents)"
   ]
  },
  {
   "cell_type": "code",
   "execution_count": 36,
   "id": "944cf486",
   "metadata": {
    "ExecuteTime": {
     "end_time": "2021-11-05T10:12:17.576493Z",
     "start_time": "2021-11-05T10:12:17.563454Z"
    }
   },
   "outputs": [
    {
     "data": {
      "text/plain": [
       "<454x12640 sparse matrix of type '<class 'numpy.int64'>'\n",
       "\twith 64161 stored elements in Compressed Sparse Row format>"
      ]
     },
     "execution_count": 36,
     "metadata": {},
     "output_type": "execute_result"
    }
   ],
   "source": [
    "X"
   ]
  },
  {
   "cell_type": "code",
   "execution_count": 37,
   "id": "81336e8e",
   "metadata": {
    "ExecuteTime": {
     "end_time": "2021-11-05T10:12:18.733843Z",
     "start_time": "2021-11-05T10:12:18.726174Z"
    }
   },
   "outputs": [
    {
     "name": "stdout",
     "output_type": "stream",
     "text": [
      "(454, 12640)\n"
     ]
    }
   ],
   "source": [
    "# 변수 X의 차원을 변수 dim에 저장 \n",
    "dim = X.shape\n",
    "\n",
    "print(dim)"
   ]
  },
  {
   "cell_type": "code",
   "execution_count": 38,
   "id": "b4de8932",
   "metadata": {
    "ExecuteTime": {
     "end_time": "2021-11-05T10:12:19.682891Z",
     "start_time": "2021-11-05T10:12:19.667888Z"
    }
   },
   "outputs": [
    {
     "name": "stdout",
     "output_type": "stream",
     "text": [
      "['aal', 'aba', 'abandon', 'abandoned', 'abbot', 'abducted', 'abets', 'abilities', 'ability', 'abilitytalent']\n"
     ]
    }
   ],
   "source": [
    "# 위에서 생성한 CountVectorizer() 객체에서 첫 10개의 칼럼이 의미하는 단어를 words_feature 변수에 저장 \n",
    "words_feature = cv.get_feature_names()[:10]\n",
    "\n",
    "print(words_feature)"
   ]
  },
  {
   "cell_type": "code",
   "execution_count": 39,
   "id": "43c56849",
   "metadata": {
    "ExecuteTime": {
     "end_time": "2021-11-05T10:12:22.476616Z",
     "start_time": "2021-11-05T10:12:22.470585Z"
    }
   },
   "outputs": [
    {
     "name": "stdout",
     "output_type": "stream",
     "text": [
      "2129\n"
     ]
    }
   ],
   "source": [
    "# 단어 \"comedy\"를 의미하는 칼럼의 인덱스 값을 idx 변수에 저장 \n",
    "idx = cv.vocabulary_['comedy']\n",
    "# 단어 \"comedy\"의 인덱스를 확인 \n",
    "print(idx)"
   ]
  },
  {
   "cell_type": "code",
   "execution_count": 40,
   "id": "26985313",
   "metadata": {
    "ExecuteTime": {
     "end_time": "2021-11-05T10:12:23.841388Z",
     "start_time": "2021-11-05T10:12:23.823138Z"
    }
   },
   "outputs": [
    {
     "name": "stdout",
     "output_type": "stream",
     "text": [
      "  (0, 9686)\t4\n",
      "  (0, 5525)\t4\n",
      "  (0, 6010)\t4\n",
      "  (0, 1761)\t1\n",
      "  (0, 2129)\t1\n",
      "  (0, 9081)\t1\n",
      "  (0, 948)\t2\n",
      "  (0, 11184)\t8\n",
      "  (0, 9829)\t1\n",
      "  (0, 11321)\t1\n",
      "  (0, 870)\t2\n",
      "  (0, 10446)\t1\n",
      "  (0, 8064)\t1\n",
      "  (0, 8847)\t1\n",
      "  (0, 16)\t1\n",
      "  (0, 9910)\t2\n",
      "  (0, 6444)\t1\n",
      "  (0, 10842)\t1\n",
      "  (0, 3245)\t2\n",
      "  (0, 12582)\t1\n",
      "  (0, 5689)\t2\n",
      "  (0, 11070)\t1\n",
      "  (0, 8837)\t1\n",
      "  (0, 6343)\t1\n",
      "  (0, 6826)\t2\n",
      "  :\t:\n",
      "  (0, 9400)\t1\n",
      "  (0, 11527)\t1\n",
      "  (0, 1635)\t1\n",
      "  (0, 3144)\t1\n",
      "  (0, 5633)\t1\n",
      "  (0, 9213)\t1\n",
      "  (0, 2012)\t1\n",
      "  (0, 6479)\t1\n",
      "  (0, 5126)\t1\n",
      "  (0, 9794)\t1\n",
      "  (0, 7803)\t1\n",
      "  (0, 12607)\t1\n",
      "  (0, 3420)\t1\n",
      "  (0, 3978)\t1\n",
      "  (0, 6750)\t1\n",
      "  (0, 196)\t1\n",
      "  (0, 7185)\t1\n",
      "  (0, 257)\t1\n",
      "  (0, 11237)\t1\n",
      "  (0, 4134)\t1\n",
      "  (0, 4212)\t1\n",
      "  (0, 4996)\t1\n",
      "  (0, 8519)\t1\n",
      "  (0, 6046)\t1\n",
      "  (0, 6028)\t1\n"
     ]
    }
   ],
   "source": [
    "# 첫 번째 문서의 Bag of words 벡터를 vec1 변수에 저장 \n",
    "vec1 = X[0]\n",
    "\n",
    "print(vec1)"
   ]
  },
  {
   "cell_type": "markdown",
   "id": "f57cde0f",
   "metadata": {},
   "source": [
    "---"
   ]
  },
  {
   "cell_type": "markdown",
   "id": "b47990d6",
   "metadata": {},
   "source": [
    "### TF-IDF"
   ]
  },
  {
   "cell_type": "code",
   "execution_count": 24,
   "id": "9adaa639",
   "metadata": {
    "ExecuteTime": {
     "end_time": "2021-11-05T10:03:23.952676Z",
     "start_time": "2021-11-05T10:03:23.949103Z"
    }
   },
   "outputs": [],
   "source": [
    "import re\n",
    "from sklearn.feature_extraction.text import TfidfVectorizer"
   ]
  },
  {
   "cell_type": "code",
   "execution_count": 26,
   "id": "a9a6cb4c",
   "metadata": {
    "ExecuteTime": {
     "end_time": "2021-11-05T10:05:27.917925Z",
     "start_time": "2021-11-05T10:05:27.887930Z"
    }
   },
   "outputs": [],
   "source": [
    "regex = re.compile('[^a-z ]')\n",
    "\n",
    "# 리뷰 데이터\n",
    "with open(\"text.txt\", 'r',encoding='UTF-8') as f:\n",
    "    documents = []\n",
    "    for line in f:\n",
    "        lowered_sent = line.rstrip().lower()\n",
    "        filtered_sent = regex.sub('', lowered_sent)\n",
    "        documents.append(filtered_sent)"
   ]
  },
  {
   "cell_type": "code",
   "execution_count": 28,
   "id": "eb161be8",
   "metadata": {
    "ExecuteTime": {
     "end_time": "2021-11-05T10:05:41.892250Z",
     "start_time": "2021-11-05T10:05:41.779520Z"
    }
   },
   "outputs": [
    {
     "data": {
      "text/plain": [
       "<454x12136 sparse matrix of type '<class 'numpy.float64'>'\n",
       "\twith 63927 stored elements in Compressed Sparse Row format>"
      ]
     },
     "execution_count": 28,
     "metadata": {},
     "output_type": "execute_result"
    }
   ],
   "source": [
    "# TfidfVectorizer() 객체를 이용해 TF-IDF Bag of words 문서 벡터를 생성하여 변수 X에 저장 \n",
    "tfidf = TfidfVectorizer()\n",
    "X = tfidf.fit_transform(documents)\n",
    "X"
   ]
  },
  {
   "cell_type": "code",
   "execution_count": 29,
   "id": "f84bf493",
   "metadata": {
    "ExecuteTime": {
     "end_time": "2021-11-05T10:05:51.867721Z",
     "start_time": "2021-11-05T10:05:51.852719Z"
    }
   },
   "outputs": [
    {
     "name": "stdout",
     "output_type": "stream",
     "text": [
      "(454, 12136)\n"
     ]
    }
   ],
   "source": [
    "# 변수 X의 차원을 변수 dim1에 저장 \n",
    "dim1 = X.shape\n",
    "\n",
    "print(dim1)"
   ]
  },
  {
   "cell_type": "code",
   "execution_count": 30,
   "id": "675e7c17",
   "metadata": {
    "ExecuteTime": {
     "end_time": "2021-11-05T10:06:03.642053Z",
     "start_time": "2021-11-05T10:06:03.623771Z"
    }
   },
   "outputs": [
    {
     "name": "stdout",
     "output_type": "stream",
     "text": [
      "  (0, 5679)\t0.058640619958889736\n",
      "  (0, 8003)\t0.10821800789540346\n",
      "  (0, 11827)\t0.03351360629176965\n",
      "  (0, 3976)\t0.10821800789540346\n",
      "  (0, 3885)\t0.056559253324120214\n",
      "  (0, 10825)\t0.040897765011371726\n",
      "  (0, 228)\t0.07670128660443204\n",
      "  (0, 173)\t0.08289290212342751\n",
      "  (0, 6546)\t0.043212451333837304\n",
      "  (0, 3731)\t0.06944792122696908\n",
      "  (0, 11793)\t0.08712444266241767\n",
      "  (0, 12103)\t0.05368632319734369\n",
      "  (0, 7470)\t0.025687260438575044\n",
      "  (0, 9189)\t0.10821800789540346\n",
      "  (0, 4994)\t0.04450120519256354\n",
      "  (0, 5326)\t0.05241495461089306\n",
      "  (0, 5538)\t0.09654704887371249\n",
      "  (0, 6240)\t0.05908965016142883\n",
      "  (0, 1896)\t0.06002531501567428\n",
      "  (0, 8681)\t0.10139093452026096\n",
      "  (0, 5344)\t0.08289290212342751\n",
      "  (0, 3162)\t0.05211156559734475\n",
      "  (0, 1438)\t0.09278983927035103\n",
      "  (0, 11136)\t0.07804901647687901\n",
      "  (0, 8858)\t0.09654704887371249\n",
      "  :\t:\n",
      "  (0, 8333)\t0.09654704887371249\n",
      "  (0, 10655)\t0.10821800789540346\n",
      "  (0, 5394)\t0.036855273761029705\n",
      "  (0, 12074)\t0.045486142952180335\n",
      "  (0, 7080)\t0.06950749415600704\n",
      "  (0, 10653)\t0.43287203158161386\n",
      "  (0, 10410)\t0.04631780012339499\n",
      "  (0, 6199)\t0.045486142952180335\n",
      "  (0, 9332)\t0.14858361374703516\n",
      "  (0, 22)\t0.030847058442278544\n",
      "  (0, 8343)\t0.09654704887371249\n",
      "  (0, 7576)\t0.03767413181742104\n",
      "  (0, 9948)\t0.03226580332806431\n",
      "  (0, 632)\t0.04595176416002607\n",
      "  (0, 10915)\t0.03552172020508319\n",
      "  (0, 9232)\t0.05368632319734369\n",
      "  (0, 10769)\t0.1528768111964441\n",
      "  (0, 683)\t0.05694325708073058\n",
      "  (0, 8584)\t0.08971997549857\n",
      "  (0, 5685)\t0.038437344953303164\n",
      "  (0, 2038)\t0.05617216421425451\n",
      "  (0, 1605)\t0.08712444266241767\n",
      "  (0, 5672)\t0.07371054752205941\n",
      "  (0, 5036)\t0.2575794789063761\n",
      "  (0, 1356)\t0.43287203158161386\n"
     ]
    }
   ],
   "source": [
    "# 첫 번째 문서의 TF-IDF Bag of words를 vec1 변수에 저장\n",
    "vec1 = X[0]\n",
    "\n",
    "print(vec1)"
   ]
  },
  {
   "cell_type": "code",
   "execution_count": 31,
   "id": "fe444851",
   "metadata": {
    "ExecuteTime": {
     "end_time": "2021-11-05T10:06:26.160190Z",
     "start_time": "2021-11-05T10:06:25.816607Z"
    }
   },
   "outputs": [],
   "source": [
    "# 위에서 생성한 TfidfVectorizer() 객체를 이용해 TF-IDF 기반 Bag of N-grams 문서 벡터 생성 \n",
    "vectorizer = TfidfVectorizer(ngram_range=(1, 2))\n",
    "unibigram_X = vectorizer.fit_transform(documents)\n",
    "# sorted(vectorizer.vocabulary_.items())"
   ]
  },
  {
   "cell_type": "code",
   "execution_count": 32,
   "id": "2b3097d0",
   "metadata": {
    "ExecuteTime": {
     "end_time": "2021-11-05T10:06:32.806107Z",
     "start_time": "2021-11-05T10:06:32.791109Z"
    }
   },
   "outputs": [
    {
     "data": {
      "text/plain": [
       "<454x74358 sparse matrix of type '<class 'numpy.float64'>'\n",
       "\twith 161735 stored elements in Compressed Sparse Row format>"
      ]
     },
     "execution_count": 32,
     "metadata": {},
     "output_type": "execute_result"
    }
   ],
   "source": [
    "unibigram_X"
   ]
  },
  {
   "cell_type": "code",
   "execution_count": 33,
   "id": "900c73b2",
   "metadata": {
    "ExecuteTime": {
     "end_time": "2021-11-05T10:06:48.972537Z",
     "start_time": "2021-11-05T10:06:48.954514Z"
    }
   },
   "outputs": [
    {
     "name": "stdout",
     "output_type": "stream",
     "text": [
      "(454, 74358)\n"
     ]
    }
   ],
   "source": [
    "# 생성한 TF-IDF 기반 Bag of N-grams 문서 벡터의 차원을 변수 dim2에 저장\n",
    "dim2 = unibigram_X.shape\n",
    "\n",
    "print(dim2)"
   ]
  },
  {
   "cell_type": "markdown",
   "id": "69051275",
   "metadata": {},
   "source": [
    "### Bag of words 기반 문서 유사도 측정\n",
    "TF-IDF 기반 Bag of words 모델을 사용하여 주어진 문서의 유사도를 코사인 유사도를 사용하여 계산"
   ]
  },
  {
   "cell_type": "code",
   "execution_count": 41,
   "id": "6f2e7bc1",
   "metadata": {
    "ExecuteTime": {
     "end_time": "2021-11-05T10:16:12.881680Z",
     "start_time": "2021-11-05T10:16:12.816629Z"
    }
   },
   "outputs": [],
   "source": [
    "import warnings\n",
    "warnings.filterwarnings(action='ignore')\n",
    "\n",
    "import pickle\n",
    "from sklearn.metrics.pairwise import cosine_similarity"
   ]
  },
  {
   "cell_type": "code",
   "execution_count": 42,
   "id": "6f413cbc",
   "metadata": {
    "ExecuteTime": {
     "end_time": "2021-11-05T10:16:21.521510Z",
     "start_time": "2021-11-05T10:16:21.484108Z"
    }
   },
   "outputs": [],
   "source": [
    "sent1 = [\"I first saw this movie when I was a little kid and fell in love with it at once.\"]\n",
    "sent2 = [\"Despite having 6 different directors, this fantasy hangs together remarkably well.\"]\n",
    "\n",
    "with open('bow_models.pkl', 'rb') as f:\n",
    "    # 저장된 모델을 불러와 객체와 벡터를 각각vectorizer와 X에 저장 \n",
    "    vectorizer, X = pickle.load(f)\n",
    "\n",
    "# sent1, sent2 문장을 vectorizer 객체의 transform() 함수를 이용해 변수 vec1, vec2에 저장 \n",
    "vec1 = vectorizer.transform(sent1)\n",
    "vec2 = vectorizer.transform(sent2)"
   ]
  },
  {
   "cell_type": "code",
   "execution_count": 43,
   "id": "afc5274a",
   "metadata": {
    "ExecuteTime": {
     "end_time": "2021-11-05T10:16:29.527168Z",
     "start_time": "2021-11-05T10:16:29.518158Z"
    }
   },
   "outputs": [
    {
     "data": {
      "text/plain": [
       "<1x12136 sparse matrix of type '<class 'numpy.float64'>'\n",
       "\twith 16 stored elements in Compressed Sparse Row format>"
      ]
     },
     "execution_count": 43,
     "metadata": {},
     "output_type": "execute_result"
    }
   ],
   "source": [
    "vec1"
   ]
  },
  {
   "cell_type": "code",
   "execution_count": 44,
   "id": "ca8f3f43",
   "metadata": {
    "ExecuteTime": {
     "end_time": "2021-11-05T10:16:32.994935Z",
     "start_time": "2021-11-05T10:16:32.967942Z"
    }
   },
   "outputs": [
    {
     "name": "stdout",
     "output_type": "stream",
     "text": [
      "[[0.00936629]]\n",
      "[[0.04116601]]\n"
     ]
    }
   ],
   "source": [
    "#  vec1과 vec2의 코사인 유사도를 변수 sim1에 저장\n",
    "sim1 = cosine_similarity(vec1,vec2)\n",
    "\n",
    "print(sim1)\n",
    "\n",
    "# vec1과 행렬 X의 첫 번째 문서 벡터 간 코사인 유사도를 변수 sim2에 저장\n",
    "sim2 = cosine_similarity(X[0], vec1)\n",
    "\n",
    "print(sim2)"
   ]
  },
  {
   "cell_type": "code",
   "execution_count": null,
   "id": "b877f430",
   "metadata": {},
   "outputs": [],
   "source": []
  }
 ],
 "metadata": {
  "hide_input": false,
  "kernelspec": {
   "display_name": "Python 3",
   "language": "python",
   "name": "python3"
  },
  "language_info": {
   "codemirror_mode": {
    "name": "ipython",
    "version": 3
   },
   "file_extension": ".py",
   "mimetype": "text/x-python",
   "name": "python",
   "nbconvert_exporter": "python",
   "pygments_lexer": "ipython3",
   "version": "3.8.8"
  },
  "toc": {
   "base_numbering": 1,
   "nav_menu": {},
   "number_sections": true,
   "sideBar": true,
   "skip_h1_title": false,
   "title_cell": "Table of Contents",
   "title_sidebar": "Contents",
   "toc_cell": false,
   "toc_position": {},
   "toc_section_display": true,
   "toc_window_display": false
  },
  "varInspector": {
   "cols": {
    "lenName": 16,
    "lenType": 16,
    "lenVar": 40
   },
   "kernels_config": {
    "python": {
     "delete_cmd_postfix": "",
     "delete_cmd_prefix": "del ",
     "library": "var_list.py",
     "varRefreshCmd": "print(var_dic_list())"
    },
    "r": {
     "delete_cmd_postfix": ") ",
     "delete_cmd_prefix": "rm(",
     "library": "var_list.r",
     "varRefreshCmd": "cat(var_dic_list()) "
    }
   },
   "types_to_exclude": [
    "module",
    "function",
    "builtin_function_or_method",
    "instance",
    "_Feature"
   ],
   "window_display": false
  }
 },
 "nbformat": 4,
 "nbformat_minor": 5
}
