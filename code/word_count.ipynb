{
 "cells": [
  {
   "cell_type": "code",
   "execution_count": 52,
   "id": "e46fb9b5",
   "metadata": {
    "ExecuteTime": {
     "end_time": "2021-11-02T06:39:08.034049Z",
     "start_time": "2021-11-02T06:39:08.028056Z"
    }
   },
   "outputs": [],
   "source": [
    "word_counter = dict()"
   ]
  },
  {
   "cell_type": "code",
   "execution_count": 53,
   "id": "6a2122f1",
   "metadata": {
    "ExecuteTime": {
     "end_time": "2021-11-02T06:39:08.877747Z",
     "start_time": "2021-11-02T06:39:08.810752Z"
    },
    "scrolled": false
   },
   "outputs": [],
   "source": [
    "# 단어가 key, 빈도수가 value로 구성된 딕셔너리 변수\n",
    "with open('text.txt', 'r' ,encoding='UTF8') as f:\n",
    "    for line in f:\n",
    "        for word in line.rstrip().split():\n",
    "            if word not in word_counter:\n",
    "                word_counter[word] = 1\n",
    "            else:\n",
    "                word_counter[word] += 1\n",
    "\n",
    "# print(word_counter)"
   ]
  },
  {
   "cell_type": "code",
   "execution_count": 54,
   "id": "af621473",
   "metadata": {
    "ExecuteTime": {
     "end_time": "2021-11-02T06:39:09.525281Z",
     "start_time": "2021-11-02T06:39:09.512271Z"
    }
   },
   "outputs": [],
   "source": [
    "# 텍스트 파일 내 모든 단어의 총 빈도수\n",
    "total = 0"
   ]
  },
  {
   "cell_type": "code",
   "execution_count": 55,
   "id": "42eab8dc",
   "metadata": {
    "ExecuteTime": {
     "end_time": "2021-11-02T06:39:10.165375Z",
     "start_time": "2021-11-02T06:39:10.153344Z"
    }
   },
   "outputs": [],
   "source": [
    "# 텍스트 파일 내 100회 이상 발생하는 단어 리스트\n",
    "word_100 = list()"
   ]
  },
  {
   "cell_type": "code",
   "execution_count": 56,
   "id": "0b1868f1",
   "metadata": {
    "ExecuteTime": {
     "end_time": "2021-11-02T06:39:10.854119Z",
     "start_time": "2021-11-02T06:39:10.834940Z"
    }
   },
   "outputs": [
    {
     "name": "stdout",
     "output_type": "stream",
     "text": [
      "total count: 109132\n",
      "word 100 count: ['is', 'a', 'It', 'at', 'the', 'time', 'as', 'some', 'other', 'about', 'in', 'me', 'to', 'that', 'much', 'than', 'The', 'who', 'can', 'see', 'their', 'of', 'all', 'I', 'and', 'which', 'A', 'one', 'many', 'my', 'think', 'it', 'has', 'been', 'an', 'for', 'but', 'never', 'on', 'were', 'from', 'or', 'people', 'just', 'if', 'be', 'up', '/><br', 'what', 'you', 'had', \"it's\", 'like', 'with', 'he', 'do', 'more', 'where', 'his', 'by', 'characters', 'her', 'are', 'not', 'when', 'being', 'love', 'films', 'they', \"don't\", 'this', 'film', 'will', 'have', 'good', 'also', 'out', 'too', 'two', 'This', 'movie', 'most', 'its', 'how', 'very', 'story', 'only', 'so', 'was', 'movies', 'made', 'she', 'could', 'best', '/>The', 'even', 'still', 'watch', 'into', 'really', '-', 'would', '<br', 'no', 'him', 'well', 'there', 'because', 'first', 'we', 'great', 'little', 'seen', 'get', 'then']\n"
     ]
    }
   ],
   "source": [
    "for word, freq in word_counter.items():\n",
    "    total += freq\n",
    "    if freq >= 100:\n",
    "        word_100.append(word)\n",
    "        \n",
    "print(f'total count: {total}')\n",
    "print(f'word 100 count: {word_100}')"
   ]
  },
  {
   "cell_type": "markdown",
   "id": "473c9a2f",
   "metadata": {},
   "source": [
    "### 정규 표현식 사용 및 특정 단어 빈도수 확인"
   ]
  },
  {
   "cell_type": "code",
   "execution_count": 47,
   "id": "f2151631",
   "metadata": {
    "ExecuteTime": {
     "end_time": "2021-11-02T05:05:49.327571Z",
     "start_time": "2021-11-02T05:05:49.309597Z"
    }
   },
   "outputs": [],
   "source": [
    "import re"
   ]
  },
  {
   "cell_type": "code",
   "execution_count": 48,
   "id": "f7aabc98",
   "metadata": {
    "ExecuteTime": {
     "end_time": "2021-11-02T05:05:50.030770Z",
     "start_time": "2021-11-02T05:05:50.022771Z"
    }
   },
   "outputs": [],
   "source": [
    "word_counter = dict()\n",
    "regex = re.compile('[^a-zA-Z]')"
   ]
  },
  {
   "cell_type": "code",
   "execution_count": 49,
   "id": "d6b4c4df",
   "metadata": {
    "ExecuteTime": {
     "end_time": "2021-11-02T05:05:50.759798Z",
     "start_time": "2021-11-02T05:05:50.646833Z"
    }
   },
   "outputs": [],
   "source": [
    "# 텍스트 파일을 소문자로 변환 및 숫자 및 특수기호를 제거한 딕셔너리 생성\n",
    "with open('text.txt','r', encoding='UTF-8') as f:\n",
    "    for line in f:\n",
    "        # 소문자 처리를 하고, 단어 내 알파벳을 제외한 모든 숫자 및 특수기호 제거\n",
    "        words = line.rstrip().lower().split()\n",
    "        for word in words:\n",
    "            processed_word = regex.sub('', word)\n",
    "            \n",
    "            # 전처리가 완료된 단어와 단어의 빈도수를 word_counter 딕셔너리에 저장\n",
    "            if processed_word not in word_counter:\n",
    "                word_counter[processed_word] = 1\n",
    "            else:\n",
    "                word_counter[processed_word] += 1"
   ]
  },
  {
   "cell_type": "code",
   "execution_count": 50,
   "id": "1e711ced",
   "metadata": {
    "ExecuteTime": {
     "end_time": "2021-11-02T05:05:51.262968Z",
     "start_time": "2021-11-02T05:05:51.250957Z"
    }
   },
   "outputs": [
    {
     "name": "stdout",
     "output_type": "stream",
     "text": [
      "6708\n"
     ]
    }
   ],
   "source": [
    "# 단어 'the'의 빈도수 출력\n",
    "count = word_counter['the']\n",
    "print(count)"
   ]
  }
 ],
 "metadata": {
  "hide_input": false,
  "kernelspec": {
   "display_name": "Python 3",
   "language": "python",
   "name": "python3"
  },
  "language_info": {
   "codemirror_mode": {
    "name": "ipython",
    "version": 3
   },
   "file_extension": ".py",
   "mimetype": "text/x-python",
   "name": "python",
   "nbconvert_exporter": "python",
   "pygments_lexer": "ipython3",
   "version": "3.8.8"
  },
  "toc": {
   "base_numbering": 1,
   "nav_menu": {},
   "number_sections": true,
   "sideBar": true,
   "skip_h1_title": false,
   "title_cell": "Table of Contents",
   "title_sidebar": "Contents",
   "toc_cell": false,
   "toc_position": {},
   "toc_section_display": true,
   "toc_window_display": false
  },
  "varInspector": {
   "cols": {
    "lenName": 16,
    "lenType": 16,
    "lenVar": 40
   },
   "kernels_config": {
    "python": {
     "delete_cmd_postfix": "",
     "delete_cmd_prefix": "del ",
     "library": "var_list.py",
     "varRefreshCmd": "print(var_dic_list())"
    },
    "r": {
     "delete_cmd_postfix": ") ",
     "delete_cmd_prefix": "rm(",
     "library": "var_list.r",
     "varRefreshCmd": "cat(var_dic_list()) "
    }
   },
   "types_to_exclude": [
    "module",
    "function",
    "builtin_function_or_method",
    "instance",
    "_Feature"
   ],
   "window_display": false
  }
 },
 "nbformat": 4,
 "nbformat_minor": 5
}
