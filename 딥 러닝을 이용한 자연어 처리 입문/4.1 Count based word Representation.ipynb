{
 "cells": [
  {
   "cell_type": "markdown",
   "id": "354ec1dc",
   "metadata": {},
   "source": [
    "# 04. 카운트 기반의 단어 표현(Count based word Representation)"
   ]
  },
  {
   "cell_type": "markdown",
   "id": "e7e53227",
   "metadata": {},
   "source": [
    "## 1) 다양한 단어의 표현 방법"
   ]
  },
  {
   "cell_type": "markdown",
   "id": "14367bb6",
   "metadata": {},
   "source": [
    "### 1. 단어의 표현 방법"
   ]
  },
  {
   "cell_type": "markdown",
   "id": "7342b188",
   "metadata": {},
   "source": [
    "단어의 표현 방법은 크게 **국소 표현(Local Representation)** 방법과 **분산 표현(Distributed Representation)** 방법으로 나뉩니다. \n",
    "* 국소 표현 방법 : 해당 단어 그 자체만 보고, 특정값을 맵핑하여 단어를 표현하는 방법\n",
    "* 분산 표현 방법 : 그 단어를 표현하고자 주변을 참고하여 단어를 표현하는 방법"
   ]
  },
  {
   "cell_type": "markdown",
   "id": "62509324",
   "metadata": {},
   "source": [
    "두 방법의 차이 : 국소 표현 방법은 단어의 의미, 뉘앙스를 표현할 수 없지만, 분산 표현 방법은 단어의 뉘앙스를 표현할 수 있게 됨.\n",
    "\n",
    "비슷한 의미로 국소 표현 방법(Local Representation)을 이산 표현(Discrete Representation)이라고도 하며, 분산 표현(Distributed Representation)을 연속 표현(Continuous Represnetation)이라고도 함"
   ]
  },
  {
   "cell_type": "markdown",
   "id": "25ab951c",
   "metadata": {},
   "source": [
    "####  Bag of Words\n",
    "국소 표현에(Local Representation)에 속하며, 단어의 빈도수를 카운트(Count)하여 단어를 수치화하는 단어 표현 방법"
   ]
  }
 ],
 "metadata": {
  "kernelspec": {
   "display_name": "Python 3",
   "language": "python",
   "name": "python3"
  },
  "language_info": {
   "codemirror_mode": {
    "name": "ipython",
    "version": 3
   },
   "file_extension": ".py",
   "mimetype": "text/x-python",
   "name": "python",
   "nbconvert_exporter": "python",
   "pygments_lexer": "ipython3",
   "version": "3.8.8"
  }
 },
 "nbformat": 4,
 "nbformat_minor": 5
}
