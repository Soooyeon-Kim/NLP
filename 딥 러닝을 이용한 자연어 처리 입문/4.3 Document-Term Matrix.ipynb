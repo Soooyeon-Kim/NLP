{
 "cells": [
  {
   "cell_type": "markdown",
   "id": "89d7656b",
   "metadata": {},
   "source": [
    "# 3) 문서 단어 행렬(Document-Term Matrix, DTM)\n",
    "#### 각 문서에 대한 BoW 표현 방법을 그대로 갖고와서, 서로 다른 문서들의 BoW들을 결합한 표현 방법"
   ]
  },
  {
   "cell_type": "markdown",
   "id": "c5077e26",
   "metadata": {},
   "source": [
    "## 1. 문서 단어 행렬(Document-Term Matrix, DTM)의 표기법\n",
    "* 문서 단어 행렬(Document-Term Matrix, DTM)이란 다수의 문서에서 등장하는 각 단어들의 빈도를 행렬로 표현한 것\n",
    "* 즉, 각 문서에 대한 BoW를 하나의 행렬로 만든 것\n",
    "* BoW와 다른 표현 방법이 아니라 BoW 표현을 다수의 문서에 대해서 행렬로 표현한 것\n",
    "* 각 문서에서 등장한 단어의 빈도를 행렬의 값으로 표기\n",
    "* 문서 단어 행렬은 문서들을 서로 비교할 수 있도록 수치화할 수 있다는 점에서 의의를 갖습니다. (여기서는 하지 않았으나, 원한다면 한국어에서 불용어에 해당되는 조사들 또한 제거하여 더 정제된 DTM을 만들 수도 있을 것입니다.)"
   ]
  },
  {
   "cell_type": "markdown",
   "id": "a7af6c89",
   "metadata": {},
   "source": [
    "## 2. 문서 단어 행렬(Document-Term Matrix)의 한계\n",
    "DTM은 매우 간단하고 구현하기도 쉽지만, 본질적으로 가지는 몇 가지 한계들이 존재"
   ]
  },
  {
   "cell_type": "markdown",
   "id": "b19f02fa",
   "metadata": {},
   "source": [
    "### 1) 희소 표현(Sparse representation)\n",
    "원-핫 벡터는 단어 집합의 크기가 벡터의 차원이 되고 대부분의 값이 0이 된다는 특징으로 인해, 공간적 낭비와 계산 리소스를 증가시킬 수 있다는 점에서 원-핫 벡터의 단점으로 작용함.\n",
    "\n",
    "마찬가지로, DTM에서의 각 행을 문서 벡터라고 했을 때, 각 문서 벡터의 차원은 원-핫 벡터와 같이 전체 단어 집합의 크기를 가진다. 만약 가지고 있는 전체 코퍼스가 방대한 데이터라면 문서 벡터의 차원은 수백만의 차원을 가질 수도 있다.\n",
    "\n",
    "또한 많은 문서 벡터가 대부분의 값이 0을 가질 수도 있다. (문서 단어 행렬의 모든 행이 0이 아닌 값보다 0의 값이 더 많은 경우가 존재)"
   ]
  },
  {
   "cell_type": "markdown",
   "id": "4de03136",
   "metadata": {},
   "source": [
    "#### 희소 벡터(sparse vector) \n",
    "#### 희소 행렬(sparse matrix)"
   ]
  },
  {
   "cell_type": "markdown",
   "id": "d5539bd7",
   "metadata": {},
   "source": [
    "원-핫 벡터나 DTM과 같은 대부분의 값이 0인 표현을 **희소 벡터(sparse vector)** 또는 **희소 행렬(sparse matrix)** 라고 부른다. \n",
    "희소 벡터는 많은 양의 저장 공간과 계산을 위한 리소스를 필요로 하기 때문에, 전처리를 통해 단어 집합의 크기를 줄이는 일은 BoW 표현을 사용하는 모델에서 중요할 수 있다. \n",
    "\n",
    "앞서 배운 텍스트 전처리 방법을 사용하여 구두점, 빈도수가 낮은 단어, 불용어를 제거하고, 어간이나 표제어 추출을 통해 단어를 정규화하여 단어 집합의 크기를 줄일 수 있다."
   ]
  },
  {
   "cell_type": "markdown",
   "id": "7249e0ec",
   "metadata": {},
   "source": [
    "### 2) 단순 빈도 수 기반 접근"
   ]
  },
  {
   "cell_type": "markdown",
   "id": "b522c96d",
   "metadata": {},
   "source": [
    "여러 문서에 등장하는 모든 단어에 대해서 빈도 표기를 하는 이런 방법은 한계가 존재 \n",
    "* EX) 영어에 대해서 DTM을 만들었을 때, 불용어인 the는 어떤 문서이든 자주 등장할 수 밖에 없다. 그런데 유사한 문서인지 비교하고 싶은 문서1, 문서2, 문서3에서 동일하게 the가 빈도수가 높다고 해서 이 문서들이 유사한 문서라고 판단할 수 없음."
   ]
  },
  {
   "cell_type": "markdown",
   "id": "b62bc3e2",
   "metadata": {},
   "source": [
    "각 문서에는 중요한 단어와 불필요한 단어들이 혼재되어 있다. \n",
    "DTM에, 자연어 처리에 있어 의미를 거의 갖지 못하는 단어인 불용어(stopwords)와 중요한 단어에 대해서 **가중치**를 줄 수 있는 방법을 위해 사용하는 것이 **TF-IDF**이다."
   ]
  }
 ],
 "metadata": {
  "kernelspec": {
   "display_name": "Python 3",
   "language": "python",
   "name": "python3"
  },
  "language_info": {
   "codemirror_mode": {
    "name": "ipython",
    "version": 3
   },
   "file_extension": ".py",
   "mimetype": "text/x-python",
   "name": "python",
   "nbconvert_exporter": "python",
   "pygments_lexer": "ipython3",
   "version": "3.8.8"
  }
 },
 "nbformat": 4,
 "nbformat_minor": 5
}
