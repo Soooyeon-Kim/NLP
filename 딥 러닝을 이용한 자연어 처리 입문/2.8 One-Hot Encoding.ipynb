{
 "cells": [
  {
   "cell_type": "markdown",
   "id": "ceb7baeb",
   "metadata": {},
   "source": [
    "## 8. 원-핫 인코딩 One-Hot Encoding"
   ]
  },
  {
   "cell_type": "markdown",
   "id": "3636e962",
   "metadata": {},
   "source": [
    "원-핫 인코딩(One-Hot Encoding)은 문자를 숫자로 바꾸는 여러가지 기법 중에서 단어를 표현하는 가장 기본적인 표현 방법"
   ]
  },
  {
   "cell_type": "markdown",
   "id": "45f6f14e",
   "metadata": {},
   "source": [
    "#### 단어 집합(vocabulary) \n",
    "* 서로 다른 단어들의 집합\n",
    "* 텍스트의 모든 단어를 중복을 허용하지 않고 모아놓으면 이를 단어 집합이라고 함\n",
    "- ex)  book과 books와 같이 단어의 변형 형태도 다른 단어로 간주\n",
    "* 원-핫 인코딩을 위해서 먼저 해야할 일은 단어 집합을 만드는 일\n",
    "* 단어 집합에 고유한 숫자를 부여하는 정수 인코딩을 진행\n",
    "* 텍스트 내부에 단어 집합의 크기만큼 인덱스를 부여하여 숫자로 바뀐 단어들을 벡터로 부여할 수 있음"
   ]
  },
  {
   "cell_type": "markdown",
   "id": "75e802a2",
   "metadata": {},
   "source": [
    "### 1. 원-핫 인코딩(One-Hot Encoding)이란\n",
    "원-핫 인코딩은 단어 집합의 크기를 벡터의 차원으로 하고, 표현하고 싶은 단어의 인덱스에 1의 값을 부여하고, 다른 인덱스에는 0을 부여하는 단어의 벡터 표현 방식\n",
    "* 이렇게 표현된 벡터를 원-핫 벡터(One-Hot vector)라고 함"
   ]
  },
  {
   "cell_type": "markdown",
   "id": "020f48c3",
   "metadata": {},
   "source": [
    "#### 원-핫 인코딩의 두 가지 과정\n",
    "(1) 정수 인코딩 :각 단어에 고유한 인덱스를 부여\\\n",
    "(2) 표현하고 싶은 단어의 인덱스의 위치에 1을 부여, 다른 단어의 인덱스의 위치에는 0을 부여"
   ]
  },
  {
   "cell_type": "markdown",
   "id": "d8c7d5e7",
   "metadata": {},
   "source": [
    "<한국어 문장을 원-핫 인코딩을 통해 원-핫 벡터로 만드는 과정>"
   ]
  },
  {
   "cell_type": "code",
   "execution_count": 5,
   "id": "c605fab3",
   "metadata": {},
   "outputs": [
    {
     "name": "stdout",
     "output_type": "stream",
     "text": [
      "['나', '는', '자연어', '처리', '를', '배운다']\n"
     ]
    }
   ],
   "source": [
    "from konlpy.tag import Okt  \n",
    "okt=Okt()  \n",
    "token=okt.morphs(\"나는 자연어 처리를 배운다\")  \n",
    "print(token)\n",
    "# 코엔엘파이의 Okt 형태소 분석기를 통해서 우선 문장에 대해서 토큰화를 수행"
   ]
  },
  {
   "cell_type": "code",
   "execution_count": 6,
   "id": "67b44797",
   "metadata": {},
   "outputs": [
    {
     "name": "stdout",
     "output_type": "stream",
     "text": [
      "{'나': 0, '는': 1, '자연어': 2, '처리': 3, '를': 4, '배운다': 5}\n"
     ]
    }
   ],
   "source": [
    "word2index={}\n",
    "for voca in token:\n",
    "     if voca not in word2index.keys():\n",
    "       word2index[voca]=len(word2index)\n",
    "print(word2index)\n",
    "# 각 토큰에 대해서 고유한 인덱스(index)를 부여"
   ]
  },
  {
   "cell_type": "code",
   "execution_count": 7,
   "id": "7f90e717",
   "metadata": {},
   "outputs": [],
   "source": [
    "# 토큰을 입력하면 해당 토큰에 대한 원-핫 벡터를 만들어내는 함수 정의\n",
    "def one_hot_encoding(word, word2index):\n",
    "       one_hot_vector = [0]*(len(word2index))\n",
    "       index=word2index[word]\n",
    "       one_hot_vector[index]=1\n",
    "       return one_hot_vector"
   ]
  },
  {
   "cell_type": "code",
   "execution_count": 8,
   "id": "d62d84ed",
   "metadata": {},
   "outputs": [
    {
     "data": {
      "text/plain": [
       "[0, 0, 1, 0, 0, 0]"
      ]
     },
     "execution_count": 8,
     "metadata": {},
     "output_type": "execute_result"
    }
   ],
   "source": [
    "one_hot_encoding(\"자연어\",word2index)"
   ]
  },
  {
   "cell_type": "markdown",
   "id": "2f1a9194",
   "metadata": {},
   "source": [
    "→ 자연어는 단어 집합에서 인덱스가 2이므로, 자연어를 표현하는 원-핫 벡터는 인덱스 2의 값이 1이며, 나머지 값은 0인 벡터가 나온다"
   ]
  },
  {
   "cell_type": "markdown",
   "id": "2a616095",
   "metadata": {},
   "source": [
    "### 2. 케라스(Keras)를 이용한 원-핫 인코딩(One-Hot Encoding)\n",
    "* 케라스는 원-핫 인코딩을 수행하는 유용한 도구 to_categorical()를 지원\n",
    "* 케라스만으로 정수 인코딩과 원-핫 인코딩을 순차적으로 진행 가능"
   ]
  },
  {
   "cell_type": "code",
   "execution_count": 10,
   "id": "2ead25bd",
   "metadata": {},
   "outputs": [],
   "source": [
    "text=\"나랑 점심 먹으러 갈래 점심 메뉴는 햄버거 갈래 갈래 햄버거 최고야\""
   ]
  },
  {
   "cell_type": "code",
   "execution_count": 11,
   "id": "00dcfcde",
   "metadata": {},
   "outputs": [
    {
     "name": "stdout",
     "output_type": "stream",
     "text": [
      "{'갈래': 1, '점심': 2, '햄버거': 3, '나랑': 4, '먹으러': 5, '메뉴는': 6, '최고야': 7}\n"
     ]
    }
   ],
   "source": [
    "from tensorflow.keras.preprocessing.text import Tokenizer\n",
    "from tensorflow.keras.utils import to_categorical\n",
    "\n",
    "text=\"나랑 점심 먹으러 갈래 점심 메뉴는 햄버거 갈래 갈래 햄버거 최고야\"\n",
    "\n",
    "# 케라스 토크나이저를 이용한 정수 인코딩\n",
    "t = Tokenizer()\n",
    "t.fit_on_texts([text])\n",
    "print(t.word_index) # 각 단어에 대한 인코딩 결과 출력."
   ]
  },
  {
   "cell_type": "markdown",
   "id": "7315230d",
   "metadata": {},
   "source": [
    "* 생성된 단어 집합(vocabulary)에 있는 단어들로만 구성된 텍스트가 있다면, texts_to_sequences()를 통해서 이를 정수 시퀀스로 변환가능\n",
    "* 생성된 단어 집합 내의 일부 단어들로만 구성된 서브 텍스트인 sub_text를 만들어 확인"
   ]
  },
  {
   "cell_type": "code",
   "execution_count": 13,
   "id": "ff8a845e",
   "metadata": {},
   "outputs": [
    {
     "name": "stdout",
     "output_type": "stream",
     "text": [
      "[2, 5, 1, 6, 3, 7]\n"
     ]
    }
   ],
   "source": [
    "sub_text=\"점심 먹으러 갈래 메뉴는 햄버거 최고야\"\n",
    "encoded=t.texts_to_sequences([sub_text])[0]\n",
    "print(encoded)"
   ]
  },
  {
   "cell_type": "code",
   "execution_count": 14,
   "id": "97df21cf",
   "metadata": {},
   "outputs": [
    {
     "name": "stdout",
     "output_type": "stream",
     "text": [
      "[[0. 0. 1. 0. 0. 0. 0. 0.]\n",
      " [0. 0. 0. 0. 0. 1. 0. 0.]\n",
      " [0. 1. 0. 0. 0. 0. 0. 0.]\n",
      " [0. 0. 0. 0. 0. 0. 1. 0.]\n",
      " [0. 0. 0. 1. 0. 0. 0. 0.]\n",
      " [0. 0. 0. 0. 0. 0. 0. 1.]]\n"
     ]
    }
   ],
   "source": [
    "# 해당 결과를 가지고, 원-핫 인코딩을 진행\n",
    "# 원-핫 인코딩을 수행하는 to_categorical()\n",
    "one_hot = to_categorical(encoded)\n",
    "print(one_hot)"
   ]
  },
  {
   "cell_type": "markdown",
   "id": "1b227d7e",
   "metadata": {},
   "source": [
    "▲ 문장이 [2, 5, 1, 6, 3, 7]로 정수 인코딩이 되고나서, 각각의 인코딩 된 결과를 인덱스로 원-핫 인코딩이 수행된 모습"
   ]
  },
  {
   "cell_type": "markdown",
   "id": "0975c49a",
   "metadata": {},
   "source": [
    "### 3. 원-핫 인코딩(One-Hot Encoding)의 한계"
   ]
  },
  {
   "cell_type": "markdown",
   "id": "e460ca14",
   "metadata": {},
   "source": [
    "이러한 표현 방식은 단어의 개수가 늘어날 수록, 벡터를 저장하기 위해 필요한 공간이 계속 늘어난다는 단점이 있다. → 다른 말로는 벡터의 차원이 계속 늘어난다고 표현\n",
    "* 원 핫 벡터는 단어 집합의 크기가 곧 벡터의 차원 수\n",
    "* ex) 단어가 1,000개인 코퍼스를 가지고 원 핫 벡터를 만들면, 모든 단어 각각은 모두 1,000개의 차원을 가진 벡터가 됨\n",
    "* 이때, 모든 단어 각각은 하나의 값만 1을 가지고, 999개의 값은 0의 값을 가지는 벡터가 되는데 이는 저장 공간 측면에서는 매우 비효율적인 표현 방법\n",
    "\n",
    "원-핫 벡터는 단어의 유사도를 표현하지 못한다는 단점이 있음\n",
    "* 단어 간 유사성을 알 수 없다는 단점은 검색 시스템 등에서 심각한 문제\n",
    "* → 단어간 유사성을 계산할 수 없다면, 연관 검색어를 보여줄 수 없음\n",
    "* ex) 검색어 '삿포로 숙소'/ 연관 검색어 '삿포로 게스트 하우스', '삿포로 료칸', '삿포로 호텔'과 같은 유사 단어에 대한 결과 도출"
   ]
  },
  {
   "cell_type": "markdown",
   "id": "3cc437af",
   "metadata": {},
   "source": [
    "#### 단점 해결 방법"
   ]
  },
  {
   "cell_type": "markdown",
   "id": "b10d4036",
   "metadata": {},
   "source": [
    "이러한 단점을 해결하기 위해 단어의 잠재 의미를 반영하여 다차원 공간에 벡터화 하는 기법으로 크게 두 가지가 있다.\n",
    "1. 카운트 기반의 벡터화 방법인 LSA, HAL 등\n",
    "2. 예측 기반으로 벡터화하는 NNLM, RNNLM, Word2Vec, FastText 등\n",
    "* 카운트 기반과 예측 기반 두 가지 방법을 모두 사용하는 GloVe라는 방법이 존재"
   ]
  }
 ],
 "metadata": {
  "kernelspec": {
   "display_name": "Python 3",
   "language": "python",
   "name": "python3"
  },
  "language_info": {
   "codemirror_mode": {
    "name": "ipython",
    "version": 3
   },
   "file_extension": ".py",
   "mimetype": "text/x-python",
   "name": "python",
   "nbconvert_exporter": "python",
   "pygments_lexer": "ipython3",
   "version": "3.8.8"
  }
 },
 "nbformat": 4,
 "nbformat_minor": 5
}
