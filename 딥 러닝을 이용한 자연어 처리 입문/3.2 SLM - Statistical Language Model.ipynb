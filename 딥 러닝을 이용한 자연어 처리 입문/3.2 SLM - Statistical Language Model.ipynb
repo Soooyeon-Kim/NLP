{
 "cells": [
  {
   "cell_type": "markdown",
   "id": "8bfa39ea",
   "metadata": {},
   "source": [
    "## 2) 통계적 언어 모델(Statistical Language Model, SLM)\n",
    "언어 모델의 전통적인 접근 방법"
   ]
  },
  {
   "cell_type": "markdown",
   "id": "0ab30d05",
   "metadata": {},
   "source": [
    "### 1. 조건부 확률\n",
    "#### 조건부 확률의 연쇄 법칙(chain rule)"
   ]
  },
  {
   "cell_type": "markdown",
   "id": "79a51d4f",
   "metadata": {},
   "source": [
    "**1)** 조건부 확률은 두 확률 P(A), P(B) 에 대해서 "
   ]
  },
  {
   "cell_type": "markdown",
   "id": "fcbd59f7",
   "metadata": {},
   "source": [
    "p(B|A) = P(A,B)/P(A)"
   ]
  },
  {
   "cell_type": "markdown",
   "id": "a3e921de",
   "metadata": {},
   "source": [
    "P(A,B) = P(A)P(B|A) 와 같은 관계를 맺는다"
   ]
  },
  {
   "cell_type": "markdown",
   "id": "ab42a72b",
   "metadata": {},
   "source": [
    "**2)** 4개의 확률이 조건부 확률의 관계를 가질 때,"
   ]
  },
  {
   "cell_type": "markdown",
   "id": "6fb51e74",
   "metadata": {},
   "source": [
    "P(A,B,C,D) = P(A)P(B|A)P(C|A,B)P(D|A,B,C) 와 같이 표현할 수 있다"
   ]
  },
  {
   "cell_type": "markdown",
   "id": "5a260e97",
   "metadata": {},
   "source": [
    "**3)**  n개에 대해 일반화"
   ]
  },
  {
   "cell_type": "markdown",
   "id": "36907c28",
   "metadata": {},
   "source": [
    "P(x_1, x_2, x_3 ... x_n) = P(x_1)P(x_2|x_1)P(x_3|x_1,x_2)...P(x_n|x_1 ... x_{n-1})"
   ]
  },
  {
   "cell_type": "markdown",
   "id": "3d426920",
   "metadata": {},
   "source": [
    "### 2. 문장에 대한 확률"
   ]
  },
  {
   "cell_type": "markdown",
   "id": "f44d351f",
   "metadata": {},
   "source": [
    "문장 'An adorable little boy is spreading smiles'의 확률"
   ]
  },
  {
   "cell_type": "markdown",
   "id": "34dc2b75",
   "metadata": {},
   "source": [
    "<math xmlns=\"http://www.w3.org/1998/Math/MathML\">\n",
    "  <mi>P</mi>\n",
    "  <mo stretchy=\"false\">(</mo>\n",
    "  <mtext>An adorable little boy is spreading smiles</mtext>\n",
    "  <mo stretchy=\"false\">)</mo>\n",
    "</math>\n",
    "을 식으로 표현"
   ]
  },
  {
   "cell_type": "markdown",
   "id": "2f7886fc",
   "metadata": {},
   "source": [
    "각 단어는 문맥이라는 관계로 인해 이전 단어의 영향을 받아 나온 단어이며 모든 단어로부터 하나의 문장이 완성된다."
   ]
  },
  {
   "cell_type": "markdown",
   "id": "10c3fad9",
   "metadata": {},
   "source": [
    "그렇기 때문에 문장의 확률을 구하고자 조건부 확률을 사용, 앞서 언급한 조건부 확률의 일반화 식을 문장의 확률 관점에서 다시 적어보면 문장의 확률은 각 단어들이 이전 단어가 주어졌을 때 다음 단어로 등장할 확률의 곱으로 구성됨"
   ]
  },
  {
   "cell_type": "markdown",
   "id": "ac04e4fa",
   "metadata": {},
   "source": [
    "<math xmlns=\"http://www.w3.org/1998/Math/MathML\" display=\"block\">\n",
    "  <mi>P</mi>\n",
    "  <mo stretchy=\"false\">(</mo>\n",
    "  <msub>\n",
    "    <mi>w</mi>\n",
    "    <mn>1</mn>\n",
    "  </msub>\n",
    "  <mo>,</mo>\n",
    "  <msub>\n",
    "    <mi>w</mi>\n",
    "    <mn>2</mn>\n",
    "  </msub>\n",
    "  <mo>,</mo>\n",
    "  <msub>\n",
    "    <mi>w</mi>\n",
    "    <mn>3</mn>\n",
    "  </msub>\n",
    "  <mo>,</mo>\n",
    "  <msub>\n",
    "    <mi>w</mi>\n",
    "    <mn>4</mn>\n",
    "  </msub>\n",
    "  <mo>,</mo>\n",
    "  <msub>\n",
    "    <mi>w</mi>\n",
    "    <mn>5</mn>\n",
    "  </msub>\n",
    "  <mo>,</mo>\n",
    "  <mo>.</mo>\n",
    "  <mo>.</mo>\n",
    "  <mo>.</mo>\n",
    "  <msub>\n",
    "    <mi>w</mi>\n",
    "    <mi>n</mi>\n",
    "  </msub>\n",
    "  <mo stretchy=\"false\">)</mo>\n",
    "  <mo>=</mo>\n",
    "  <munderover>\n",
    "    <mo data-mjx-texclass=\"OP\">&#x220F;</mo>\n",
    "    <mrow data-mjx-texclass=\"ORD\">\n",
    "      <mi>n</mi>\n",
    "      <mo>=</mo>\n",
    "      <mn>1</mn>\n",
    "    </mrow>\n",
    "    <mrow data-mjx-texclass=\"ORD\">\n",
    "      <mi>n</mi>\n",
    "    </mrow>\n",
    "  </munderover>\n",
    "  <mi>P</mi>\n",
    "  <mo stretchy=\"false\">(</mo>\n",
    "  <msub>\n",
    "    <mi>w</mi>\n",
    "    <mrow data-mjx-texclass=\"ORD\">\n",
    "      <mi>n</mi>\n",
    "    </mrow>\n",
    "  </msub>\n",
    "  <mo data-mjx-texclass=\"ORD\" stretchy=\"false\">|</mo>\n",
    "  <msub>\n",
    "    <mi>w</mi>\n",
    "    <mrow data-mjx-texclass=\"ORD\">\n",
    "      <mn>1</mn>\n",
    "    </mrow>\n",
    "  </msub>\n",
    "  <mo>,</mo>\n",
    "  <mo>.</mo>\n",
    "  <mo>.</mo>\n",
    "  <mo>.</mo>\n",
    "  <mo>,</mo>\n",
    "  <msub>\n",
    "    <mi>w</mi>\n",
    "    <mrow data-mjx-texclass=\"ORD\">\n",
    "      <mi>n</mi>\n",
    "      <mo>&#x2212;</mo>\n",
    "      <mn>1</mn>\n",
    "    </mrow>\n",
    "  </msub>\n",
    "  <mo stretchy=\"false\">)</mo>\n",
    "</math>"
   ]
  },
  {
   "cell_type": "markdown",
   "id": "ad0632b6",
   "metadata": {},
   "source": [
    "<math xmlns=\"http://www.w3.org/1998/Math/MathML\">\n",
    "  <mi>P</mi>\n",
    "  <mo stretchy=\"false\">(</mo>\n",
    "  <mtext>An adorable little boy is spreading smiles</mtext>\n",
    "  <mo stretchy=\"false\">)</mo>\n",
    "  <mo>=</mo>\n",
    "</math>"
   ]
  },
  {
   "cell_type": "markdown",
   "id": "528a13e3",
   "metadata": {},
   "source": [
    "<math xmlns=\"http://www.w3.org/1998/Math/MathML\">\n",
    "  <mi>P</mi>\n",
    "  <mo stretchy=\"false\">(</mo>\n",
    "  <mtext>An</mtext>\n",
    "  <mo stretchy=\"false\">)</mo>\n",
    "  <mo>&#xD7;</mo>\n",
    "  <mi>P</mi>\n",
    "  <mo stretchy=\"false\">(</mo>\n",
    "  <mtext>adorable|An</mtext>\n",
    "  <mo stretchy=\"false\">)</mo>\n",
    "  <mo>&#xD7;</mo>\n",
    "  <mi>P</mi>\n",
    "  <mo stretchy=\"false\">(</mo>\n",
    "  <mtext>little|An adorable</mtext>\n",
    "  <mo stretchy=\"false\">)</mo>\n",
    "  <mo>&#xD7;</mo>\n",
    "  <mi>P</mi>\n",
    "  <mo stretchy=\"false\">(</mo>\n",
    "  <mtext>boy|An adorable little</mtext>\n",
    "  <mo stretchy=\"false\">)</mo>\n",
    "  <mo>&#xD7;</mo>\n",
    "  <mi>P</mi>\n",
    "  <mo stretchy=\"false\">(</mo>\n",
    "  <mtext>is|An adorable little boy</mtext>\n",
    "  <mo stretchy=\"false\">)</mo>\n",
    "</math>"
   ]
  },
  {
   "cell_type": "markdown",
   "id": "2e67c7b0",
   "metadata": {},
   "source": [
    "<math xmlns=\"http://www.w3.org/1998/Math/MathML\">\n",
    "  <mo>&#xD7;</mo>\n",
    "  <mi>P</mi>\n",
    "  <mo stretchy=\"false\">(</mo>\n",
    "  <mtext>spreading|An adorable little boy is</mtext>\n",
    "  <mo stretchy=\"false\">)</mo>\n",
    "  <mo>&#xD7;</mo>\n",
    "  <mi>P</mi>\n",
    "  <mo stretchy=\"false\">(</mo>\n",
    "  <mtext>smiles|An adorable little boy is spreading</mtext>\n",
    "  <mo stretchy=\"false\">)</mo>\n",
    "</math>"
   ]
  },
  {
   "cell_type": "markdown",
   "id": "048a6511",
   "metadata": {},
   "source": [
    "문장의 확률을 구하기 위해서 각 단어에 대한 예측 확률들을 곱한다."
   ]
  },
  {
   "cell_type": "markdown",
   "id": "684d4a24",
   "metadata": {},
   "source": [
    "## 3. 카운트 기반의 접근"
   ]
  },
  {
   "cell_type": "markdown",
   "id": "cae7da1e",
   "metadata": {},
   "source": [
    "SLM이 이전 단어로부터 다음 단어에 대한 확률을 구하는 방법: **카운트**에 기반하여 확률을 계산"
   ]
  },
  {
   "cell_type": "markdown",
   "id": "bfb3aad4",
   "metadata": {},
   "source": [
    "An adorable little boy가 나왔을 때, is가 나올 확률인 <math xmlns=\"http://www.w3.org/1998/Math/MathML\">\n",
    "  <mi>P</mi>\n",
    "  <mo stretchy=\"false\">(</mo>\n",
    "  <mtext>is|An adorable little boy</mtext>\n",
    "  <mo stretchy=\"false\">)</mo>\n",
    "</math> 을 계산"
   ]
  },
  {
   "cell_type": "markdown",
   "id": "218cf576",
   "metadata": {},
   "source": [
    "<math xmlns=\"http://www.w3.org/1998/Math/MathML\" display=\"block\">\n",
    "  <mi>P</mi>\n",
    "  <mtext>(is|An adorable little boy</mtext>\n",
    "  <mo stretchy=\"false\">)</mo>\n",
    "  <mo>=</mo>\n",
    "  <mfrac>\n",
    "    <mrow>\n",
    "      <mtext>count(An adorable little boy is</mtext>\n",
    "      <mo stretchy=\"false\">)</mo>\n",
    "    </mrow>\n",
    "      /\n",
    "    <mrow>\n",
    "      <mtext>count(An adorable little boy&#xA0;</mtext>\n",
    "      <mo stretchy=\"false\">)</mo>\n",
    "    </mrow>\n",
    "  </mfrac>\n",
    "</math>"
   ]
  },
  {
   "cell_type": "markdown",
   "id": "b35747b2",
   "metadata": {},
   "source": [
    "ex) 기계가 학습한 코퍼스 데이터에서 An adorable little boy가 100번 등장, 그 다음에 is가 등장한 경우는 30번이라고 했을 때 <math xmlns=\"http://www.w3.org/1998/Math/MathML\">\n",
    "  <mi>P</mi>\n",
    "  <mo stretchy=\"false\">(</mo>\n",
    "  <mtext>is|An adorable little boy</mtext>\n",
    "  <mo stretchy=\"false\">)</mo>\n",
    "</math>는 ==> 30%"
   ]
  },
  {
   "cell_type": "markdown",
   "id": "9f75d0d0",
   "metadata": {},
   "source": [
    "## 4. 카운트 기반 접근의 한계 - 희소 문제(Sparsity Problem)"
   ]
  },
  {
   "cell_type": "markdown",
   "id": "3d91e0ed",
   "metadata": {},
   "source": [
    "* 언어 모델은 실생활에서 사용되는 언어의 확률 분포를 근사 모델링 \n",
    "* 언어 모델의 목표 : 기계에게 많은 코퍼스를 훈련시켜서 언어 모델을 통해 현실에서의 확률 분포를 근사하는 것\n",
    "* 카운트 기반으로 접근하려고 한다면 갖고 있는 코퍼스(corpus). 즉, 다시 말해 기계가 훈련하는 데이터는 정말 방대한 양이 필요"
   ]
  },
  {
   "cell_type": "markdown",
   "id": "23761026",
   "metadata": {},
   "source": [
    "<math xmlns=\"http://www.w3.org/1998/Math/MathML\" display=\"block\">\n",
    "  <mi>P</mi>\n",
    "  <mtext>(is|An adorable little boy</mtext>\n",
    "  <mo stretchy=\"false\">)</mo>\n",
    "  <mo>=</mo>\n",
    "  <mfrac>\n",
    "    <mrow>\n",
    "      <mtext>count(An adorable little boy is</mtext>\n",
    "      <mo stretchy=\"false\">)</mo>\n",
    "    </mrow>\n",
    "      /\n",
    "    <mrow>\n",
    "      <mtext>count(An adorable little boy&#xA0;</mtext>\n",
    "      <mo stretchy=\"false\">)</mo>\n",
    "    </mrow>\n",
    "  </mfrac>\n",
    "</math>"
   ]
  },
  {
   "cell_type": "markdown",
   "id": "d6a6caf6",
   "metadata": {},
   "source": [
    "위와 같은 확률을 구하는 경우, 기계가 훈련한 코퍼스에 An adorable little boy is라는 단어 시퀀스가 없었다면 이 단어 시퀀스에 대한 확률은 0"
   ]
  },
  {
   "cell_type": "markdown",
   "id": "69467910",
   "metadata": {},
   "source": [
    "또는 An adorable little boy라는 단어 시퀀스가 없었다면 분모가 0이 되어 확률은 정의되지 않음"
   ]
  },
  {
   "cell_type": "markdown",
   "id": "93157a50",
   "metadata": {},
   "source": [
    "#### 이와 같이 충분한 데이터를 관측하지 못하여 언어를 정확히 모델링하지 못하는 문제를 *희소 문제(sparsity problem)* 라고 한다."
   ]
  },
  {
   "cell_type": "markdown",
   "id": "af4eec2b",
   "metadata": {},
   "source": [
    "희소 문제를 완화하는 방법으로 다음 챕터에서 배우는 **n-gram**, **스무딩**이나 **백오프**와 같은 여러가지 일반화(generalization) 기법이 존재하지만, 희소 문제에 대한 근본적인 해결은 어려움. "
   ]
  },
  {
   "cell_type": "markdown",
   "id": "8ece3655",
   "metadata": {},
   "source": [
    "결국 이러한 한계로 인해 언어 모델의 트렌드는 통계적 언어 모델에서 인공 신경망 언어 모델로 넘어가게 된다."
   ]
  }
 ],
 "metadata": {
  "kernelspec": {
   "display_name": "Python 3",
   "language": "python",
   "name": "python3"
  },
  "language_info": {
   "codemirror_mode": {
    "name": "ipython",
    "version": 3
   },
   "file_extension": ".py",
   "mimetype": "text/x-python",
   "name": "python",
   "nbconvert_exporter": "python",
   "pygments_lexer": "ipython3",
   "version": "3.8.8"
  }
 },
 "nbformat": 4,
 "nbformat_minor": 5
}
