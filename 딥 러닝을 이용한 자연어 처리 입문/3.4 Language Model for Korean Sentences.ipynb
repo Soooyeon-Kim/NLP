{
 "cells": [
  {
   "cell_type": "markdown",
   "id": "3f940e10",
   "metadata": {},
   "source": [
    "## 4) 한국어에서의 언어 모델(Language Model for Korean Sentences)"
   ]
  },
  {
   "cell_type": "markdown",
   "id": "ff91b20f",
   "metadata": {},
   "source": [
    "### 1. 한국어는 어순이 중요하지 않다.\n",
    "한국어에서는 어순이 중요하지 않기 때문에, 이전 단어가 주어졌을 때 다음 단어가 나타날 확률을 구하는 경우, 어떤 단어가 나타나도 가능하다\n",
    "* Ex)\n",
    "1. 나는 운동을 합니다 체육관에서.\n",
    "2. 나는 체육관에서 운동을 합니다.\n",
    "3. 체육관에서 운동을 합니다.\n",
    "4. 나는 운동을 체육관에서 합니다.\n",
    "\n",
    "4개의 문장은 전부 의미가 통하며 심지어 '나는' 이라는 주어를 생략해도 말이 된다. 한국어는 단어 순서를 뒤죽박죽으로 바꾸어놔도 의미가 전달 되기 때문에 확률에 기반한 언어 모델이 다음 단어를 제대로 예측하기가 어렵다."
   ]
  },
  {
   "cell_type": "markdown",
   "id": "5c52b593",
   "metadata": {},
   "source": [
    "### 2. 한국어는 교착어이다."
   ]
  },
  {
   "cell_type": "markdown",
   "id": "a8876365",
   "metadata": {},
   "source": [
    "* 한국어는 교착어이기 때문에 한국어에서의 언어 모델 작동을 어렵게 만든다. \n",
    "* 띄어쓰기 단위인 어절 단위로 토큰화를 할 경우에는 문장에서 발생가능한 단어의 수가 굉장히 늘어난다. \n",
    "* 대표적인 예로 교착어인 한국어에는 어떤 행동을 하는 동사의 주어나 목적어를 위해서 조사가 있지만 영어는 기본적으로 조사가 없다."
   ]
  },
  {
   "cell_type": "markdown",
   "id": "452bcbc7",
   "metadata": {},
   "source": [
    "* '그녀'라는 단어 하나만 해도 그녀가, 그녀를, 그녀의, 그녀와, 그녀로, 그녀께서, 그녀처럼 등과 같이 다양한 경우가 존재하기 때문에, 한국어에서는 **토큰화**를 통해 접사나 조사 등을 분리하는 것은 중요한 작업이 되기도 함."
   ]
  },
  {
   "cell_type": "markdown",
   "id": "d9682ba6",
   "metadata": {},
   "source": [
    "### 3. 한국어는 띄어쓰기가 제대로 지켜지지 않는다."
   ]
  },
  {
   "cell_type": "markdown",
   "id": "11446cfa",
   "metadata": {},
   "source": [
    "* 한국어는 띄어쓰기를 제대로 하지 않아도 의미가 전달되며, 띄어쓰기 규칙 또한 상대적으로 까다로운 언어이기 때문에 자연어 처리를 하는 것에 있어서 한국어 코퍼스는 띄어쓰기가 제대로 지켜지지 않는 경우가 많다. \n",
    "* 토큰이 제대로 분리 되지 않는채 훈련 데이터로 사용된다면 언어 모델은 제대로 동작하지 않는다."
   ]
  }
 ],
 "metadata": {
  "kernelspec": {
   "display_name": "Python 3",
   "language": "python",
   "name": "python3"
  },
  "language_info": {
   "codemirror_mode": {
    "name": "ipython",
    "version": 3
   },
   "file_extension": ".py",
   "mimetype": "text/x-python",
   "name": "python",
   "nbconvert_exporter": "python",
   "pygments_lexer": "ipython3",
   "version": "3.8.8"
  }
 },
 "nbformat": 4,
 "nbformat_minor": 5
}
