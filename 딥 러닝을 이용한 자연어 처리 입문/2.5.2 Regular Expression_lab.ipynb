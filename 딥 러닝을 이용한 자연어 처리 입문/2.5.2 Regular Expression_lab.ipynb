{
 "cells": [
  {
   "cell_type": "markdown",
   "id": "9ada7b31",
   "metadata": {},
   "source": [
    "## 5 정규 표현식(Regular Expression)"
   ]
  },
  {
   "cell_type": "markdown",
   "id": "5bd0115e",
   "metadata": {},
   "source": [
    "### 1. 정규 표현식 문법과 모듈 함수\n",
    "* 파이썬에서는 정규 표현식 모듈 re을 지원\n",
    "* re를 이용하면 특정 규칙이 있는 텍스트 데이터를 빠르게 정제 가능"
   ]
  },
  {
   "cell_type": "markdown",
   "id": "ecd5fe05",
   "metadata": {},
   "source": [
    "### 2. 정규 표현식 실습\n",
    "#### 1) .기호\n",
    "\n",
    ".은 한 개의 임의의 문자"
   ]
  },
  {
   "cell_type": "code",
   "execution_count": 4,
   "id": "5156296e",
   "metadata": {},
   "outputs": [],
   "source": [
    "import re\n",
    "r=re.compile(\"a.c\")\n",
    "r.search(\"kkk\") # 아무런 결과도 출력되지 않는다."
   ]
  },
  {
   "cell_type": "code",
   "execution_count": 5,
   "id": "d9a378ff",
   "metadata": {},
   "outputs": [
    {
     "data": {
      "text/plain": [
       "<re.Match object; span=(0, 3), match='abc'>"
      ]
     },
     "execution_count": 5,
     "metadata": {},
     "output_type": "execute_result"
    }
   ],
   "source": [
    "r.search(\"abc\")"
   ]
  },
  {
   "cell_type": "markdown",
   "id": "bca5a047",
   "metadata": {},
   "source": [
    "#### 2) ?기호\n",
    "\n",
    "?는 ? 앞의 문자가 존재할 수도 있고, 존재하지 않을 수도 있는 경우"
   ]
  },
  {
   "cell_type": "code",
   "execution_count": 6,
   "id": "d8a13956",
   "metadata": {},
   "outputs": [],
   "source": [
    "import re\n",
    "r=re.compile(\"ab?c\")\n",
    "r.search(\"abbc\") # 아무런 결과도 출력되지 않는다."
   ]
  },
  {
   "cell_type": "code",
   "execution_count": 7,
   "id": "4a203649",
   "metadata": {},
   "outputs": [
    {
     "data": {
      "text/plain": [
       "<re.Match object; span=(0, 3), match='abc'>"
      ]
     },
     "execution_count": 7,
     "metadata": {},
     "output_type": "execute_result"
    }
   ],
   "source": [
    "r.search(\"abc\")"
   ]
  },
  {
   "cell_type": "markdown",
   "id": "08650e50",
   "metadata": {},
   "source": [
    "b가 있는 것으로 판단하여 abc를 매치"
   ]
  },
  {
   "cell_type": "code",
   "execution_count": 8,
   "id": "775335f1",
   "metadata": {},
   "outputs": [
    {
     "data": {
      "text/plain": [
       "<re.Match object; span=(0, 2), match='ac'>"
      ]
     },
     "execution_count": 8,
     "metadata": {},
     "output_type": "execute_result"
    }
   ],
   "source": [
    "r.search(\"ac\")"
   ]
  },
  {
   "cell_type": "markdown",
   "id": "3828e09a",
   "metadata": {},
   "source": [
    "b가 없는 것으로 판단하여 ac를 매치"
   ]
  },
  {
   "cell_type": "markdown",
   "id": "b2576276",
   "metadata": {},
   "source": [
    "#### 3) *기호\n",
    "\n",
    "*은  바로 앞의 문자가 0개 이상일 경우"
   ]
  },
  {
   "cell_type": "code",
   "execution_count": 12,
   "id": "421f2682",
   "metadata": {},
   "outputs": [],
   "source": [
    "import re\n",
    "r=re.compile(\"ab*c\")\n",
    "r.search(\"a\") # 아무런 결과도 출력되지 않는다."
   ]
  },
  {
   "cell_type": "code",
   "execution_count": 13,
   "id": "477a782f",
   "metadata": {},
   "outputs": [
    {
     "data": {
      "text/plain": [
       "<re.Match object; span=(0, 2), match='ac'>"
      ]
     },
     "execution_count": 13,
     "metadata": {},
     "output_type": "execute_result"
    }
   ],
   "source": [
    "r.search(\"ac\")"
   ]
  },
  {
   "cell_type": "code",
   "execution_count": 14,
   "id": "4bbe392f",
   "metadata": {},
   "outputs": [
    {
     "data": {
      "text/plain": [
       "<re.Match object; span=(0, 3), match='abc'>"
      ]
     },
     "execution_count": 14,
     "metadata": {},
     "output_type": "execute_result"
    }
   ],
   "source": [
    "r.search(\"abc\") "
   ]
  },
  {
   "cell_type": "markdown",
   "id": "330ea438",
   "metadata": {},
   "source": [
    "#### 4) +기호\n",
    "앞의 문자가 **최소 1개 이상** 일 경우"
   ]
  },
  {
   "cell_type": "code",
   "execution_count": 16,
   "id": "6a699879",
   "metadata": {},
   "outputs": [],
   "source": [
    "import re\n",
    "r=re.compile(\"ab+c\")\n",
    "r.search(\"ac\") # 아무런 결과도 출력되지 않는다."
   ]
  },
  {
   "cell_type": "code",
   "execution_count": 17,
   "id": "a767782c",
   "metadata": {},
   "outputs": [
    {
     "data": {
      "text/plain": [
       "<re.Match object; span=(0, 3), match='abc'>"
      ]
     },
     "execution_count": 17,
     "metadata": {},
     "output_type": "execute_result"
    }
   ],
   "source": [
    "r.search(\"abc\") "
   ]
  },
  {
   "cell_type": "code",
   "execution_count": 18,
   "id": "ad0aba03",
   "metadata": {},
   "outputs": [
    {
     "data": {
      "text/plain": [
       "<re.Match object; span=(0, 6), match='abbbbc'>"
      ]
     },
     "execution_count": 18,
     "metadata": {},
     "output_type": "execute_result"
    }
   ],
   "source": [
    "r.search(\"abbbbc\") "
   ]
  },
  {
   "cell_type": "markdown",
   "id": "cbd038e5",
   "metadata": {},
   "source": [
    "#### 5) ^기호\n",
    "^는 시작되는 글자를 지정"
   ]
  },
  {
   "cell_type": "code",
   "execution_count": 19,
   "id": "66c4f2cd",
   "metadata": {},
   "outputs": [],
   "source": [
    "import re\n",
    "r=re.compile(\"^a\")\n",
    "r.search(\"bbc\")"
   ]
  },
  {
   "cell_type": "code",
   "execution_count": 20,
   "id": "702f9661",
   "metadata": {},
   "outputs": [
    {
     "data": {
      "text/plain": [
       "<re.Match object; span=(0, 1), match='a'>"
      ]
     },
     "execution_count": 20,
     "metadata": {},
     "output_type": "execute_result"
    }
   ],
   "source": [
    "r.search(\"ab\")   "
   ]
  },
  {
   "cell_type": "markdown",
   "id": "a5bb0554",
   "metadata": {},
   "source": [
    "#### 6) {숫자} 기호\n",
    "문자에 해당 기호를 붙이면, 해당 문자를 숫자만큼 반복한 것"
   ]
  },
  {
   "cell_type": "code",
   "execution_count": 21,
   "id": "976ddbad",
   "metadata": {},
   "outputs": [],
   "source": [
    "import re\n",
    "r=re.compile(\"ab{2}c\")\n",
    "r.search(\"ac\") # 아무런 결과도 출력되지 않는다.\n",
    "r.search(\"abc\") # 아무런 결과도 출력되지 않는다."
   ]
  },
  {
   "cell_type": "code",
   "execution_count": 22,
   "id": "9db74ca4",
   "metadata": {},
   "outputs": [
    {
     "data": {
      "text/plain": [
       "<re.Match object; span=(0, 4), match='abbc'>"
      ]
     },
     "execution_count": 22,
     "metadata": {},
     "output_type": "execute_result"
    }
   ],
   "source": [
    "r.search(\"abbc\")"
   ]
  },
  {
   "cell_type": "code",
   "execution_count": 23,
   "id": "5466439e",
   "metadata": {},
   "outputs": [],
   "source": [
    "r.search(\"abbbbbc\") # 아무런 결과도 출력되지 않는다."
   ]
  },
  {
   "cell_type": "markdown",
   "id": "2d3af278",
   "metadata": {},
   "source": [
    "#### 7) {숫자1, 숫자2} 기호\n",
    "문자에 해당 기호를 붙이면, 해당 문자를 숫자1 **이상** 숫자2 **이하** 만큼 반복"
   ]
  },
  {
   "cell_type": "code",
   "execution_count": 25,
   "id": "5a34c688",
   "metadata": {},
   "outputs": [],
   "source": [
    "import re\n",
    "r=re.compile(\"ab{2,8}c\")\n",
    "r.search(\"ac\") # 아무런 결과도 출력되지 않는다.\n",
    "r.search(\"abc\") # 아무런 결과도 출력되지 않는다."
   ]
  },
  {
   "cell_type": "code",
   "execution_count": 26,
   "id": "26530151",
   "metadata": {},
   "outputs": [
    {
     "data": {
      "text/plain": [
       "<re.Match object; span=(0, 4), match='abbc'>"
      ]
     },
     "execution_count": 26,
     "metadata": {},
     "output_type": "execute_result"
    }
   ],
   "source": [
    "r.search(\"abbc\")"
   ]
  },
  {
   "cell_type": "code",
   "execution_count": 27,
   "id": "0f4590d1",
   "metadata": {},
   "outputs": [
    {
     "data": {
      "text/plain": [
       "<re.Match object; span=(0, 10), match='abbbbbbbbc'>"
      ]
     },
     "execution_count": 27,
     "metadata": {},
     "output_type": "execute_result"
    }
   ],
   "source": [
    "r.search(\"abbbbbbbbc\")"
   ]
  },
  {
   "cell_type": "code",
   "execution_count": 28,
   "id": "d0027adb",
   "metadata": {},
   "outputs": [],
   "source": [
    "r.search(\"abbbbbbbbbc\") # 아무런 결과도 출력되지 않는다."
   ]
  },
  {
   "cell_type": "markdown",
   "id": "1bf9830b",
   "metadata": {},
   "source": [
    "#### 8) {숫자,} 기호\n",
    "문자에 해당 기호를 붙이면 해당 문자를 숫자 **이상** 만큼 반복"
   ]
  },
  {
   "cell_type": "code",
   "execution_count": 30,
   "id": "7f3797a5",
   "metadata": {},
   "outputs": [],
   "source": [
    "import re\n",
    "r=re.compile(\"a{2,}bc\")\n",
    "r.search(\"bc\") # 아무런 결과도 출력되지 않는다.\n",
    "r.search(\"aa\") # 아무런 결과도 출력되지 않는다."
   ]
  },
  {
   "cell_type": "code",
   "execution_count": 44,
   "id": "425da478",
   "metadata": {},
   "outputs": [],
   "source": [
    "r.search(\"aabc\")"
   ]
  },
  {
   "cell_type": "code",
   "execution_count": 45,
   "id": "18198b94",
   "metadata": {},
   "outputs": [],
   "source": [
    "r.search(\"aaaaaaaabc\")"
   ]
  },
  {
   "cell_type": "markdown",
   "id": "2048b0c6",
   "metadata": {},
   "source": [
    "#### 9) [ ] 기호\n",
    "[ ]안에 문자들을 넣으면 그 문자들 중 한 개의 문자와 매치"
   ]
  },
  {
   "cell_type": "code",
   "execution_count": 46,
   "id": "41719905",
   "metadata": {},
   "outputs": [],
   "source": [
    "import re\n",
    "r=re.compile(\"[abc]\") # [abc]는 [a-c]와 같다.\n",
    "r.search(\"zzz\") # 아무런 결과도 출력되지 않는다."
   ]
  },
  {
   "cell_type": "code",
   "execution_count": 47,
   "id": "84a62f0d",
   "metadata": {},
   "outputs": [
    {
     "data": {
      "text/plain": [
       "<re.Match object; span=(0, 1), match='a'>"
      ]
     },
     "execution_count": 47,
     "metadata": {},
     "output_type": "execute_result"
    }
   ],
   "source": [
    "r.search(\"a\")"
   ]
  },
  {
   "cell_type": "code",
   "execution_count": 48,
   "id": "77a2a010",
   "metadata": {},
   "outputs": [
    {
     "data": {
      "text/plain": [
       "<re.Match object; span=(0, 1), match='a'>"
      ]
     },
     "execution_count": 48,
     "metadata": {},
     "output_type": "execute_result"
    }
   ],
   "source": [
    "r.search(\"aaaaaaa\")     "
   ]
  },
  {
   "cell_type": "code",
   "execution_count": 49,
   "id": "e1a257db",
   "metadata": {},
   "outputs": [
    {
     "data": {
      "text/plain": [
       "<re.Match object; span=(0, 1), match='b'>"
      ]
     },
     "execution_count": 49,
     "metadata": {},
     "output_type": "execute_result"
    }
   ],
   "source": [
    "r.search(\"baac\")   "
   ]
  },
  {
   "cell_type": "markdown",
   "id": "acbb24b0",
   "metadata": {},
   "source": [
    "알파벳 소문자 매치"
   ]
  },
  {
   "cell_type": "code",
   "execution_count": 50,
   "id": "97286d66",
   "metadata": {},
   "outputs": [],
   "source": [
    "import re\n",
    "r=re.compile(\"[a-z]\")\n",
    "r.search(\"AAA\") # 아무런 결과도 출력되지 않는다."
   ]
  },
  {
   "cell_type": "code",
   "execution_count": 51,
   "id": "58c015cf",
   "metadata": {},
   "outputs": [
    {
     "data": {
      "text/plain": [
       "<re.Match object; span=(0, 1), match='a'>"
      ]
     },
     "execution_count": 51,
     "metadata": {},
     "output_type": "execute_result"
    }
   ],
   "source": [
    "r.search(\"aBC\")"
   ]
  },
  {
   "cell_type": "code",
   "execution_count": 52,
   "id": "57f18b15",
   "metadata": {},
   "outputs": [],
   "source": [
    "r.search(\"111\") # 아무런 결과도 출력되지 않는다."
   ]
  },
  {
   "cell_type": "markdown",
   "id": "f3a389e6",
   "metadata": {},
   "source": [
    "#### 10) [^문자] 기호\n",
    "^ 기호 뒤에 붙은 문자들을 제외한 모든 문자를 매치"
   ]
  },
  {
   "cell_type": "code",
   "execution_count": 53,
   "id": "3be62098",
   "metadata": {},
   "outputs": [],
   "source": [
    "import re\n",
    "r=re.compile(\"[^abc]\")\n",
    "r.search(\"a\") # 아무런 결과도 출력되지 않는다.\n",
    "r.search(\"ab\") # 아무런 결과도 출력되지 않는다.\n",
    "r.search(\"b\") # 아무런 결과도 출력되지 않는다."
   ]
  },
  {
   "cell_type": "code",
   "execution_count": 54,
   "id": "dcf4fa0d",
   "metadata": {},
   "outputs": [
    {
     "data": {
      "text/plain": [
       "<re.Match object; span=(0, 1), match='d'>"
      ]
     },
     "execution_count": 54,
     "metadata": {},
     "output_type": "execute_result"
    }
   ],
   "source": [
    "r.search(\"d\")"
   ]
  },
  {
   "cell_type": "code",
   "execution_count": 55,
   "id": "9c7d5a2d",
   "metadata": {},
   "outputs": [
    {
     "data": {
      "text/plain": [
       "<re.Match object; span=(0, 1), match='1'>"
      ]
     },
     "execution_count": 55,
     "metadata": {},
     "output_type": "execute_result"
    }
   ],
   "source": [
    "r.search(\"1\") "
   ]
  }
 ],
 "metadata": {
  "kernelspec": {
   "display_name": "Python 3",
   "language": "python",
   "name": "python3"
  },
  "language_info": {
   "codemirror_mode": {
    "name": "ipython",
    "version": 3
   },
   "file_extension": ".py",
   "mimetype": "text/x-python",
   "name": "python",
   "nbconvert_exporter": "python",
   "pygments_lexer": "ipython3",
   "version": "3.8.8"
  }
 },
 "nbformat": 4,
 "nbformat_minor": 5
}
