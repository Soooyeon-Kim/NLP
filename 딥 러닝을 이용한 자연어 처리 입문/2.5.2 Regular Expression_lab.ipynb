{
 "cells": [
  {
   "cell_type": "markdown",
   "id": "30945182",
   "metadata": {},
   "source": [
    "## 5 정규 표현식(Regular Expression)"
   ]
  },
  {
   "cell_type": "markdown",
   "id": "aed4bb70",
   "metadata": {},
   "source": [
    "### 1. 정규 표현식 문법과 모듈 함수\n",
    "* 파이썬에서는 정규 표현식 모듈 re을 지원\n",
    "* re를 이용하면 특정 규칙이 있는 텍스트 데이터를 빠르게 정제 가능"
   ]
  },
  {
   "cell_type": "markdown",
   "id": "7e65fa18",
   "metadata": {},
   "source": [
    "### 2. 정규 표현식 실습\n",
    "#### 1) .기호\n",
    "\n",
    ".은 한 개의 임의의 문자"
   ]
  },
  {
   "cell_type": "code",
   "execution_count": 4,
   "id": "b40e4d10",
   "metadata": {},
   "outputs": [],
   "source": [
    "import re\n",
    "r=re.compile(\"a.c\")\n",
    "r.search(\"kkk\") # 아무런 결과도 출력되지 않는다."
   ]
  },
  {
   "cell_type": "code",
   "execution_count": 5,
   "id": "e1cb70bf",
   "metadata": {},
   "outputs": [
    {
     "data": {
      "text/plain": [
       "<re.Match object; span=(0, 3), match='abc'>"
      ]
     },
     "execution_count": 5,
     "metadata": {},
     "output_type": "execute_result"
    }
   ],
   "source": [
    "r.search(\"abc\")"
   ]
  },
  {
   "cell_type": "markdown",
   "id": "104a1e93",
   "metadata": {},
   "source": [
    "#### 2) ?기호\n",
    "\n",
    "?는 ? 앞의 문자가 존재할 수도 있고, 존재하지 않을 수도 있는 경우"
   ]
  },
  {
   "cell_type": "code",
   "execution_count": 6,
   "id": "513b6888",
   "metadata": {},
   "outputs": [],
   "source": [
    "import re\n",
    "r=re.compile(\"ab?c\")\n",
    "r.search(\"abbc\") # 아무런 결과도 출력되지 않는다."
   ]
  },
  {
   "cell_type": "code",
   "execution_count": 7,
   "id": "5802be39",
   "metadata": {},
   "outputs": [
    {
     "data": {
      "text/plain": [
       "<re.Match object; span=(0, 3), match='abc'>"
      ]
     },
     "execution_count": 7,
     "metadata": {},
     "output_type": "execute_result"
    }
   ],
   "source": [
    "r.search(\"abc\")"
   ]
  },
  {
   "cell_type": "markdown",
   "id": "e579b436",
   "metadata": {},
   "source": [
    "b가 있는 것으로 판단하여 abc를 매치"
   ]
  },
  {
   "cell_type": "code",
   "execution_count": 8,
   "id": "fee2cad4",
   "metadata": {},
   "outputs": [
    {
     "data": {
      "text/plain": [
       "<re.Match object; span=(0, 2), match='ac'>"
      ]
     },
     "execution_count": 8,
     "metadata": {},
     "output_type": "execute_result"
    }
   ],
   "source": [
    "r.search(\"ac\")"
   ]
  },
  {
   "cell_type": "markdown",
   "id": "4d35b4f0",
   "metadata": {},
   "source": [
    "b가 없는 것으로 판단하여 ac를 매치"
   ]
  },
  {
   "cell_type": "markdown",
   "id": "e98d6110",
   "metadata": {},
   "source": [
    "#### 3) *기호\n",
    "\n",
    "*은  바로 앞의 문자가 0개 이상일 경우"
   ]
  },
  {
   "cell_type": "code",
   "execution_count": 12,
   "id": "0ba1ca21",
   "metadata": {},
   "outputs": [],
   "source": [
    "import re\n",
    "r=re.compile(\"ab*c\")\n",
    "r.search(\"a\") # 아무런 결과도 출력되지 않는다."
   ]
  },
  {
   "cell_type": "code",
   "execution_count": 13,
   "id": "d19ad6b4",
   "metadata": {},
   "outputs": [
    {
     "data": {
      "text/plain": [
       "<re.Match object; span=(0, 2), match='ac'>"
      ]
     },
     "execution_count": 13,
     "metadata": {},
     "output_type": "execute_result"
    }
   ],
   "source": [
    "r.search(\"ac\")"
   ]
  },
  {
   "cell_type": "code",
   "execution_count": 14,
   "id": "57d20249",
   "metadata": {},
   "outputs": [
    {
     "data": {
      "text/plain": [
       "<re.Match object; span=(0, 3), match='abc'>"
      ]
     },
     "execution_count": 14,
     "metadata": {},
     "output_type": "execute_result"
    }
   ],
   "source": [
    "r.search(\"abc\") "
   ]
  },
  {
   "cell_type": "markdown",
   "id": "0abd26c3",
   "metadata": {},
   "source": [
    "#### 4) +기호\n",
    "앞의 문자가 **최소 1개 이상** 일 경우"
   ]
  },
  {
   "cell_type": "code",
   "execution_count": 16,
   "id": "47cf2143",
   "metadata": {},
   "outputs": [],
   "source": [
    "import re\n",
    "r=re.compile(\"ab+c\")\n",
    "r.search(\"ac\") # 아무런 결과도 출력되지 않는다."
   ]
  },
  {
   "cell_type": "code",
   "execution_count": 17,
   "id": "d885408f",
   "metadata": {},
   "outputs": [
    {
     "data": {
      "text/plain": [
       "<re.Match object; span=(0, 3), match='abc'>"
      ]
     },
     "execution_count": 17,
     "metadata": {},
     "output_type": "execute_result"
    }
   ],
   "source": [
    "r.search(\"abc\") "
   ]
  },
  {
   "cell_type": "code",
   "execution_count": 18,
   "id": "0a580ff4",
   "metadata": {},
   "outputs": [
    {
     "data": {
      "text/plain": [
       "<re.Match object; span=(0, 6), match='abbbbc'>"
      ]
     },
     "execution_count": 18,
     "metadata": {},
     "output_type": "execute_result"
    }
   ],
   "source": [
    "r.search(\"abbbbc\") "
   ]
  },
  {
   "cell_type": "markdown",
   "id": "a95a50e9",
   "metadata": {},
   "source": [
    "#### 5) ^기호\n",
    "^는 시작되는 글자를 지정"
   ]
  },
  {
   "cell_type": "code",
   "execution_count": 19,
   "id": "6c8d1618",
   "metadata": {},
   "outputs": [],
   "source": [
    "import re\n",
    "r=re.compile(\"^a\")\n",
    "r.search(\"bbc\")"
   ]
  },
  {
   "cell_type": "code",
   "execution_count": 20,
   "id": "f162aad3",
   "metadata": {},
   "outputs": [
    {
     "data": {
      "text/plain": [
       "<re.Match object; span=(0, 1), match='a'>"
      ]
     },
     "execution_count": 20,
     "metadata": {},
     "output_type": "execute_result"
    }
   ],
   "source": [
    "r.search(\"ab\")   "
   ]
  },
  {
   "cell_type": "markdown",
   "id": "c3dd8a9d",
   "metadata": {},
   "source": [
    "#### 6) {숫자} 기호\n",
    "문자에 해당 기호를 붙이면, 해당 문자를 숫자만큼 반복한 것"
   ]
  },
  {
   "cell_type": "code",
   "execution_count": 21,
   "id": "46a0ad09",
   "metadata": {},
   "outputs": [],
   "source": [
    "import re\n",
    "r=re.compile(\"ab{2}c\")\n",
    "r.search(\"ac\") # 아무런 결과도 출력되지 않는다.\n",
    "r.search(\"abc\") # 아무런 결과도 출력되지 않는다."
   ]
  },
  {
   "cell_type": "code",
   "execution_count": 22,
   "id": "8ba129c6",
   "metadata": {},
   "outputs": [
    {
     "data": {
      "text/plain": [
       "<re.Match object; span=(0, 4), match='abbc'>"
      ]
     },
     "execution_count": 22,
     "metadata": {},
     "output_type": "execute_result"
    }
   ],
   "source": [
    "r.search(\"abbc\")"
   ]
  },
  {
   "cell_type": "code",
   "execution_count": 23,
   "id": "033668e0",
   "metadata": {},
   "outputs": [],
   "source": [
    "r.search(\"abbbbbc\") # 아무런 결과도 출력되지 않는다."
   ]
  },
  {
   "cell_type": "markdown",
   "id": "ce834a49",
   "metadata": {},
   "source": [
    "#### 7) {숫자1, 숫자2} 기호\n",
    "문자에 해당 기호를 붙이면, 해당 문자를 숫자1 **이상** 숫자2 **이하** 만큼 반복"
   ]
  },
  {
   "cell_type": "code",
   "execution_count": 25,
   "id": "7fda5b30",
   "metadata": {},
   "outputs": [],
   "source": [
    "import re\n",
    "r=re.compile(\"ab{2,8}c\")\n",
    "r.search(\"ac\") # 아무런 결과도 출력되지 않는다.\n",
    "r.search(\"abc\") # 아무런 결과도 출력되지 않는다."
   ]
  },
  {
   "cell_type": "code",
   "execution_count": 26,
   "id": "c2d3daec",
   "metadata": {},
   "outputs": [
    {
     "data": {
      "text/plain": [
       "<re.Match object; span=(0, 4), match='abbc'>"
      ]
     },
     "execution_count": 26,
     "metadata": {},
     "output_type": "execute_result"
    }
   ],
   "source": [
    "r.search(\"abbc\")"
   ]
  },
  {
   "cell_type": "code",
   "execution_count": 27,
   "id": "72aa525d",
   "metadata": {},
   "outputs": [
    {
     "data": {
      "text/plain": [
       "<re.Match object; span=(0, 10), match='abbbbbbbbc'>"
      ]
     },
     "execution_count": 27,
     "metadata": {},
     "output_type": "execute_result"
    }
   ],
   "source": [
    "r.search(\"abbbbbbbbc\")"
   ]
  },
  {
   "cell_type": "code",
   "execution_count": 28,
   "id": "7955dd55",
   "metadata": {},
   "outputs": [],
   "source": [
    "r.search(\"abbbbbbbbbc\") # 아무런 결과도 출력되지 않는다."
   ]
  },
  {
   "cell_type": "markdown",
   "id": "64c82897",
   "metadata": {},
   "source": [
    "#### 8) {숫자,} 기호\n",
    "문자에 해당 기호를 붙이면 해당 문자를 숫자 **이상** 만큼 반복"
   ]
  },
  {
   "cell_type": "code",
   "execution_count": 30,
   "id": "6f10e097",
   "metadata": {},
   "outputs": [],
   "source": [
    "import re\n",
    "r=re.compile(\"a{2,}bc\")\n",
    "r.search(\"bc\") # 아무런 결과도 출력되지 않는다.\n",
    "r.search(\"aa\") # 아무런 결과도 출력되지 않는다."
   ]
  },
  {
   "cell_type": "code",
   "execution_count": null,
   "id": "486f8546",
   "metadata": {},
   "outputs": [],
   "source": [
    "r.search(\"aabc\")"
   ]
  },
  {
   "cell_type": "code",
   "execution_count": null,
   "id": "b210aa13",
   "metadata": {},
   "outputs": [],
   "source": [
    "r.search(\"aaaaaaaabc\")"
   ]
  },
  {
   "cell_type": "markdown",
   "id": "73d0e306",
   "metadata": {},
   "source": [
    "#### 9) [ ] 기호\n",
    "[ ]안에 문자들을 넣으면 그 문자들 중 한 개의 문자와 매치"
   ]
  },
  {
   "cell_type": "code",
   "execution_count": 32,
   "id": "b05c9721",
   "metadata": {},
   "outputs": [],
   "source": [
    "import re\n",
    "r=re.compile(\"[abc]\") # [abc]는 [a-c]와 같다.\n",
    "r.search(\"zzz\") # 아무런 결과도 출력되지 않는다."
   ]
  },
  {
   "cell_type": "code",
   "execution_count": 33,
   "id": "d8b7e18c",
   "metadata": {},
   "outputs": [
    {
     "data": {
      "text/plain": [
       "<re.Match object; span=(0, 1), match='a'>"
      ]
     },
     "execution_count": 33,
     "metadata": {},
     "output_type": "execute_result"
    }
   ],
   "source": [
    "r.search(\"a\")"
   ]
  },
  {
   "cell_type": "code",
   "execution_count": 34,
   "id": "8a8378ec",
   "metadata": {},
   "outputs": [
    {
     "data": {
      "text/plain": [
       "<re.Match object; span=(0, 1), match='a'>"
      ]
     },
     "execution_count": 34,
     "metadata": {},
     "output_type": "execute_result"
    }
   ],
   "source": [
    "r.search(\"aaaaaaa\")     "
   ]
  },
  {
   "cell_type": "code",
   "execution_count": 35,
   "id": "04820859",
   "metadata": {},
   "outputs": [
    {
     "data": {
      "text/plain": [
       "<re.Match object; span=(0, 1), match='b'>"
      ]
     },
     "execution_count": 35,
     "metadata": {},
     "output_type": "execute_result"
    }
   ],
   "source": [
    "r.search(\"baac\")   "
   ]
  },
  {
   "cell_type": "markdown",
   "id": "4fb09f62",
   "metadata": {},
   "source": [
    "알파벳 소문자 매치"
   ]
  },
  {
   "cell_type": "code",
   "execution_count": 37,
   "id": "39b55be9",
   "metadata": {},
   "outputs": [],
   "source": [
    "import re\n",
    "r=re.compile(\"[a-z]\")\n",
    "r.search(\"AAA\") # 아무런 결과도 출력되지 않는다."
   ]
  },
  {
   "cell_type": "code",
   "execution_count": 38,
   "id": "d575ef33",
   "metadata": {},
   "outputs": [
    {
     "data": {
      "text/plain": [
       "<re.Match object; span=(0, 1), match='a'>"
      ]
     },
     "execution_count": 38,
     "metadata": {},
     "output_type": "execute_result"
    }
   ],
   "source": [
    "r.search(\"aBC\")"
   ]
  },
  {
   "cell_type": "code",
   "execution_count": 39,
   "id": "2f9a3869",
   "metadata": {},
   "outputs": [],
   "source": [
    "r.search(\"111\") # 아무런 결과도 출력되지 않는다."
   ]
  },
  {
   "cell_type": "markdown",
   "id": "212ed689",
   "metadata": {},
   "source": [
    "#### 10) [^문자] 기호\n",
    "^ 기호 뒤에 붙은 문자들을 제외한 모든 문자를 매치"
   ]
  },
  {
   "cell_type": "code",
   "execution_count": 41,
   "id": "69104eb2",
   "metadata": {},
   "outputs": [],
   "source": [
    "import re\n",
    "r=re.compile(\"[^abc]\")\n",
    "r.search(\"a\") # 아무런 결과도 출력되지 않는다.\n",
    "r.search(\"ab\") # 아무런 결과도 출력되지 않는다.\n",
    "r.search(\"b\") # 아무런 결과도 출력되지 않는다."
   ]
  },
  {
   "cell_type": "code",
   "execution_count": 42,
   "id": "90743940",
   "metadata": {},
   "outputs": [
    {
     "data": {
      "text/plain": [
       "<re.Match object; span=(0, 1), match='d'>"
      ]
     },
     "execution_count": 42,
     "metadata": {},
     "output_type": "execute_result"
    }
   ],
   "source": [
    "r.search(\"d\")"
   ]
  },
  {
   "cell_type": "code",
   "execution_count": 43,
   "id": "07c73ae6",
   "metadata": {},
   "outputs": [
    {
     "data": {
      "text/plain": [
       "<re.Match object; span=(0, 1), match='1'>"
      ]
     },
     "execution_count": 43,
     "metadata": {},
     "output_type": "execute_result"
    }
   ],
   "source": [
    "r.search(\"1\") "
   ]
  }
 ],
 "metadata": {
  "kernelspec": {
   "display_name": "Python 3",
   "language": "python",
   "name": "python3"
  },
  "language_info": {
   "codemirror_mode": {
    "name": "ipython",
    "version": 3
   },
   "file_extension": ".py",
   "mimetype": "text/x-python",
   "name": "python",
   "nbconvert_exporter": "python",
   "pygments_lexer": "ipython3",
   "version": "3.8.8"
  }
 },
 "nbformat": 4,
 "nbformat_minor": 5
}
