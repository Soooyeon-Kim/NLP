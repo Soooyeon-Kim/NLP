{
 "cells": [
  {
   "cell_type": "markdown",
   "id": "a5ad408f",
   "metadata": {},
   "source": [
    "## 6) 조건부 확률(Conditional Probability)"
   ]
  },
  {
   "cell_type": "markdown",
   "id": "5d53f4f2",
   "metadata": {},
   "source": [
    "#### 중학생\n",
    "* 남학생 100\n",
    "* 여학생 60\n",
    "* 합계 160\n",
    "\n",
    "#### 고등학생 \n",
    "* 남학생 80\n",
    "* 여학생 120\n",
    "* 합계 200\n",
    "\n",
    "#### 남학생 합계 180, 여학생 합계 180, 전체 360"
   ]
  },
  {
   "cell_type": "markdown",
   "id": "5988d361",
   "metadata": {},
   "source": [
    "* A = 학생이 남학생인 사건\n",
    "* B = 학생이 여학생인 사건\n",
    "* C = 학생이 중학생인 사건\n",
    "* D = 학생이 고등학생인 사건\n",
    "\n",
    "1. 학생을 뽑았을 때, 남학생일 확률\n",
    "* P(A) = 180/360 = 0.5\n",
    "\n",
    "2. 학생을 뽑았을 때, 고등학생이면서 남학생일 확률\n",
    "* P(A∩D) = 80/360\n",
    "\n",
    "3. 고등학생 중 한명을 뽑았을 때, 남학생일 확률\n",
    "* P(A|D) = 80/200 = P(A∩D)/P(D) =  (80/360)/(200/360) = 80/200 = 0.4"
   ]
  }
 ],
 "metadata": {
  "kernelspec": {
   "display_name": "Python 3",
   "language": "python",
   "name": "python3"
  },
  "language_info": {
   "codemirror_mode": {
    "name": "ipython",
    "version": 3
   },
   "file_extension": ".py",
   "mimetype": "text/x-python",
   "name": "python",
   "nbconvert_exporter": "python",
   "pygments_lexer": "ipython3",
   "version": "3.8.8"
  }
 },
 "nbformat": 4,
 "nbformat_minor": 5
}
