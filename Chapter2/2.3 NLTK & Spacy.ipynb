{
 "cells": [
  {
   "cell_type": "markdown",
   "id": "303097cc",
   "metadata": {},
   "source": [
    "# 자연어 토크나이징 도구"
   ]
  },
  {
   "cell_type": "markdown",
   "id": "1067f999",
   "metadata": {},
   "source": [
    "자연어 처리를 위해서는 우선 텍스트에 대한 정보를 단위별로 나누는 것이 일반적이다"
   ]
  },
  {
   "cell_type": "markdown",
   "id": "e237a68f",
   "metadata": {},
   "source": [
    "ex) 영화 리뷰 내용 예측 -> 한 문장을 단어 단위로 쪼개서 분석"
   ]
  },
  {
   "cell_type": "markdown",
   "id": "0068bce2",
   "metadata": {},
   "source": [
    "이처럼 예측해야 할 입력 정보(문장 또는 발화)를 하나의 특정 기본 단위로 자르는 것을 토크나이징이라고 함"
   ]
  },
  {
   "cell_type": "markdown",
   "id": "093fc13c",
   "metadata": {},
   "source": [
    "## 영어 토크나이징 라이브러리\n",
    "### NLTK (Natural Language Toolkit)\n",
    "* 파이썬에서 영어 텍스트 전처리 작업을 하는 데 많이 쓰이는 라이브러리\n",
    "* 50여 개가 넘는 말뭉치 리소스를 활용해 영어 텍스트를 분석할 수 있게 제공\n",
    "* 직관적으로 함수를 쉽게 사용할 수 있게 구성되어 있어 빠른 텍스트 전처리 가능\n",
    "* 토크나이징 외에도 자연어처리에 유용한 기능들을 제공\n",
    "* 불용어(큰 의미를 가지지 않는 단어) 사전이 따로 내장되어 있어서 따로 불용어를 정의할 필요 없이 바로 사용"
   ]
  },
  {
   "cell_type": "code",
   "execution_count": 4,
   "id": "eb08f23d",
   "metadata": {},
   "outputs": [
    {
     "name": "stdout",
     "output_type": "stream",
     "text": [
      "showing info https://raw.githubusercontent.com/nltk/nltk_data/gh-pages/index.xml\n"
     ]
    },
    {
     "data": {
      "text/plain": [
       "True"
      ]
     },
     "execution_count": 4,
     "metadata": {},
     "output_type": "execute_result"
    }
   ],
   "source": [
    "import nltk\n",
    "nltk.download()"
   ]
  },
  {
   "cell_type": "markdown",
   "id": "84075867",
   "metadata": {},
   "source": [
    "#### 단어 단위 토크나이징 "
   ]
  },
  {
   "cell_type": "code",
   "execution_count": 8,
   "id": "b6871160",
   "metadata": {},
   "outputs": [
    {
     "name": "stdout",
     "output_type": "stream",
     "text": [
      "['Natural', 'language', 'processing', '(', 'NLP', ')', 'is', 'a', 'subfield', 'of', 'computer', 'science', ',', 'information', 'engineering', ',', 'and', 'artificial', 'intelligence', 'concerned', 'with', 'the', 'interactions', 'between', 'computers', 'and', 'human', '(', 'natural', ')', 'languages', ',', 'in', 'particular', 'how', 'to', 'program', 'computers', 'to', 'process', 'and', 'analyze', 'large', 'amounts', 'of', 'natural', 'language', 'data', '.']\n"
     ]
    }
   ],
   "source": [
    "from nltk.tokenize import word_tokenize\n",
    "sentence = \"Natural language processing (NLP) is a subfield of computer science, information engineering, and artificial intelligence concerned with the interactions between computers and human (natural) languages, in particular how to program computers to process and analyze large amounts of natural language data.\"\n",
    "\n",
    "print(word_tokenize(sentence))"
   ]
  },
  {
   "cell_type": "markdown",
   "id": "0492068f",
   "metadata": {},
   "source": [
    "#### 문장 단위 토크나이징"
   ]
  },
  {
   "cell_type": "code",
   "execution_count": 10,
   "id": "cb9cf534",
   "metadata": {},
   "outputs": [
    {
     "name": "stdout",
     "output_type": "stream",
     "text": [
      "['Natural language processing (NLP) is a subfield of computer science, information engineering, and artificial intelligence concerned with the interactions between computers and human (natural) languages, in particular how to program computers to process and analyze large amounts of natural language data.', 'Challenges in natural language processing frequently involve speech recognition, natural language understanding, and natural language generation.']\n"
     ]
    }
   ],
   "source": [
    "from nltk.tokenize import sent_tokenize\n",
    "\n",
    "paragraph = \"Natural language processing (NLP) is a subfield of computer science, information engineering, and artificial intelligence concerned with the interactions between computers and human (natural) languages, in particular how to program computers to process and analyze large amounts of natural language data. Challenges in natural language processing frequently involve speech recognition, natural language understanding, and natural language generation.\"\n",
    "\n",
    "print(sent_tokenize(paragraph))"
   ]
  },
  {
   "cell_type": "markdown",
   "id": "f1b9eb6f",
   "metadata": {},
   "source": [
    "### Spacy \n",
    "* NlTK와 같은 오픈소스 라이브러리\n",
    "* 주로 교육, 연구목적이 아닌 상업용 목적으로 만들어짐\n",
    "* 영어를 포함한 8개 국어에 대한 자연어 전처리 모듈 제공, 빠른 속도로 전처리\n",
    "* 쉽게 설치하고 원하는 언어에 대한 전처리를 한 번에 해결할 수 있다는 장점\n",
    "* 딥러닝 언어 모델의 개발도 지원"
   ]
  },
  {
   "cell_type": "code",
   "execution_count": 13,
   "id": "49e5c9f1",
   "metadata": {},
   "outputs": [
    {
     "data": {
      "text/plain": [
       "' \\nconda install spacy\\npython -m spacy download en\\n'"
      ]
     },
     "execution_count": 13,
     "metadata": {},
     "output_type": "execute_result"
    }
   ],
   "source": [
    "\"\"\" \n",
    "conda install spacy\n",
    "python -m spacy download en\n",
    "\"\"\""
   ]
  },
  {
   "cell_type": "markdown",
   "id": "bf3d2825",
   "metadata": {},
   "source": [
    "언어 데이터 별도 다운로드"
   ]
  },
  {
   "cell_type": "markdown",
   "id": "e395dbe1",
   "metadata": {},
   "source": [
    "#### Spacy 토크나이징\n",
    "1. spacy.load를 통해서 토크나이징할 객체를 생성한뒤 nlp 변수에 할당\n",
    "2. 토크나이징할 텍스트를 sentence에 할당해서 nlp(sentence)를 실행해 nlp 객체에 대해 호출\n",
    "3. 텍스트에 대해 구문 분석한 객체를 반환하는데 이를 doc 변수에 할당한다.\n",
    "4. doc 객체를 가지고 입력한 텍스트에 대한 단어 토크나이징과 문장 토크나이징을 할 수 있음"
   ]
  },
  {
   "cell_type": "code",
   "execution_count": 16,
   "id": "fd9d789d",
   "metadata": {},
   "outputs": [],
   "source": [
    "import spacy"
   ]
  },
  {
   "cell_type": "code",
   "execution_count": 19,
   "id": "bebb7000",
   "metadata": {},
   "outputs": [],
   "source": [
    "nlp = spacy.load('en')\n",
    "#nlp = spacy.load('en_core_web_sm')\n",
    "\n",
    "sentence = \"Natural language processing (NLP) is a subfield of computer science, information engineering, and artificial intelligence concerned with the interactions between computers and human (natural) languages, in particular how to program computers to process and analyze large amounts of natural language data.\"\n",
    "\n",
    "doc = nlp(sentence)"
   ]
  },
  {
   "cell_type": "code",
   "execution_count": 20,
   "id": "5893608b",
   "metadata": {},
   "outputs": [
    {
     "name": "stdout",
     "output_type": "stream",
     "text": [
      "['Natural', 'language', 'processing', '(', 'NLP', ')', 'is', 'a', 'subfield', 'of', 'computer', 'science', ',', 'information', 'engineering', ',', 'and', 'artificial', 'intelligence', 'concerned', 'with', 'the', 'interactions', 'between', 'computers', 'and', 'human', '(', 'natural', ')', 'languages', ',', 'in', 'particular', 'how', 'to', 'program', 'computers', 'to', 'process', 'and', 'analyze', 'large', 'amounts', 'of', 'natural', 'language', 'data', '.']\n"
     ]
    }
   ],
   "source": [
    "word_tokenized_sentence = [token.text for token in doc]\n",
    "print(word_tokenized_sentence)"
   ]
  },
  {
   "cell_type": "code",
   "execution_count": 21,
   "id": "ac96bbd6",
   "metadata": {},
   "outputs": [
    {
     "name": "stdout",
     "output_type": "stream",
     "text": [
      "['Natural language processing (NLP) is a subfield of computer science, information engineering, and artificial intelligence concerned with the interactions between computers and human (natural) languages, in particular how to program computers to process and analyze large amounts of natural language data.']\n"
     ]
    }
   ],
   "source": [
    "sentence_tokenized_list = [sent.text for sent in doc.sents]\n",
    "print(sentence_tokenized_list)"
   ]
  },
  {
   "cell_type": "markdown",
   "id": "c2ddbd98",
   "metadata": {},
   "source": [
    "#### NLTK 는 함수를 통해 토크나이징을 처리, Spacy는 객체를 생성하는 방식으로 구현"
   ]
  }
 ],
 "metadata": {
  "kernelspec": {
   "display_name": "Python 3",
   "language": "python",
   "name": "python3"
  },
  "language_info": {
   "codemirror_mode": {
    "name": "ipython",
    "version": 3
   },
   "file_extension": ".py",
   "mimetype": "text/x-python",
   "name": "python",
   "nbconvert_exporter": "python",
   "pygments_lexer": "ipython3",
   "version": "3.8.8"
  }
 },
 "nbformat": 4,
 "nbformat_minor": 5
}
